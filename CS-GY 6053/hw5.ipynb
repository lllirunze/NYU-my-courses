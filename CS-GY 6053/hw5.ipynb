{
 "cells": [
  {
   "cell_type": "code",
   "execution_count": 1,
   "metadata": {
    "deletable": false,
    "editable": false
   },
   "outputs": [],
   "source": [
    "# Initialize Otter\n",
    "import otter\n",
    "grader = otter.Notebook(\"hw5.ipynb\")"
   ]
  },
  {
   "cell_type": "markdown",
   "metadata": {},
   "source": [
    "## Homework #5"
   ]
  },
  {
   "cell_type": "markdown",
   "metadata": {},
   "source": [
    "*Please edit the cell below to add your full name (first and last) and the full names of any group members that you collaborated with on this assignment.* "
   ]
  },
  {
   "cell_type": "markdown",
   "metadata": {},
   "source": [
    "Name: Runze Li    \n",
    "Group Members: None   \n",
    "***"
   ]
  },
  {
   "cell_type": "code",
   "execution_count": 2,
   "metadata": {},
   "outputs": [],
   "source": [
    "# Set random seed and ensure plots are displayed in the notebook\n",
    "import numpy as np\n",
    "import arviz as az\n",
    "rnd_seed = 42\n",
    "np.random.seed(rnd_seed)\n",
    "%matplotlib inline\n",
    "\n",
    "%config Inline.figure_format = 'retina'\n",
    "az.rcParams[\"stats.hdi_prob\"] = 0.89  # sets default credible interval used by arviz"
   ]
  },
  {
   "cell_type": "markdown",
   "metadata": {
    "deletable": false,
    "editable": false
   },
   "source": [
    "<!-- BEGIN QUESTION -->\n",
    "\n",
    "**Question 1**. **(20 points)** The data in *Data/NWOGrants.csv* are outcomes for scientific funding applications for the Netherlands Organization for Scientific Research (NWO) from 2010–2012 (see [van der Lee and Ellemers](https://doi.org/10.1073/pnas.1510159112)).\n",
    "\n",
    " These data have a very similar structure to the UC Berkeley Admissions data discussed in lecture. "
   ]
  },
  {
   "cell_type": "markdown",
   "metadata": {
    "deletable": false,
    "editable": false
   },
   "source": [
    "* Include an image of a directed acyclic graph (DAG) for this data that represents the relationship between the variables.  **(Do not include the number of applications in your DAG or statistical model)**. \n",
    "\n",
    "    **Note** : *Refer to **dag_tutorial.ipynb** for instructions on how to include an DAG in your Jupyter notebook using Python.*"
   ]
  },
  {
   "cell_type": "code",
   "execution_count": 3,
   "metadata": {
    "tags": []
   },
   "outputs": [
    {
     "data": {
      "image/png": "[encoded data removed]",
      "text/plain": [
       "<Figure size 640x480 with 1 Axes>"
      ]
     },
     "metadata": {},
     "output_type": "display_data"
    }
   ],
   "source": [
    "# Write code here\n",
    "import networkx as nx\n",
    "import matplotlib.pyplot as plt\n",
    "\n",
    "graph = nx.DiGraph()\n",
    "graph.add_edges_from([(\"G\", \"D\"), (\"D\", \"AW\"), (\"G\", \"AW\")])\n",
    "nx.draw_networkx(graph, arrows=True)\n",
    "plt.tight_layout()"
   ]
  },
  {
   "cell_type": "markdown",
   "metadata": {
    "deletable": false,
    "editable": false
   },
   "source": [
    "Use a Binomial GLM to estimate the TOTAL causal effect of reported gender on grant awards. \n",
    "\n",
    "Notes:  \n",
    "- You **must provide justification** for the prior distributions used in your model to receive full credit.\n",
    "- You can communicate your estimate using a summary table or a plot (a plot is preferred).\n",
    "- You can also use logistic regression for your solution but this will require disaggregating the data."
   ]
  },
  {
   "cell_type": "markdown",
   "metadata": {},
   "source": [
    "__Answer:__   \n",
    "If the variance is too large, the logistic values will all become 0 or 1. So here we set the prior distribution, alpha = Normal(0, 1), which can get a relatively ideal results."
   ]
  },
  {
   "cell_type": "code",
   "execution_count": 4,
   "metadata": {
    "tags": []
   },
   "outputs": [
    {
     "name": "stderr",
     "output_type": "stream",
     "text": [
      "Auto-assigning NUTS sampler...\n",
      "Initializing NUTS using jitter+adapt_diag...\n",
      "Sequential sampling (2 chains in 1 job)\n",
      "NUTS: [alpha]\n"
     ]
    },
    {
     "data": {
      "text/html": [
       "\n",
       "<style>\n",
       "    /* Turns off some styling */\n",
       "    progress {\n",
       "        /* gets rid of default border in Firefox and Opera. */\n",
       "        border: none;\n",
       "        /* Needs to be in here for Safari polyfill so background images work as expected. */\n",
       "        background-size: auto;\n",
       "    }\n",
       "    progress:not([value]), progress:not([value])::-webkit-progress-bar {\n",
       "        background: repeating-linear-gradient(45deg, #7e7e7e, #7e7e7e 10px, #5c5c5c 10px, #5c5c5c 20px);\n",
       "    }\n",
       "    .progress-bar-interrupted, .progress-bar-interrupted::-webkit-progress-bar {\n",
       "        background: #F44336;\n",
       "    }\n",
       "</style>\n"
      ],
      "text/plain": [
       "<IPython.core.display.HTML object>"
      ]
     },
     "metadata": {},
     "output_type": "display_data"
    },
    {
     "data": {
      "text/html": [
       "\n",
       "    <div>\n",
       "      <progress value='2000' class='' max='2000' style='width:300px; height:20px; vertical-align: middle;'></progress>\n",
       "      100.00% [2000/2000 00:03&lt;00:00 Sampling chain 0, 0 divergences]\n",
       "    </div>\n",
       "    "
      ],
      "text/plain": [
       "<IPython.core.display.HTML object>"
      ]
     },
     "metadata": {},
     "output_type": "display_data"
    },
    {
     "data": {
      "text/html": [
       "\n",
       "<style>\n",
       "    /* Turns off some styling */\n",
       "    progress {\n",
       "        /* gets rid of default border in Firefox and Opera. */\n",
       "        border: none;\n",
       "        /* Needs to be in here for Safari polyfill so background images work as expected. */\n",
       "        background-size: auto;\n",
       "    }\n",
       "    progress:not([value]), progress:not([value])::-webkit-progress-bar {\n",
       "        background: repeating-linear-gradient(45deg, #7e7e7e, #7e7e7e 10px, #5c5c5c 10px, #5c5c5c 20px);\n",
       "    }\n",
       "    .progress-bar-interrupted, .progress-bar-interrupted::-webkit-progress-bar {\n",
       "        background: #F44336;\n",
       "    }\n",
       "</style>\n"
      ],
      "text/plain": [
       "<IPython.core.display.HTML object>"
      ]
     },
     "metadata": {},
     "output_type": "display_data"
    },
    {
     "data": {
      "text/html": [
       "\n",
       "    <div>\n",
       "      <progress value='2000' class='' max='2000' style='width:300px; height:20px; vertical-align: middle;'></progress>\n",
       "      100.00% [2000/2000 00:02&lt;00:00 Sampling chain 1, 0 divergences]\n",
       "    </div>\n",
       "    "
      ],
      "text/plain": [
       "<IPython.core.display.HTML object>"
      ]
     },
     "metadata": {},
     "output_type": "display_data"
    },
    {
     "name": "stderr",
     "output_type": "stream",
     "text": [
      "Sampling 2 chains for 1_000 tune and 1_000 draw iterations (2_000 + 2_000 draws total) took 6 seconds.\n",
      "We recommend running at least 4 chains for robust computation of convergence diagnostics\n"
     ]
    },
    {
     "data": {
      "text/html": [
       "<div>\n",
       "<style scoped>\n",
       "    .dataframe tbody tr th:only-of-type {\n",
       "        vertical-align: middle;\n",
       "    }\n",
       "\n",
       "    .dataframe tbody tr th {\n",
       "        vertical-align: top;\n",
       "    }\n",
       "\n",
       "    .dataframe thead th {\n",
       "        text-align: right;\n",
       "    }\n",
       "</style>\n",
       "<table border=\"1\" class=\"dataframe\">\n",
       "  <thead>\n",
       "    <tr style=\"text-align: right;\">\n",
       "      <th></th>\n",
       "      <th>mean</th>\n",
       "      <th>sd</th>\n",
       "      <th>hdi_5.5%</th>\n",
       "      <th>hdi_94.5%</th>\n",
       "      <th>mcse_mean</th>\n",
       "      <th>mcse_sd</th>\n",
       "      <th>ess_bulk</th>\n",
       "      <th>ess_tail</th>\n",
       "      <th>r_hat</th>\n",
       "    </tr>\n",
       "  </thead>\n",
       "  <tbody>\n",
       "    <tr>\n",
       "      <th>alpha[0]</th>\n",
       "      <td>-1.734</td>\n",
       "      <td>0.082</td>\n",
       "      <td>-1.858</td>\n",
       "      <td>-1.596</td>\n",
       "      <td>0.002</td>\n",
       "      <td>0.001</td>\n",
       "      <td>1920.0</td>\n",
       "      <td>1386.0</td>\n",
       "      <td>1.0</td>\n",
       "    </tr>\n",
       "    <tr>\n",
       "      <th>alpha[1]</th>\n",
       "      <td>-1.528</td>\n",
       "      <td>0.066</td>\n",
       "      <td>-1.629</td>\n",
       "      <td>-1.417</td>\n",
       "      <td>0.001</td>\n",
       "      <td>0.001</td>\n",
       "      <td>2246.0</td>\n",
       "      <td>1411.0</td>\n",
       "      <td>1.0</td>\n",
       "    </tr>\n",
       "  </tbody>\n",
       "</table>\n",
       "</div>"
      ],
      "text/plain": [
       "           mean     sd  hdi_5.5%  hdi_94.5%  mcse_mean  mcse_sd  ess_bulk  \\\n",
       "alpha[0] -1.734  0.082    -1.858     -1.596      0.002    0.001    1920.0   \n",
       "alpha[1] -1.528  0.066    -1.629     -1.417      0.001    0.001    2246.0   \n",
       "\n",
       "          ess_tail  r_hat  \n",
       "alpha[0]    1386.0    1.0  \n",
       "alpha[1]    1411.0    1.0  "
      ]
     },
     "execution_count": 4,
     "metadata": {},
     "output_type": "execute_result"
    }
   ],
   "source": [
    "# Write code here\n",
    "import pandas as pd\n",
    "import pymc as pm\n",
    "\n",
    "df = pd.read_csv(\"Data/NWOGrants.csv\", header=0)\n",
    "\n",
    "D = pd.Categorical(df.discipline).codes\n",
    "G = np.where(df[\"gender\"]=='f', 0, 1)\n",
    "AP = df.applications\n",
    "AW = df.awards\n",
    "\n",
    "# total effect gender on awards\n",
    "with pm.Model() as m_G:\n",
    "    alpha = pm.Normal(\"alpha\", 0, 1, shape=2)\n",
    "    p = pm.Deterministic(\"p\", pm.math.invlogit(alpha[G]))\n",
    "    mod_AW = pm.Binomial(\"AW\", AP, p, observed=AW)\n",
    "    idata_G = pm.sample()\n",
    "\n",
    "az.summary(idata_G, var_names=\"~p\", kind=\"all\")"
   ]
  },
  {
   "cell_type": "markdown",
   "metadata": {
    "deletable": false,
    "editable": false
   },
   "source": [
    "<!-- END QUESTION -->\n",
    "\n",
    "<!-- BEGIN QUESTION -->\n",
    "\n",
    "Provide a gender contrast plot and a written interpretation of the plot."
   ]
  },
  {
   "cell_type": "markdown",
   "metadata": {},
   "source": [
    "__Answer:__   \n",
    "According to the plot, we find that men have a higher probability of winning the prize than women, because diff_prob is a negative number, indicating that women have a lower chance of winning than men."
   ]
  },
  {
   "cell_type": "code",
   "execution_count": 5,
   "metadata": {
    "tags": []
   },
   "outputs": [
    {
     "name": "stderr",
     "output_type": "stream",
     "text": [
      "/tmp/ipykernel_500/25670801.py:5: FutureWarning: extract_dataset has been deprecated, please use extract\n",
      "  post = az.extract_dataset(idata_G) #extract all posterior samples\n",
      "/opt/conda/envs/fnds/lib/python3.9/site-packages/seaborn/_oldcore.py:1119: FutureWarning: use_inf_as_na option is deprecated and will be removed in a future version. Convert inf values to NaN before operating instead.\n",
      "  with pd.option_context('mode.use_inf_as_na', True):\n"
     ]
    },
    {
     "data": {
      "image/png": "[encoded data removed]",
      "text/plain": [
       "<Figure size 640x480 with 1 Axes>"
      ]
     },
     "metadata": {},
     "output_type": "display_data"
    }
   ],
   "source": [
    "# Write code here\n",
    "import seaborn as sns\n",
    "from scipy.special import expit as logistic\n",
    "\n",
    "post = az.extract_dataset(idata_G) #extract all posterior samples \n",
    "probA_G0 = logistic(post.alpha[0])\n",
    "probA_G1 = logistic(post.alpha[1])\n",
    "diff_prob = probA_G0 - probA_G1\n",
    "\n",
    "sns.kdeplot(diff_prob, color=\"#e06666\")\n",
    "plt.xlabel(\"Gender contrast (probability)\")\n",
    "sns.despine()"
   ]
  },
  {
   "cell_type": "markdown",
   "metadata": {
    "deletable": false,
    "editable": false
   },
   "source": [
    "<!-- END QUESTION -->\n",
    "\n",
    "<!-- BEGIN QUESTION -->\n",
    "\n",
    "**Question 2**. **(22 points)** Now estimate the AVERAGE DIRECT causal effect of gender on grant awards using a counterfactual simulation as demonstrated in lecture.\n",
    "\n",
    "**Note** : _Refer to the counterfactual simulation for UC Berkeley admission outcomes from the lecture on Bernoulli/Binomial Generalized Linear Models for guidance. Its ok to just write code and generate plots for this question. Question 3 focuses on interpreting the results from this question._"
   ]
  },
  {
   "cell_type": "markdown",
   "metadata": {},
   "source": [
    "_Type your answer here, replacing this text._"
   ]
  },
  {
   "cell_type": "code",
   "execution_count": 6,
   "metadata": {
    "tags": []
   },
   "outputs": [
    {
     "name": "stderr",
     "output_type": "stream",
     "text": [
      "Auto-assigning NUTS sampler...\n",
      "Initializing NUTS using jitter+adapt_diag...\n",
      "Sequential sampling (2 chains in 1 job)\n",
      "NUTS: [alpha]\n"
     ]
    },
    {
     "data": {
      "text/html": [
       "\n",
       "<style>\n",
       "    /* Turns off some styling */\n",
       "    progress {\n",
       "        /* gets rid of default border in Firefox and Opera. */\n",
       "        border: none;\n",
       "        /* Needs to be in here for Safari polyfill so background images work as expected. */\n",
       "        background-size: auto;\n",
       "    }\n",
       "    progress:not([value]), progress:not([value])::-webkit-progress-bar {\n",
       "        background: repeating-linear-gradient(45deg, #7e7e7e, #7e7e7e 10px, #5c5c5c 10px, #5c5c5c 20px);\n",
       "    }\n",
       "    .progress-bar-interrupted, .progress-bar-interrupted::-webkit-progress-bar {\n",
       "        background: #F44336;\n",
       "    }\n",
       "</style>\n"
      ],
      "text/plain": [
       "<IPython.core.display.HTML object>"
      ]
     },
     "metadata": {},
     "output_type": "display_data"
    },
    {
     "data": {
      "text/html": [
       "\n",
       "    <div>\n",
       "      <progress value='2000' class='' max='2000' style='width:300px; height:20px; vertical-align: middle;'></progress>\n",
       "      100.00% [2000/2000 00:04&lt;00:00 Sampling chain 0, 0 divergences]\n",
       "    </div>\n",
       "    "
      ],
      "text/plain": [
       "<IPython.core.display.HTML object>"
      ]
     },
     "metadata": {},
     "output_type": "display_data"
    },
    {
     "data": {
      "text/html": [
       "\n",
       "<style>\n",
       "    /* Turns off some styling */\n",
       "    progress {\n",
       "        /* gets rid of default border in Firefox and Opera. */\n",
       "        border: none;\n",
       "        /* Needs to be in here for Safari polyfill so background images work as expected. */\n",
       "        background-size: auto;\n",
       "    }\n",
       "    progress:not([value]), progress:not([value])::-webkit-progress-bar {\n",
       "        background: repeating-linear-gradient(45deg, #7e7e7e, #7e7e7e 10px, #5c5c5c 10px, #5c5c5c 20px);\n",
       "    }\n",
       "    .progress-bar-interrupted, .progress-bar-interrupted::-webkit-progress-bar {\n",
       "        background: #F44336;\n",
       "    }\n",
       "</style>\n"
      ],
      "text/plain": [
       "<IPython.core.display.HTML object>"
      ]
     },
     "metadata": {},
     "output_type": "display_data"
    },
    {
     "data": {
      "text/html": [
       "\n",
       "    <div>\n",
       "      <progress value='2000' class='' max='2000' style='width:300px; height:20px; vertical-align: middle;'></progress>\n",
       "      100.00% [2000/2000 00:04&lt;00:00 Sampling chain 1, 0 divergences]\n",
       "    </div>\n",
       "    "
      ],
      "text/plain": [
       "<IPython.core.display.HTML object>"
      ]
     },
     "metadata": {},
     "output_type": "display_data"
    },
    {
     "name": "stderr",
     "output_type": "stream",
     "text": [
      "Sampling 2 chains for 1_000 tune and 1_000 draw iterations (2_000 + 2_000 draws total) took 9 seconds.\n",
      "We recommend running at least 4 chains for robust computation of convergence diagnostics\n"
     ]
    }
   ],
   "source": [
    "# Write code here\n",
    "with pm.Model() as m_GD_cf:\n",
    "    d_G = pm.MutableData(\"gender\", G.astype(\"int64\"))\n",
    "    d_D = pm.MutableData(\"discipline\", D.astype(\"int64\"))\n",
    "    d_AP = pm.MutableData(\"applications\", AP.astype(\"int64\"))\n",
    "    \n",
    "    alpha = pm.Normal(\"alpha\", 0, 1, shape=(2, len(np.unique(D))))\n",
    "    p = pm.Deterministic(\"p\", pm.math.invlogit(alpha[d_G, d_D]))\n",
    "    mod_AW = pm.Binomial(\"A\", d_AP, p, observed=AW, shape=d_D.shape[0])\n",
    "    \n",
    "    idata_GD_cf = pm.sample()"
   ]
  },
  {
   "cell_type": "code",
   "execution_count": 7,
   "metadata": {},
   "outputs": [
    {
     "name": "stderr",
     "output_type": "stream",
     "text": [
      "Sampling: [A]\n"
     ]
    },
    {
     "data": {
      "text/html": [
       "\n",
       "<style>\n",
       "    /* Turns off some styling */\n",
       "    progress {\n",
       "        /* gets rid of default border in Firefox and Opera. */\n",
       "        border: none;\n",
       "        /* Needs to be in here for Safari polyfill so background images work as expected. */\n",
       "        background-size: auto;\n",
       "    }\n",
       "    progress:not([value]), progress:not([value])::-webkit-progress-bar {\n",
       "        background: repeating-linear-gradient(45deg, #7e7e7e, #7e7e7e 10px, #5c5c5c 10px, #5c5c5c 20px);\n",
       "    }\n",
       "    .progress-bar-interrupted, .progress-bar-interrupted::-webkit-progress-bar {\n",
       "        background: #F44336;\n",
       "    }\n",
       "</style>\n"
      ],
      "text/plain": [
       "<IPython.core.display.HTML object>"
      ]
     },
     "metadata": {},
     "output_type": "display_data"
    },
    {
     "data": {
      "text/html": [
       "\n",
       "    <div>\n",
       "      <progress value='2000' class='' max='2000' style='width:300px; height:20px; vertical-align: middle;'></progress>\n",
       "      100.00% [2000/2000 00:00&lt;00:00]\n",
       "    </div>\n",
       "    "
      ],
      "text/plain": [
       "<IPython.core.display.HTML object>"
      ]
     },
     "metadata": {},
     "output_type": "display_data"
    },
    {
     "name": "stderr",
     "output_type": "stream",
     "text": [
      "Sampling: [A]\n"
     ]
    },
    {
     "data": {
      "text/html": [
       "\n",
       "<style>\n",
       "    /* Turns off some styling */\n",
       "    progress {\n",
       "        /* gets rid of default border in Firefox and Opera. */\n",
       "        border: none;\n",
       "        /* Needs to be in here for Safari polyfill so background images work as expected. */\n",
       "        background-size: auto;\n",
       "    }\n",
       "    progress:not([value]), progress:not([value])::-webkit-progress-bar {\n",
       "        background: repeating-linear-gradient(45deg, #7e7e7e, #7e7e7e 10px, #5c5c5c 10px, #5c5c5c 20px);\n",
       "    }\n",
       "    .progress-bar-interrupted, .progress-bar-interrupted::-webkit-progress-bar {\n",
       "        background: #F44336;\n",
       "    }\n",
       "</style>\n"
      ],
      "text/plain": [
       "<IPython.core.display.HTML object>"
      ]
     },
     "metadata": {},
     "output_type": "display_data"
    },
    {
     "data": {
      "text/html": [
       "\n",
       "    <div>\n",
       "      <progress value='2000' class='' max='2000' style='width:300px; height:20px; vertical-align: middle;'></progress>\n",
       "      100.00% [2000/2000 00:00&lt;00:00]\n",
       "    </div>\n",
       "    "
      ],
      "text/plain": [
       "<IPython.core.display.HTML object>"
      ]
     },
     "metadata": {},
     "output_type": "display_data"
    }
   ],
   "source": [
    "total_apps = df.applications.sum()\n",
    "apps_per_disc = df.groupby(\"discipline\")[\"applications\"].sum()\n",
    "\n",
    "with m_GD_cf:\n",
    "    # simulate as if all apps from women\n",
    "    pm.set_data(\n",
    "            {\n",
    "                \"discipline\": np.repeat(range(len(apps_per_disc)), apps_per_disc),\n",
    "                \"applications\": np.repeat(1, total_apps),\n",
    "                \"gender\": np.repeat(0, total_apps)\n",
    "            }\n",
    "    )\n",
    "\n",
    "    cf_A_G0 = pm.sample_posterior_predictive(idata_GD_cf)\n",
    "\n",
    "with m_GD_cf:\n",
    "    # simulate as if all apps from men\n",
    "    pm.set_data(\n",
    "            {\n",
    "                \"discipline\": np.repeat(range(len(apps_per_disc)), apps_per_disc),\n",
    "                \"applications\": np.repeat(1, total_apps),\n",
    "                \"gender\": np.repeat(1, total_apps)\n",
    "            }\n",
    "    )\n",
    "\n",
    "    cf_A_G1 = pm.sample_posterior_predictive(idata_GD_cf)"
   ]
  },
  {
   "cell_type": "markdown",
   "metadata": {
    "deletable": false,
    "editable": false
   },
   "source": [
    "After estimating the average direct causal effect of gender on grant awards:\n",
    "1. Plot the average direct causal effect as a contrast plot from the results of the counterfactual simulation."
   ]
  },
  {
   "cell_type": "code",
   "execution_count": 8,
   "metadata": {
    "tags": []
   },
   "outputs": [
    {
     "name": "stderr",
     "output_type": "stream",
     "text": [
      "/opt/conda/envs/fnds/lib/python3.9/site-packages/seaborn/_oldcore.py:1119: FutureWarning: use_inf_as_na option is deprecated and will be removed in a future version. Convert inf values to NaN before operating instead.\n",
      "  with pd.option_context('mode.use_inf_as_na', True):\n"
     ]
    },
    {
     "data": {
      "image/png": "[encoded data removed]",
      "text/plain": [
       "<Figure size 640x480 with 1 Axes>"
      ]
     },
     "metadata": {},
     "output_type": "display_data"
    }
   ],
   "source": [
    "# Write code here\n",
    "\n",
    "admitted_G0 = az.extract(cf_A_G0, group=\"posterior_predictive\")\n",
    "admitted_G1 = az.extract(cf_A_G1, group=\"posterior_predictive\")\n",
    "\n",
    "num_samples = admitted_G0.A.values.shape[1]\n",
    "admit_rate_G0 = admitted_G0.A.values.sum(1) / num_samples\n",
    "admit_rate_G1 = admitted_G1.A.values.sum(1) / num_samples\n",
    "\n",
    "# plot contrast\n",
    "sns.kdeplot(admit_rate_G0 - admit_rate_G1, color=\"#e06666\")\n",
    "plt.xlabel(\"effect of gender perception\")\n",
    "plt.xlim(left=-0.2)\n",
    "plt.axvline(0, linestyle=\"--\")\n",
    "sns.despine();"
   ]
  },
  {
   "cell_type": "markdown",
   "metadata": {
    "deletable": false,
    "editable": false
   },
   "source": [
    "2. Plot the DIRECT causal effect of reported gender by discipline, weighting each discipline in proportion to the number of applications in the observed data. \n",
    "\n",
    "* **Add a legend** to your plot to label the discipline distributions. You can find documentation for adding a legend to your plot [here](https://matplotlib.org/stable/api/_as_gen/matplotlib.pyplot.legend.html). Specify a `label` each time you plot a distribution and call the `matplotlib.pyplot.label()` function before displaying the full plot."
   ]
  },
  {
   "cell_type": "code",
   "execution_count": 9,
   "metadata": {
    "tags": []
   },
   "outputs": [
    {
     "name": "stderr",
     "output_type": "stream",
     "text": [
      "Auto-assigning NUTS sampler...\n",
      "Initializing NUTS using jitter+adapt_diag...\n",
      "Sequential sampling (2 chains in 1 job)\n",
      "NUTS: [alpha]\n"
     ]
    },
    {
     "data": {
      "text/html": [
       "\n",
       "<style>\n",
       "    /* Turns off some styling */\n",
       "    progress {\n",
       "        /* gets rid of default border in Firefox and Opera. */\n",
       "        border: none;\n",
       "        /* Needs to be in here for Safari polyfill so background images work as expected. */\n",
       "        background-size: auto;\n",
       "    }\n",
       "    progress:not([value]), progress:not([value])::-webkit-progress-bar {\n",
       "        background: repeating-linear-gradient(45deg, #7e7e7e, #7e7e7e 10px, #5c5c5c 10px, #5c5c5c 20px);\n",
       "    }\n",
       "    .progress-bar-interrupted, .progress-bar-interrupted::-webkit-progress-bar {\n",
       "        background: #F44336;\n",
       "    }\n",
       "</style>\n"
      ],
      "text/plain": [
       "<IPython.core.display.HTML object>"
      ]
     },
     "metadata": {},
     "output_type": "display_data"
    },
    {
     "data": {
      "text/html": [
       "\n",
       "    <div>\n",
       "      <progress value='2000' class='' max='2000' style='width:300px; height:20px; vertical-align: middle;'></progress>\n",
       "      100.00% [2000/2000 00:04&lt;00:00 Sampling chain 0, 0 divergences]\n",
       "    </div>\n",
       "    "
      ],
      "text/plain": [
       "<IPython.core.display.HTML object>"
      ]
     },
     "metadata": {},
     "output_type": "display_data"
    },
    {
     "data": {
      "text/html": [
       "\n",
       "<style>\n",
       "    /* Turns off some styling */\n",
       "    progress {\n",
       "        /* gets rid of default border in Firefox and Opera. */\n",
       "        border: none;\n",
       "        /* Needs to be in here for Safari polyfill so background images work as expected. */\n",
       "        background-size: auto;\n",
       "    }\n",
       "    progress:not([value]), progress:not([value])::-webkit-progress-bar {\n",
       "        background: repeating-linear-gradient(45deg, #7e7e7e, #7e7e7e 10px, #5c5c5c 10px, #5c5c5c 20px);\n",
       "    }\n",
       "    .progress-bar-interrupted, .progress-bar-interrupted::-webkit-progress-bar {\n",
       "        background: #F44336;\n",
       "    }\n",
       "</style>\n"
      ],
      "text/plain": [
       "<IPython.core.display.HTML object>"
      ]
     },
     "metadata": {},
     "output_type": "display_data"
    },
    {
     "data": {
      "text/html": [
       "\n",
       "    <div>\n",
       "      <progress value='2000' class='' max='2000' style='width:300px; height:20px; vertical-align: middle;'></progress>\n",
       "      100.00% [2000/2000 00:03&lt;00:00 Sampling chain 1, 0 divergences]\n",
       "    </div>\n",
       "    "
      ],
      "text/plain": [
       "<IPython.core.display.HTML object>"
      ]
     },
     "metadata": {},
     "output_type": "display_data"
    },
    {
     "name": "stderr",
     "output_type": "stream",
     "text": [
      "Sampling 2 chains for 1_000 tune and 1_000 draw iterations (2_000 + 2_000 draws total) took 9 seconds.\n",
      "We recommend running at least 4 chains for robust computation of convergence diagnostics\n"
     ]
    },
    {
     "data": {
      "text/html": [
       "<div>\n",
       "<style scoped>\n",
       "    .dataframe tbody tr th:only-of-type {\n",
       "        vertical-align: middle;\n",
       "    }\n",
       "\n",
       "    .dataframe tbody tr th {\n",
       "        vertical-align: top;\n",
       "    }\n",
       "\n",
       "    .dataframe thead th {\n",
       "        text-align: right;\n",
       "    }\n",
       "</style>\n",
       "<table border=\"1\" class=\"dataframe\">\n",
       "  <thead>\n",
       "    <tr style=\"text-align: right;\">\n",
       "      <th></th>\n",
       "      <th>mean</th>\n",
       "      <th>sd</th>\n",
       "      <th>hdi_5.5%</th>\n",
       "      <th>hdi_94.5%</th>\n",
       "      <th>mcse_mean</th>\n",
       "      <th>mcse_sd</th>\n",
       "      <th>ess_bulk</th>\n",
       "      <th>ess_tail</th>\n",
       "      <th>r_hat</th>\n",
       "    </tr>\n",
       "  </thead>\n",
       "  <tbody>\n",
       "    <tr>\n",
       "      <th>alpha[0, 0]</th>\n",
       "      <td>-0.965</td>\n",
       "      <td>0.337</td>\n",
       "      <td>-1.462</td>\n",
       "      <td>-0.383</td>\n",
       "      <td>0.005</td>\n",
       "      <td>0.004</td>\n",
       "      <td>3757.0</td>\n",
       "      <td>1714.0</td>\n",
       "      <td>1.0</td>\n",
       "    </tr>\n",
       "    <tr>\n",
       "      <th>alpha[0, 1]</th>\n",
       "      <td>-1.707</td>\n",
       "      <td>0.236</td>\n",
       "      <td>-2.107</td>\n",
       "      <td>-1.355</td>\n",
       "      <td>0.003</td>\n",
       "      <td>0.003</td>\n",
       "      <td>4774.0</td>\n",
       "      <td>1315.0</td>\n",
       "      <td>1.0</td>\n",
       "    </tr>\n",
       "    <tr>\n",
       "      <th>alpha[0, 2]</th>\n",
       "      <td>-1.391</td>\n",
       "      <td>0.188</td>\n",
       "      <td>-1.687</td>\n",
       "      <td>-1.080</td>\n",
       "      <td>0.003</td>\n",
       "      <td>0.002</td>\n",
       "      <td>5035.0</td>\n",
       "      <td>1574.0</td>\n",
       "      <td>1.0</td>\n",
       "    </tr>\n",
       "    <tr>\n",
       "      <th>alpha[0, 3]</th>\n",
       "      <td>-1.205</td>\n",
       "      <td>0.260</td>\n",
       "      <td>-1.614</td>\n",
       "      <td>-0.803</td>\n",
       "      <td>0.004</td>\n",
       "      <td>0.003</td>\n",
       "      <td>4516.0</td>\n",
       "      <td>1459.0</td>\n",
       "      <td>1.0</td>\n",
       "    </tr>\n",
       "    <tr>\n",
       "      <th>alpha[0, 4]</th>\n",
       "      <td>-2.018</td>\n",
       "      <td>0.190</td>\n",
       "      <td>-2.315</td>\n",
       "      <td>-1.703</td>\n",
       "      <td>0.003</td>\n",
       "      <td>0.002</td>\n",
       "      <td>3809.0</td>\n",
       "      <td>1557.0</td>\n",
       "      <td>1.0</td>\n",
       "    </tr>\n",
       "    <tr>\n",
       "      <th>alpha[0, 5]</th>\n",
       "      <td>-1.080</td>\n",
       "      <td>0.354</td>\n",
       "      <td>-1.584</td>\n",
       "      <td>-0.458</td>\n",
       "      <td>0.006</td>\n",
       "      <td>0.005</td>\n",
       "      <td>3567.0</td>\n",
       "      <td>1498.0</td>\n",
       "      <td>1.0</td>\n",
       "    </tr>\n",
       "    <tr>\n",
       "      <th>alpha[0, 6]</th>\n",
       "      <td>-0.839</td>\n",
       "      <td>0.604</td>\n",
       "      <td>-1.754</td>\n",
       "      <td>0.199</td>\n",
       "      <td>0.009</td>\n",
       "      <td>0.009</td>\n",
       "      <td>4670.0</td>\n",
       "      <td>1606.0</td>\n",
       "      <td>1.0</td>\n",
       "    </tr>\n",
       "    <tr>\n",
       "      <th>alpha[0, 7]</th>\n",
       "      <td>-2.001</td>\n",
       "      <td>0.150</td>\n",
       "      <td>-2.237</td>\n",
       "      <td>-1.771</td>\n",
       "      <td>0.002</td>\n",
       "      <td>0.002</td>\n",
       "      <td>4181.0</td>\n",
       "      <td>1174.0</td>\n",
       "      <td>1.0</td>\n",
       "    </tr>\n",
       "    <tr>\n",
       "      <th>alpha[0, 8]</th>\n",
       "      <td>-1.243</td>\n",
       "      <td>0.292</td>\n",
       "      <td>-1.684</td>\n",
       "      <td>-0.782</td>\n",
       "      <td>0.004</td>\n",
       "      <td>0.004</td>\n",
       "      <td>4395.0</td>\n",
       "      <td>1594.0</td>\n",
       "      <td>1.0</td>\n",
       "    </tr>\n",
       "    <tr>\n",
       "      <th>alpha[1, 0]</th>\n",
       "      <td>-0.972</td>\n",
       "      <td>0.239</td>\n",
       "      <td>-1.338</td>\n",
       "      <td>-0.585</td>\n",
       "      <td>0.004</td>\n",
       "      <td>0.003</td>\n",
       "      <td>3669.0</td>\n",
       "      <td>1652.0</td>\n",
       "      <td>1.0</td>\n",
       "    </tr>\n",
       "    <tr>\n",
       "      <th>alpha[1, 1]</th>\n",
       "      <td>-1.100</td>\n",
       "      <td>0.185</td>\n",
       "      <td>-1.379</td>\n",
       "      <td>-0.797</td>\n",
       "      <td>0.003</td>\n",
       "      <td>0.002</td>\n",
       "      <td>3898.0</td>\n",
       "      <td>1106.0</td>\n",
       "      <td>1.0</td>\n",
       "    </tr>\n",
       "    <tr>\n",
       "      <th>alpha[1, 2]</th>\n",
       "      <td>-1.737</td>\n",
       "      <td>0.185</td>\n",
       "      <td>-2.025</td>\n",
       "      <td>-1.438</td>\n",
       "      <td>0.003</td>\n",
       "      <td>0.002</td>\n",
       "      <td>4440.0</td>\n",
       "      <td>1568.0</td>\n",
       "      <td>1.0</td>\n",
       "    </tr>\n",
       "    <tr>\n",
       "      <th>alpha[1, 3]</th>\n",
       "      <td>-1.913</td>\n",
       "      <td>0.288</td>\n",
       "      <td>-2.364</td>\n",
       "      <td>-1.450</td>\n",
       "      <td>0.005</td>\n",
       "      <td>0.003</td>\n",
       "      <td>3999.0</td>\n",
       "      <td>1265.0</td>\n",
       "      <td>1.0</td>\n",
       "    </tr>\n",
       "    <tr>\n",
       "      <th>alpha[1, 4]</th>\n",
       "      <td>-1.432</td>\n",
       "      <td>0.157</td>\n",
       "      <td>-1.671</td>\n",
       "      <td>-1.177</td>\n",
       "      <td>0.003</td>\n",
       "      <td>0.002</td>\n",
       "      <td>3343.0</td>\n",
       "      <td>1464.0</td>\n",
       "      <td>1.0</td>\n",
       "    </tr>\n",
       "    <tr>\n",
       "      <th>alpha[1, 5]</th>\n",
       "      <td>-1.383</td>\n",
       "      <td>0.216</td>\n",
       "      <td>-1.724</td>\n",
       "      <td>-1.037</td>\n",
       "      <td>0.003</td>\n",
       "      <td>0.003</td>\n",
       "      <td>3975.0</td>\n",
       "      <td>1536.0</td>\n",
       "      <td>1.0</td>\n",
       "    </tr>\n",
       "    <tr>\n",
       "      <th>alpha[1, 6]</th>\n",
       "      <td>-0.944</td>\n",
       "      <td>0.260</td>\n",
       "      <td>-1.332</td>\n",
       "      <td>-0.517</td>\n",
       "      <td>0.004</td>\n",
       "      <td>0.003</td>\n",
       "      <td>3903.0</td>\n",
       "      <td>1333.0</td>\n",
       "      <td>1.0</td>\n",
       "    </tr>\n",
       "    <tr>\n",
       "      <th>alpha[1, 7]</th>\n",
       "      <td>-1.692</td>\n",
       "      <td>0.134</td>\n",
       "      <td>-1.900</td>\n",
       "      <td>-1.475</td>\n",
       "      <td>0.002</td>\n",
       "      <td>0.002</td>\n",
       "      <td>3952.0</td>\n",
       "      <td>1321.0</td>\n",
       "      <td>1.0</td>\n",
       "    </tr>\n",
       "    <tr>\n",
       "      <th>alpha[1, 8]</th>\n",
       "      <td>-1.613</td>\n",
       "      <td>0.203</td>\n",
       "      <td>-1.940</td>\n",
       "      <td>-1.289</td>\n",
       "      <td>0.003</td>\n",
       "      <td>0.002</td>\n",
       "      <td>4291.0</td>\n",
       "      <td>1263.0</td>\n",
       "      <td>1.0</td>\n",
       "    </tr>\n",
       "  </tbody>\n",
       "</table>\n",
       "</div>"
      ],
      "text/plain": [
       "              mean     sd  hdi_5.5%  hdi_94.5%  mcse_mean  mcse_sd  ess_bulk  \\\n",
       "alpha[0, 0] -0.965  0.337    -1.462     -0.383      0.005    0.004    3757.0   \n",
       "alpha[0, 1] -1.707  0.236    -2.107     -1.355      0.003    0.003    4774.0   \n",
       "alpha[0, 2] -1.391  0.188    -1.687     -1.080      0.003    0.002    5035.0   \n",
       "alpha[0, 3] -1.205  0.260    -1.614     -0.803      0.004    0.003    4516.0   \n",
       "alpha[0, 4] -2.018  0.190    -2.315     -1.703      0.003    0.002    3809.0   \n",
       "alpha[0, 5] -1.080  0.354    -1.584     -0.458      0.006    0.005    3567.0   \n",
       "alpha[0, 6] -0.839  0.604    -1.754      0.199      0.009    0.009    4670.0   \n",
       "alpha[0, 7] -2.001  0.150    -2.237     -1.771      0.002    0.002    4181.0   \n",
       "alpha[0, 8] -1.243  0.292    -1.684     -0.782      0.004    0.004    4395.0   \n",
       "alpha[1, 0] -0.972  0.239    -1.338     -0.585      0.004    0.003    3669.0   \n",
       "alpha[1, 1] -1.100  0.185    -1.379     -0.797      0.003    0.002    3898.0   \n",
       "alpha[1, 2] -1.737  0.185    -2.025     -1.438      0.003    0.002    4440.0   \n",
       "alpha[1, 3] -1.913  0.288    -2.364     -1.450      0.005    0.003    3999.0   \n",
       "alpha[1, 4] -1.432  0.157    -1.671     -1.177      0.003    0.002    3343.0   \n",
       "alpha[1, 5] -1.383  0.216    -1.724     -1.037      0.003    0.003    3975.0   \n",
       "alpha[1, 6] -0.944  0.260    -1.332     -0.517      0.004    0.003    3903.0   \n",
       "alpha[1, 7] -1.692  0.134    -1.900     -1.475      0.002    0.002    3952.0   \n",
       "alpha[1, 8] -1.613  0.203    -1.940     -1.289      0.003    0.002    4291.0   \n",
       "\n",
       "             ess_tail  r_hat  \n",
       "alpha[0, 0]    1714.0    1.0  \n",
       "alpha[0, 1]    1315.0    1.0  \n",
       "alpha[0, 2]    1574.0    1.0  \n",
       "alpha[0, 3]    1459.0    1.0  \n",
       "alpha[0, 4]    1557.0    1.0  \n",
       "alpha[0, 5]    1498.0    1.0  \n",
       "alpha[0, 6]    1606.0    1.0  \n",
       "alpha[0, 7]    1174.0    1.0  \n",
       "alpha[0, 8]    1594.0    1.0  \n",
       "alpha[1, 0]    1652.0    1.0  \n",
       "alpha[1, 1]    1106.0    1.0  \n",
       "alpha[1, 2]    1568.0    1.0  \n",
       "alpha[1, 3]    1265.0    1.0  \n",
       "alpha[1, 4]    1464.0    1.0  \n",
       "alpha[1, 5]    1536.0    1.0  \n",
       "alpha[1, 6]    1333.0    1.0  \n",
       "alpha[1, 7]    1321.0    1.0  \n",
       "alpha[1, 8]    1263.0    1.0  "
      ]
     },
     "execution_count": 9,
     "metadata": {},
     "output_type": "execute_result"
    }
   ],
   "source": [
    "# Write code here\n",
    "\n",
    "with pm.Model() as m_GD:\n",
    "    alpha = pm.Normal(\"alpha\", 0, 1, shape=(2, len(np.unique(D))))\n",
    "    p = pm.Deterministic(\"p\", pm.math.invlogit(alpha[G, D]))\n",
    "    mod_AW = pm.Binomial(\"AW\", AP, p, observed=AW)\n",
    "    \n",
    "    idata_GD = pm.sample()\n",
    "\n",
    "az.summary(idata_GD, var_names=\"~p\", kind=\"all\")"
   ]
  },
  {
   "cell_type": "code",
   "execution_count": 10,
   "metadata": {},
   "outputs": [
    {
     "name": "stderr",
     "output_type": "stream",
     "text": [
      "/tmp/ipykernel_500/1151706123.py:4: FutureWarning: extract_dataset has been deprecated, please use extract\n",
      "  post2 = az.extract_dataset(idata_GD)\n",
      "/tmp/ipykernel_500/1151706123.py:14: FutureWarning: Series.__getitem__ treating keys as positions is deprecated. In a future version, integer keys will always be treated as labels (consistent with DataFrame behavior). To access a value by position, use `ser.iloc[pos]`\n",
      "  _ = sns.kdeplot(diff_prob_D, linewidth=1+5*w[i])\n",
      "/opt/conda/envs/fnds/lib/python3.9/site-packages/seaborn/_oldcore.py:1119: FutureWarning: use_inf_as_na option is deprecated and will be removed in a future version. Convert inf values to NaN before operating instead.\n",
      "  with pd.option_context('mode.use_inf_as_na', True):\n",
      "/tmp/ipykernel_500/1151706123.py:14: FutureWarning: Series.__getitem__ treating keys as positions is deprecated. In a future version, integer keys will always be treated as labels (consistent with DataFrame behavior). To access a value by position, use `ser.iloc[pos]`\n",
      "  _ = sns.kdeplot(diff_prob_D, linewidth=1+5*w[i])\n",
      "/opt/conda/envs/fnds/lib/python3.9/site-packages/seaborn/_oldcore.py:1119: FutureWarning: use_inf_as_na option is deprecated and will be removed in a future version. Convert inf values to NaN before operating instead.\n",
      "  with pd.option_context('mode.use_inf_as_na', True):\n",
      "/tmp/ipykernel_500/1151706123.py:14: FutureWarning: Series.__getitem__ treating keys as positions is deprecated. In a future version, integer keys will always be treated as labels (consistent with DataFrame behavior). To access a value by position, use `ser.iloc[pos]`\n",
      "  _ = sns.kdeplot(diff_prob_D, linewidth=1+5*w[i])\n",
      "/opt/conda/envs/fnds/lib/python3.9/site-packages/seaborn/_oldcore.py:1119: FutureWarning: use_inf_as_na option is deprecated and will be removed in a future version. Convert inf values to NaN before operating instead.\n",
      "  with pd.option_context('mode.use_inf_as_na', True):\n",
      "/tmp/ipykernel_500/1151706123.py:14: FutureWarning: Series.__getitem__ treating keys as positions is deprecated. In a future version, integer keys will always be treated as labels (consistent with DataFrame behavior). To access a value by position, use `ser.iloc[pos]`\n",
      "  _ = sns.kdeplot(diff_prob_D, linewidth=1+5*w[i])\n",
      "/opt/conda/envs/fnds/lib/python3.9/site-packages/seaborn/_oldcore.py:1119: FutureWarning: use_inf_as_na option is deprecated and will be removed in a future version. Convert inf values to NaN before operating instead.\n",
      "  with pd.option_context('mode.use_inf_as_na', True):\n",
      "/tmp/ipykernel_500/1151706123.py:14: FutureWarning: Series.__getitem__ treating keys as positions is deprecated. In a future version, integer keys will always be treated as labels (consistent with DataFrame behavior). To access a value by position, use `ser.iloc[pos]`\n",
      "  _ = sns.kdeplot(diff_prob_D, linewidth=1+5*w[i])\n",
      "/opt/conda/envs/fnds/lib/python3.9/site-packages/seaborn/_oldcore.py:1119: FutureWarning: use_inf_as_na option is deprecated and will be removed in a future version. Convert inf values to NaN before operating instead.\n",
      "  with pd.option_context('mode.use_inf_as_na', True):\n",
      "/tmp/ipykernel_500/1151706123.py:14: FutureWarning: Series.__getitem__ treating keys as positions is deprecated. In a future version, integer keys will always be treated as labels (consistent with DataFrame behavior). To access a value by position, use `ser.iloc[pos]`\n",
      "  _ = sns.kdeplot(diff_prob_D, linewidth=1+5*w[i])\n",
      "/opt/conda/envs/fnds/lib/python3.9/site-packages/seaborn/_oldcore.py:1119: FutureWarning: use_inf_as_na option is deprecated and will be removed in a future version. Convert inf values to NaN before operating instead.\n",
      "  with pd.option_context('mode.use_inf_as_na', True):\n",
      "/tmp/ipykernel_500/1151706123.py:14: FutureWarning: Series.__getitem__ treating keys as positions is deprecated. In a future version, integer keys will always be treated as labels (consistent with DataFrame behavior). To access a value by position, use `ser.iloc[pos]`\n",
      "  _ = sns.kdeplot(diff_prob_D, linewidth=1+5*w[i])\n",
      "/opt/conda/envs/fnds/lib/python3.9/site-packages/seaborn/_oldcore.py:1119: FutureWarning: use_inf_as_na option is deprecated and will be removed in a future version. Convert inf values to NaN before operating instead.\n",
      "  with pd.option_context('mode.use_inf_as_na', True):\n",
      "/tmp/ipykernel_500/1151706123.py:14: FutureWarning: Series.__getitem__ treating keys as positions is deprecated. In a future version, integer keys will always be treated as labels (consistent with DataFrame behavior). To access a value by position, use `ser.iloc[pos]`\n",
      "  _ = sns.kdeplot(diff_prob_D, linewidth=1+5*w[i])\n",
      "/opt/conda/envs/fnds/lib/python3.9/site-packages/seaborn/_oldcore.py:1119: FutureWarning: use_inf_as_na option is deprecated and will be removed in a future version. Convert inf values to NaN before operating instead.\n",
      "  with pd.option_context('mode.use_inf_as_na', True):\n",
      "/tmp/ipykernel_500/1151706123.py:14: FutureWarning: Series.__getitem__ treating keys as positions is deprecated. In a future version, integer keys will always be treated as labels (consistent with DataFrame behavior). To access a value by position, use `ser.iloc[pos]`\n",
      "  _ = sns.kdeplot(diff_prob_D, linewidth=1+5*w[i])\n",
      "/opt/conda/envs/fnds/lib/python3.9/site-packages/seaborn/_oldcore.py:1119: FutureWarning: use_inf_as_na option is deprecated and will be removed in a future version. Convert inf values to NaN before operating instead.\n",
      "  with pd.option_context('mode.use_inf_as_na', True):\n"
     ]
    },
    {
     "data": {
      "image/png": "[encoded data removed]",
      "text/plain": [
       "<Figure size 640x480 with 1 Axes>"
      ]
     },
     "metadata": {},
     "output_type": "display_data"
    }
   ],
   "source": [
    "w = apps_per_disc / total_apps\n",
    "w = w/max(w)\n",
    "\n",
    "post2 = az.extract_dataset(idata_GD) \n",
    "\n",
    "n_deps = post2.alpha.shape[1]\n",
    "\n",
    "probA = logistic(post2.alpha)\n",
    "\n",
    "for i in range(n_deps):\n",
    "    probA_G0_D = probA[0][i]\n",
    "    probA_G1_D = probA[1][i]\n",
    "    diff_prob_D = probA_G0_D - probA_G1_D\n",
    "    _ = sns.kdeplot(diff_prob_D, linewidth=1+5*w[i])\n",
    "\n",
    "plt.legend(w.index.tolist())\n",
    "plt.axvline(x=0, linestyle=\"--\")\n",
    "plt.xlabel(\"Gender contrast (probability)\")\n",
    "sns.despine();"
   ]
  },
  {
   "cell_type": "markdown",
   "metadata": {
    "deletable": false,
    "editable": false
   },
   "source": [
    "<!-- END QUESTION -->\n",
    "\n",
    "<!-- BEGIN QUESTION -->\n",
    "\n",
    "**Question 3**. **(8 points)** Considering the total effect (Question 1) and the direct effects (Question 2) of listed gender, what causes seem to contribute to the differences between women and men in award rate in this dataset?\n",
    "\n",
    "It is not necessary to say whether or not there is evidence of discrimination. Simply explain how the direct effects you have estimated make sense (or not) of the total effect."
   ]
  },
  {
   "cell_type": "markdown",
   "metadata": {},
   "source": [
    "__Answer:__   \n",
    "The total effect (Question 1) suggests that there are some differences in award rates between gender, while the direct effect (Question 2) suggests that different disciplines also have an impact on award rates."
   ]
  },
  {
   "cell_type": "markdown",
   "metadata": {
    "deletable": false,
    "editable": false
   },
   "source": [
    "<!-- END QUESTION -->\n",
    "\n",
    "<!-- BEGIN QUESTION -->\n",
    "\n",
    "What explanations might be unaccounted for regarding differences in award outcomes observed in this dataset? \n",
    "\n",
    "Provide at least one potential unobserved confound that might impact the statistical inference performed in this problem."
   ]
  },
  {
   "cell_type": "markdown",
   "metadata": {},
   "source": [
    "__Answer:__   \n",
    "Personal Quality is a potential unobserved confound. Specifically, if different scholars in the same field have different personal qualities, this could also have some effect on the results."
   ]
  },
  {
   "cell_type": "code",
   "execution_count": 11,
   "metadata": {
    "deletable": false,
    "editable": false
   },
   "outputs": [
    {
     "data": {
      "text/html": [
       "<p><strong><pre style='display: inline;'>q3.1</pre></strong> passed! 🍀</p>"
      ],
      "text/plain": [
       "q3.1 results: All test cases passed!"
      ]
     },
     "execution_count": 11,
     "metadata": {},
     "output_type": "execute_result"
    }
   ],
   "source": [
    "grader.check(\"q3.1\")"
   ]
  },
  {
   "cell_type": "markdown",
   "metadata": {
    "deletable": false,
    "editable": false
   },
   "source": [
    "<!-- END QUESTION -->\n",
    "\n"
   ]
  },
  {
   "cell_type": "markdown",
   "metadata": {
    "deletable": false,
    "editable": false
   },
   "source": [
    "## Submission\n",
    "\n",
    "Make sure you have run all cells in your notebook in order before running the cell below, so that all images/graphs appear in the output. The cell below will generate a zip file for you to submit. **Please save before exporting!**"
   ]
  },
  {
   "cell_type": "code",
   "execution_count": null,
   "metadata": {
    "deletable": false,
    "editable": false
   },
   "outputs": [],
   "source": [
    "# Save your notebook first, then run this cell to export your submission.\n",
    "grader.export(run_tests=True)"
   ]
  },
  {
   "cell_type": "markdown",
   "metadata": {},
   "source": [
    " "
   ]
  }
 ],
 "metadata": {
  "kernelspec": {
   "display_name": "Python [conda env:fnds]",
   "language": "python",
   "name": "conda-env-fnds-py"
  },
  "language_info": {
   "codemirror_mode": {
    "name": "ipython",
    "version": 3
   },
   "file_extension": ".py",
   "mimetype": "text/x-python",
   "name": "python",
   "nbconvert_exporter": "python",
   "pygments_lexer": "ipython3",
   "version": "3.9.19"
  },
  "otter": {
   "OK_FORMAT": true,
   "assignment_name": "hw5",
   "tests": {
    "q3.1": {
     "name": "q3.1",
     "points": null,
     "suites": [
      {
       "cases": [],
       "scored": true,
       "setup": "",
       "teardown": "",
       "type": "doctest"
      }
     ]
    }
   }
  }
 },
 "nbformat": 4,
 "nbformat_minor": 4
}
