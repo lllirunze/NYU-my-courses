{
 "cells": [
  {
   "cell_type": "code",
   "execution_count": 1,
   "metadata": {
    "deletable": false,
    "editable": false
   },
   "outputs": [],
   "source": [
    "# Initialize Otter\n",
    "import otter\n",
    "grader = otter.Notebook(\"hw6.ipynb\")"
   ]
  },
  {
   "cell_type": "markdown",
   "metadata": {},
   "source": [
    "## Homework #6"
   ]
  },
  {
   "cell_type": "markdown",
   "metadata": {},
   "source": [
    "*Please edit the cell below to add your name, NetID, and any group members that you collaborated with on this assignment.* **Complete this section before proceeding to the assignment questions.**"
   ]
  },
  {
   "cell_type": "markdown",
   "metadata": {},
   "source": [
    "Name: Runze Li  \n",
    "NetID: rl50xx  \n",
    "Group Members: None   \n",
    "***"
   ]
  },
  {
   "cell_type": "code",
   "execution_count": 2,
   "metadata": {},
   "outputs": [],
   "source": [
    "# Set random seed and ensure plots are displayed in the notebook\n",
    "import numpy as np\n",
    "import pymc as pm\n",
    "import arviz as az\n",
    "rnd_seed = 42\n",
    "np.random.seed(rnd_seed)\n",
    "%matplotlib inline\n",
    "\n",
    "%config Inline.figure_format = 'retina'\n",
    "az.rcParams[\"stats.hdi_prob\"] = 0.89  # sets default credible interval used by arviz"
   ]
  },
  {
   "cell_type": "code",
   "execution_count": 3,
   "metadata": {},
   "outputs": [],
   "source": [
    "def standardize(series):\n",
    "    \"\"\"Standardize a pandas series\"\"\"\n",
    "    return (series - series.mean()) / series.std()"
   ]
  },
  {
   "cell_type": "markdown",
   "metadata": {
    "deletable": false,
    "editable": false
   },
   "source": [
    "### <!-- BEGIN QUESTION -->\n",
    "\n",
    "**Question 1**. **(15 points)** In 2014, a paper was published that was entitled “Female hurricanes are deadlier than male hurricanes.” As the title suggests, the paper claimed that hurricanes with female names have caused greater loss of life, and the explanation given is that people unconsciously rate female hurricanes as less dangerous and so are less likely to evacuate. Statisticians severely criticized the paper after publication.\n",
    "\n",
    "Here, you’ll explore the complete data used in the paper and consider the hypothesis that hurricanes with female names are deadlier.\n",
    "\n",
    "Load the data as follows:\n",
    "\n",
    "`df = pd.read_csv(\"Data/hurricanes.csv\")`\n",
    "\n",
    "\n",
    "The columns have the following meaning:\n",
    "```\n",
    "*Description*\n",
    "Data used in Jung et al 2014 analysis of effect of gender of name on hurricane fatalities. Note that hurricanes Katrina (2005) and Audrey (1957) were removed from the data.\n",
    "\n",
    "name : Given name of hurricane\n",
    "\n",
    "year : Year of hurricane\n",
    "\n",
    "deaths : Number of deaths\n",
    "\n",
    "category : Severity code for storm\n",
    "\n",
    "min_pressure : Minimum pressure, a measure of storm strength; low is stronger\n",
    "\n",
    "damage_norm : Normalized estimate of damage in dollars\n",
    "\n",
    "female : Indicator variable for name categorized as \"female\"\n",
    "\n",
    "femininity : 1-11 scale from totally masculine (1) to totally feminine (11) for name. Average of 9 scores from 9 raters.\n",
    "\n",
    "*Reference* \n",
    "Jung et al. 2014. Female hurricanes are deadlier than male hurricanes. PNAS.\n",
    "```\n",
    "\n",
    "To begin, you will focus on constructing Poisson Generalized Linear Models to investigate the relationship between name femininity and hurricane deaths. In pursuing this goal, you will fit two different statistical models. One will be an intercept-only model of the expected number of deaths from a hurricane using an intercept term with no predictors in the model. The second will include an intercept and a storm's femininity score as a predictor to model the expected number of deaths.\n",
    "\n",
    "**Begin by justifying the priors used in your models for this problem using a prior predictive simulation.** \n",
    "\n",
    "1. Perform a brief web search on the expected number deaths due to hurricanes to help choose reasonable priors for your model. \n",
    "1. Include a brief statement on the information obtained and the source(s) used based on your web search.\n",
    "1. **Perform two seperate prior predictive simulations**: one for the intercept-only model and one for the model that includes femininity score as a predictor.\n",
    "    * For an intercept-only model, a good way to analyze the prior for the intercept parameter is to view the distribution of prior samples using a histogram or kde plot.\n",
    "    * For the model that includes femininity as a predictor, you prior predictive simulation will include a plot of femininity vs expected number of deaths that shows how the expected number of deaths change as the (standadized) femininity score changes.\n",
    "    * Refer to the Poisson GLM lecture (slides titled \"Poisson Priors\") for examples of prior predictive simulations for both types of models."
   ]
  },
  {
   "cell_type": "code",
   "execution_count": 4,
   "metadata": {
    "tags": []
   },
   "outputs": [],
   "source": [
    "# Write code here\n",
    "import matplotlib.pyplot as plt\n",
    "import pandas as pd\n",
    "from scipy import stats\n",
    "import seaborn as sns"
   ]
  },
  {
   "cell_type": "code",
   "execution_count": 5,
   "metadata": {},
   "outputs": [
    {
     "data": {
      "text/html": [
       "<div>\n",
       "<style scoped>\n",
       "    .dataframe tbody tr th:only-of-type {\n",
       "        vertical-align: middle;\n",
       "    }\n",
       "\n",
       "    .dataframe tbody tr th {\n",
       "        vertical-align: top;\n",
       "    }\n",
       "\n",
       "    .dataframe thead th {\n",
       "        text-align: right;\n",
       "    }\n",
       "</style>\n",
       "<table border=\"1\" class=\"dataframe\">\n",
       "  <thead>\n",
       "    <tr style=\"text-align: right;\">\n",
       "      <th></th>\n",
       "      <th>name</th>\n",
       "      <th>year</th>\n",
       "      <th>deaths</th>\n",
       "      <th>category</th>\n",
       "      <th>min_pressure</th>\n",
       "      <th>damage_norm</th>\n",
       "      <th>female</th>\n",
       "      <th>femininity</th>\n",
       "      <th>Femi</th>\n",
       "      <th>Fe</th>\n",
       "      <th>D</th>\n",
       "    </tr>\n",
       "  </thead>\n",
       "  <tbody>\n",
       "    <tr>\n",
       "      <th>0</th>\n",
       "      <td>Easy</td>\n",
       "      <td>1950</td>\n",
       "      <td>2</td>\n",
       "      <td>3</td>\n",
       "      <td>960</td>\n",
       "      <td>1590</td>\n",
       "      <td>1</td>\n",
       "      <td>6.77778</td>\n",
       "      <td>-0.000935</td>\n",
       "      <td>1</td>\n",
       "      <td>2</td>\n",
       "    </tr>\n",
       "    <tr>\n",
       "      <th>1</th>\n",
       "      <td>King</td>\n",
       "      <td>1950</td>\n",
       "      <td>4</td>\n",
       "      <td>3</td>\n",
       "      <td>955</td>\n",
       "      <td>5350</td>\n",
       "      <td>0</td>\n",
       "      <td>1.38889</td>\n",
       "      <td>-1.670758</td>\n",
       "      <td>0</td>\n",
       "      <td>4</td>\n",
       "    </tr>\n",
       "    <tr>\n",
       "      <th>2</th>\n",
       "      <td>Able</td>\n",
       "      <td>1952</td>\n",
       "      <td>3</td>\n",
       "      <td>1</td>\n",
       "      <td>985</td>\n",
       "      <td>150</td>\n",
       "      <td>0</td>\n",
       "      <td>3.83333</td>\n",
       "      <td>-0.913314</td>\n",
       "      <td>0</td>\n",
       "      <td>3</td>\n",
       "    </tr>\n",
       "    <tr>\n",
       "      <th>3</th>\n",
       "      <td>Barbara</td>\n",
       "      <td>1953</td>\n",
       "      <td>1</td>\n",
       "      <td>1</td>\n",
       "      <td>987</td>\n",
       "      <td>58</td>\n",
       "      <td>1</td>\n",
       "      <td>9.83333</td>\n",
       "      <td>0.945870</td>\n",
       "      <td>1</td>\n",
       "      <td>1</td>\n",
       "    </tr>\n",
       "    <tr>\n",
       "      <th>4</th>\n",
       "      <td>Florence</td>\n",
       "      <td>1953</td>\n",
       "      <td>0</td>\n",
       "      <td>1</td>\n",
       "      <td>985</td>\n",
       "      <td>15</td>\n",
       "      <td>1</td>\n",
       "      <td>8.33333</td>\n",
       "      <td>0.481074</td>\n",
       "      <td>1</td>\n",
       "      <td>0</td>\n",
       "    </tr>\n",
       "    <tr>\n",
       "      <th>...</th>\n",
       "      <td>...</td>\n",
       "      <td>...</td>\n",
       "      <td>...</td>\n",
       "      <td>...</td>\n",
       "      <td>...</td>\n",
       "      <td>...</td>\n",
       "      <td>...</td>\n",
       "      <td>...</td>\n",
       "      <td>...</td>\n",
       "      <td>...</td>\n",
       "      <td>...</td>\n",
       "    </tr>\n",
       "    <tr>\n",
       "      <th>87</th>\n",
       "      <td>Gustav</td>\n",
       "      <td>2008</td>\n",
       "      <td>52</td>\n",
       "      <td>2</td>\n",
       "      <td>954</td>\n",
       "      <td>4360</td>\n",
       "      <td>0</td>\n",
       "      <td>1.72222</td>\n",
       "      <td>-1.567471</td>\n",
       "      <td>0</td>\n",
       "      <td>52</td>\n",
       "    </tr>\n",
       "    <tr>\n",
       "      <th>88</th>\n",
       "      <td>Ike</td>\n",
       "      <td>2008</td>\n",
       "      <td>84</td>\n",
       "      <td>2</td>\n",
       "      <td>950</td>\n",
       "      <td>20370</td>\n",
       "      <td>0</td>\n",
       "      <td>1.88889</td>\n",
       "      <td>-1.515826</td>\n",
       "      <td>0</td>\n",
       "      <td>84</td>\n",
       "    </tr>\n",
       "    <tr>\n",
       "      <th>89</th>\n",
       "      <td>Irene</td>\n",
       "      <td>2011</td>\n",
       "      <td>41</td>\n",
       "      <td>1</td>\n",
       "      <td>952</td>\n",
       "      <td>7110</td>\n",
       "      <td>1</td>\n",
       "      <td>9.27778</td>\n",
       "      <td>0.773725</td>\n",
       "      <td>1</td>\n",
       "      <td>41</td>\n",
       "    </tr>\n",
       "    <tr>\n",
       "      <th>90</th>\n",
       "      <td>Isaac</td>\n",
       "      <td>2012</td>\n",
       "      <td>5</td>\n",
       "      <td>1</td>\n",
       "      <td>966</td>\n",
       "      <td>24000</td>\n",
       "      <td>0</td>\n",
       "      <td>1.94444</td>\n",
       "      <td>-1.498613</td>\n",
       "      <td>0</td>\n",
       "      <td>5</td>\n",
       "    </tr>\n",
       "    <tr>\n",
       "      <th>91</th>\n",
       "      <td>Sandy</td>\n",
       "      <td>2012</td>\n",
       "      <td>159</td>\n",
       "      <td>2</td>\n",
       "      <td>942</td>\n",
       "      <td>75000</td>\n",
       "      <td>1</td>\n",
       "      <td>9.00000</td>\n",
       "      <td>0.687651</td>\n",
       "      <td>1</td>\n",
       "      <td>159</td>\n",
       "    </tr>\n",
       "  </tbody>\n",
       "</table>\n",
       "<p>92 rows × 11 columns</p>\n",
       "</div>"
      ],
      "text/plain": [
       "        name  year  deaths  category  min_pressure  damage_norm  female  \\\n",
       "0       Easy  1950       2         3           960         1590       1   \n",
       "1       King  1950       4         3           955         5350       0   \n",
       "2       Able  1952       3         1           985          150       0   \n",
       "3    Barbara  1953       1         1           987           58       1   \n",
       "4   Florence  1953       0         1           985           15       1   \n",
       "..       ...   ...     ...       ...           ...          ...     ...   \n",
       "87    Gustav  2008      52         2           954         4360       0   \n",
       "88       Ike  2008      84         2           950        20370       0   \n",
       "89     Irene  2011      41         1           952         7110       1   \n",
       "90     Isaac  2012       5         1           966        24000       0   \n",
       "91     Sandy  2012     159         2           942        75000       1   \n",
       "\n",
       "    femininity      Femi  Fe    D  \n",
       "0      6.77778 -0.000935   1    2  \n",
       "1      1.38889 -1.670758   0    4  \n",
       "2      3.83333 -0.913314   0    3  \n",
       "3      9.83333  0.945870   1    1  \n",
       "4      8.33333  0.481074   1    0  \n",
       "..         ...       ...  ..  ...  \n",
       "87     1.72222 -1.567471   0   52  \n",
       "88     1.88889 -1.515826   0   84  \n",
       "89     9.27778  0.773725   1   41  \n",
       "90     1.94444 -1.498613   0    5  \n",
       "91     9.00000  0.687651   1  159  \n",
       "\n",
       "[92 rows x 11 columns]"
      ]
     },
     "execution_count": 5,
     "metadata": {},
     "output_type": "execute_result"
    }
   ],
   "source": [
    "df = pd.read_csv(\"Data/hurricanes.csv\", header=0)\n",
    "\n",
    "df[\"Femi\"] = standardize(df.femininity).values\n",
    "df[\"Fe\"] = df.female\n",
    "df[\"D\"] = df.deaths\n",
    "\n",
    "df"
   ]
  },
  {
   "cell_type": "code",
   "execution_count": 6,
   "metadata": {},
   "outputs": [
    {
     "name": "stderr",
     "output_type": "stream",
     "text": [
      "/opt/conda/envs/fnds/lib/python3.9/site-packages/seaborn/_oldcore.py:1119: FutureWarning: use_inf_as_na option is deprecated and will be removed in a future version. Convert inf values to NaN before operating instead.\n",
      "  with pd.option_context('mode.use_inf_as_na', True):\n"
     ]
    },
    {
     "data": {
      "image/png": "[encoded data removed]",
      "text/plain": [
       "<Figure size 640x480 with 1 Axes>"
      ]
     },
     "metadata": {},
     "output_type": "display_data"
    }
   ],
   "source": [
    "alphas2 = stats.norm.rvs(3.2, 0.5, size = 100)\n",
    "lambdas2 = np.exp(alphas2)\n",
    "\n",
    "sns.kdeplot(lambdas2, color=\"#e06666\")\n",
    "plt.xlabel(r\"$e^{\\alpha}$\")\n",
    "sns.despine();"
   ]
  },
  {
   "cell_type": "code",
   "execution_count": 7,
   "metadata": {},
   "outputs": [
    {
     "data": {
      "image/png": "[encoded data removed]",
      "text/plain": [
       "<Figure size 640x480 with 1 Axes>"
      ]
     },
     "metadata": {},
     "output_type": "display_data"
    }
   ],
   "source": [
    "NUM_LINES = 10\n",
    "x_seq = np.linspace(-2, 2, 20)\n",
    "\n",
    "alpha = stats.norm.rvs(3.2, 0.5,size=NUM_LINES)\n",
    "beta = stats.norm.rvs(0, 0.2,size=NUM_LINES)\n",
    "\n",
    "for i in range(NUM_LINES):\n",
    "    lambdas = np.exp(alpha[i] + beta[i] * x_seq)\n",
    "    _ = plt.plot(x_seq, lambdas, color=\"#e06666\")\n",
    "    \n",
    "plt.ylim((0,100))\n",
    "plt.ylabel(\"expected count\")\n",
    "plt.xlabel(\"x value\")\n",
    "sns.despine();"
   ]
  },
  {
   "cell_type": "markdown",
   "metadata": {},
   "source": [
    "__Answer:__    \n",
    "\n",
    "We know from the material that the expected number of deaths caused by the hurricane is 24, so we take $alpha=ln(24)=3.2$ here.\n",
    "\n",
    "Reference: https://news.stanford.edu/stories/2024/10/study-links-hurricanes-to-higher-death-rates-long-after-storms-pass"
   ]
  },
  {
   "cell_type": "markdown",
   "metadata": {
    "deletable": false,
    "editable": false
   },
   "source": [
    "<!-- END QUESTION -->\n",
    "\n",
    "<!-- BEGIN QUESTION -->\n",
    "\n",
    "Approximate the posterior of a Poisson model of hurricane deaths using femininity (**after standardization**) as a predictor. This **model will include two parameters**: an **intercept** and a **coefficient** that measures the effect of femininity on the expected number of deaths."
   ]
  },
  {
   "cell_type": "code",
   "execution_count": 8,
   "metadata": {
    "tags": []
   },
   "outputs": [
    {
     "name": "stderr",
     "output_type": "stream",
     "text": [
      "Auto-assigning NUTS sampler...\n",
      "Initializing NUTS using jitter+adapt_diag...\n",
      "Sequential sampling (2 chains in 1 job)\n",
      "NUTS: [a, b]\n"
     ]
    },
    {
     "data": {
      "text/html": [
       "\n",
       "<style>\n",
       "    /* Turns off some styling */\n",
       "    progress {\n",
       "        /* gets rid of default border in Firefox and Opera. */\n",
       "        border: none;\n",
       "        /* Needs to be in here for Safari polyfill so background images work as expected. */\n",
       "        background-size: auto;\n",
       "    }\n",
       "    progress:not([value]), progress:not([value])::-webkit-progress-bar {\n",
       "        background: repeating-linear-gradient(45deg, #7e7e7e, #7e7e7e 10px, #5c5c5c 10px, #5c5c5c 20px);\n",
       "    }\n",
       "    .progress-bar-interrupted, .progress-bar-interrupted::-webkit-progress-bar {\n",
       "        background: #F44336;\n",
       "    }\n",
       "</style>\n"
      ],
      "text/plain": [
       "<IPython.core.display.HTML object>"
      ]
     },
     "metadata": {},
     "output_type": "display_data"
    },
    {
     "data": {
      "text/html": [
       "\n",
       "    <div>\n",
       "      <progress value='4000' class='' max='4000' style='width:300px; height:20px; vertical-align: middle;'></progress>\n",
       "      100.00% [4000/4000 00:03&lt;00:00 Sampling chain 0, 0 divergences]\n",
       "    </div>\n",
       "    "
      ],
      "text/plain": [
       "<IPython.core.display.HTML object>"
      ]
     },
     "metadata": {},
     "output_type": "display_data"
    },
    {
     "data": {
      "text/html": [
       "\n",
       "<style>\n",
       "    /* Turns off some styling */\n",
       "    progress {\n",
       "        /* gets rid of default border in Firefox and Opera. */\n",
       "        border: none;\n",
       "        /* Needs to be in here for Safari polyfill so background images work as expected. */\n",
       "        background-size: auto;\n",
       "    }\n",
       "    progress:not([value]), progress:not([value])::-webkit-progress-bar {\n",
       "        background: repeating-linear-gradient(45deg, #7e7e7e, #7e7e7e 10px, #5c5c5c 10px, #5c5c5c 20px);\n",
       "    }\n",
       "    .progress-bar-interrupted, .progress-bar-interrupted::-webkit-progress-bar {\n",
       "        background: #F44336;\n",
       "    }\n",
       "</style>\n"
      ],
      "text/plain": [
       "<IPython.core.display.HTML object>"
      ]
     },
     "metadata": {},
     "output_type": "display_data"
    },
    {
     "data": {
      "text/html": [
       "\n",
       "    <div>\n",
       "      <progress value='4000' class='' max='4000' style='width:300px; height:20px; vertical-align: middle;'></progress>\n",
       "      100.00% [4000/4000 00:03&lt;00:00 Sampling chain 1, 0 divergences]\n",
       "    </div>\n",
       "    "
      ],
      "text/plain": [
       "<IPython.core.display.HTML object>"
      ]
     },
     "metadata": {},
     "output_type": "display_data"
    },
    {
     "name": "stderr",
     "output_type": "stream",
     "text": [
      "Sampling 2 chains for 3_000 tune and 1_000 draw iterations (6_000 + 2_000 draws total) took 7 seconds.\n",
      "We recommend running at least 4 chains for robust computation of convergence diagnostics\n"
     ]
    },
    {
     "data": {
      "text/html": [
       "<div>\n",
       "<style scoped>\n",
       "    .dataframe tbody tr th:only-of-type {\n",
       "        vertical-align: middle;\n",
       "    }\n",
       "\n",
       "    .dataframe tbody tr th {\n",
       "        vertical-align: top;\n",
       "    }\n",
       "\n",
       "    .dataframe thead th {\n",
       "        text-align: right;\n",
       "    }\n",
       "</style>\n",
       "<table border=\"1\" class=\"dataframe\">\n",
       "  <thead>\n",
       "    <tr style=\"text-align: right;\">\n",
       "      <th></th>\n",
       "      <th>mean</th>\n",
       "      <th>sd</th>\n",
       "      <th>hdi_5.5%</th>\n",
       "      <th>hdi_94.5%</th>\n",
       "      <th>mcse_mean</th>\n",
       "      <th>mcse_sd</th>\n",
       "      <th>ess_bulk</th>\n",
       "      <th>ess_tail</th>\n",
       "      <th>r_hat</th>\n",
       "    </tr>\n",
       "  </thead>\n",
       "  <tbody>\n",
       "    <tr>\n",
       "      <th>a</th>\n",
       "      <td>3.002</td>\n",
       "      <td>0.023</td>\n",
       "      <td>2.965</td>\n",
       "      <td>3.038</td>\n",
       "      <td>0.001</td>\n",
       "      <td>0.0</td>\n",
       "      <td>1469.0</td>\n",
       "      <td>1224.0</td>\n",
       "      <td>1.0</td>\n",
       "    </tr>\n",
       "    <tr>\n",
       "      <th>b</th>\n",
       "      <td>0.234</td>\n",
       "      <td>0.025</td>\n",
       "      <td>0.191</td>\n",
       "      <td>0.271</td>\n",
       "      <td>0.001</td>\n",
       "      <td>0.0</td>\n",
       "      <td>1555.0</td>\n",
       "      <td>1344.0</td>\n",
       "      <td>1.0</td>\n",
       "    </tr>\n",
       "  </tbody>\n",
       "</table>\n",
       "</div>"
      ],
      "text/plain": [
       "    mean     sd  hdi_5.5%  hdi_94.5%  mcse_mean  mcse_sd  ess_bulk  ess_tail  \\\n",
       "a  3.002  0.023     2.965      3.038      0.001      0.0    1469.0    1224.0   \n",
       "b  0.234  0.025     0.191      0.271      0.001      0.0    1555.0    1344.0   \n",
       "\n",
       "   r_hat  \n",
       "a    1.0  \n",
       "b    1.0  "
      ]
     },
     "execution_count": 8,
     "metadata": {},
     "output_type": "execute_result"
    }
   ],
   "source": [
    "# Write code here\n",
    "\n",
    "# interaction model\n",
    "with pm.Model() as m11_10:\n",
    "    a = pm.Normal(\"a\", 3.2, 0.5)\n",
    "    b = pm.Normal(\"b\", 0.0, 0.2)\n",
    "\n",
    "    Femi = pm.MutableData(\"Femi\", df.Femi)\n",
    "    lam = pm.math.exp(a + b * Femi)\n",
    "\n",
    "    D = pm.Poisson(\"deaths\", lam, observed=df.D)\n",
    "    idata_11_10 = pm.sample(\n",
    "                    tune=3000, \n",
    "                    random_seed=145,\n",
    "                    idata_kwargs={\"log_likelihood\": True}\n",
    "    )\n",
    "\n",
    "az.summary(idata_11_10, kind=\"all\")"
   ]
  },
  {
   "cell_type": "markdown",
   "metadata": {
    "deletable": false,
    "editable": false
   },
   "source": [
    "<!-- END QUESTION -->\n",
    "\n",
    "<!-- BEGIN QUESTION -->\n",
    "\n",
    "Approximate the posterior of a Poisson model of hurricane deaths defining the expected number of deaths using just an intercept term. This model will include only one parameter to estimate."
   ]
  },
  {
   "cell_type": "code",
   "execution_count": 9,
   "metadata": {
    "tags": []
   },
   "outputs": [
    {
     "name": "stderr",
     "output_type": "stream",
     "text": [
      "Auto-assigning NUTS sampler...\n",
      "Initializing NUTS using jitter+adapt_diag...\n",
      "Sequential sampling (2 chains in 1 job)\n",
      "NUTS: [a]\n"
     ]
    },
    {
     "data": {
      "text/html": [
       "\n",
       "<style>\n",
       "    /* Turns off some styling */\n",
       "    progress {\n",
       "        /* gets rid of default border in Firefox and Opera. */\n",
       "        border: none;\n",
       "        /* Needs to be in here for Safari polyfill so background images work as expected. */\n",
       "        background-size: auto;\n",
       "    }\n",
       "    progress:not([value]), progress:not([value])::-webkit-progress-bar {\n",
       "        background: repeating-linear-gradient(45deg, #7e7e7e, #7e7e7e 10px, #5c5c5c 10px, #5c5c5c 20px);\n",
       "    }\n",
       "    .progress-bar-interrupted, .progress-bar-interrupted::-webkit-progress-bar {\n",
       "        background: #F44336;\n",
       "    }\n",
       "</style>\n"
      ],
      "text/plain": [
       "<IPython.core.display.HTML object>"
      ]
     },
     "metadata": {},
     "output_type": "display_data"
    },
    {
     "data": {
      "text/html": [
       "\n",
       "    <div>\n",
       "      <progress value='4000' class='' max='4000' style='width:300px; height:20px; vertical-align: middle;'></progress>\n",
       "      100.00% [4000/4000 00:02&lt;00:00 Sampling chain 0, 0 divergences]\n",
       "    </div>\n",
       "    "
      ],
      "text/plain": [
       "<IPython.core.display.HTML object>"
      ]
     },
     "metadata": {},
     "output_type": "display_data"
    },
    {
     "data": {
      "text/html": [
       "\n",
       "<style>\n",
       "    /* Turns off some styling */\n",
       "    progress {\n",
       "        /* gets rid of default border in Firefox and Opera. */\n",
       "        border: none;\n",
       "        /* Needs to be in here for Safari polyfill so background images work as expected. */\n",
       "        background-size: auto;\n",
       "    }\n",
       "    progress:not([value]), progress:not([value])::-webkit-progress-bar {\n",
       "        background: repeating-linear-gradient(45deg, #7e7e7e, #7e7e7e 10px, #5c5c5c 10px, #5c5c5c 20px);\n",
       "    }\n",
       "    .progress-bar-interrupted, .progress-bar-interrupted::-webkit-progress-bar {\n",
       "        background: #F44336;\n",
       "    }\n",
       "</style>\n"
      ],
      "text/plain": [
       "<IPython.core.display.HTML object>"
      ]
     },
     "metadata": {},
     "output_type": "display_data"
    },
    {
     "data": {
      "text/html": [
       "\n",
       "    <div>\n",
       "      <progress value='4000' class='' max='4000' style='width:300px; height:20px; vertical-align: middle;'></progress>\n",
       "      100.00% [4000/4000 00:03&lt;00:00 Sampling chain 1, 0 divergences]\n",
       "    </div>\n",
       "    "
      ],
      "text/plain": [
       "<IPython.core.display.HTML object>"
      ]
     },
     "metadata": {},
     "output_type": "display_data"
    },
    {
     "name": "stderr",
     "output_type": "stream",
     "text": [
      "Sampling 2 chains for 3_000 tune and 1_000 draw iterations (6_000 + 2_000 draws total) took 7 seconds.\n",
      "We recommend running at least 4 chains for robust computation of convergence diagnostics\n"
     ]
    },
    {
     "data": {
      "text/html": [
       "<div>\n",
       "<style scoped>\n",
       "    .dataframe tbody tr th:only-of-type {\n",
       "        vertical-align: middle;\n",
       "    }\n",
       "\n",
       "    .dataframe tbody tr th {\n",
       "        vertical-align: top;\n",
       "    }\n",
       "\n",
       "    .dataframe thead th {\n",
       "        text-align: right;\n",
       "    }\n",
       "</style>\n",
       "<table border=\"1\" class=\"dataframe\">\n",
       "  <thead>\n",
       "    <tr style=\"text-align: right;\">\n",
       "      <th></th>\n",
       "      <th>mean</th>\n",
       "      <th>sd</th>\n",
       "      <th>hdi_5.5%</th>\n",
       "      <th>hdi_94.5%</th>\n",
       "      <th>mcse_mean</th>\n",
       "      <th>mcse_sd</th>\n",
       "      <th>ess_bulk</th>\n",
       "      <th>ess_tail</th>\n",
       "      <th>r_hat</th>\n",
       "    </tr>\n",
       "  </thead>\n",
       "  <tbody>\n",
       "    <tr>\n",
       "      <th>a</th>\n",
       "      <td>3.027</td>\n",
       "      <td>0.022</td>\n",
       "      <td>2.991</td>\n",
       "      <td>3.062</td>\n",
       "      <td>0.001</td>\n",
       "      <td>0.001</td>\n",
       "      <td>805.0</td>\n",
       "      <td>1370.0</td>\n",
       "      <td>1.0</td>\n",
       "    </tr>\n",
       "  </tbody>\n",
       "</table>\n",
       "</div>"
      ],
      "text/plain": [
       "    mean     sd  hdi_5.5%  hdi_94.5%  mcse_mean  mcse_sd  ess_bulk  ess_tail  \\\n",
       "a  3.027  0.022     2.991      3.062      0.001    0.001     805.0    1370.0   \n",
       "\n",
       "   r_hat  \n",
       "a    1.0  "
      ]
     },
     "execution_count": 9,
     "metadata": {},
     "output_type": "execute_result"
    }
   ],
   "source": [
    "# Write code here\n",
    "\n",
    "# intercept only\n",
    "with pm.Model() as m11_9:\n",
    "    a = pm.Normal(\"a\", 3.2, 0.5)\n",
    "    D = pm.Poisson(\"deaths\", pm.math.exp(a), observed=df.D)\n",
    "    idata_11_9 = pm.sample(\n",
    "                    tune=3000, \n",
    "                    random_seed=145,\n",
    "                    idata_kwargs={\"log_likelihood\": True}\n",
    "    )\n",
    "\n",
    "az.summary(idata_11_9, kind=\"all\")"
   ]
  },
  {
   "cell_type": "markdown",
   "metadata": {
    "deletable": false,
    "editable": false
   },
   "source": [
    "<!-- END QUESTION -->\n",
    "\n",
    "<!-- BEGIN QUESTION -->\n",
    "\n",
    "Based on the model estimates, how strong is the association between femininity of storm name and deaths? \n",
    "\n",
    "The response to this question should be based on parameter estimate(s) from your model. **Be sure to reference the estimated association (using a quantitative anaysis or visual analysis of a plot) in your answer.**"
   ]
  },
  {
   "cell_type": "markdown",
   "metadata": {},
   "source": [
    "__Answer:__   \n",
    "\n",
    "Femininity of storm names are positively correlated with deaths, but the correlation is not so strong, as shown by the value of beta."
   ]
  },
  {
   "cell_type": "code",
   "execution_count": 10,
   "metadata": {
    "tags": []
   },
   "outputs": [
    {
     "data": {
      "text/html": [
       "<div>\n",
       "<style scoped>\n",
       "    .dataframe tbody tr th:only-of-type {\n",
       "        vertical-align: middle;\n",
       "    }\n",
       "\n",
       "    .dataframe tbody tr th {\n",
       "        vertical-align: top;\n",
       "    }\n",
       "\n",
       "    .dataframe thead th {\n",
       "        text-align: right;\n",
       "    }\n",
       "</style>\n",
       "<table border=\"1\" class=\"dataframe\">\n",
       "  <thead>\n",
       "    <tr style=\"text-align: right;\">\n",
       "      <th></th>\n",
       "      <th>mean</th>\n",
       "      <th>sd</th>\n",
       "      <th>hdi_5.5%</th>\n",
       "      <th>hdi_94.5%</th>\n",
       "      <th>mcse_mean</th>\n",
       "      <th>mcse_sd</th>\n",
       "      <th>ess_bulk</th>\n",
       "      <th>ess_tail</th>\n",
       "      <th>r_hat</th>\n",
       "    </tr>\n",
       "  </thead>\n",
       "  <tbody>\n",
       "    <tr>\n",
       "      <th>a</th>\n",
       "      <td>3.002</td>\n",
       "      <td>0.023</td>\n",
       "      <td>2.965</td>\n",
       "      <td>3.038</td>\n",
       "      <td>0.001</td>\n",
       "      <td>0.0</td>\n",
       "      <td>1469.0</td>\n",
       "      <td>1224.0</td>\n",
       "      <td>1.0</td>\n",
       "    </tr>\n",
       "    <tr>\n",
       "      <th>b</th>\n",
       "      <td>0.234</td>\n",
       "      <td>0.025</td>\n",
       "      <td>0.191</td>\n",
       "      <td>0.271</td>\n",
       "      <td>0.001</td>\n",
       "      <td>0.0</td>\n",
       "      <td>1555.0</td>\n",
       "      <td>1344.0</td>\n",
       "      <td>1.0</td>\n",
       "    </tr>\n",
       "  </tbody>\n",
       "</table>\n",
       "</div>"
      ],
      "text/plain": [
       "    mean     sd  hdi_5.5%  hdi_94.5%  mcse_mean  mcse_sd  ess_bulk  ess_tail  \\\n",
       "a  3.002  0.023     2.965      3.038      0.001      0.0    1469.0    1224.0   \n",
       "b  0.234  0.025     0.191      0.271      0.001      0.0    1555.0    1344.0   \n",
       "\n",
       "   r_hat  \n",
       "a    1.0  \n",
       "b    1.0  "
      ]
     },
     "execution_count": 10,
     "metadata": {},
     "output_type": "execute_result"
    }
   ],
   "source": [
    "# Write code here\n",
    "az.summary(idata_11_10, kind=\"all\")"
   ]
  },
  {
   "cell_type": "code",
   "execution_count": 11,
   "metadata": {},
   "outputs": [
    {
     "data": {
      "text/html": [
       "<div>\n",
       "<style scoped>\n",
       "    .dataframe tbody tr th:only-of-type {\n",
       "        vertical-align: middle;\n",
       "    }\n",
       "\n",
       "    .dataframe tbody tr th {\n",
       "        vertical-align: top;\n",
       "    }\n",
       "\n",
       "    .dataframe thead th {\n",
       "        text-align: right;\n",
       "    }\n",
       "</style>\n",
       "<table border=\"1\" class=\"dataframe\">\n",
       "  <thead>\n",
       "    <tr style=\"text-align: right;\">\n",
       "      <th></th>\n",
       "      <th>mean</th>\n",
       "      <th>sd</th>\n",
       "      <th>hdi_5.5%</th>\n",
       "      <th>hdi_94.5%</th>\n",
       "      <th>mcse_mean</th>\n",
       "      <th>mcse_sd</th>\n",
       "      <th>ess_bulk</th>\n",
       "      <th>ess_tail</th>\n",
       "      <th>r_hat</th>\n",
       "    </tr>\n",
       "  </thead>\n",
       "  <tbody>\n",
       "    <tr>\n",
       "      <th>a</th>\n",
       "      <td>3.027</td>\n",
       "      <td>0.022</td>\n",
       "      <td>2.991</td>\n",
       "      <td>3.062</td>\n",
       "      <td>0.001</td>\n",
       "      <td>0.001</td>\n",
       "      <td>805.0</td>\n",
       "      <td>1370.0</td>\n",
       "      <td>1.0</td>\n",
       "    </tr>\n",
       "  </tbody>\n",
       "</table>\n",
       "</div>"
      ],
      "text/plain": [
       "    mean     sd  hdi_5.5%  hdi_94.5%  mcse_mean  mcse_sd  ess_bulk  ess_tail  \\\n",
       "a  3.027  0.022     2.991      3.062      0.001    0.001     805.0    1370.0   \n",
       "\n",
       "   r_hat  \n",
       "a    1.0  "
      ]
     },
     "execution_count": 11,
     "metadata": {},
     "output_type": "execute_result"
    }
   ],
   "source": [
    "az.summary(idata_11_9, kind=\"all\")"
   ]
  },
  {
   "cell_type": "markdown",
   "metadata": {
    "deletable": false,
    "editable": false
   },
   "source": [
    "<!-- END QUESTION -->\n",
    "\n",
    "<!-- BEGIN QUESTION -->\n",
    "\n",
    "**Question 2**. **(15 points)** In this problem, you’ll focus on predicting deaths using the femininity score of each hurricane’s name. \n",
    "\n",
    "Perform posterior predictive checks to evaluate how well the femininity score model predicts the observed data. This posterior predictive check will include a plot with the following components: \n",
    "\n",
    "* name femininity (standardized) on the x-axis\n",
    "* number of deaths on the y-axis\n",
    "* observed death counts from the dataset as scatter plot points\n",
    "* posterior mean showing the average relationship between femininity and number of deaths\n",
    "* uncertainty of posterior mean\n",
    "* uncertainty of posterior predictions (requires making predictions using samples from your posterior) \n",
    "\n",
    "An example of this approach to performing posterior predictive checks can be found in the *Linear Regression* lecture in the section titled \"Posterior Predictive Checks\". You will want to generalize the approach from that lecture so that it applies to a Poisson regression model. Feel free to use the function `pymc.sample_posterior_predictive()` to reduce the amount of code that you write. "
   ]
  },
  {
   "cell_type": "code",
   "execution_count": 12,
   "metadata": {
    "tags": []
   },
   "outputs": [
    {
     "name": "stderr",
     "output_type": "stream",
     "text": [
      "Sampling: [deaths]\n"
     ]
    },
    {
     "data": {
      "text/html": [
       "\n",
       "<style>\n",
       "    /* Turns off some styling */\n",
       "    progress {\n",
       "        /* gets rid of default border in Firefox and Opera. */\n",
       "        border: none;\n",
       "        /* Needs to be in here for Safari polyfill so background images work as expected. */\n",
       "        background-size: auto;\n",
       "    }\n",
       "    progress:not([value]), progress:not([value])::-webkit-progress-bar {\n",
       "        background: repeating-linear-gradient(45deg, #7e7e7e, #7e7e7e 10px, #5c5c5c 10px, #5c5c5c 20px);\n",
       "    }\n",
       "    .progress-bar-interrupted, .progress-bar-interrupted::-webkit-progress-bar {\n",
       "        background: #F44336;\n",
       "    }\n",
       "</style>\n"
      ],
      "text/plain": [
       "<IPython.core.display.HTML object>"
      ]
     },
     "metadata": {},
     "output_type": "display_data"
    },
    {
     "data": {
      "text/html": [
       "\n",
       "    <div>\n",
       "      <progress value='2000' class='' max='2000' style='width:300px; height:20px; vertical-align: middle;'></progress>\n",
       "      100.00% [2000/2000 00:00&lt;00:00]\n",
       "    </div>\n",
       "    "
      ],
      "text/plain": [
       "<IPython.core.display.HTML object>"
      ]
     },
     "metadata": {},
     "output_type": "display_data"
    }
   ],
   "source": [
    "# Write code here\n",
    "ns = 92\n",
    "F_seq = np.linspace(-2.0, 1.5, ns)\n",
    "\n",
    "with m11_10:\n",
    "    pm.set_data({\"Femi\": F_seq})\n",
    "    lam = az.extract(\n",
    "        pm.sample_posterior_predictive(idata_11_10, var_names=[\"deaths\"]),\n",
    "        group=\"posterior_predictive\"\n",
    "    )[\"deaths\"]\n",
    "\n",
    "lmu = lam.mean(\"sample\")"
   ]
  },
  {
   "cell_type": "code",
   "execution_count": 13,
   "metadata": {},
   "outputs": [
    {
     "name": "stderr",
     "output_type": "stream",
     "text": [
      "/opt/conda/envs/fnds/lib/python3.9/site-packages/arviz/stats/stats.py:803: UserWarning: Estimated shape parameter of Pareto distribution is greater than 0.7 for one or more samples. You should consider using a more robust model, this is because importance sampling is less likely to work well if the marginal posterior and LOO posterior are very different. This is more likely to happen with a non-robust model and highly influential observations.\n",
      "  warnings.warn(\n"
     ]
    },
    {
     "data": {
      "text/plain": [
       "array([ 1.73603618e-01,  2.69942903e-01,  1.94140662e-01,  2.13511857e-01,\n",
       "        9.45183592e-02,  2.16096256e-01, -1.19320963e-02,  3.43881995e-02,\n",
       "        1.02796621e-01,  2.06225475e+00,  3.95712121e-02,  2.48405396e-02,\n",
       "        2.28863376e-01,  2.40057259e-01,  1.46931660e-02,  2.40147296e-01,\n",
       "        1.31719165e-01,  1.71188235e-01,  2.20905863e-01,  9.62114334e-02,\n",
       "        1.44360359e-01,  8.42173552e-03,  1.78373858e-01,  3.42414640e-01,\n",
       "        8.96735136e-02,  7.28901940e-02, -1.39952793e-02,  1.17858285e-01,\n",
       "        2.41316797e+00,  3.71256418e-02,  1.02796621e-01,  8.07812804e-02,\n",
       "        2.64057104e-01,  8.16709313e-01,  1.23054938e-01, -1.77971633e-04,\n",
       "        2.32010327e-01,  1.78661978e-01,  3.06122205e-01,  1.12846942e-01,\n",
       "        2.39589920e-01,  2.42442125e-01,  2.87867676e-02,  2.20905863e-01,\n",
       "        3.23626739e-01,  3.16822017e-01,  1.59221902e-01,  1.33032203e-01,\n",
       "        1.45221585e-01,  1.46846522e-01,  1.75828166e-01,  1.95140851e-01,\n",
       "        3.22762096e-01,  8.66427905e-02,  6.98839823e-02,  6.25575897e-02,\n",
       "        2.66716147e-01,  1.03253021e-01,  7.72422103e-01,  1.91738268e-01,\n",
       "        3.33608880e-02,  3.11367136e-02,  3.88145385e-02, -3.93715478e-02,\n",
       "        1.85462791e-01,  1.75828166e-01,  2.59935376e-01,  3.08359385e-01,\n",
       "        3.14680928e-01,  7.79776031e-01,  9.92676752e-02,  2.32729683e-01,\n",
       "        1.39910264e-01,  2.52788914e-01,  2.09984596e-01,  1.33728255e-01,\n",
       "        5.01779204e-02,  1.58678463e-01,  2.46062303e-01,  6.23824740e-02,\n",
       "        2.43597132e-01,  1.44079026e-01,  1.58514423e-01,  3.46056509e-01,\n",
       "        8.22474466e-02,  3.00027824e-01,  2.13511857e-01,  7.27772888e-01,\n",
       "        1.29660691e+00,  1.43859309e-01,  2.21813296e-01,  1.29635116e+00])"
      ]
     },
     "execution_count": 13,
     "metadata": {},
     "output_type": "execute_result"
    }
   ],
   "source": [
    "# store pareto-k values for plot:\n",
    "k = az.loo(idata_11_10, pointwise=True).pareto_k.values\n",
    "k"
   ]
  },
  {
   "cell_type": "code",
   "execution_count": 14,
   "metadata": {},
   "outputs": [
    {
     "name": "stderr",
     "output_type": "stream",
     "text": [
      "/opt/conda/envs/fnds/lib/python3.9/site-packages/arviz/plots/hdiplot.py:160: FutureWarning: hdi currently interprets 2d data as (draw, shape) but this will change in a future release to (chain, draw) for coherence with other functions\n",
      "  hdi_data = hdi(y, hdi_prob=hdi_prob, circular=circular, multimodal=False, **hdi_kwargs)\n",
      "/opt/conda/envs/fnds/lib/python3.9/site-packages/arviz/plots/hdiplot.py:160: FutureWarning: hdi currently interprets 2d data as (draw, shape) but this will change in a future release to (chain, draw) for coherence with other functions\n",
      "  hdi_data = hdi(y, hdi_prob=hdi_prob, circular=circular, multimodal=False, **hdi_kwargs)\n"
     ]
    },
    {
     "data": {
      "text/plain": [
       "Text(0, 0.5, 'deaths')"
      ]
     },
     "execution_count": 14,
     "metadata": {},
     "output_type": "execute_result"
    },
    {
     "data": {
      "image/png": "[encoded data removed]",
      "text/plain": [
       "<Figure size 640x480 with 1 Axes>"
      ]
     },
     "metadata": {},
     "output_type": "display_data"
    }
   ],
   "source": [
    "k /= k.max()\n",
    "psize = 250 * k\n",
    "\n",
    "F_seq = np.linspace(-2.0, 1.5, ns)\n",
    "\n",
    "idata_thinned = az.extract(idata_11_10, num_samples=1000)\n",
    "lam_pred = np.zeros((len(F_seq), idata_thinned.sizes[\"sample\"]))\n",
    "d_pred = np.zeros((len(F_seq), idata_thinned.sizes[\"sample\"]))\n",
    "a_values = idata_thinned.a.values\n",
    "b_values = idata_thinned.b.values\n",
    "\n",
    "for i, f in enumerate(F_seq):\n",
    "    lam_pred[i] = np.exp(a_values+b_values*f)\n",
    "    d_pred[i] = stats.poisson.rvs(lam_pred[i])\n",
    "\n",
    "plt.plot(F_seq, lmu, color=\"b\", alpha=0.7, label=\"posterior mean\")\n",
    "az.plot_hdi(F_seq, lam_pred.T, color=\"red\", fill_kwargs={\"alpha\": 0.2})\n",
    "az.plot_hdi(F_seq, d_pred.T, color=\"y\", fill_kwargs={\"alpha\": 0.2})\n",
    "plt.scatter(df.Femi.values, df.deaths.values, facecolors='y',alpha=0.8)\n",
    "plt.xlabel(\"femininity\")\n",
    "plt.ylabel(\"deaths\")"
   ]
  },
  {
   "cell_type": "markdown",
   "metadata": {
    "deletable": false,
    "editable": false
   },
   "source": [
    "<!-- END QUESTION -->\n",
    "\n",
    "<!-- BEGIN QUESTION -->\n",
    "\n",
    "Based on your plot, how effective is the femininity score model at predicting storm deaths?"
   ]
  },
  {
   "cell_type": "markdown",
   "metadata": {},
   "source": [
    "__Answer:__\n",
    "\n",
    "For cases with relatively small deaths, the femininity score model is relatively effective in predicting, but for hurricanes with relatively large deaths, the model's predictive ability is not effective."
   ]
  },
  {
   "cell_type": "markdown",
   "metadata": {
    "deletable": false,
    "editable": false
   },
   "source": [
    "<!-- END QUESTION -->\n",
    "\n",
    "<!-- BEGIN QUESTION -->\n",
    "\n",
    "**Compare the predictive ability** of the hurricane name femininity model to the intercept-only model. **State which model is better for prediction** based on the predictive criteria tools (PSIS or WAIC) covered earlier in the semester."
   ]
  },
  {
   "cell_type": "code",
   "execution_count": 15,
   "metadata": {
    "tags": []
   },
   "outputs": [],
   "source": [
    "# Write code here\n",
    "model_dict = {\n",
    "    \"m11_9\": idata_11_9,\n",
    "    \"m11_10\": idata_11_10\n",
    "}"
   ]
  },
  {
   "cell_type": "code",
   "execution_count": 16,
   "metadata": {},
   "outputs": [
    {
     "name": "stderr",
     "output_type": "stream",
     "text": [
      "/opt/conda/envs/fnds/lib/python3.9/site-packages/arviz/stats/stats.py:803: UserWarning: Estimated shape parameter of Pareto distribution is greater than 0.7 for one or more samples. You should consider using a more robust model, this is because importance sampling is less likely to work well if the marginal posterior and LOO posterior are very different. This is more likely to happen with a non-robust model and highly influential observations.\n",
      "  warnings.warn(\n",
      "/opt/conda/envs/fnds/lib/python3.9/site-packages/arviz/stats/stats.py:803: UserWarning: Estimated shape parameter of Pareto distribution is greater than 0.7 for one or more samples. You should consider using a more robust model, this is because importance sampling is less likely to work well if the marginal posterior and LOO posterior are very different. This is more likely to happen with a non-robust model and highly influential observations.\n",
      "  warnings.warn(\n",
      "/opt/conda/envs/fnds/lib/python3.9/site-packages/arviz/stats/stats.py:307: FutureWarning: Setting an item of incompatible dtype is deprecated and will raise an error in a future version of pandas. Value 'True' has dtype incompatible with float64, please explicitly cast to a compatible dtype first.\n",
      "  df_comp.loc[val] = (\n",
      "/opt/conda/envs/fnds/lib/python3.9/site-packages/arviz/stats/stats.py:307: FutureWarning: Setting an item of incompatible dtype is deprecated and will raise an error in a future version of pandas. Value 'deviance' has dtype incompatible with float64, please explicitly cast to a compatible dtype first.\n",
      "  df_comp.loc[val] = (\n"
     ]
    },
    {
     "data": {
      "text/html": [
       "<div>\n",
       "<style scoped>\n",
       "    .dataframe tbody tr th:only-of-type {\n",
       "        vertical-align: middle;\n",
       "    }\n",
       "\n",
       "    .dataframe tbody tr th {\n",
       "        vertical-align: top;\n",
       "    }\n",
       "\n",
       "    .dataframe thead th {\n",
       "        text-align: right;\n",
       "    }\n",
       "</style>\n",
       "<table border=\"1\" class=\"dataframe\">\n",
       "  <thead>\n",
       "    <tr style=\"text-align: right;\">\n",
       "      <th></th>\n",
       "      <th>rank</th>\n",
       "      <th>elpd_loo</th>\n",
       "      <th>p_loo</th>\n",
       "      <th>elpd_diff</th>\n",
       "      <th>weight</th>\n",
       "      <th>se</th>\n",
       "      <th>dse</th>\n",
       "      <th>warning</th>\n",
       "      <th>scale</th>\n",
       "    </tr>\n",
       "  </thead>\n",
       "  <tbody>\n",
       "    <tr>\n",
       "      <th>m11_10</th>\n",
       "      <td>0</td>\n",
       "      <td>4379.613138</td>\n",
       "      <td>114.626669</td>\n",
       "      <td>0.000000</td>\n",
       "      <td>0.468407</td>\n",
       "      <td>979.845214</td>\n",
       "      <td>0.000000</td>\n",
       "      <td>True</td>\n",
       "      <td>deviance</td>\n",
       "    </tr>\n",
       "    <tr>\n",
       "      <th>m11_9</th>\n",
       "      <td>1</td>\n",
       "      <td>4422.359901</td>\n",
       "      <td>66.087285</td>\n",
       "      <td>42.746763</td>\n",
       "      <td>0.531593</td>\n",
       "      <td>1060.061231</td>\n",
       "      <td>141.379546</td>\n",
       "      <td>True</td>\n",
       "      <td>deviance</td>\n",
       "    </tr>\n",
       "  </tbody>\n",
       "</table>\n",
       "</div>"
      ],
      "text/plain": [
       "        rank     elpd_loo       p_loo  elpd_diff    weight           se  \\\n",
       "m11_10     0  4379.613138  114.626669   0.000000  0.468407   979.845214   \n",
       "m11_9      1  4422.359901   66.087285  42.746763  0.531593  1060.061231   \n",
       "\n",
       "               dse  warning     scale  \n",
       "m11_10    0.000000     True  deviance  \n",
       "m11_9   141.379546     True  deviance  "
      ]
     },
     "execution_count": 16,
     "metadata": {},
     "output_type": "execute_result"
    }
   ],
   "source": [
    "compare_df_psis = az.compare(\n",
    "    compare_dict=model_dict,\n",
    "    ic=\"loo\",\n",
    "    scale=\"deviance\"\n",
    ")\n",
    "compare_df_psis"
   ]
  },
  {
   "cell_type": "code",
   "execution_count": 17,
   "metadata": {},
   "outputs": [
    {
     "name": "stderr",
     "output_type": "stream",
     "text": [
      "/opt/conda/envs/fnds/lib/python3.9/site-packages/arviz/plots/backends/matplotlib/compareplot.py:87: FutureWarning: Series.__getitem__ treating keys as positions is deprecated. In a future version, integer keys will always be treated as labels (consistent with DataFrame behavior). To access a value by position, use `ser.iloc[pos]`\n",
      "  scale = comp_df[\"scale\"][0]\n"
     ]
    },
    {
     "data": {
      "image/png": "[encoded data removed]",
      "text/plain": [
       "<Figure size 600x200 with 1 Axes>"
      ]
     },
     "metadata": {},
     "output_type": "display_data"
    }
   ],
   "source": [
    "_ = az.plot_compare(compare_df_psis)"
   ]
  },
  {
   "cell_type": "code",
   "execution_count": 18,
   "metadata": {},
   "outputs": [
    {
     "name": "stderr",
     "output_type": "stream",
     "text": [
      "/opt/conda/envs/fnds/lib/python3.9/site-packages/arviz/stats/stats.py:1645: UserWarning: For one or more samples the posterior variance of the log predictive densities exceeds 0.4. This could be indication of WAIC starting to fail. \n",
      "See http://arxiv.org/abs/1507.04544 for details\n",
      "  warnings.warn(\n",
      "/opt/conda/envs/fnds/lib/python3.9/site-packages/arviz/stats/stats.py:1645: UserWarning: For one or more samples the posterior variance of the log predictive densities exceeds 0.4. This could be indication of WAIC starting to fail. \n",
      "See http://arxiv.org/abs/1507.04544 for details\n",
      "  warnings.warn(\n",
      "/opt/conda/envs/fnds/lib/python3.9/site-packages/arviz/stats/stats.py:307: FutureWarning: Setting an item of incompatible dtype is deprecated and will raise an error in a future version of pandas. Value 'True' has dtype incompatible with float64, please explicitly cast to a compatible dtype first.\n",
      "  df_comp.loc[val] = (\n",
      "/opt/conda/envs/fnds/lib/python3.9/site-packages/arviz/stats/stats.py:307: FutureWarning: Setting an item of incompatible dtype is deprecated and will raise an error in a future version of pandas. Value 'deviance' has dtype incompatible with float64, please explicitly cast to a compatible dtype first.\n",
      "  df_comp.loc[val] = (\n"
     ]
    },
    {
     "data": {
      "text/html": [
       "<div>\n",
       "<style scoped>\n",
       "    .dataframe tbody tr th:only-of-type {\n",
       "        vertical-align: middle;\n",
       "    }\n",
       "\n",
       "    .dataframe tbody tr th {\n",
       "        vertical-align: top;\n",
       "    }\n",
       "\n",
       "    .dataframe thead th {\n",
       "        text-align: right;\n",
       "    }\n",
       "</style>\n",
       "<table border=\"1\" class=\"dataframe\">\n",
       "  <thead>\n",
       "    <tr style=\"text-align: right;\">\n",
       "      <th></th>\n",
       "      <th>rank</th>\n",
       "      <th>elpd_waic</th>\n",
       "      <th>p_waic</th>\n",
       "      <th>elpd_diff</th>\n",
       "      <th>weight</th>\n",
       "      <th>se</th>\n",
       "      <th>dse</th>\n",
       "      <th>warning</th>\n",
       "      <th>scale</th>\n",
       "    </tr>\n",
       "  </thead>\n",
       "  <tbody>\n",
       "    <tr>\n",
       "      <th>m11_10</th>\n",
       "      <td>0</td>\n",
       "      <td>4411.838143</td>\n",
       "      <td>130.739172</td>\n",
       "      <td>0.000000</td>\n",
       "      <td>0.468415</td>\n",
       "      <td>999.837014</td>\n",
       "      <td>0.00000</td>\n",
       "      <td>True</td>\n",
       "      <td>deviance</td>\n",
       "    </tr>\n",
       "    <tr>\n",
       "      <th>m11_9</th>\n",
       "      <td>1</td>\n",
       "      <td>4443.688874</td>\n",
       "      <td>76.751771</td>\n",
       "      <td>31.850731</td>\n",
       "      <td>0.531585</td>\n",
       "      <td>1073.690078</td>\n",
       "      <td>137.53045</td>\n",
       "      <td>True</td>\n",
       "      <td>deviance</td>\n",
       "    </tr>\n",
       "  </tbody>\n",
       "</table>\n",
       "</div>"
      ],
      "text/plain": [
       "        rank    elpd_waic      p_waic  elpd_diff    weight           se  \\\n",
       "m11_10     0  4411.838143  130.739172   0.000000  0.468415   999.837014   \n",
       "m11_9      1  4443.688874   76.751771  31.850731  0.531585  1073.690078   \n",
       "\n",
       "              dse  warning     scale  \n",
       "m11_10    0.00000     True  deviance  \n",
       "m11_9   137.53045     True  deviance  "
      ]
     },
     "execution_count": 18,
     "metadata": {},
     "output_type": "execute_result"
    }
   ],
   "source": [
    "compare_df_waic = az.compare(\n",
    "    compare_dict=model_dict,\n",
    "    ic=\"waic\",\n",
    "    scale=\"deviance\"\n",
    ")\n",
    "compare_df_waic"
   ]
  },
  {
   "cell_type": "code",
   "execution_count": 19,
   "metadata": {},
   "outputs": [
    {
     "name": "stderr",
     "output_type": "stream",
     "text": [
      "/opt/conda/envs/fnds/lib/python3.9/site-packages/arviz/plots/backends/matplotlib/compareplot.py:87: FutureWarning: Series.__getitem__ treating keys as positions is deprecated. In a future version, integer keys will always be treated as labels (consistent with DataFrame behavior). To access a value by position, use `ser.iloc[pos]`\n",
      "  scale = comp_df[\"scale\"][0]\n"
     ]
    },
    {
     "data": {
      "image/png": "[encoded data removed]",
      "text/plain": [
       "<Figure size 600x200 with 1 Axes>"
      ]
     },
     "metadata": {},
     "output_type": "display_data"
    }
   ],
   "source": [
    "_ = az.plot_compare(compare_df_waic)"
   ]
  },
  {
   "cell_type": "markdown",
   "metadata": {},
   "source": [
    "__Answer:__\n",
    "\n",
    "From the graph we can see that the model with two parameters (an intercept and a coefficient) is better."
   ]
  },
  {
   "cell_type": "markdown",
   "metadata": {
    "deletable": false,
    "editable": false
   },
   "source": [
    "<!-- END QUESTION -->\n",
    "\n",
    "<!-- BEGIN QUESTION -->\n",
    "\n",
    "Which storms does the model including femininity as a predictor fit poorly? \n",
    "\n",
    "Hints for this question:  \n",
    "\n",
    "* Reviewing the prediction tutorial and the *Prediction* lecture from earlier in the semester will be beneficial for answering this question and the next. \n",
    "* You will want to quantify the influence that each data point has on the model's posterior. Data points that are fit poorly by the model will have more influence on the posterior distribution.\n",
    "* You'll want to examine the relationship between storm femininity scores and the influence of the data points which the model does not fit well. "
   ]
  },
  {
   "cell_type": "code",
   "execution_count": 20,
   "metadata": {
    "tags": []
   },
   "outputs": [
    {
     "name": "stderr",
     "output_type": "stream",
     "text": [
      "/opt/conda/envs/fnds/lib/python3.9/site-packages/arviz/stats/stats.py:803: UserWarning: Estimated shape parameter of Pareto distribution is greater than 0.7 for one or more samples. You should consider using a more robust model, this is because importance sampling is less likely to work well if the marginal posterior and LOO posterior are very different. This is more likely to happen with a non-robust model and highly influential observations.\n",
      "  warnings.warn(\n",
      "/opt/conda/envs/fnds/lib/python3.9/site-packages/arviz/stats/stats.py:1645: UserWarning: For one or more samples the posterior variance of the log predictive densities exceeds 0.4. This could be indication of WAIC starting to fail. \n",
      "See http://arxiv.org/abs/1507.04544 for details\n",
      "  warnings.warn(\n"
     ]
    },
    {
     "data": {
      "image/png": "[encoded data removed]",
      "text/plain": [
       "<Figure size 640x480 with 1 Axes>"
      ]
     },
     "metadata": {},
     "output_type": "display_data"
    }
   ],
   "source": [
    "# Write code here\n",
    "psis = az.loo(idata_11_10, pointwise=True, scale=\"deviance\")\n",
    "waic = az.waic(idata_11_10, pointwise=True, scale=\"deviance\")\n",
    "\n",
    "plt.scatter(psis.pareto_k, waic.waic_i, facecolors='none', edgecolors=\"cyan\", lw=3)\n",
    "plt.xlabel(\"PSIS Pareto k\")\n",
    "plt.ylabel(\"WAIC\")\n",
    "sns.despine();"
   ]
  },
  {
   "cell_type": "code",
   "execution_count": 21,
   "metadata": {},
   "outputs": [],
   "source": [
    "df2 = pd.DataFrame({\n",
    "    \"name\": df.name,\n",
    "    \"psis\": psis.pareto_k,\n",
    "    \"waic\": waic.waic_i,\n",
    "    \"female\": df.female,\n",
    "    \"femininity\": df.femininity\n",
    "})"
   ]
  },
  {
   "cell_type": "code",
   "execution_count": 22,
   "metadata": {},
   "outputs": [
    {
     "data": {
      "text/html": [
       "<div>\n",
       "<style scoped>\n",
       "    .dataframe tbody tr th:only-of-type {\n",
       "        vertical-align: middle;\n",
       "    }\n",
       "\n",
       "    .dataframe tbody tr th {\n",
       "        vertical-align: top;\n",
       "    }\n",
       "\n",
       "    .dataframe thead th {\n",
       "        text-align: right;\n",
       "    }\n",
       "</style>\n",
       "<table border=\"1\" class=\"dataframe\">\n",
       "  <thead>\n",
       "    <tr style=\"text-align: right;\">\n",
       "      <th></th>\n",
       "      <th>name</th>\n",
       "      <th>psis</th>\n",
       "      <th>waic</th>\n",
       "      <th>female</th>\n",
       "      <th>femininity</th>\n",
       "    </tr>\n",
       "  </thead>\n",
       "  <tbody>\n",
       "    <tr>\n",
       "      <th>28</th>\n",
       "      <td>Camille</td>\n",
       "      <td>2.413168</td>\n",
       "      <td>806.196217</td>\n",
       "      <td>1</td>\n",
       "      <td>9.05556</td>\n",
       "    </tr>\n",
       "    <tr>\n",
       "      <th>9</th>\n",
       "      <td>Diane</td>\n",
       "      <td>2.062255</td>\n",
       "      <td>517.968756</td>\n",
       "      <td>1</td>\n",
       "      <td>9.88889</td>\n",
       "    </tr>\n",
       "    <tr>\n",
       "      <th>88</th>\n",
       "      <td>Ike</td>\n",
       "      <td>1.296607</td>\n",
       "      <td>178.446880</td>\n",
       "      <td>0</td>\n",
       "      <td>1.88889</td>\n",
       "    </tr>\n",
       "    <tr>\n",
       "      <th>91</th>\n",
       "      <td>Sandy</td>\n",
       "      <td>1.296351</td>\n",
       "      <td>355.538139</td>\n",
       "      <td>1</td>\n",
       "      <td>9.00000</td>\n",
       "    </tr>\n",
       "    <tr>\n",
       "      <th>33</th>\n",
       "      <td>Agnes</td>\n",
       "      <td>0.816709</td>\n",
       "      <td>204.260259</td>\n",
       "      <td>1</td>\n",
       "      <td>8.66667</td>\n",
       "    </tr>\n",
       "    <tr>\n",
       "      <th>69</th>\n",
       "      <td>Floyd</td>\n",
       "      <td>0.779776</td>\n",
       "      <td>81.215514</td>\n",
       "      <td>0</td>\n",
       "      <td>1.83333</td>\n",
       "    </tr>\n",
       "    <tr>\n",
       "      <th>58</th>\n",
       "      <td>Andrew</td>\n",
       "      <td>0.772422</td>\n",
       "      <td>96.446407</td>\n",
       "      <td>0</td>\n",
       "      <td>2.22222</td>\n",
       "    </tr>\n",
       "    <tr>\n",
       "      <th>87</th>\n",
       "      <td>Gustav</td>\n",
       "      <td>0.727773</td>\n",
       "      <td>70.333346</td>\n",
       "      <td>0</td>\n",
       "      <td>1.72222</td>\n",
       "    </tr>\n",
       "  </tbody>\n",
       "</table>\n",
       "</div>"
      ],
      "text/plain": [
       "       name      psis        waic  female  femininity\n",
       "28  Camille  2.413168  806.196217       1     9.05556\n",
       "9     Diane  2.062255  517.968756       1     9.88889\n",
       "88      Ike  1.296607  178.446880       0     1.88889\n",
       "91    Sandy  1.296351  355.538139       1     9.00000\n",
       "33    Agnes  0.816709  204.260259       1     8.66667\n",
       "69    Floyd  0.779776   81.215514       0     1.83333\n",
       "58   Andrew  0.772422   96.446407       0     2.22222\n",
       "87   Gustav  0.727773   70.333346       0     1.72222"
      ]
     },
     "execution_count": 22,
     "metadata": {},
     "output_type": "execute_result"
    }
   ],
   "source": [
    "# Sort the DataFrame by the 'psis' column in descending order\n",
    "df2 = df2.sort_values(by=\"psis\", ascending=False)\n",
    "df2 = df2.head(8)\n",
    "df2"
   ]
  },
  {
   "cell_type": "markdown",
   "metadata": {},
   "source": [
    "__Answer:__\n",
    "\n",
    "From the chart, we can see that the model fit effect of 8 hurricanes is poor. Therefore, we sort them in descending order of psis and get the names of 8 hurricanes:\n",
    "\n",
    "- 28 Camille\n",
    "- 9 Diane\n",
    "- 88 Ike\n",
    "- 91 Sandy\n",
    "- 33 Agnes\n",
    "- 69 Floyd\n",
    "- 58 Andrew\n",
    "- 87 Gustav"
   ]
  },
  {
   "cell_type": "markdown",
   "metadata": {
    "deletable": false,
    "editable": false
   },
   "source": [
    "<!-- END QUESTION -->\n",
    "\n",
    "<!-- BEGIN QUESTION -->\n",
    "\n",
    "In light of the analysis performed in this question and the previous one, what do you make of the claim that female hurricanes are deadlier than male hurricanes because people unconsciously rate female hurricanes as less dangerous and so are less likely to evacuate? \n",
    "\n",
    "* Consider both the causal and predictive analyses performed on the dataset. \n",
    "* Be sure to support your response based on the analysis you have performed.\n",
    "\n",
    "**Limit your response to no more than 4 sentences.**"
   ]
  },
  {
   "cell_type": "markdown",
   "metadata": {},
   "source": [
    "__Answer:__   \n",
    "\n",
    "I don't think that female hurricanes are deadlier than male hurricanes. According to the chart, hurricanes with less feminine names (such as Ike, Floyd, Andrew, and Gustav) also caused a larger number of deaths."
   ]
  },
  {
   "cell_type": "markdown",
   "metadata": {
    "deletable": false,
    "editable": false
   },
   "source": [
    "<!-- END QUESTION -->\n",
    "\n",
    "<!-- BEGIN QUESTION -->\n",
    "\n",
    "**Question 3**. **(20 points)** In the trolley data — `Data/Trolley.csv` — we saw how education level (modeled as an ordered category) is associated with responses. But is this association causal? One plausible confound is that education is also associated with age through a causal process: People are older when they finish school than when they begin it.\n",
    "\n",
    "Reconsider the trolley data in this light. \n",
    "\n",
    "Include a DAG (reference the DAG tutorial included with Homework 5 for instructions creating a DAG in Python) that represents causal relationships amongst response, education, and age **based on the associations described above**. For the purposes of this problem, you can ignore any other variables from the dataset in this DAG. **Clearly identify what each variable in your DAG represents**."
   ]
  },
  {
   "cell_type": "code",
   "execution_count": 23,
   "metadata": {
    "tags": []
   },
   "outputs": [
    {
     "data": {
      "image/png": "[encoded data removed]",
      "text/plain": [
       "<Figure size 640x480 with 1 Axes>"
      ]
     },
     "metadata": {},
     "output_type": "display_data"
    }
   ],
   "source": [
    "# Write code here\n",
    "import networkx as nx\n",
    "import matplotlib.pyplot as plt\n",
    "\n",
    "graph = nx.DiGraph()\n",
    "graph.add_edges_from([(\"edu\", \"response\"), (\"age\", \"response\"), (\"age\", \"edu\")])\n",
    "nx.draw_networkx(graph, arrows=True)\n",
    "plt.tight_layout()"
   ]
  },
  {
   "cell_type": "markdown",
   "metadata": {},
   "source": [
    "__Answer:__\n",
    "\n",
    "The DAG diagram is shown above. In the subsequent model, we will record response as R, age as Y, and edu as E."
   ]
  },
  {
   "cell_type": "markdown",
   "metadata": {
    "deletable": false,
    "editable": false
   },
   "source": [
    "<!-- END QUESTION -->\n",
    "\n",
    "<!-- BEGIN QUESTION -->\n",
    "\n",
    "**State** which statistical model (or models) and their adjustment set(s) you need to evaluate the causal influence of education on responses and **explain your choice**. "
   ]
  },
  {
   "cell_type": "markdown",
   "metadata": {},
   "source": [
    "__Answer:__\n",
    "\n",
    "For the casual influence of education on responses, we adjust for 'age' in the adjustment sets. The statistical model is as below:   \n",
    "\n",
    "<!-- $$\n",
    "\\begin{align}\n",
    "R_i \\sim OrderedLogit(\\phi_i, \\alpha) \\\\\n",
    "\\phi_i = \\beta_E \\sum_{j=0}^{E_i-1} \\delta_j + \\beta_A A_i + \\beta_C C_i + \\beta_I I_i + \\beta_Y Y_i \\\\\n",
    "\\alpha_k \\sim Normal(0, 1) \\\\\n",
    "\\beta_- \\sim Normal(0, 0.5) \\\\ \n",
    "\\delta \\sim Dirichlet(a) \\\\\n",
    "a = [2, 2, 2, 2, 2, 2, 2]\n",
    "\\end{align}\n",
    "$$ -->\n",
    "\n",
    "- $R_i \\sim OrderedLogit(\\phi_i, \\alpha)$\n",
    "- $\\phi_i = \\beta_E \\sum_{j=0}^{E_i-1} \\delta_j + \\beta_A A_i + \\beta_C C_i + \\beta_I I_i + \\beta_Y Y_i$\n",
    "- $\\alpha_k \\sim Normal(0, 1)$\n",
    "- $\\beta_- \\sim Normal(0, 0.5)$\n",
    "- $\\delta \\sim Dirichlet(a)$\n",
    "- $a = [2, 2, 2, 2, 2, 2, 2]$\n",
    "\n",
    "This model is suitable for total and direct causal influence of education on responses, and direct causal influence of age on responses.\n",
    "\n",
    "What's more, we build another model which is suitable for total causal influence of age on responses:\n",
    "\n",
    "<!-- $$\n",
    "\\begin{align}\n",
    "R_i \\sim OrderedLogit(\\phi_i, \\alpha) \\\\\n",
    "\\phi_i = \\beta_A A_i + \\beta_C C_i + \\beta_I I_i + \\beta_Y Y_i \\\\\n",
    "\\alpha_k \\sim Normal(0, 1) \\\\\n",
    "\\beta_- \\sim Normal(0, 0.5)\n",
    "\\end{align}\n",
    "$$ -->\n",
    "\n",
    "- $R_i \\sim OrderedLogit(\\phi_i, \\alpha)$\n",
    "- $\\phi_i = \\beta_A A_i + \\beta_C C_i + \\beta_I I_i + \\beta_Y Y_i$\n",
    "- $\\alpha_k \\sim Normal(0, 1)$\n",
    "- $\\beta_- \\sim Normal(0, 0.5)$"
   ]
  },
  {
   "cell_type": "markdown",
   "metadata": {
    "deletable": false,
    "editable": false
   },
   "source": [
    "**Approximate the posterior distribution(s) for the parameters of the model(s)** using the trolley data. **Include the treatment combinations (Action, Intention, Contact) in your model(s) as a competing cause** as demonstrated in lecture.  \n",
    "\n",
    "Note: *Sampling the posterior for this model and dataset using Hamiltonian Monte Carlo MCMC uses more memory than other models we have seen in this course. This is one of the drawbacks of this technique: its inability to scale efficiently to the size of the input data. Therefore, you should only **use a random subset of the data** when sampling from the posterior. The code below samples only about 70% of the observed data. Feel free to use the code exactly as written below:*  \n",
    "\n",
    "```\n",
    "import pandas as pd\n",
    "trolley_df = pd.read_csv(\"Data/Trolley.csv\", sep=\";\").sample(n=7000)\n",
    "```"
   ]
  },
  {
   "cell_type": "markdown",
   "metadata": {
    "deletable": false,
    "editable": false
   },
   "source": [
    "<!-- END QUESTION -->\n",
    "\n",
    "<!-- BEGIN QUESTION -->\n",
    "\n"
   ]
  },
  {
   "cell_type": "code",
   "execution_count": 24,
   "metadata": {
    "tags": []
   },
   "outputs": [],
   "source": [
    "# Write code here\n",
    "import pytensor.tensor as pt\n",
    "import warnings"
   ]
  },
  {
   "cell_type": "code",
   "execution_count": 25,
   "metadata": {},
   "outputs": [
    {
     "data": {
      "text/html": [
       "<div>\n",
       "<style scoped>\n",
       "    .dataframe tbody tr th:only-of-type {\n",
       "        vertical-align: middle;\n",
       "    }\n",
       "\n",
       "    .dataframe tbody tr th {\n",
       "        vertical-align: top;\n",
       "    }\n",
       "\n",
       "    .dataframe thead th {\n",
       "        text-align: right;\n",
       "    }\n",
       "</style>\n",
       "<table border=\"1\" class=\"dataframe\">\n",
       "  <thead>\n",
       "    <tr style=\"text-align: right;\">\n",
       "      <th></th>\n",
       "      <th>case</th>\n",
       "      <th>response</th>\n",
       "      <th>order</th>\n",
       "      <th>id</th>\n",
       "      <th>age</th>\n",
       "      <th>male</th>\n",
       "      <th>edu</th>\n",
       "      <th>action</th>\n",
       "      <th>intention</th>\n",
       "      <th>contact</th>\n",
       "      <th>story</th>\n",
       "      <th>action2</th>\n",
       "      <th>edu_new</th>\n",
       "    </tr>\n",
       "  </thead>\n",
       "  <tbody>\n",
       "    <tr>\n",
       "      <th>3591</th>\n",
       "      <td>ikshi</td>\n",
       "      <td>2</td>\n",
       "      <td>17</td>\n",
       "      <td>97;123</td>\n",
       "      <td>58</td>\n",
       "      <td>0</td>\n",
       "      <td>Bachelor's Degree</td>\n",
       "      <td>1</td>\n",
       "      <td>1</td>\n",
       "      <td>0</td>\n",
       "      <td>shi</td>\n",
       "      <td>1</td>\n",
       "      <td>5</td>\n",
       "    </tr>\n",
       "    <tr>\n",
       "      <th>5341</th>\n",
       "      <td>cfbur</td>\n",
       "      <td>5</td>\n",
       "      <td>31</td>\n",
       "      <td>97;439</td>\n",
       "      <td>32</td>\n",
       "      <td>1</td>\n",
       "      <td>Master's Degree</td>\n",
       "      <td>0</td>\n",
       "      <td>0</td>\n",
       "      <td>1</td>\n",
       "      <td>bur</td>\n",
       "      <td>1</td>\n",
       "      <td>6</td>\n",
       "    </tr>\n",
       "    <tr>\n",
       "      <th>9908</th>\n",
       "      <td>fkbox</td>\n",
       "      <td>3</td>\n",
       "      <td>11</td>\n",
       "      <td>98;299</td>\n",
       "      <td>66</td>\n",
       "      <td>1</td>\n",
       "      <td>Graduate Degree</td>\n",
       "      <td>1</td>\n",
       "      <td>0</td>\n",
       "      <td>0</td>\n",
       "      <td>box</td>\n",
       "      <td>1</td>\n",
       "      <td>7</td>\n",
       "    </tr>\n",
       "    <tr>\n",
       "      <th>590</th>\n",
       "      <td>ikpon</td>\n",
       "      <td>3</td>\n",
       "      <td>1</td>\n",
       "      <td>96;533</td>\n",
       "      <td>23</td>\n",
       "      <td>0</td>\n",
       "      <td>Bachelor's Degree</td>\n",
       "      <td>1</td>\n",
       "      <td>1</td>\n",
       "      <td>0</td>\n",
       "      <td>pon</td>\n",
       "      <td>1</td>\n",
       "      <td>5</td>\n",
       "    </tr>\n",
       "    <tr>\n",
       "      <th>9748</th>\n",
       "      <td>ilswi</td>\n",
       "      <td>1</td>\n",
       "      <td>18</td>\n",
       "      <td>98;222</td>\n",
       "      <td>63</td>\n",
       "      <td>1</td>\n",
       "      <td>High School Graduate</td>\n",
       "      <td>0</td>\n",
       "      <td>1</td>\n",
       "      <td>0</td>\n",
       "      <td>swi</td>\n",
       "      <td>0</td>\n",
       "      <td>3</td>\n",
       "    </tr>\n",
       "    <tr>\n",
       "      <th>...</th>\n",
       "      <td>...</td>\n",
       "      <td>...</td>\n",
       "      <td>...</td>\n",
       "      <td>...</td>\n",
       "      <td>...</td>\n",
       "      <td>...</td>\n",
       "      <td>...</td>\n",
       "      <td>...</td>\n",
       "      <td>...</td>\n",
       "      <td>...</td>\n",
       "      <td>...</td>\n",
       "      <td>...</td>\n",
       "      <td>...</td>\n",
       "    </tr>\n",
       "    <tr>\n",
       "      <th>893</th>\n",
       "      <td>ilbox</td>\n",
       "      <td>6</td>\n",
       "      <td>23</td>\n",
       "      <td>96;570</td>\n",
       "      <td>57</td>\n",
       "      <td>1</td>\n",
       "      <td>Graduate Degree</td>\n",
       "      <td>0</td>\n",
       "      <td>1</td>\n",
       "      <td>0</td>\n",
       "      <td>box</td>\n",
       "      <td>0</td>\n",
       "      <td>7</td>\n",
       "    </tr>\n",
       "    <tr>\n",
       "      <th>7577</th>\n",
       "      <td>flswi</td>\n",
       "      <td>5</td>\n",
       "      <td>27</td>\n",
       "      <td>97;757</td>\n",
       "      <td>55</td>\n",
       "      <td>1</td>\n",
       "      <td>Master's Degree</td>\n",
       "      <td>0</td>\n",
       "      <td>0</td>\n",
       "      <td>0</td>\n",
       "      <td>swi</td>\n",
       "      <td>0</td>\n",
       "      <td>6</td>\n",
       "    </tr>\n",
       "    <tr>\n",
       "      <th>5989</th>\n",
       "      <td>ikbur</td>\n",
       "      <td>1</td>\n",
       "      <td>20</td>\n",
       "      <td>97;591</td>\n",
       "      <td>42</td>\n",
       "      <td>1</td>\n",
       "      <td>Master's Degree</td>\n",
       "      <td>1</td>\n",
       "      <td>1</td>\n",
       "      <td>0</td>\n",
       "      <td>bur</td>\n",
       "      <td>1</td>\n",
       "      <td>6</td>\n",
       "    </tr>\n",
       "    <tr>\n",
       "      <th>7141</th>\n",
       "      <td>cfbur</td>\n",
       "      <td>4</td>\n",
       "      <td>32</td>\n",
       "      <td>97;724</td>\n",
       "      <td>24</td>\n",
       "      <td>1</td>\n",
       "      <td>Bachelor's Degree</td>\n",
       "      <td>0</td>\n",
       "      <td>0</td>\n",
       "      <td>1</td>\n",
       "      <td>bur</td>\n",
       "      <td>1</td>\n",
       "      <td>5</td>\n",
       "    </tr>\n",
       "    <tr>\n",
       "      <th>819</th>\n",
       "      <td>fkbur</td>\n",
       "      <td>6</td>\n",
       "      <td>22</td>\n",
       "      <td>96;562</td>\n",
       "      <td>47</td>\n",
       "      <td>0</td>\n",
       "      <td>Master's Degree</td>\n",
       "      <td>1</td>\n",
       "      <td>0</td>\n",
       "      <td>0</td>\n",
       "      <td>bur</td>\n",
       "      <td>1</td>\n",
       "      <td>6</td>\n",
       "    </tr>\n",
       "  </tbody>\n",
       "</table>\n",
       "<p>7000 rows × 13 columns</p>\n",
       "</div>"
      ],
      "text/plain": [
       "       case  response  order      id  age  male                   edu  action  \\\n",
       "3591  ikshi         2     17  97;123   58     0     Bachelor's Degree       1   \n",
       "5341  cfbur         5     31  97;439   32     1       Master's Degree       0   \n",
       "9908  fkbox         3     11  98;299   66     1       Graduate Degree       1   \n",
       "590   ikpon         3      1  96;533   23     0     Bachelor's Degree       1   \n",
       "9748  ilswi         1     18  98;222   63     1  High School Graduate       0   \n",
       "...     ...       ...    ...     ...  ...   ...                   ...     ...   \n",
       "893   ilbox         6     23  96;570   57     1       Graduate Degree       0   \n",
       "7577  flswi         5     27  97;757   55     1       Master's Degree       0   \n",
       "5989  ikbur         1     20  97;591   42     1       Master's Degree       1   \n",
       "7141  cfbur         4     32  97;724   24     1     Bachelor's Degree       0   \n",
       "819   fkbur         6     22  96;562   47     0       Master's Degree       1   \n",
       "\n",
       "      intention  contact story  action2  edu_new  \n",
       "3591          1        0   shi        1        5  \n",
       "5341          0        1   bur        1        6  \n",
       "9908          0        0   box        1        7  \n",
       "590           1        0   pon        1        5  \n",
       "9748          1        0   swi        0        3  \n",
       "...         ...      ...   ...      ...      ...  \n",
       "893           1        0   box        0        7  \n",
       "7577          0        0   swi        0        6  \n",
       "5989          1        0   bur        1        6  \n",
       "7141          0        1   bur        1        5  \n",
       "819           0        0   bur        1        6  \n",
       "\n",
       "[7000 rows x 13 columns]"
      ]
     },
     "execution_count": 25,
     "metadata": {},
     "output_type": "execute_result"
    }
   ],
   "source": [
    "trolley_df = pd.read_csv(\"Data/Trolley.csv\", sep=\";\").sample(n=7000)\n",
    "trolley_df[\"edu_new\"] = pd.Categorical(\n",
    "    trolley_df.edu.values,\n",
    "    categories=[\n",
    "        \"Elementary School\",\n",
    "        \"Middle School\",\n",
    "        \"Some High School\",\n",
    "        \"High School Graduate\",\n",
    "        \"Some College\",\n",
    "        \"Bachelor's Degree\",\n",
    "        \"Master's Degree\",\n",
    "        \"Graduate Degree\",\n",
    "    ],\n",
    "    ordered=True,\n",
    ")\n",
    "trolley_df[\"edu_new\"] = trolley_df.edu_new.cat.codes\n",
    "trolley_df"
   ]
  },
  {
   "cell_type": "code",
   "execution_count": 26,
   "metadata": {},
   "outputs": [],
   "source": [
    "RANDOM_SEED = 8927\n",
    "np.random.seed(365)\n",
    "\n",
    "%config InlineBackend.figure_format = 'retina'\n",
    "warnings.simplefilter(action=\"ignore\", category=FutureWarning)\n",
    "sns.set_context(\"talk\")"
   ]
  },
  {
   "cell_type": "code",
   "execution_count": 27,
   "metadata": {},
   "outputs": [],
   "source": [
    "R = trolley_df.response.values - 1\n",
    "A = trolley_df.action.values\n",
    "I = trolley_df.intention.values\n",
    "C = trolley_df.contact.values\n",
    "E = trolley_df.edu_new.values\n",
    "Y = standardize(trolley_df.age.values)"
   ]
  },
  {
   "cell_type": "code",
   "execution_count": 28,
   "metadata": {},
   "outputs": [
    {
     "name": "stderr",
     "output_type": "stream",
     "text": [
      "Auto-assigning NUTS sampler...\n",
      "Initializing NUTS using jitter+adapt_diag...\n",
      "Sequential sampling (2 chains in 1 job)\n",
      "NUTS: [alpha, bA, bC, bI, bE, bY, delta]\n"
     ]
    },
    {
     "data": {
      "text/html": [
       "\n",
       "<style>\n",
       "    /* Turns off some styling */\n",
       "    progress {\n",
       "        /* gets rid of default border in Firefox and Opera. */\n",
       "        border: none;\n",
       "        /* Needs to be in here for Safari polyfill so background images work as expected. */\n",
       "        background-size: auto;\n",
       "    }\n",
       "    progress:not([value]), progress:not([value])::-webkit-progress-bar {\n",
       "        background: repeating-linear-gradient(45deg, #7e7e7e, #7e7e7e 10px, #5c5c5c 10px, #5c5c5c 20px);\n",
       "    }\n",
       "    .progress-bar-interrupted, .progress-bar-interrupted::-webkit-progress-bar {\n",
       "        background: #F44336;\n",
       "    }\n",
       "</style>\n"
      ],
      "text/plain": [
       "<IPython.core.display.HTML object>"
      ]
     },
     "metadata": {},
     "output_type": "display_data"
    },
    {
     "data": {
      "text/html": [
       "\n",
       "    <div>\n",
       "      <progress value='4000' class='' max='4000' style='width:300px; height:20px; vertical-align: middle;'></progress>\n",
       "      100.00% [4000/4000 08:50&lt;00:00 Sampling chain 0, 0 divergences]\n",
       "    </div>\n",
       "    "
      ],
      "text/plain": [
       "<IPython.core.display.HTML object>"
      ]
     },
     "metadata": {},
     "output_type": "display_data"
    },
    {
     "data": {
      "text/html": [
       "\n",
       "<style>\n",
       "    /* Turns off some styling */\n",
       "    progress {\n",
       "        /* gets rid of default border in Firefox and Opera. */\n",
       "        border: none;\n",
       "        /* Needs to be in here for Safari polyfill so background images work as expected. */\n",
       "        background-size: auto;\n",
       "    }\n",
       "    progress:not([value]), progress:not([value])::-webkit-progress-bar {\n",
       "        background: repeating-linear-gradient(45deg, #7e7e7e, #7e7e7e 10px, #5c5c5c 10px, #5c5c5c 20px);\n",
       "    }\n",
       "    .progress-bar-interrupted, .progress-bar-interrupted::-webkit-progress-bar {\n",
       "        background: #F44336;\n",
       "    }\n",
       "</style>\n"
      ],
      "text/plain": [
       "<IPython.core.display.HTML object>"
      ]
     },
     "metadata": {},
     "output_type": "display_data"
    },
    {
     "data": {
      "text/html": [
       "\n",
       "    <div>\n",
       "      <progress value='4000' class='' max='4000' style='width:300px; height:20px; vertical-align: middle;'></progress>\n",
       "      100.00% [4000/4000 08:58&lt;00:00 Sampling chain 1, 0 divergences]\n",
       "    </div>\n",
       "    "
      ],
      "text/plain": [
       "<IPython.core.display.HTML object>"
      ]
     },
     "metadata": {},
     "output_type": "display_data"
    },
    {
     "name": "stderr",
     "output_type": "stream",
     "text": [
      "Sampling 2 chains for 2_000 tune and 2_000 draw iterations (4_000 + 4_000 draws total) took 1069 seconds.\n",
      "We recommend running at least 4 chains for robust computation of convergence diagnostics\n"
     ]
    }
   ],
   "source": [
    "with pm.Model() as mRXEY:\n",
    "    alpha = pm.Normal(\n",
    "        \"alpha\",\n",
    "        0.0,\n",
    "        1,\n",
    "        shape=6,\n",
    "        testval=np.arange(6),\n",
    "    )\n",
    "\n",
    "    bA = pm.Normal(\"bA\", 0.0, 0.5)\n",
    "    bC = pm.Normal(\"bC\", 0.0, 0.5)\n",
    "    bI = pm.Normal(\"bI\", 0.0, 0.5)\n",
    "    bE = pm.Normal(\"bE\", 0.0, 0.5)\n",
    "    bY = pm.Normal(\"bY\", 0.0, 0.5)\n",
    "\n",
    "    delta = pm.Dirichlet(\"delta\", np.repeat(2.0, 7), shape=7)\n",
    "    delta_j = pt.concatenate([pt.zeros(1), delta])\n",
    "    delta_j_cumulative = pt.extra_ops.cumsum(delta_j)\n",
    "\n",
    "    phi = bE * delta_j_cumulative[E] + bA * A + bC * C + bI * I + bY * Y\n",
    "\n",
    "    resp_obs = pm.OrderedLogistic(\"resp_obs\", phi, cutpoints = alpha, observed=R)\n",
    "\n",
    "    idata_RXEY = pm.sample(2000, tune=2000, random_seed=RANDOM_SEED)"
   ]
  },
  {
   "cell_type": "code",
   "execution_count": 29,
   "metadata": {},
   "outputs": [
    {
     "data": {
      "text/html": [
       "<div>\n",
       "<style scoped>\n",
       "    .dataframe tbody tr th:only-of-type {\n",
       "        vertical-align: middle;\n",
       "    }\n",
       "\n",
       "    .dataframe tbody tr th {\n",
       "        vertical-align: top;\n",
       "    }\n",
       "\n",
       "    .dataframe thead th {\n",
       "        text-align: right;\n",
       "    }\n",
       "</style>\n",
       "<table border=\"1\" class=\"dataframe\">\n",
       "  <thead>\n",
       "    <tr style=\"text-align: right;\">\n",
       "      <th></th>\n",
       "      <th>mean</th>\n",
       "      <th>sd</th>\n",
       "      <th>hdi_5.5%</th>\n",
       "      <th>hdi_94.5%</th>\n",
       "      <th>mcse_mean</th>\n",
       "      <th>mcse_sd</th>\n",
       "      <th>ess_bulk</th>\n",
       "      <th>ess_tail</th>\n",
       "      <th>r_hat</th>\n",
       "    </tr>\n",
       "  </thead>\n",
       "  <tbody>\n",
       "    <tr>\n",
       "      <th>bC</th>\n",
       "      <td>-0.93</td>\n",
       "      <td>0.06</td>\n",
       "      <td>-1.02</td>\n",
       "      <td>-0.83</td>\n",
       "      <td>0.00</td>\n",
       "      <td>0.0</td>\n",
       "      <td>3064.08</td>\n",
       "      <td>2791.93</td>\n",
       "      <td>1.0</td>\n",
       "    </tr>\n",
       "    <tr>\n",
       "      <th>bI</th>\n",
       "      <td>-0.72</td>\n",
       "      <td>0.04</td>\n",
       "      <td>-0.79</td>\n",
       "      <td>-0.65</td>\n",
       "      <td>0.00</td>\n",
       "      <td>0.0</td>\n",
       "      <td>3811.02</td>\n",
       "      <td>2526.14</td>\n",
       "      <td>1.0</td>\n",
       "    </tr>\n",
       "    <tr>\n",
       "      <th>bA</th>\n",
       "      <td>-0.69</td>\n",
       "      <td>0.05</td>\n",
       "      <td>-0.76</td>\n",
       "      <td>-0.61</td>\n",
       "      <td>0.00</td>\n",
       "      <td>0.0</td>\n",
       "      <td>2927.87</td>\n",
       "      <td>2647.71</td>\n",
       "      <td>1.0</td>\n",
       "    </tr>\n",
       "    <tr>\n",
       "      <th>bE</th>\n",
       "      <td>0.20</td>\n",
       "      <td>0.14</td>\n",
       "      <td>-0.02</td>\n",
       "      <td>0.41</td>\n",
       "      <td>0.01</td>\n",
       "      <td>0.0</td>\n",
       "      <td>825.95</td>\n",
       "      <td>771.62</td>\n",
       "      <td>1.0</td>\n",
       "    </tr>\n",
       "    <tr>\n",
       "      <th>bY</th>\n",
       "      <td>-0.09</td>\n",
       "      <td>0.02</td>\n",
       "      <td>-0.13</td>\n",
       "      <td>-0.05</td>\n",
       "      <td>0.00</td>\n",
       "      <td>0.0</td>\n",
       "      <td>1821.90</td>\n",
       "      <td>2068.65</td>\n",
       "      <td>1.0</td>\n",
       "    </tr>\n",
       "    <tr>\n",
       "      <th>alpha[0]</th>\n",
       "      <td>-2.67</td>\n",
       "      <td>0.11</td>\n",
       "      <td>-2.85</td>\n",
       "      <td>-2.49</td>\n",
       "      <td>0.00</td>\n",
       "      <td>0.0</td>\n",
       "      <td>808.80</td>\n",
       "      <td>770.87</td>\n",
       "      <td>1.0</td>\n",
       "    </tr>\n",
       "    <tr>\n",
       "      <th>alpha[1]</th>\n",
       "      <td>-2.01</td>\n",
       "      <td>0.11</td>\n",
       "      <td>-2.17</td>\n",
       "      <td>-1.83</td>\n",
       "      <td>0.00</td>\n",
       "      <td>0.0</td>\n",
       "      <td>777.05</td>\n",
       "      <td>703.31</td>\n",
       "      <td>1.0</td>\n",
       "    </tr>\n",
       "    <tr>\n",
       "      <th>alpha[2]</th>\n",
       "      <td>-1.42</td>\n",
       "      <td>0.11</td>\n",
       "      <td>-1.58</td>\n",
       "      <td>-1.24</td>\n",
       "      <td>0.00</td>\n",
       "      <td>0.0</td>\n",
       "      <td>767.63</td>\n",
       "      <td>689.05</td>\n",
       "      <td>1.0</td>\n",
       "    </tr>\n",
       "    <tr>\n",
       "      <th>alpha[3]</th>\n",
       "      <td>-0.40</td>\n",
       "      <td>0.11</td>\n",
       "      <td>-0.57</td>\n",
       "      <td>-0.23</td>\n",
       "      <td>0.00</td>\n",
       "      <td>0.0</td>\n",
       "      <td>773.49</td>\n",
       "      <td>735.59</td>\n",
       "      <td>1.0</td>\n",
       "    </tr>\n",
       "    <tr>\n",
       "      <th>alpha[4]</th>\n",
       "      <td>0.27</td>\n",
       "      <td>0.11</td>\n",
       "      <td>0.11</td>\n",
       "      <td>0.45</td>\n",
       "      <td>0.00</td>\n",
       "      <td>0.0</td>\n",
       "      <td>784.64</td>\n",
       "      <td>697.51</td>\n",
       "      <td>1.0</td>\n",
       "    </tr>\n",
       "    <tr>\n",
       "      <th>alpha[5]</th>\n",
       "      <td>1.17</td>\n",
       "      <td>0.11</td>\n",
       "      <td>1.00</td>\n",
       "      <td>1.34</td>\n",
       "      <td>0.00</td>\n",
       "      <td>0.0</td>\n",
       "      <td>791.05</td>\n",
       "      <td>704.68</td>\n",
       "      <td>1.0</td>\n",
       "    </tr>\n",
       "    <tr>\n",
       "      <th>delta[0]</th>\n",
       "      <td>0.13</td>\n",
       "      <td>0.08</td>\n",
       "      <td>0.01</td>\n",
       "      <td>0.23</td>\n",
       "      <td>0.00</td>\n",
       "      <td>0.0</td>\n",
       "      <td>3869.18</td>\n",
       "      <td>2206.78</td>\n",
       "      <td>1.0</td>\n",
       "    </tr>\n",
       "    <tr>\n",
       "      <th>delta[1]</th>\n",
       "      <td>0.14</td>\n",
       "      <td>0.08</td>\n",
       "      <td>0.01</td>\n",
       "      <td>0.25</td>\n",
       "      <td>0.00</td>\n",
       "      <td>0.0</td>\n",
       "      <td>3398.58</td>\n",
       "      <td>2281.62</td>\n",
       "      <td>1.0</td>\n",
       "    </tr>\n",
       "    <tr>\n",
       "      <th>delta[2]</th>\n",
       "      <td>0.11</td>\n",
       "      <td>0.07</td>\n",
       "      <td>0.01</td>\n",
       "      <td>0.21</td>\n",
       "      <td>0.00</td>\n",
       "      <td>0.0</td>\n",
       "      <td>3339.83</td>\n",
       "      <td>2475.66</td>\n",
       "      <td>1.0</td>\n",
       "    </tr>\n",
       "    <tr>\n",
       "      <th>delta[3]</th>\n",
       "      <td>0.09</td>\n",
       "      <td>0.07</td>\n",
       "      <td>0.00</td>\n",
       "      <td>0.18</td>\n",
       "      <td>0.00</td>\n",
       "      <td>0.0</td>\n",
       "      <td>2840.03</td>\n",
       "      <td>2652.61</td>\n",
       "      <td>1.0</td>\n",
       "    </tr>\n",
       "    <tr>\n",
       "      <th>delta[4]</th>\n",
       "      <td>0.31</td>\n",
       "      <td>0.15</td>\n",
       "      <td>0.04</td>\n",
       "      <td>0.52</td>\n",
       "      <td>0.00</td>\n",
       "      <td>0.0</td>\n",
       "      <td>1484.90</td>\n",
       "      <td>878.04</td>\n",
       "      <td>1.0</td>\n",
       "    </tr>\n",
       "    <tr>\n",
       "      <th>delta[5]</th>\n",
       "      <td>0.11</td>\n",
       "      <td>0.08</td>\n",
       "      <td>0.01</td>\n",
       "      <td>0.21</td>\n",
       "      <td>0.00</td>\n",
       "      <td>0.0</td>\n",
       "      <td>3621.80</td>\n",
       "      <td>3024.03</td>\n",
       "      <td>1.0</td>\n",
       "    </tr>\n",
       "    <tr>\n",
       "      <th>delta[6]</th>\n",
       "      <td>0.11</td>\n",
       "      <td>0.08</td>\n",
       "      <td>0.01</td>\n",
       "      <td>0.21</td>\n",
       "      <td>0.00</td>\n",
       "      <td>0.0</td>\n",
       "      <td>3747.80</td>\n",
       "      <td>2863.45</td>\n",
       "      <td>1.0</td>\n",
       "    </tr>\n",
       "  </tbody>\n",
       "</table>\n",
       "</div>"
      ],
      "text/plain": [
       "          mean    sd  hdi_5.5%  hdi_94.5%  mcse_mean  mcse_sd  ess_bulk  \\\n",
       "bC       -0.93  0.06     -1.02      -0.83       0.00      0.0   3064.08   \n",
       "bI       -0.72  0.04     -0.79      -0.65       0.00      0.0   3811.02   \n",
       "bA       -0.69  0.05     -0.76      -0.61       0.00      0.0   2927.87   \n",
       "bE        0.20  0.14     -0.02       0.41       0.01      0.0    825.95   \n",
       "bY       -0.09  0.02     -0.13      -0.05       0.00      0.0   1821.90   \n",
       "alpha[0] -2.67  0.11     -2.85      -2.49       0.00      0.0    808.80   \n",
       "alpha[1] -2.01  0.11     -2.17      -1.83       0.00      0.0    777.05   \n",
       "alpha[2] -1.42  0.11     -1.58      -1.24       0.00      0.0    767.63   \n",
       "alpha[3] -0.40  0.11     -0.57      -0.23       0.00      0.0    773.49   \n",
       "alpha[4]  0.27  0.11      0.11       0.45       0.00      0.0    784.64   \n",
       "alpha[5]  1.17  0.11      1.00       1.34       0.00      0.0    791.05   \n",
       "delta[0]  0.13  0.08      0.01       0.23       0.00      0.0   3869.18   \n",
       "delta[1]  0.14  0.08      0.01       0.25       0.00      0.0   3398.58   \n",
       "delta[2]  0.11  0.07      0.01       0.21       0.00      0.0   3339.83   \n",
       "delta[3]  0.09  0.07      0.00       0.18       0.00      0.0   2840.03   \n",
       "delta[4]  0.31  0.15      0.04       0.52       0.00      0.0   1484.90   \n",
       "delta[5]  0.11  0.08      0.01       0.21       0.00      0.0   3621.80   \n",
       "delta[6]  0.11  0.08      0.01       0.21       0.00      0.0   3747.80   \n",
       "\n",
       "          ess_tail  r_hat  \n",
       "bC         2791.93    1.0  \n",
       "bI         2526.14    1.0  \n",
       "bA         2647.71    1.0  \n",
       "bE          771.62    1.0  \n",
       "bY         2068.65    1.0  \n",
       "alpha[0]    770.87    1.0  \n",
       "alpha[1]    703.31    1.0  \n",
       "alpha[2]    689.05    1.0  \n",
       "alpha[3]    735.59    1.0  \n",
       "alpha[4]    697.51    1.0  \n",
       "alpha[5]    704.68    1.0  \n",
       "delta[0]   2206.78    1.0  \n",
       "delta[1]   2281.62    1.0  \n",
       "delta[2]   2475.66    1.0  \n",
       "delta[3]   2652.61    1.0  \n",
       "delta[4]    878.04    1.0  \n",
       "delta[5]   3024.03    1.0  \n",
       "delta[6]   2863.45    1.0  "
      ]
     },
     "execution_count": 29,
     "metadata": {},
     "output_type": "execute_result"
    }
   ],
   "source": [
    "az.summary(idata_RXEY, var_names=[\"bC\", \"bI\", \"bA\", \"bE\", \"bY\", \"alpha\", \"delta\"], round_to=2)"
   ]
  },
  {
   "cell_type": "code",
   "execution_count": 30,
   "metadata": {},
   "outputs": [
    {
     "name": "stderr",
     "output_type": "stream",
     "text": [
      "Auto-assigning NUTS sampler...\n",
      "Initializing NUTS using jitter+adapt_diag...\n",
      "Sequential sampling (2 chains in 1 job)\n",
      "NUTS: [alpha, bA, bC, bI, bY_total]\n"
     ]
    },
    {
     "data": {
      "text/html": [
       "\n",
       "<style>\n",
       "    /* Turns off some styling */\n",
       "    progress {\n",
       "        /* gets rid of default border in Firefox and Opera. */\n",
       "        border: none;\n",
       "        /* Needs to be in here for Safari polyfill so background images work as expected. */\n",
       "        background-size: auto;\n",
       "    }\n",
       "    progress:not([value]), progress:not([value])::-webkit-progress-bar {\n",
       "        background: repeating-linear-gradient(45deg, #7e7e7e, #7e7e7e 10px, #5c5c5c 10px, #5c5c5c 20px);\n",
       "    }\n",
       "    .progress-bar-interrupted, .progress-bar-interrupted::-webkit-progress-bar {\n",
       "        background: #F44336;\n",
       "    }\n",
       "</style>\n"
      ],
      "text/plain": [
       "<IPython.core.display.HTML object>"
      ]
     },
     "metadata": {},
     "output_type": "display_data"
    },
    {
     "data": {
      "text/html": [
       "\n",
       "    <div>\n",
       "      <progress value='4000' class='' max='4000' style='width:300px; height:20px; vertical-align: middle;'></progress>\n",
       "      100.00% [4000/4000 03:19&lt;00:00 Sampling chain 0, 0 divergences]\n",
       "    </div>\n",
       "    "
      ],
      "text/plain": [
       "<IPython.core.display.HTML object>"
      ]
     },
     "metadata": {},
     "output_type": "display_data"
    },
    {
     "data": {
      "text/html": [
       "\n",
       "<style>\n",
       "    /* Turns off some styling */\n",
       "    progress {\n",
       "        /* gets rid of default border in Firefox and Opera. */\n",
       "        border: none;\n",
       "        /* Needs to be in here for Safari polyfill so background images work as expected. */\n",
       "        background-size: auto;\n",
       "    }\n",
       "    progress:not([value]), progress:not([value])::-webkit-progress-bar {\n",
       "        background: repeating-linear-gradient(45deg, #7e7e7e, #7e7e7e 10px, #5c5c5c 10px, #5c5c5c 20px);\n",
       "    }\n",
       "    .progress-bar-interrupted, .progress-bar-interrupted::-webkit-progress-bar {\n",
       "        background: #F44336;\n",
       "    }\n",
       "</style>\n"
      ],
      "text/plain": [
       "<IPython.core.display.HTML object>"
      ]
     },
     "metadata": {},
     "output_type": "display_data"
    },
    {
     "data": {
      "text/html": [
       "\n",
       "    <div>\n",
       "      <progress value='4000' class='' max='4000' style='width:300px; height:20px; vertical-align: middle;'></progress>\n",
       "      100.00% [4000/4000 03:09&lt;00:00 Sampling chain 1, 0 divergences]\n",
       "    </div>\n",
       "    "
      ],
      "text/plain": [
       "<IPython.core.display.HTML object>"
      ]
     },
     "metadata": {},
     "output_type": "display_data"
    },
    {
     "name": "stderr",
     "output_type": "stream",
     "text": [
      "Sampling 2 chains for 2_000 tune and 2_000 draw iterations (4_000 + 4_000 draws total) took 389 seconds.\n",
      "We recommend running at least 4 chains for robust computation of convergence diagnostics\n"
     ]
    }
   ],
   "source": [
    "with pm.Model() as mRXY:\n",
    "    alpha = pm.Normal(\n",
    "        \"alpha\",\n",
    "        0.0,\n",
    "        1,\n",
    "        shape=6,\n",
    "        testval=np.arange(6),\n",
    "    )\n",
    "\n",
    "    bA = pm.Normal(\"bA\", 0.0, 0.5)\n",
    "    bC = pm.Normal(\"bC\", 0.0, 0.5)\n",
    "    bI = pm.Normal(\"bI\", 0.0, 0.5)\n",
    "    bY = pm.Normal(\"bY_total\", 0.0, 0.5)\n",
    "\n",
    "    phi = bA * A + bC * C + bI * I + bY * Y\n",
    "\n",
    "    resp_obs = pm.OrderedLogistic(\"resp_obs\", phi, cutpoints = alpha, observed=R)\n",
    "\n",
    "    idata_RXY = pm.sample(2000, tune=2000, random_seed=RANDOM_SEED)"
   ]
  },
  {
   "cell_type": "code",
   "execution_count": 31,
   "metadata": {},
   "outputs": [
    {
     "data": {
      "text/html": [
       "<div>\n",
       "<style scoped>\n",
       "    .dataframe tbody tr th:only-of-type {\n",
       "        vertical-align: middle;\n",
       "    }\n",
       "\n",
       "    .dataframe tbody tr th {\n",
       "        vertical-align: top;\n",
       "    }\n",
       "\n",
       "    .dataframe thead th {\n",
       "        text-align: right;\n",
       "    }\n",
       "</style>\n",
       "<table border=\"1\" class=\"dataframe\">\n",
       "  <thead>\n",
       "    <tr style=\"text-align: right;\">\n",
       "      <th></th>\n",
       "      <th>mean</th>\n",
       "      <th>sd</th>\n",
       "      <th>hdi_5.5%</th>\n",
       "      <th>hdi_94.5%</th>\n",
       "      <th>mcse_mean</th>\n",
       "      <th>mcse_sd</th>\n",
       "      <th>ess_bulk</th>\n",
       "      <th>ess_tail</th>\n",
       "      <th>r_hat</th>\n",
       "    </tr>\n",
       "  </thead>\n",
       "  <tbody>\n",
       "    <tr>\n",
       "      <th>bC</th>\n",
       "      <td>-0.93</td>\n",
       "      <td>0.06</td>\n",
       "      <td>-1.02</td>\n",
       "      <td>-0.83</td>\n",
       "      <td>0.0</td>\n",
       "      <td>0.0</td>\n",
       "      <td>1737.00</td>\n",
       "      <td>2375.38</td>\n",
       "      <td>1.00</td>\n",
       "    </tr>\n",
       "    <tr>\n",
       "      <th>bI</th>\n",
       "      <td>-0.72</td>\n",
       "      <td>0.04</td>\n",
       "      <td>-0.78</td>\n",
       "      <td>-0.65</td>\n",
       "      <td>0.0</td>\n",
       "      <td>0.0</td>\n",
       "      <td>1711.62</td>\n",
       "      <td>2519.90</td>\n",
       "      <td>1.00</td>\n",
       "    </tr>\n",
       "    <tr>\n",
       "      <th>bA</th>\n",
       "      <td>-0.68</td>\n",
       "      <td>0.05</td>\n",
       "      <td>-0.76</td>\n",
       "      <td>-0.60</td>\n",
       "      <td>0.0</td>\n",
       "      <td>0.0</td>\n",
       "      <td>1333.84</td>\n",
       "      <td>1760.99</td>\n",
       "      <td>1.01</td>\n",
       "    </tr>\n",
       "    <tr>\n",
       "      <th>bY_total</th>\n",
       "      <td>-0.07</td>\n",
       "      <td>0.02</td>\n",
       "      <td>-0.11</td>\n",
       "      <td>-0.04</td>\n",
       "      <td>0.0</td>\n",
       "      <td>0.0</td>\n",
       "      <td>3636.09</td>\n",
       "      <td>3008.11</td>\n",
       "      <td>1.00</td>\n",
       "    </tr>\n",
       "    <tr>\n",
       "      <th>alpha[0]</th>\n",
       "      <td>-2.80</td>\n",
       "      <td>0.06</td>\n",
       "      <td>-2.89</td>\n",
       "      <td>-2.72</td>\n",
       "      <td>0.0</td>\n",
       "      <td>0.0</td>\n",
       "      <td>993.90</td>\n",
       "      <td>1406.23</td>\n",
       "      <td>1.01</td>\n",
       "    </tr>\n",
       "    <tr>\n",
       "      <th>alpha[1]</th>\n",
       "      <td>-2.14</td>\n",
       "      <td>0.05</td>\n",
       "      <td>-2.22</td>\n",
       "      <td>-2.06</td>\n",
       "      <td>0.0</td>\n",
       "      <td>0.0</td>\n",
       "      <td>916.72</td>\n",
       "      <td>1391.88</td>\n",
       "      <td>1.01</td>\n",
       "    </tr>\n",
       "    <tr>\n",
       "      <th>alpha[2]</th>\n",
       "      <td>-1.55</td>\n",
       "      <td>0.05</td>\n",
       "      <td>-1.62</td>\n",
       "      <td>-1.47</td>\n",
       "      <td>0.0</td>\n",
       "      <td>0.0</td>\n",
       "      <td>910.79</td>\n",
       "      <td>1332.10</td>\n",
       "      <td>1.01</td>\n",
       "    </tr>\n",
       "    <tr>\n",
       "      <th>alpha[3]</th>\n",
       "      <td>-0.53</td>\n",
       "      <td>0.04</td>\n",
       "      <td>-0.60</td>\n",
       "      <td>-0.46</td>\n",
       "      <td>0.0</td>\n",
       "      <td>0.0</td>\n",
       "      <td>867.21</td>\n",
       "      <td>1396.47</td>\n",
       "      <td>1.01</td>\n",
       "    </tr>\n",
       "    <tr>\n",
       "      <th>alpha[4]</th>\n",
       "      <td>0.14</td>\n",
       "      <td>0.04</td>\n",
       "      <td>0.07</td>\n",
       "      <td>0.21</td>\n",
       "      <td>0.0</td>\n",
       "      <td>0.0</td>\n",
       "      <td>885.03</td>\n",
       "      <td>1475.03</td>\n",
       "      <td>1.01</td>\n",
       "    </tr>\n",
       "    <tr>\n",
       "      <th>alpha[5]</th>\n",
       "      <td>1.04</td>\n",
       "      <td>0.05</td>\n",
       "      <td>0.96</td>\n",
       "      <td>1.11</td>\n",
       "      <td>0.0</td>\n",
       "      <td>0.0</td>\n",
       "      <td>1029.91</td>\n",
       "      <td>1714.15</td>\n",
       "      <td>1.01</td>\n",
       "    </tr>\n",
       "  </tbody>\n",
       "</table>\n",
       "</div>"
      ],
      "text/plain": [
       "          mean    sd  hdi_5.5%  hdi_94.5%  mcse_mean  mcse_sd  ess_bulk  \\\n",
       "bC       -0.93  0.06     -1.02      -0.83        0.0      0.0   1737.00   \n",
       "bI       -0.72  0.04     -0.78      -0.65        0.0      0.0   1711.62   \n",
       "bA       -0.68  0.05     -0.76      -0.60        0.0      0.0   1333.84   \n",
       "bY_total -0.07  0.02     -0.11      -0.04        0.0      0.0   3636.09   \n",
       "alpha[0] -2.80  0.06     -2.89      -2.72        0.0      0.0    993.90   \n",
       "alpha[1] -2.14  0.05     -2.22      -2.06        0.0      0.0    916.72   \n",
       "alpha[2] -1.55  0.05     -1.62      -1.47        0.0      0.0    910.79   \n",
       "alpha[3] -0.53  0.04     -0.60      -0.46        0.0      0.0    867.21   \n",
       "alpha[4]  0.14  0.04      0.07       0.21        0.0      0.0    885.03   \n",
       "alpha[5]  1.04  0.05      0.96       1.11        0.0      0.0   1029.91   \n",
       "\n",
       "          ess_tail  r_hat  \n",
       "bC         2375.38   1.00  \n",
       "bI         2519.90   1.00  \n",
       "bA         1760.99   1.01  \n",
       "bY_total   3008.11   1.00  \n",
       "alpha[0]   1406.23   1.01  \n",
       "alpha[1]   1391.88   1.01  \n",
       "alpha[2]   1332.10   1.01  \n",
       "alpha[3]   1396.47   1.01  \n",
       "alpha[4]   1475.03   1.01  \n",
       "alpha[5]   1714.15   1.01  "
      ]
     },
     "execution_count": 31,
     "metadata": {},
     "output_type": "execute_result"
    }
   ],
   "source": [
    "az.summary(idata_RXY, var_names=[\"bC\", \"bI\", \"bA\", \"bY_total\", \"alpha\"], round_to=2)"
   ]
  },
  {
   "cell_type": "markdown",
   "metadata": {
    "deletable": false,
    "editable": false
   },
   "source": [
    "<!-- END QUESTION -->\n",
    "\n",
    "<!-- BEGIN QUESTION -->\n",
    "\n",
    "Now, answer the following questions:\n",
    "\n",
    "* What do you conclude about the causal relationship between education and response? \n",
    "* What do you conclude about the causal relationship between age and response? \n",
    "\n",
    "Be sure to support your conclusions **with distribution plots** of your model's parameter estimates. **There is no need to perform a posterior predictive simulation.**\n",
    "    \n",
    "**Limit your response to no more than 8 sentences.**"
   ]
  },
  {
   "cell_type": "code",
   "execution_count": 32,
   "metadata": {
    "tags": []
   },
   "outputs": [],
   "source": [
    "# Write code here"
   ]
  },
  {
   "cell_type": "code",
   "execution_count": 33,
   "metadata": {},
   "outputs": [
    {
     "data": {
      "text/plain": [
       "array([<Axes: title={'center': 'bE'}>, <Axes: title={'center': 'bY'}>],\n",
       "      dtype=object)"
      ]
     },
     "execution_count": 33,
     "metadata": {},
     "output_type": "execute_result"
    },
    {
     "data": {
      "image/png": "[encoded data removed]",
      "text/plain": [
       "<Figure size 600x520 with 1 Axes>"
      ]
     },
     "metadata": {
      "image/png": {
       "height": 487,
       "width": 531
      }
     },
     "output_type": "display_data"
    },
    {
     "data": {
      "image/png": "[encoded data removed]",
      "text/plain": [
       "<Figure size 1472x552 with 2 Axes>"
      ]
     },
     "metadata": {
      "image/png": {
       "height": 503,
       "width": 1167
      }
     },
     "output_type": "display_data"
    }
   ],
   "source": [
    "az.plot_forest(idata_RXEY, var_names=[\"bE\", \"bY\"], combined=True)\n",
    "az.plot_posterior(idata_RXEY, var_names=[\"bE\", \"bY\"])"
   ]
  },
  {
   "cell_type": "code",
   "execution_count": 34,
   "metadata": {},
   "outputs": [
    {
     "data": {
      "text/plain": [
       "<Axes: title={'center': 'bY_total'}>"
      ]
     },
     "execution_count": 34,
     "metadata": {},
     "output_type": "execute_result"
    },
    {
     "data": {
      "image/png": "[encoded data removed]",
      "text/plain": [
       "<Figure size 600x410 with 1 Axes>"
      ]
     },
     "metadata": {
      "image/png": {
       "height": 402,
       "width": 597
      }
     },
     "output_type": "display_data"
    },
    {
     "data": {
      "image/png": "[encoded data removed]",
      "text/plain": [
       "<Figure size 640x480 with 1 Axes>"
      ]
     },
     "metadata": {
      "image/png": {
       "height": 448,
       "width": 557
      }
     },
     "output_type": "display_data"
    }
   ],
   "source": [
    "az.plot_forest(idata_RXY, var_names=[\"bY_total\"], combined=True)\n",
    "az.plot_posterior(idata_RXY, var_names=[\"bY_total\"])"
   ]
  },
  {
   "cell_type": "markdown",
   "metadata": {},
   "source": [
    "__Answer:__\n",
    "\n",
    "For total and direct causal influence of education on responses, education is positively correlated with responses, while age is negatively correlated with responses.\n",
    "\n",
    "For direct causal influence of age on responses, education is positively correlated with responses, while age is negatively correlated with responses.\n",
    "\n",
    "For total causal influence of age on responses,  age is negatively correlated with responses."
   ]
  },
  {
   "cell_type": "code",
   "execution_count": 35,
   "metadata": {
    "deletable": false,
    "editable": false
   },
   "outputs": [
    {
     "data": {
      "text/html": [
       "<p><strong><pre style='display: inline;'>q3.3</pre></strong> passed! 🌟</p>"
      ],
      "text/plain": [
       "q3.3 results: All test cases passed!"
      ]
     },
     "execution_count": 35,
     "metadata": {},
     "output_type": "execute_result"
    }
   ],
   "source": [
    "grader.check(\"q3.3\")"
   ]
  },
  {
   "cell_type": "markdown",
   "metadata": {
    "deletable": false,
    "editable": false
   },
   "source": [
    "<!-- END QUESTION -->\n",
    "\n"
   ]
  },
  {
   "cell_type": "markdown",
   "metadata": {
    "deletable": false,
    "editable": false
   },
   "source": [
    "## Submission\n",
    "\n",
    "Make sure you have run all cells in your notebook in order before running the cell below, so that all images/graphs appear in the output. The cell below will generate a zip file for you to submit. **Please save before exporting!**"
   ]
  },
  {
   "cell_type": "code",
   "execution_count": 38,
   "metadata": {
    "deletable": false,
    "editable": false
   },
   "outputs": [
    {
     "name": "stdout",
     "output_type": "stream",
     "text": [
      "Running your submission against local test cases...\n",
      "\n"
     ]
    },
    {
     "ename": "KeyboardInterrupt",
     "evalue": "",
     "output_type": "error",
     "traceback": [
      "\u001b[0;31m---------------------------------------------------------------------------\u001b[0m",
      "\u001b[0;31mKeyboardInterrupt\u001b[0m                         Traceback (most recent call last)",
      "Cell \u001b[0;32mIn[38], line 2\u001b[0m\n\u001b[1;32m      1\u001b[0m \u001b[38;5;66;03m# Save your notebook first, then run this cell to export your submission.\u001b[39;00m\n\u001b[0;32m----> 2\u001b[0m \u001b[43mgrader\u001b[49m\u001b[38;5;241;43m.\u001b[39;49m\u001b[43mexport\u001b[49m\u001b[43m(\u001b[49m\u001b[43mrun_tests\u001b[49m\u001b[38;5;241;43m=\u001b[39;49m\u001b[38;5;28;43;01mTrue\u001b[39;49;00m\u001b[43m)\u001b[49m\n",
      "File \u001b[0;32m/opt/conda/envs/fnds/lib/python3.9/site-packages/otter/check/utils.py:184\u001b[0m, in \u001b[0;36mgrading_mode_disabled\u001b[0;34m(wrapped, self, args, kwargs)\u001b[0m\n\u001b[1;32m    182\u001b[0m \u001b[38;5;28;01mif\u001b[39;00m \u001b[38;5;28mtype\u001b[39m(\u001b[38;5;28mself\u001b[39m)\u001b[38;5;241m.\u001b[39m_grading_mode:\n\u001b[1;32m    183\u001b[0m     \u001b[38;5;28;01mreturn\u001b[39;00m\n\u001b[0;32m--> 184\u001b[0m \u001b[38;5;28;01mreturn\u001b[39;00m \u001b[43mwrapped\u001b[49m\u001b[43m(\u001b[49m\u001b[38;5;241;43m*\u001b[39;49m\u001b[43margs\u001b[49m\u001b[43m,\u001b[49m\u001b[43m \u001b[49m\u001b[38;5;241;43m*\u001b[39;49m\u001b[38;5;241;43m*\u001b[39;49m\u001b[43mkwargs\u001b[49m\u001b[43m)\u001b[49m\n",
      "File \u001b[0;32m/opt/conda/envs/fnds/lib/python3.9/site-packages/otter/check/utils.py:166\u001b[0m, in \u001b[0;36mincompatible_with.<locals>.incompatible\u001b[0;34m(wrapped, self, args, kwargs)\u001b[0m\n\u001b[1;32m    164\u001b[0m     \u001b[38;5;28;01melse\u001b[39;00m:\n\u001b[1;32m    165\u001b[0m         \u001b[38;5;28;01mreturn\u001b[39;00m\n\u001b[0;32m--> 166\u001b[0m \u001b[38;5;28;01mreturn\u001b[39;00m \u001b[43mwrapped\u001b[49m\u001b[43m(\u001b[49m\u001b[38;5;241;43m*\u001b[39;49m\u001b[43margs\u001b[49m\u001b[43m,\u001b[49m\u001b[43m \u001b[49m\u001b[38;5;241;43m*\u001b[39;49m\u001b[38;5;241;43m*\u001b[39;49m\u001b[43mkwargs\u001b[49m\u001b[43m)\u001b[49m\n",
      "File \u001b[0;32m/opt/conda/envs/fnds/lib/python3.9/site-packages/otter/check/utils.py:213\u001b[0m, in \u001b[0;36mlogs_event.<locals>.event_logger\u001b[0;34m(wrapped, self, args, kwargs)\u001b[0m\n\u001b[1;32m    208\u001b[0m \u001b[38;5;250m\u001b[39m\u001b[38;5;124;03m\"\"\"\u001b[39;00m\n\u001b[1;32m    209\u001b[0m \u001b[38;5;124;03mRuns a method, catching any errors and logging the call. Returns the unwrapped return value\u001b[39;00m\n\u001b[1;32m    210\u001b[0m \u001b[38;5;124;03mof the wrapped function.\u001b[39;00m\n\u001b[1;32m    211\u001b[0m \u001b[38;5;124;03m\"\"\"\u001b[39;00m\n\u001b[1;32m    212\u001b[0m \u001b[38;5;28;01mtry\u001b[39;00m:\n\u001b[0;32m--> 213\u001b[0m     ret: Optional[LoggedEventReturnValue[T]] \u001b[38;5;241m=\u001b[39m \u001b[43mwrapped\u001b[49m\u001b[43m(\u001b[49m\u001b[38;5;241;43m*\u001b[39;49m\u001b[43margs\u001b[49m\u001b[43m,\u001b[49m\u001b[43m \u001b[49m\u001b[38;5;241;43m*\u001b[39;49m\u001b[38;5;241;43m*\u001b[39;49m\u001b[43mkwargs\u001b[49m\u001b[43m)\u001b[49m\n\u001b[1;32m    215\u001b[0m \u001b[38;5;28;01mexcept\u001b[39;00m \u001b[38;5;167;01mException\u001b[39;00m \u001b[38;5;28;01mas\u001b[39;00m e:\n\u001b[1;32m    216\u001b[0m     \u001b[38;5;28mself\u001b[39m\u001b[38;5;241m.\u001b[39m_log_event(event_type, success\u001b[38;5;241m=\u001b[39m\u001b[38;5;28;01mFalse\u001b[39;00m, error\u001b[38;5;241m=\u001b[39me)\n",
      "File \u001b[0;32m/opt/conda/envs/fnds/lib/python3.9/site-packages/otter/check/notebook.py:526\u001b[0m, in \u001b[0;36mNotebook.export\u001b[0;34m(self, nb_path, export_path, pdf, filtering, pagebreaks, files, display_link, force_save, run_tests)\u001b[0m\n\u001b[1;32m    524\u001b[0m     \u001b[38;5;28;01mif\u001b[39;00m pdf_error \u001b[38;5;129;01mis\u001b[39;00m \u001b[38;5;129;01mnot\u001b[39;00m \u001b[38;5;28;01mNone\u001b[39;00m:\n\u001b[1;32m    525\u001b[0m         \u001b[38;5;28;01mraise\u001b[39;00m pdf_error\n\u001b[0;32m--> 526\u001b[0m     \u001b[43mcontinue_export\u001b[49m\u001b[43m(\u001b[49m\u001b[43m)\u001b[49m\n\u001b[1;32m    527\u001b[0m \u001b[38;5;28;01melse\u001b[39;00m:\n\u001b[1;32m    528\u001b[0m     display_pdf_confirmation_widget(\n\u001b[1;32m    529\u001b[0m         \u001b[38;5;28mself\u001b[39m\u001b[38;5;241m.\u001b[39m_nbmeta_config\u001b[38;5;241m.\u001b[39mexport_pdf_failure_message, pdf_error, continue_export)\n",
      "File \u001b[0;32m/opt/conda/envs/fnds/lib/python3.9/site-packages/otter/check/notebook.py:506\u001b[0m, in \u001b[0;36mNotebook.export.<locals>.continue_export\u001b[0;34m()\u001b[0m\n\u001b[1;32m    504\u001b[0m \u001b[38;5;28;01mif\u001b[39;00m run_tests:\n\u001b[1;32m    505\u001b[0m     \u001b[38;5;28mprint\u001b[39m(\u001b[38;5;124m\"\u001b[39m\u001b[38;5;124mRunning your submission against local test cases...\u001b[39m\u001b[38;5;130;01m\\n\u001b[39;00m\u001b[38;5;124m\"\u001b[39m)\n\u001b[0;32m--> 506\u001b[0m     results \u001b[38;5;241m=\u001b[39m \u001b[43mgrade_zip_file\u001b[49m\u001b[43m(\u001b[49m\u001b[43mzip_path\u001b[49m\u001b[43m,\u001b[49m\u001b[43m \u001b[49m\u001b[43mnb_path\u001b[49m\u001b[43m,\u001b[49m\u001b[43m \u001b[49m\u001b[38;5;28;43mself\u001b[39;49m\u001b[38;5;241;43m.\u001b[39;49m\u001b[43m_tests_dir\u001b[49m\u001b[43m)\u001b[49m\n\u001b[1;32m    507\u001b[0m     \u001b[38;5;28mprint\u001b[39m(\n\u001b[1;32m    508\u001b[0m         \u001b[38;5;124m\"\u001b[39m\u001b[38;5;124mYour submission received the following results when run against \u001b[39m\u001b[38;5;124m\"\u001b[39m \u001b[38;5;241m+\u001b[39m \\\n\u001b[1;32m    509\u001b[0m         \u001b[38;5;124m\"\u001b[39m\u001b[38;5;124mavailable test cases:\u001b[39m\u001b[38;5;130;01m\\n\u001b[39;00m\u001b[38;5;130;01m\\n\u001b[39;00m\u001b[38;5;124m\"\u001b[39m \u001b[38;5;241m+\u001b[39m indent(results\u001b[38;5;241m.\u001b[39msummary(), \u001b[38;5;124m\"\u001b[39m\u001b[38;5;124m    \u001b[39m\u001b[38;5;124m\"\u001b[39m))\n\u001b[1;32m    511\u001b[0m \u001b[38;5;28;01mif\u001b[39;00m display_link:\n\u001b[1;32m    512\u001b[0m     \u001b[38;5;66;03m# create and display output HTML\u001b[39;00m\n",
      "File \u001b[0;32m/opt/conda/envs/fnds/lib/python3.9/site-packages/otter/check/utils.py:98\u001b[0m, in \u001b[0;36mgrade_zip_file\u001b[0;34m(zip_path, nb_arcname, tests_dir)\u001b[0m\n\u001b[1;32m     95\u001b[0m subprocess_env \u001b[38;5;241m=\u001b[39m {\u001b[38;5;241m*\u001b[39m\u001b[38;5;241m*\u001b[39mos\u001b[38;5;241m.\u001b[39menviron, \u001b[38;5;124m\"\u001b[39m\u001b[38;5;124mPYDEVD_DISABLE_FILE_VALIDATION\u001b[39m\u001b[38;5;124m\"\u001b[39m: \u001b[38;5;124m\"\u001b[39m\u001b[38;5;124m1\u001b[39m\u001b[38;5;124m\"\u001b[39m}\n\u001b[1;32m     97\u001b[0m \u001b[38;5;66;03m# run the command\u001b[39;00m\n\u001b[0;32m---> 98\u001b[0m results \u001b[38;5;241m=\u001b[39m \u001b[43mrun\u001b[49m\u001b[43m(\u001b[49m\u001b[43mcommand\u001b[49m\u001b[43m,\u001b[49m\u001b[43m \u001b[49m\u001b[43menv\u001b[49m\u001b[38;5;241;43m=\u001b[39;49m\u001b[43msubprocess_env\u001b[49m\u001b[43m,\u001b[49m\u001b[43m \u001b[49m\u001b[43mstdout\u001b[49m\u001b[38;5;241;43m=\u001b[39;49m\u001b[43mPIPE\u001b[49m\u001b[43m,\u001b[49m\u001b[43m \u001b[49m\u001b[43mstderr\u001b[49m\u001b[38;5;241;43m=\u001b[39;49m\u001b[43mPIPE\u001b[49m\u001b[43m)\u001b[49m\n\u001b[1;32m    100\u001b[0m \u001b[38;5;28mprint\u001b[39m(results\u001b[38;5;241m.\u001b[39mstdout\u001b[38;5;241m.\u001b[39mdecode(\u001b[38;5;124m\"\u001b[39m\u001b[38;5;124mutf-8\u001b[39m\u001b[38;5;124m\"\u001b[39m))\n\u001b[1;32m    102\u001b[0m \u001b[38;5;28;01mif\u001b[39;00m results\u001b[38;5;241m.\u001b[39mstderr:\n",
      "File \u001b[0;32m/opt/conda/envs/fnds/lib/python3.9/subprocess.py:507\u001b[0m, in \u001b[0;36mrun\u001b[0;34m(input, capture_output, timeout, check, *popenargs, **kwargs)\u001b[0m\n\u001b[1;32m    505\u001b[0m \u001b[38;5;28;01mwith\u001b[39;00m Popen(\u001b[38;5;241m*\u001b[39mpopenargs, \u001b[38;5;241m*\u001b[39m\u001b[38;5;241m*\u001b[39mkwargs) \u001b[38;5;28;01mas\u001b[39;00m process:\n\u001b[1;32m    506\u001b[0m     \u001b[38;5;28;01mtry\u001b[39;00m:\n\u001b[0;32m--> 507\u001b[0m         stdout, stderr \u001b[38;5;241m=\u001b[39m \u001b[43mprocess\u001b[49m\u001b[38;5;241;43m.\u001b[39;49m\u001b[43mcommunicate\u001b[49m\u001b[43m(\u001b[49m\u001b[38;5;28;43minput\u001b[39;49m\u001b[43m,\u001b[49m\u001b[43m \u001b[49m\u001b[43mtimeout\u001b[49m\u001b[38;5;241;43m=\u001b[39;49m\u001b[43mtimeout\u001b[49m\u001b[43m)\u001b[49m\n\u001b[1;32m    508\u001b[0m     \u001b[38;5;28;01mexcept\u001b[39;00m TimeoutExpired \u001b[38;5;28;01mas\u001b[39;00m exc:\n\u001b[1;32m    509\u001b[0m         process\u001b[38;5;241m.\u001b[39mkill()\n",
      "File \u001b[0;32m/opt/conda/envs/fnds/lib/python3.9/subprocess.py:1134\u001b[0m, in \u001b[0;36mPopen.communicate\u001b[0;34m(self, input, timeout)\u001b[0m\n\u001b[1;32m   1131\u001b[0m     endtime \u001b[38;5;241m=\u001b[39m \u001b[38;5;28;01mNone\u001b[39;00m\n\u001b[1;32m   1133\u001b[0m \u001b[38;5;28;01mtry\u001b[39;00m:\n\u001b[0;32m-> 1134\u001b[0m     stdout, stderr \u001b[38;5;241m=\u001b[39m \u001b[38;5;28;43mself\u001b[39;49m\u001b[38;5;241;43m.\u001b[39;49m\u001b[43m_communicate\u001b[49m\u001b[43m(\u001b[49m\u001b[38;5;28;43minput\u001b[39;49m\u001b[43m,\u001b[49m\u001b[43m \u001b[49m\u001b[43mendtime\u001b[49m\u001b[43m,\u001b[49m\u001b[43m \u001b[49m\u001b[43mtimeout\u001b[49m\u001b[43m)\u001b[49m\n\u001b[1;32m   1135\u001b[0m \u001b[38;5;28;01mexcept\u001b[39;00m \u001b[38;5;167;01mKeyboardInterrupt\u001b[39;00m:\n\u001b[1;32m   1136\u001b[0m     \u001b[38;5;66;03m# https://bugs.python.org/issue25942\u001b[39;00m\n\u001b[1;32m   1137\u001b[0m     \u001b[38;5;66;03m# See the detailed comment in .wait().\u001b[39;00m\n\u001b[1;32m   1138\u001b[0m     \u001b[38;5;28;01mif\u001b[39;00m timeout \u001b[38;5;129;01mis\u001b[39;00m \u001b[38;5;129;01mnot\u001b[39;00m \u001b[38;5;28;01mNone\u001b[39;00m:\n",
      "File \u001b[0;32m/opt/conda/envs/fnds/lib/python3.9/subprocess.py:1995\u001b[0m, in \u001b[0;36mPopen._communicate\u001b[0;34m(self, input, endtime, orig_timeout)\u001b[0m\n\u001b[1;32m   1988\u001b[0m     \u001b[38;5;28mself\u001b[39m\u001b[38;5;241m.\u001b[39m_check_timeout(endtime, orig_timeout,\n\u001b[1;32m   1989\u001b[0m                         stdout, stderr,\n\u001b[1;32m   1990\u001b[0m                         skip_check_and_raise\u001b[38;5;241m=\u001b[39m\u001b[38;5;28;01mTrue\u001b[39;00m)\n\u001b[1;32m   1991\u001b[0m     \u001b[38;5;28;01mraise\u001b[39;00m \u001b[38;5;167;01mRuntimeError\u001b[39;00m(  \u001b[38;5;66;03m# Impossible :)\u001b[39;00m\n\u001b[1;32m   1992\u001b[0m         \u001b[38;5;124m'\u001b[39m\u001b[38;5;124m_check_timeout(..., skip_check_and_raise=True) \u001b[39m\u001b[38;5;124m'\u001b[39m\n\u001b[1;32m   1993\u001b[0m         \u001b[38;5;124m'\u001b[39m\u001b[38;5;124mfailed to raise TimeoutExpired.\u001b[39m\u001b[38;5;124m'\u001b[39m)\n\u001b[0;32m-> 1995\u001b[0m ready \u001b[38;5;241m=\u001b[39m \u001b[43mselector\u001b[49m\u001b[38;5;241;43m.\u001b[39;49m\u001b[43mselect\u001b[49m\u001b[43m(\u001b[49m\u001b[43mtimeout\u001b[49m\u001b[43m)\u001b[49m\n\u001b[1;32m   1996\u001b[0m \u001b[38;5;28mself\u001b[39m\u001b[38;5;241m.\u001b[39m_check_timeout(endtime, orig_timeout, stdout, stderr)\n\u001b[1;32m   1998\u001b[0m \u001b[38;5;66;03m# XXX Rewrite these to use non-blocking I/O on the file\u001b[39;00m\n\u001b[1;32m   1999\u001b[0m \u001b[38;5;66;03m# objects; they are no longer using C stdio!\u001b[39;00m\n",
      "File \u001b[0;32m/opt/conda/envs/fnds/lib/python3.9/selectors.py:416\u001b[0m, in \u001b[0;36m_PollLikeSelector.select\u001b[0;34m(self, timeout)\u001b[0m\n\u001b[1;32m    414\u001b[0m ready \u001b[38;5;241m=\u001b[39m []\n\u001b[1;32m    415\u001b[0m \u001b[38;5;28;01mtry\u001b[39;00m:\n\u001b[0;32m--> 416\u001b[0m     fd_event_list \u001b[38;5;241m=\u001b[39m \u001b[38;5;28;43mself\u001b[39;49m\u001b[38;5;241;43m.\u001b[39;49m\u001b[43m_selector\u001b[49m\u001b[38;5;241;43m.\u001b[39;49m\u001b[43mpoll\u001b[49m\u001b[43m(\u001b[49m\u001b[43mtimeout\u001b[49m\u001b[43m)\u001b[49m\n\u001b[1;32m    417\u001b[0m \u001b[38;5;28;01mexcept\u001b[39;00m \u001b[38;5;167;01mInterruptedError\u001b[39;00m:\n\u001b[1;32m    418\u001b[0m     \u001b[38;5;28;01mreturn\u001b[39;00m ready\n",
      "\u001b[0;31mKeyboardInterrupt\u001b[0m: "
     ]
    }
   ],
   "source": [
    "# Save your notebook first, then run this cell to export your submission.\n",
    "grader.export(run_tests=True)"
   ]
  },
  {
   "cell_type": "markdown",
   "metadata": {},
   "source": [
    " "
   ]
  }
 ],
 "metadata": {
  "kernelspec": {
   "display_name": "Python [conda env:fnds]",
   "language": "python",
   "name": "conda-env-fnds-py"
  },
  "language_info": {
   "codemirror_mode": {
    "name": "ipython",
    "version": 3
   },
   "file_extension": ".py",
   "mimetype": "text/x-python",
   "name": "python",
   "nbconvert_exporter": "python",
   "pygments_lexer": "ipython3",
   "version": "3.9.19"
  },
  "otter": {
   "OK_FORMAT": true,
   "assignment_name": "hw6",
   "tests": {
    "q3.3": {
     "name": "q3.3",
     "points": null,
     "suites": [
      {
       "cases": [],
       "scored": true,
       "setup": "",
       "teardown": "",
       "type": "doctest"
      }
     ]
    }
   }
  }
 },
 "nbformat": 4,
 "nbformat_minor": 4
}
