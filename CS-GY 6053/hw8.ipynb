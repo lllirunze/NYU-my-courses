{
 "cells": [
  {
   "cell_type": "code",
   "execution_count": 1,
   "metadata": {
    "deletable": false,
    "editable": false
   },
   "outputs": [],
   "source": [
    "# Initialize Otter\n",
    "import otter\n",
    "grader = otter.Notebook(\"hw8.ipynb\")"
   ]
  },
  {
   "cell_type": "markdown",
   "metadata": {},
   "source": [
    "## Homework #8"
   ]
  },
  {
   "cell_type": "markdown",
   "metadata": {},
   "source": [
    "*Please edit the cell below to add your name, NetID, and any group members that you collaborated with on this assignment.* **Complete this section before proceeding to the assignment questions.**"
   ]
  },
  {
   "cell_type": "markdown",
   "metadata": {},
   "source": [
    "Name: Runze Li  \n",
    "NetID: rl50xx  \n",
    "Group Members: None   \n",
    "***"
   ]
  },
  {
   "cell_type": "code",
   "execution_count": 2,
   "metadata": {},
   "outputs": [],
   "source": [
    "# Set random seed and ensure plots are displayed in the notebook\n",
    "import numpy as np\n",
    "import arviz as az\n",
    "rnd_seed = 42\n",
    "np.random.seed(rnd_seed)\n",
    "%matplotlib inline\n",
    "\n",
    "%config Inline.figure_format = 'retina'\n",
    "az.rcParams[\"stats.hdi_prob\"] = 0.89  # sets default credible interval used by arviz"
   ]
  },
  {
   "cell_type": "code",
   "execution_count": 3,
   "metadata": {},
   "outputs": [],
   "source": [
    "# utility function for standardizing variables\n",
    "def standardize(series):\n",
    "    return (series - series.mean()) / series.std()"
   ]
  },
  {
   "cell_type": "markdown",
   "metadata": {
    "deletable": false,
    "editable": false
   },
   "source": [
    "<!-- BEGIN QUESTION -->\n",
    "\n",
    "**Question 1 (30 points).** Multilevel models can be useful for modeling time series.\n",
    "\n",
    "In a time series, the observations cluster by entities that have continuity through time, such as individuals. Since observations within individuals are likely highly correlated, the multilevel structure can help quite a lot.\n",
    "\n",
    "You’ll use the data in *Data/Oxboys.csv*, which is 234 height measurements on 26 boys from an Oxford Boys Club, at 9 different (standardized) ages per boy.\n",
    "\n",
    "You’ll predict height, using age as a predictor, clustered by Subject (individual boy). \n"
   ]
  },
  {
   "cell_type": "markdown",
   "metadata": {
    "deletable": false,
    "editable": false
   },
   "source": [
    "* Fit a model with varying intercepts and slopes (on age), clustered by Subject. This means your model will have as many intercepts and slopes as Subjects in the dataset. \n",
    "* **Define population mean parameters for both the intercepts and slopes** as estimating both parameters will be useful for Question 3. \n",
    "* Define your model such that you are able to estimate the correlation between intercepts and slopes shared across the Subjects in the dataset.\n",
    "* Use `pymc.LKJCorr(4)` for the prior of the correlation matrix. \n",
    "* **There is no need to perform a prior predictive simulation for this assignment.**"
   ]
  },
  {
   "cell_type": "markdown",
   "metadata": {
    "deletable": false,
    "editable": false
   },
   "source": [
    "Note: Using a centered parameterization for your model should result in a good posterior approximation, so there is no need to define your model using the non-centering trick (shown in lecture) for this model. "
   ]
  },
  {
   "cell_type": "markdown",
   "metadata": {},
   "source": [
    "__Answer:__\n",
    "\n",
    "We set up the following model:\n",
    "\n",
    "- $h_i \\sim Normal(p_i, \\sigma_h)$\n",
    "- $p_i = \\alpha_{S[i]} + \\beta_{S[i]} * A$\n",
    "- $\\sigma_h \\sim Normal(0, 1)$\n",
    "- $[\\alpha_j, \\beta_j] \\sim MvNormal([ \\bar{\\alpha}, \\bar{\\beta} ], \\sum)$\n",
    "- $\\sum = diag([\\sigma_a, \\sigma_b])~\\rho~diag([\\sigma_a, \\sigma_b]) $\n",
    "- $\\bar{\\alpha}, \\bar{\\beta} \\sim Normal(0, 1)$\n",
    "- $\\sigma_a, \\sigma_b \\sim Exponential(1)$\n",
    "- $\\rho \\sim LKJCorr(4)$"
   ]
  },
  {
   "cell_type": "code",
   "execution_count": 4,
   "metadata": {
    "tags": []
   },
   "outputs": [],
   "source": [
    "# Write code here\n",
    "import warnings\n",
    "\n",
    "import arviz as az\n",
    "import matplotlib.pyplot as plt\n",
    "import numpy as np\n",
    "import pandas as pd\n",
    "import pymc as pm\n",
    "import pytensor.tensor as pt\n",
    "import seaborn as sns\n",
    "from scipy import stats"
   ]
  },
  {
   "cell_type": "code",
   "execution_count": 6,
   "metadata": {},
   "outputs": [
    {
     "data": {
      "text/html": [
       "<div>\n",
       "<style scoped>\n",
       "    .dataframe tbody tr th:only-of-type {\n",
       "        vertical-align: middle;\n",
       "    }\n",
       "\n",
       "    .dataframe tbody tr th {\n",
       "        vertical-align: top;\n",
       "    }\n",
       "\n",
       "    .dataframe thead th {\n",
       "        text-align: right;\n",
       "    }\n",
       "</style>\n",
       "<table border=\"1\" class=\"dataframe\">\n",
       "  <thead>\n",
       "    <tr style=\"text-align: right;\">\n",
       "      <th></th>\n",
       "      <th>Subject</th>\n",
       "      <th>age</th>\n",
       "      <th>height</th>\n",
       "      <th>Occasion</th>\n",
       "    </tr>\n",
       "  </thead>\n",
       "  <tbody>\n",
       "    <tr>\n",
       "      <th>0</th>\n",
       "      <td>1</td>\n",
       "      <td>-1.0000</td>\n",
       "      <td>140.5</td>\n",
       "      <td>1</td>\n",
       "    </tr>\n",
       "    <tr>\n",
       "      <th>1</th>\n",
       "      <td>1</td>\n",
       "      <td>-0.7479</td>\n",
       "      <td>143.4</td>\n",
       "      <td>2</td>\n",
       "    </tr>\n",
       "    <tr>\n",
       "      <th>2</th>\n",
       "      <td>1</td>\n",
       "      <td>-0.4630</td>\n",
       "      <td>144.8</td>\n",
       "      <td>3</td>\n",
       "    </tr>\n",
       "    <tr>\n",
       "      <th>3</th>\n",
       "      <td>1</td>\n",
       "      <td>-0.1643</td>\n",
       "      <td>147.1</td>\n",
       "      <td>4</td>\n",
       "    </tr>\n",
       "    <tr>\n",
       "      <th>4</th>\n",
       "      <td>1</td>\n",
       "      <td>-0.0027</td>\n",
       "      <td>147.7</td>\n",
       "      <td>5</td>\n",
       "    </tr>\n",
       "  </tbody>\n",
       "</table>\n",
       "</div>"
      ],
      "text/plain": [
       "   Subject     age  height  Occasion\n",
       "0        1 -1.0000   140.5         1\n",
       "1        1 -0.7479   143.4         2\n",
       "2        1 -0.4630   144.8         3\n",
       "3        1 -0.1643   147.1         4\n",
       "4        1 -0.0027   147.7         5"
      ]
     },
     "execution_count": 6,
     "metadata": {},
     "output_type": "execute_result"
    }
   ],
   "source": [
    "df = pd.read_csv(\"Data/Oxboys.csv\", header=0)\n",
    "df.head()"
   ]
  },
  {
   "cell_type": "code",
   "execution_count": 7,
   "metadata": {},
   "outputs": [],
   "source": [
    "S = df.Subject-1\n",
    "N_subjects = df.Subject.max()-df.Subject.min()+1\n",
    "A = df.age\n",
    "H = df.height"
   ]
  },
  {
   "cell_type": "code",
   "execution_count": 9,
   "metadata": {},
   "outputs": [
    {
     "name": "stderr",
     "output_type": "stream",
     "text": [
      "Auto-assigning NUTS sampler...\n",
      "Initializing NUTS using jitter+adapt_diag...\n",
      "Sequential sampling (2 chains in 1 job)\n",
      "NUTS: [corr, sigma, abar, bbar, ab_district, sigma_h]\n"
     ]
    },
    {
     "data": {
      "text/html": [
       "\n",
       "<style>\n",
       "    /* Turns off some styling */\n",
       "    progress {\n",
       "        /* gets rid of default border in Firefox and Opera. */\n",
       "        border: none;\n",
       "        /* Needs to be in here for Safari polyfill so background images work as expected. */\n",
       "        background-size: auto;\n",
       "    }\n",
       "    progress:not([value]), progress:not([value])::-webkit-progress-bar {\n",
       "        background: repeating-linear-gradient(45deg, #7e7e7e, #7e7e7e 10px, #5c5c5c 10px, #5c5c5c 20px);\n",
       "    }\n",
       "    .progress-bar-interrupted, .progress-bar-interrupted::-webkit-progress-bar {\n",
       "        background: #F44336;\n",
       "    }\n",
       "</style>\n"
      ],
      "text/plain": [
       "<IPython.core.display.HTML object>"
      ]
     },
     "metadata": {},
     "output_type": "display_data"
    },
    {
     "data": {
      "text/html": [
       "\n",
       "    <div>\n",
       "      <progress value='2000' class='' max='2000' style='width:300px; height:20px; vertical-align: middle;'></progress>\n",
       "      100.00% [2000/2000 03:09&lt;00:00 Sampling chain 0, 0 divergences]\n",
       "    </div>\n",
       "    "
      ],
      "text/plain": [
       "<IPython.core.display.HTML object>"
      ]
     },
     "metadata": {},
     "output_type": "display_data"
    },
    {
     "data": {
      "text/html": [
       "\n",
       "<style>\n",
       "    /* Turns off some styling */\n",
       "    progress {\n",
       "        /* gets rid of default border in Firefox and Opera. */\n",
       "        border: none;\n",
       "        /* Needs to be in here for Safari polyfill so background images work as expected. */\n",
       "        background-size: auto;\n",
       "    }\n",
       "    progress:not([value]), progress:not([value])::-webkit-progress-bar {\n",
       "        background: repeating-linear-gradient(45deg, #7e7e7e, #7e7e7e 10px, #5c5c5c 10px, #5c5c5c 20px);\n",
       "    }\n",
       "    .progress-bar-interrupted, .progress-bar-interrupted::-webkit-progress-bar {\n",
       "        background: #F44336;\n",
       "    }\n",
       "</style>\n"
      ],
      "text/plain": [
       "<IPython.core.display.HTML object>"
      ]
     },
     "metadata": {},
     "output_type": "display_data"
    },
    {
     "data": {
      "text/html": [
       "\n",
       "    <div>\n",
       "      <progress value='2000' class='' max='2000' style='width:300px; height:20px; vertical-align: middle;'></progress>\n",
       "      100.00% [2000/2000 03:37&lt;00:00 Sampling chain 1, 0 divergences]\n",
       "    </div>\n",
       "    "
      ],
      "text/plain": [
       "<IPython.core.display.HTML object>"
      ]
     },
     "metadata": {},
     "output_type": "display_data"
    },
    {
     "name": "stderr",
     "output_type": "stream",
     "text": [
      "Sampling 2 chains for 1_000 tune and 1_000 draw iterations (2_000 + 2_000 draws total) took 407 seconds.\n",
      "We recommend running at least 4 chains for robust computation of convergence diagnostics\n"
     ]
    }
   ],
   "source": [
    "with pm.Model() as mSAHcov:\n",
    "    Rho_ = pm.LKJCorr(\"corr\", n=2, eta=4) # prior for correlation matrix\n",
    "    Rmat = pm.Deterministic(\"Rho\", pt.stack([[1, Rho_[0]], [Rho_[0], 1]])) # correlation matrix\n",
    "    sigma_ = pm.Exponential(\"sigma\", 1, shape=2)\n",
    "\n",
    "    Sigma = pm.math.dot(\n",
    "                    pm.math.dot(pt.diag(sigma_), Rmat),\n",
    "                    pt.diag(sigma_)\n",
    "    )\n",
    "    \n",
    "    abar = pm.Normal(\"abar\")\n",
    "    bbar = pm.Normal(\"bbar\")\n",
    "\n",
    "    ab_district = pm.MvNormal(\"ab_district\", mu=pt.stack([abar, bbar]), cov=Sigma, shape=(N_subjects, 2)) \n",
    "    a = pm.Deterministic(\"a\", ab_district[:, 0]) # intercept\n",
    "    b = pm.Deterministic(\"b\", ab_district[:, 1]) # slope\n",
    "\n",
    "    p = pm.Deterministic(\"p\", a[S] + b[S] * A)\n",
    "\n",
    "    sigma_h = pm.Exponential(\"sigma_h\", 1)\n",
    "\n",
    "    h_use = pm.Normal(\"h_use\", mu=p, sigma=sigma_h, observed=H)  # observed continuous data\n",
    "\n",
    "    idata_SAHcov = pm.sample()"
   ]
  },
  {
   "cell_type": "code",
   "execution_count": 10,
   "metadata": {},
   "outputs": [
    {
     "data": {
      "text/html": [
       "<div>\n",
       "<style scoped>\n",
       "    .dataframe tbody tr th:only-of-type {\n",
       "        vertical-align: middle;\n",
       "    }\n",
       "\n",
       "    .dataframe tbody tr th {\n",
       "        vertical-align: top;\n",
       "    }\n",
       "\n",
       "    .dataframe thead th {\n",
       "        text-align: right;\n",
       "    }\n",
       "</style>\n",
       "<table border=\"1\" class=\"dataframe\">\n",
       "  <thead>\n",
       "    <tr style=\"text-align: right;\">\n",
       "      <th></th>\n",
       "      <th>mean</th>\n",
       "      <th>sd</th>\n",
       "      <th>hdi_5.5%</th>\n",
       "      <th>hdi_94.5%</th>\n",
       "      <th>mcse_mean</th>\n",
       "      <th>mcse_sd</th>\n",
       "      <th>ess_bulk</th>\n",
       "      <th>ess_tail</th>\n",
       "      <th>r_hat</th>\n",
       "    </tr>\n",
       "  </thead>\n",
       "  <tbody>\n",
       "    <tr>\n",
       "      <th>a[0]</th>\n",
       "      <td>148.127</td>\n",
       "      <td>0.217</td>\n",
       "      <td>147.788</td>\n",
       "      <td>148.470</td>\n",
       "      <td>0.003</td>\n",
       "      <td>0.002</td>\n",
       "      <td>3852.0</td>\n",
       "      <td>1407.0</td>\n",
       "      <td>1.00</td>\n",
       "    </tr>\n",
       "    <tr>\n",
       "      <th>a[1]</th>\n",
       "      <td>142.856</td>\n",
       "      <td>0.219</td>\n",
       "      <td>142.503</td>\n",
       "      <td>143.189</td>\n",
       "      <td>0.003</td>\n",
       "      <td>0.002</td>\n",
       "      <td>4214.0</td>\n",
       "      <td>1310.0</td>\n",
       "      <td>1.00</td>\n",
       "    </tr>\n",
       "    <tr>\n",
       "      <th>a[2]</th>\n",
       "      <td>155.654</td>\n",
       "      <td>0.219</td>\n",
       "      <td>155.311</td>\n",
       "      <td>156.017</td>\n",
       "      <td>0.003</td>\n",
       "      <td>0.002</td>\n",
       "      <td>4297.0</td>\n",
       "      <td>1060.0</td>\n",
       "      <td>1.00</td>\n",
       "    </tr>\n",
       "    <tr>\n",
       "      <th>a[3]</th>\n",
       "      <td>165.071</td>\n",
       "      <td>0.229</td>\n",
       "      <td>164.699</td>\n",
       "      <td>165.424</td>\n",
       "      <td>0.003</td>\n",
       "      <td>0.002</td>\n",
       "      <td>4961.0</td>\n",
       "      <td>1067.0</td>\n",
       "      <td>1.00</td>\n",
       "    </tr>\n",
       "    <tr>\n",
       "      <th>a[4]</th>\n",
       "      <td>151.430</td>\n",
       "      <td>0.228</td>\n",
       "      <td>151.044</td>\n",
       "      <td>151.781</td>\n",
       "      <td>0.003</td>\n",
       "      <td>0.002</td>\n",
       "      <td>5009.0</td>\n",
       "      <td>1453.0</td>\n",
       "      <td>1.00</td>\n",
       "    </tr>\n",
       "    <tr>\n",
       "      <th>a[5]</th>\n",
       "      <td>146.786</td>\n",
       "      <td>0.225</td>\n",
       "      <td>146.420</td>\n",
       "      <td>147.131</td>\n",
       "      <td>0.004</td>\n",
       "      <td>0.003</td>\n",
       "      <td>3906.0</td>\n",
       "      <td>1398.0</td>\n",
       "      <td>1.00</td>\n",
       "    </tr>\n",
       "    <tr>\n",
       "      <th>a[6]</th>\n",
       "      <td>146.128</td>\n",
       "      <td>0.223</td>\n",
       "      <td>145.807</td>\n",
       "      <td>146.509</td>\n",
       "      <td>0.004</td>\n",
       "      <td>0.002</td>\n",
       "      <td>3966.0</td>\n",
       "      <td>1457.0</td>\n",
       "      <td>1.00</td>\n",
       "    </tr>\n",
       "    <tr>\n",
       "      <th>a[7]</th>\n",
       "      <td>148.291</td>\n",
       "      <td>0.218</td>\n",
       "      <td>147.900</td>\n",
       "      <td>148.594</td>\n",
       "      <td>0.003</td>\n",
       "      <td>0.002</td>\n",
       "      <td>4049.0</td>\n",
       "      <td>1565.0</td>\n",
       "      <td>1.00</td>\n",
       "    </tr>\n",
       "    <tr>\n",
       "      <th>a[8]</th>\n",
       "      <td>138.140</td>\n",
       "      <td>0.223</td>\n",
       "      <td>137.795</td>\n",
       "      <td>138.498</td>\n",
       "      <td>0.003</td>\n",
       "      <td>0.002</td>\n",
       "      <td>4511.0</td>\n",
       "      <td>1419.0</td>\n",
       "      <td>1.00</td>\n",
       "    </tr>\n",
       "    <tr>\n",
       "      <th>a[9]</th>\n",
       "      <td>130.260</td>\n",
       "      <td>0.222</td>\n",
       "      <td>129.910</td>\n",
       "      <td>130.611</td>\n",
       "      <td>0.004</td>\n",
       "      <td>0.003</td>\n",
       "      <td>3698.0</td>\n",
       "      <td>1318.0</td>\n",
       "      <td>1.00</td>\n",
       "    </tr>\n",
       "    <tr>\n",
       "      <th>a[10]</th>\n",
       "      <td>150.046</td>\n",
       "      <td>0.218</td>\n",
       "      <td>149.708</td>\n",
       "      <td>150.410</td>\n",
       "      <td>0.003</td>\n",
       "      <td>0.002</td>\n",
       "      <td>4317.0</td>\n",
       "      <td>1262.0</td>\n",
       "      <td>1.00</td>\n",
       "    </tr>\n",
       "    <tr>\n",
       "      <th>a[11]</th>\n",
       "      <td>156.814</td>\n",
       "      <td>0.222</td>\n",
       "      <td>156.455</td>\n",
       "      <td>157.154</td>\n",
       "      <td>0.004</td>\n",
       "      <td>0.003</td>\n",
       "      <td>3697.0</td>\n",
       "      <td>1381.0</td>\n",
       "      <td>1.00</td>\n",
       "    </tr>\n",
       "    <tr>\n",
       "      <th>a[12]</th>\n",
       "      <td>156.070</td>\n",
       "      <td>0.230</td>\n",
       "      <td>155.718</td>\n",
       "      <td>156.451</td>\n",
       "      <td>0.003</td>\n",
       "      <td>0.002</td>\n",
       "      <td>4430.0</td>\n",
       "      <td>1345.0</td>\n",
       "      <td>1.00</td>\n",
       "    </tr>\n",
       "    <tr>\n",
       "      <th>a[13]</th>\n",
       "      <td>159.477</td>\n",
       "      <td>0.225</td>\n",
       "      <td>159.104</td>\n",
       "      <td>159.817</td>\n",
       "      <td>0.004</td>\n",
       "      <td>0.003</td>\n",
       "      <td>4005.0</td>\n",
       "      <td>1325.0</td>\n",
       "      <td>1.00</td>\n",
       "    </tr>\n",
       "    <tr>\n",
       "      <th>a[14]</th>\n",
       "      <td>144.272</td>\n",
       "      <td>0.224</td>\n",
       "      <td>143.910</td>\n",
       "      <td>144.600</td>\n",
       "      <td>0.003</td>\n",
       "      <td>0.002</td>\n",
       "      <td>5368.0</td>\n",
       "      <td>1271.0</td>\n",
       "      <td>1.00</td>\n",
       "    </tr>\n",
       "    <tr>\n",
       "      <th>a[15]</th>\n",
       "      <td>147.540</td>\n",
       "      <td>0.222</td>\n",
       "      <td>147.186</td>\n",
       "      <td>147.884</td>\n",
       "      <td>0.004</td>\n",
       "      <td>0.003</td>\n",
       "      <td>3509.0</td>\n",
       "      <td>1335.0</td>\n",
       "      <td>1.00</td>\n",
       "    </tr>\n",
       "    <tr>\n",
       "      <th>a[16]</th>\n",
       "      <td>142.983</td>\n",
       "      <td>0.219</td>\n",
       "      <td>142.640</td>\n",
       "      <td>143.329</td>\n",
       "      <td>0.003</td>\n",
       "      <td>0.002</td>\n",
       "      <td>4318.0</td>\n",
       "      <td>1316.0</td>\n",
       "      <td>1.00</td>\n",
       "    </tr>\n",
       "    <tr>\n",
       "      <th>a[17]</th>\n",
       "      <td>151.177</td>\n",
       "      <td>0.219</td>\n",
       "      <td>150.817</td>\n",
       "      <td>151.482</td>\n",
       "      <td>0.003</td>\n",
       "      <td>0.002</td>\n",
       "      <td>4592.0</td>\n",
       "      <td>1161.0</td>\n",
       "      <td>1.01</td>\n",
       "    </tr>\n",
       "    <tr>\n",
       "      <th>a[18]</th>\n",
       "      <td>164.580</td>\n",
       "      <td>0.217</td>\n",
       "      <td>164.238</td>\n",
       "      <td>164.933</td>\n",
       "      <td>0.003</td>\n",
       "      <td>0.002</td>\n",
       "      <td>4345.0</td>\n",
       "      <td>1487.0</td>\n",
       "      <td>1.00</td>\n",
       "    </tr>\n",
       "    <tr>\n",
       "      <th>a[19]</th>\n",
       "      <td>151.468</td>\n",
       "      <td>0.215</td>\n",
       "      <td>151.110</td>\n",
       "      <td>151.789</td>\n",
       "      <td>0.003</td>\n",
       "      <td>0.002</td>\n",
       "      <td>4422.0</td>\n",
       "      <td>1436.0</td>\n",
       "      <td>1.00</td>\n",
       "    </tr>\n",
       "    <tr>\n",
       "      <th>a[20]</th>\n",
       "      <td>150.522</td>\n",
       "      <td>0.218</td>\n",
       "      <td>150.167</td>\n",
       "      <td>150.854</td>\n",
       "      <td>0.003</td>\n",
       "      <td>0.002</td>\n",
       "      <td>4461.0</td>\n",
       "      <td>1251.0</td>\n",
       "      <td>1.00</td>\n",
       "    </tr>\n",
       "    <tr>\n",
       "      <th>a[21]</th>\n",
       "      <td>154.564</td>\n",
       "      <td>0.232</td>\n",
       "      <td>154.216</td>\n",
       "      <td>154.950</td>\n",
       "      <td>0.004</td>\n",
       "      <td>0.003</td>\n",
       "      <td>3851.0</td>\n",
       "      <td>1252.0</td>\n",
       "      <td>1.00</td>\n",
       "    </tr>\n",
       "    <tr>\n",
       "      <th>a[22]</th>\n",
       "      <td>151.063</td>\n",
       "      <td>0.214</td>\n",
       "      <td>150.749</td>\n",
       "      <td>151.414</td>\n",
       "      <td>0.003</td>\n",
       "      <td>0.002</td>\n",
       "      <td>4427.0</td>\n",
       "      <td>1237.0</td>\n",
       "      <td>1.00</td>\n",
       "    </tr>\n",
       "    <tr>\n",
       "      <th>a[23]</th>\n",
       "      <td>153.144</td>\n",
       "      <td>0.223</td>\n",
       "      <td>152.784</td>\n",
       "      <td>153.485</td>\n",
       "      <td>0.003</td>\n",
       "      <td>0.002</td>\n",
       "      <td>4548.0</td>\n",
       "      <td>1171.0</td>\n",
       "      <td>1.00</td>\n",
       "    </tr>\n",
       "    <tr>\n",
       "      <th>a[24]</th>\n",
       "      <td>139.211</td>\n",
       "      <td>0.217</td>\n",
       "      <td>138.864</td>\n",
       "      <td>139.564</td>\n",
       "      <td>0.003</td>\n",
       "      <td>0.002</td>\n",
       "      <td>3973.0</td>\n",
       "      <td>1664.0</td>\n",
       "      <td>1.00</td>\n",
       "    </tr>\n",
       "    <tr>\n",
       "      <th>a[25]</th>\n",
       "      <td>138.000</td>\n",
       "      <td>0.224</td>\n",
       "      <td>137.647</td>\n",
       "      <td>138.367</td>\n",
       "      <td>0.004</td>\n",
       "      <td>0.003</td>\n",
       "      <td>3711.0</td>\n",
       "      <td>1111.0</td>\n",
       "      <td>1.00</td>\n",
       "    </tr>\n",
       "    <tr>\n",
       "      <th>b[0]</th>\n",
       "      <td>7.146</td>\n",
       "      <td>0.331</td>\n",
       "      <td>6.583</td>\n",
       "      <td>7.617</td>\n",
       "      <td>0.005</td>\n",
       "      <td>0.004</td>\n",
       "      <td>4024.0</td>\n",
       "      <td>1548.0</td>\n",
       "      <td>1.00</td>\n",
       "    </tr>\n",
       "    <tr>\n",
       "      <th>b[1]</th>\n",
       "      <td>5.478</td>\n",
       "      <td>0.317</td>\n",
       "      <td>4.945</td>\n",
       "      <td>5.960</td>\n",
       "      <td>0.005</td>\n",
       "      <td>0.004</td>\n",
       "      <td>3335.0</td>\n",
       "      <td>1254.0</td>\n",
       "      <td>1.00</td>\n",
       "    </tr>\n",
       "    <tr>\n",
       "      <th>b[2]</th>\n",
       "      <td>4.855</td>\n",
       "      <td>0.336</td>\n",
       "      <td>4.309</td>\n",
       "      <td>5.377</td>\n",
       "      <td>0.005</td>\n",
       "      <td>0.004</td>\n",
       "      <td>3763.0</td>\n",
       "      <td>1361.0</td>\n",
       "      <td>1.00</td>\n",
       "    </tr>\n",
       "    <tr>\n",
       "      <th>b[3]</th>\n",
       "      <td>9.268</td>\n",
       "      <td>0.340</td>\n",
       "      <td>8.750</td>\n",
       "      <td>9.786</td>\n",
       "      <td>0.005</td>\n",
       "      <td>0.004</td>\n",
       "      <td>4048.0</td>\n",
       "      <td>1284.0</td>\n",
       "      <td>1.00</td>\n",
       "    </tr>\n",
       "    <tr>\n",
       "      <th>b[4]</th>\n",
       "      <td>6.249</td>\n",
       "      <td>0.344</td>\n",
       "      <td>5.730</td>\n",
       "      <td>6.797</td>\n",
       "      <td>0.006</td>\n",
       "      <td>0.004</td>\n",
       "      <td>3593.0</td>\n",
       "      <td>904.0</td>\n",
       "      <td>1.00</td>\n",
       "    </tr>\n",
       "    <tr>\n",
       "      <th>b[5]</th>\n",
       "      <td>4.058</td>\n",
       "      <td>0.331</td>\n",
       "      <td>3.571</td>\n",
       "      <td>4.651</td>\n",
       "      <td>0.005</td>\n",
       "      <td>0.004</td>\n",
       "      <td>4214.0</td>\n",
       "      <td>1363.0</td>\n",
       "      <td>1.00</td>\n",
       "    </tr>\n",
       "    <tr>\n",
       "      <th>b[6]</th>\n",
       "      <td>5.044</td>\n",
       "      <td>0.343</td>\n",
       "      <td>4.480</td>\n",
       "      <td>5.571</td>\n",
       "      <td>0.005</td>\n",
       "      <td>0.004</td>\n",
       "      <td>4672.0</td>\n",
       "      <td>1247.0</td>\n",
       "      <td>1.00</td>\n",
       "    </tr>\n",
       "    <tr>\n",
       "      <th>b[7]</th>\n",
       "      <td>6.463</td>\n",
       "      <td>0.340</td>\n",
       "      <td>5.934</td>\n",
       "      <td>7.003</td>\n",
       "      <td>0.005</td>\n",
       "      <td>0.004</td>\n",
       "      <td>4082.0</td>\n",
       "      <td>1656.0</td>\n",
       "      <td>1.00</td>\n",
       "    </tr>\n",
       "    <tr>\n",
       "      <th>b[8]</th>\n",
       "      <td>6.000</td>\n",
       "      <td>0.332</td>\n",
       "      <td>5.456</td>\n",
       "      <td>6.520</td>\n",
       "      <td>0.005</td>\n",
       "      <td>0.004</td>\n",
       "      <td>3883.0</td>\n",
       "      <td>1334.0</td>\n",
       "      <td>1.00</td>\n",
       "    </tr>\n",
       "    <tr>\n",
       "      <th>b[9]</th>\n",
       "      <td>3.804</td>\n",
       "      <td>0.336</td>\n",
       "      <td>3.295</td>\n",
       "      <td>4.373</td>\n",
       "      <td>0.005</td>\n",
       "      <td>0.004</td>\n",
       "      <td>4375.0</td>\n",
       "      <td>1236.0</td>\n",
       "      <td>1.00</td>\n",
       "    </tr>\n",
       "    <tr>\n",
       "      <th>b[10]</th>\n",
       "      <td>8.427</td>\n",
       "      <td>0.324</td>\n",
       "      <td>7.928</td>\n",
       "      <td>8.957</td>\n",
       "      <td>0.005</td>\n",
       "      <td>0.003</td>\n",
       "      <td>4906.0</td>\n",
       "      <td>1337.0</td>\n",
       "      <td>1.00</td>\n",
       "    </tr>\n",
       "    <tr>\n",
       "      <th>b[11]</th>\n",
       "      <td>7.002</td>\n",
       "      <td>0.332</td>\n",
       "      <td>6.480</td>\n",
       "      <td>7.524</td>\n",
       "      <td>0.005</td>\n",
       "      <td>0.004</td>\n",
       "      <td>4178.0</td>\n",
       "      <td>1463.0</td>\n",
       "      <td>1.00</td>\n",
       "    </tr>\n",
       "    <tr>\n",
       "      <th>b[12]</th>\n",
       "      <td>8.420</td>\n",
       "      <td>0.330</td>\n",
       "      <td>7.890</td>\n",
       "      <td>8.936</td>\n",
       "      <td>0.004</td>\n",
       "      <td>0.003</td>\n",
       "      <td>5829.0</td>\n",
       "      <td>1482.0</td>\n",
       "      <td>1.00</td>\n",
       "    </tr>\n",
       "    <tr>\n",
       "      <th>b[13]</th>\n",
       "      <td>8.587</td>\n",
       "      <td>0.331</td>\n",
       "      <td>8.057</td>\n",
       "      <td>9.117</td>\n",
       "      <td>0.005</td>\n",
       "      <td>0.004</td>\n",
       "      <td>4222.0</td>\n",
       "      <td>1377.0</td>\n",
       "      <td>1.00</td>\n",
       "    </tr>\n",
       "    <tr>\n",
       "      <th>b[14]</th>\n",
       "      <td>7.092</td>\n",
       "      <td>0.335</td>\n",
       "      <td>6.579</td>\n",
       "      <td>7.649</td>\n",
       "      <td>0.005</td>\n",
       "      <td>0.004</td>\n",
       "      <td>3966.0</td>\n",
       "      <td>1370.0</td>\n",
       "      <td>1.00</td>\n",
       "    </tr>\n",
       "    <tr>\n",
       "      <th>b[15]</th>\n",
       "      <td>4.620</td>\n",
       "      <td>0.325</td>\n",
       "      <td>4.068</td>\n",
       "      <td>5.098</td>\n",
       "      <td>0.005</td>\n",
       "      <td>0.003</td>\n",
       "      <td>4472.0</td>\n",
       "      <td>1322.0</td>\n",
       "      <td>1.00</td>\n",
       "    </tr>\n",
       "    <tr>\n",
       "      <th>b[16]</th>\n",
       "      <td>8.515</td>\n",
       "      <td>0.348</td>\n",
       "      <td>7.987</td>\n",
       "      <td>9.111</td>\n",
       "      <td>0.005</td>\n",
       "      <td>0.004</td>\n",
       "      <td>4687.0</td>\n",
       "      <td>1393.0</td>\n",
       "      <td>1.00</td>\n",
       "    </tr>\n",
       "    <tr>\n",
       "      <th>b[17]</th>\n",
       "      <td>5.982</td>\n",
       "      <td>0.329</td>\n",
       "      <td>5.436</td>\n",
       "      <td>6.504</td>\n",
       "      <td>0.005</td>\n",
       "      <td>0.003</td>\n",
       "      <td>5055.0</td>\n",
       "      <td>1350.0</td>\n",
       "      <td>1.01</td>\n",
       "    </tr>\n",
       "    <tr>\n",
       "      <th>b[18]</th>\n",
       "      <td>8.980</td>\n",
       "      <td>0.337</td>\n",
       "      <td>8.440</td>\n",
       "      <td>9.523</td>\n",
       "      <td>0.006</td>\n",
       "      <td>0.004</td>\n",
       "      <td>3307.0</td>\n",
       "      <td>1346.0</td>\n",
       "      <td>1.00</td>\n",
       "    </tr>\n",
       "    <tr>\n",
       "      <th>b[19]</th>\n",
       "      <td>4.451</td>\n",
       "      <td>0.328</td>\n",
       "      <td>3.934</td>\n",
       "      <td>4.986</td>\n",
       "      <td>0.005</td>\n",
       "      <td>0.004</td>\n",
       "      <td>3907.0</td>\n",
       "      <td>1214.0</td>\n",
       "      <td>1.00</td>\n",
       "    </tr>\n",
       "    <tr>\n",
       "      <th>b[20]</th>\n",
       "      <td>7.455</td>\n",
       "      <td>0.342</td>\n",
       "      <td>6.922</td>\n",
       "      <td>8.001</td>\n",
       "      <td>0.005</td>\n",
       "      <td>0.004</td>\n",
       "      <td>4640.0</td>\n",
       "      <td>1292.0</td>\n",
       "      <td>1.00</td>\n",
       "    </tr>\n",
       "    <tr>\n",
       "      <th>b[21]</th>\n",
       "      <td>8.032</td>\n",
       "      <td>0.323</td>\n",
       "      <td>7.541</td>\n",
       "      <td>8.576</td>\n",
       "      <td>0.005</td>\n",
       "      <td>0.004</td>\n",
       "      <td>3468.0</td>\n",
       "      <td>1547.0</td>\n",
       "      <td>1.00</td>\n",
       "    </tr>\n",
       "    <tr>\n",
       "      <th>b[22]</th>\n",
       "      <td>7.162</td>\n",
       "      <td>0.344</td>\n",
       "      <td>6.631</td>\n",
       "      <td>7.709</td>\n",
       "      <td>0.005</td>\n",
       "      <td>0.004</td>\n",
       "      <td>4373.0</td>\n",
       "      <td>1277.0</td>\n",
       "      <td>1.00</td>\n",
       "    </tr>\n",
       "    <tr>\n",
       "      <th>b[23]</th>\n",
       "      <td>6.754</td>\n",
       "      <td>0.346</td>\n",
       "      <td>6.218</td>\n",
       "      <td>7.320</td>\n",
       "      <td>0.005</td>\n",
       "      <td>0.004</td>\n",
       "      <td>4346.0</td>\n",
       "      <td>1260.0</td>\n",
       "      <td>1.00</td>\n",
       "    </tr>\n",
       "    <tr>\n",
       "      <th>b[24]</th>\n",
       "      <td>4.105</td>\n",
       "      <td>0.340</td>\n",
       "      <td>3.614</td>\n",
       "      <td>4.677</td>\n",
       "      <td>0.005</td>\n",
       "      <td>0.004</td>\n",
       "      <td>4368.0</td>\n",
       "      <td>1347.0</td>\n",
       "      <td>1.00</td>\n",
       "    </tr>\n",
       "    <tr>\n",
       "      <th>b[25]</th>\n",
       "      <td>5.607</td>\n",
       "      <td>0.347</td>\n",
       "      <td>5.022</td>\n",
       "      <td>6.158</td>\n",
       "      <td>0.005</td>\n",
       "      <td>0.004</td>\n",
       "      <td>4944.0</td>\n",
       "      <td>1556.0</td>\n",
       "      <td>1.00</td>\n",
       "    </tr>\n",
       "  </tbody>\n",
       "</table>\n",
       "</div>"
      ],
      "text/plain": [
       "          mean     sd  hdi_5.5%  hdi_94.5%  mcse_mean  mcse_sd  ess_bulk  \\\n",
       "a[0]   148.127  0.217   147.788    148.470      0.003    0.002    3852.0   \n",
       "a[1]   142.856  0.219   142.503    143.189      0.003    0.002    4214.0   \n",
       "a[2]   155.654  0.219   155.311    156.017      0.003    0.002    4297.0   \n",
       "a[3]   165.071  0.229   164.699    165.424      0.003    0.002    4961.0   \n",
       "a[4]   151.430  0.228   151.044    151.781      0.003    0.002    5009.0   \n",
       "a[5]   146.786  0.225   146.420    147.131      0.004    0.003    3906.0   \n",
       "a[6]   146.128  0.223   145.807    146.509      0.004    0.002    3966.0   \n",
       "a[7]   148.291  0.218   147.900    148.594      0.003    0.002    4049.0   \n",
       "a[8]   138.140  0.223   137.795    138.498      0.003    0.002    4511.0   \n",
       "a[9]   130.260  0.222   129.910    130.611      0.004    0.003    3698.0   \n",
       "a[10]  150.046  0.218   149.708    150.410      0.003    0.002    4317.0   \n",
       "a[11]  156.814  0.222   156.455    157.154      0.004    0.003    3697.0   \n",
       "a[12]  156.070  0.230   155.718    156.451      0.003    0.002    4430.0   \n",
       "a[13]  159.477  0.225   159.104    159.817      0.004    0.003    4005.0   \n",
       "a[14]  144.272  0.224   143.910    144.600      0.003    0.002    5368.0   \n",
       "a[15]  147.540  0.222   147.186    147.884      0.004    0.003    3509.0   \n",
       "a[16]  142.983  0.219   142.640    143.329      0.003    0.002    4318.0   \n",
       "a[17]  151.177  0.219   150.817    151.482      0.003    0.002    4592.0   \n",
       "a[18]  164.580  0.217   164.238    164.933      0.003    0.002    4345.0   \n",
       "a[19]  151.468  0.215   151.110    151.789      0.003    0.002    4422.0   \n",
       "a[20]  150.522  0.218   150.167    150.854      0.003    0.002    4461.0   \n",
       "a[21]  154.564  0.232   154.216    154.950      0.004    0.003    3851.0   \n",
       "a[22]  151.063  0.214   150.749    151.414      0.003    0.002    4427.0   \n",
       "a[23]  153.144  0.223   152.784    153.485      0.003    0.002    4548.0   \n",
       "a[24]  139.211  0.217   138.864    139.564      0.003    0.002    3973.0   \n",
       "a[25]  138.000  0.224   137.647    138.367      0.004    0.003    3711.0   \n",
       "b[0]     7.146  0.331     6.583      7.617      0.005    0.004    4024.0   \n",
       "b[1]     5.478  0.317     4.945      5.960      0.005    0.004    3335.0   \n",
       "b[2]     4.855  0.336     4.309      5.377      0.005    0.004    3763.0   \n",
       "b[3]     9.268  0.340     8.750      9.786      0.005    0.004    4048.0   \n",
       "b[4]     6.249  0.344     5.730      6.797      0.006    0.004    3593.0   \n",
       "b[5]     4.058  0.331     3.571      4.651      0.005    0.004    4214.0   \n",
       "b[6]     5.044  0.343     4.480      5.571      0.005    0.004    4672.0   \n",
       "b[7]     6.463  0.340     5.934      7.003      0.005    0.004    4082.0   \n",
       "b[8]     6.000  0.332     5.456      6.520      0.005    0.004    3883.0   \n",
       "b[9]     3.804  0.336     3.295      4.373      0.005    0.004    4375.0   \n",
       "b[10]    8.427  0.324     7.928      8.957      0.005    0.003    4906.0   \n",
       "b[11]    7.002  0.332     6.480      7.524      0.005    0.004    4178.0   \n",
       "b[12]    8.420  0.330     7.890      8.936      0.004    0.003    5829.0   \n",
       "b[13]    8.587  0.331     8.057      9.117      0.005    0.004    4222.0   \n",
       "b[14]    7.092  0.335     6.579      7.649      0.005    0.004    3966.0   \n",
       "b[15]    4.620  0.325     4.068      5.098      0.005    0.003    4472.0   \n",
       "b[16]    8.515  0.348     7.987      9.111      0.005    0.004    4687.0   \n",
       "b[17]    5.982  0.329     5.436      6.504      0.005    0.003    5055.0   \n",
       "b[18]    8.980  0.337     8.440      9.523      0.006    0.004    3307.0   \n",
       "b[19]    4.451  0.328     3.934      4.986      0.005    0.004    3907.0   \n",
       "b[20]    7.455  0.342     6.922      8.001      0.005    0.004    4640.0   \n",
       "b[21]    8.032  0.323     7.541      8.576      0.005    0.004    3468.0   \n",
       "b[22]    7.162  0.344     6.631      7.709      0.005    0.004    4373.0   \n",
       "b[23]    6.754  0.346     6.218      7.320      0.005    0.004    4346.0   \n",
       "b[24]    4.105  0.340     3.614      4.677      0.005    0.004    4368.0   \n",
       "b[25]    5.607  0.347     5.022      6.158      0.005    0.004    4944.0   \n",
       "\n",
       "       ess_tail  r_hat  \n",
       "a[0]     1407.0   1.00  \n",
       "a[1]     1310.0   1.00  \n",
       "a[2]     1060.0   1.00  \n",
       "a[3]     1067.0   1.00  \n",
       "a[4]     1453.0   1.00  \n",
       "a[5]     1398.0   1.00  \n",
       "a[6]     1457.0   1.00  \n",
       "a[7]     1565.0   1.00  \n",
       "a[8]     1419.0   1.00  \n",
       "a[9]     1318.0   1.00  \n",
       "a[10]    1262.0   1.00  \n",
       "a[11]    1381.0   1.00  \n",
       "a[12]    1345.0   1.00  \n",
       "a[13]    1325.0   1.00  \n",
       "a[14]    1271.0   1.00  \n",
       "a[15]    1335.0   1.00  \n",
       "a[16]    1316.0   1.00  \n",
       "a[17]    1161.0   1.01  \n",
       "a[18]    1487.0   1.00  \n",
       "a[19]    1436.0   1.00  \n",
       "a[20]    1251.0   1.00  \n",
       "a[21]    1252.0   1.00  \n",
       "a[22]    1237.0   1.00  \n",
       "a[23]    1171.0   1.00  \n",
       "a[24]    1664.0   1.00  \n",
       "a[25]    1111.0   1.00  \n",
       "b[0]     1548.0   1.00  \n",
       "b[1]     1254.0   1.00  \n",
       "b[2]     1361.0   1.00  \n",
       "b[3]     1284.0   1.00  \n",
       "b[4]      904.0   1.00  \n",
       "b[5]     1363.0   1.00  \n",
       "b[6]     1247.0   1.00  \n",
       "b[7]     1656.0   1.00  \n",
       "b[8]     1334.0   1.00  \n",
       "b[9]     1236.0   1.00  \n",
       "b[10]    1337.0   1.00  \n",
       "b[11]    1463.0   1.00  \n",
       "b[12]    1482.0   1.00  \n",
       "b[13]    1377.0   1.00  \n",
       "b[14]    1370.0   1.00  \n",
       "b[15]    1322.0   1.00  \n",
       "b[16]    1393.0   1.00  \n",
       "b[17]    1350.0   1.01  \n",
       "b[18]    1346.0   1.00  \n",
       "b[19]    1214.0   1.00  \n",
       "b[20]    1292.0   1.00  \n",
       "b[21]    1547.0   1.00  \n",
       "b[22]    1277.0   1.00  \n",
       "b[23]    1260.0   1.00  \n",
       "b[24]    1347.0   1.00  \n",
       "b[25]    1556.0   1.00  "
      ]
     },
     "execution_count": 10,
     "metadata": {},
     "output_type": "execute_result"
    }
   ],
   "source": [
    "az.summary(idata_SAHcov, var_names=[\"a\", \"b\"])"
   ]
  },
  {
   "cell_type": "markdown",
   "metadata": {
    "deletable": false,
    "editable": false
   },
   "source": [
    "<!-- END QUESTION -->\n",
    "\n",
    "<!-- BEGIN QUESTION -->\n",
    "\n",
    "**Provide visualizations** to present the parameter estimates for the intercepts and slopes for the Subjects and **interpret** these estimates. \n",
    "\n",
    "*A good way to represent these parameter estimates is with a bar that represents the high density interval for the posterior distribution of the intercept and slope __for each Subject__. You can add then add the posterior mean estimate of the intercept and slope for each Subject to the plot. Examples for plotting these distributions can be found in the lectures such as the plot of the distribution of the probability of survival in each tank from the introduction to multilevel models lecture or the plots of the distributions of the district effects on contraception from the lecture on correlated features.*"
   ]
  },
  {
   "cell_type": "markdown",
   "metadata": {},
   "source": [
    "_Type your answer here, replacing this text._"
   ]
  },
  {
   "cell_type": "code",
   "execution_count": 11,
   "metadata": {
    "tags": []
   },
   "outputs": [],
   "source": [
    "# Write code here\n",
    "post_posterior = az.extract(idata_SAHcov)\n",
    "a_values = post_posterior.a.values\n",
    "b_values = post_posterior.b.values"
   ]
  },
  {
   "cell_type": "code",
   "execution_count": 12,
   "metadata": {},
   "outputs": [
    {
     "name": "stderr",
     "output_type": "stream",
     "text": [
      "/tmp/ipykernel_498/1656829378.py:10: FutureWarning: hdi currently interprets 2d data as (draw, shape) but this will change in a future release to (chain, draw) for coherence with other functions\n",
      "  hdis = az.hdi(a_values.T, hdi_prob=0.89)\n"
     ]
    },
    {
     "data": {
      "image/png": "[encoded data removed]",
      "text/plain": [
       "<Figure size 640x480 with 1 Axes>"
      ]
     },
     "metadata": {},
     "output_type": "display_data"
    }
   ],
   "source": [
    "plt.scatter(\n",
    "    range(a_values.shape[0]),\n",
    "    np.mean(a_values, axis=1),\n",
    "    facecolor=\"none\",\n",
    "    color=\"white\",\n",
    "    lw=1,\n",
    "    s=10,\n",
    "    zorder=3\n",
    ")\n",
    "hdis = az.hdi(a_values.T, hdi_prob=0.89)\n",
    "lines = plt.vlines(\n",
    "    range(a_values.shape[0]), \n",
    "    hdis[:,0], \n",
    "    hdis[:,1], \n",
    "    # color=colors[i], \n",
    "    lw=7, \n",
    "    alpha=0.6,\n",
    "    capstyle=\"round\"\n",
    ")\n",
    "plt.scatter(\n",
    "    range(a_values.shape[0]), \n",
    "    a_values.mean(axis=-1),  \n",
    "    facecolor=\"none\",\n",
    "    # color=colors[i],\n",
    "    lw=2,\n",
    "    s=50\n",
    ")\n",
    "plt.axhline(\n",
    "    y=0.5, \n",
    "    color='w', \n",
    "    linestyle='--',\n",
    "    lw=1,\n",
    "    alpha=0.4\n",
    ")\n",
    "\n",
    "plt.ylim(120, 180)\n",
    "plt.xlabel(\"subject\")\n",
    "plt.ylabel(\"intercept\")\n",
    "sns.despine()\n",
    "plt.tight_layout();"
   ]
  },
  {
   "cell_type": "code",
   "execution_count": 13,
   "metadata": {},
   "outputs": [
    {
     "name": "stderr",
     "output_type": "stream",
     "text": [
      "/tmp/ipykernel_498/3059202695.py:10: FutureWarning: hdi currently interprets 2d data as (draw, shape) but this will change in a future release to (chain, draw) for coherence with other functions\n",
      "  hdis = az.hdi(b_values.T, hdi_prob=0.89)\n"
     ]
    },
    {
     "data": {
      "image/png": "[encoded data removed]",
      "text/plain": [
       "<Figure size 640x480 with 1 Axes>"
      ]
     },
     "metadata": {},
     "output_type": "display_data"
    }
   ],
   "source": [
    "plt.scatter(\n",
    "    range(b_values.shape[0]),\n",
    "    np.mean(b_values, axis=1),\n",
    "    facecolor=\"none\",\n",
    "    color=\"white\",\n",
    "    lw=1,\n",
    "    s=10,\n",
    "    zorder=3\n",
    ")\n",
    "hdis = az.hdi(b_values.T, hdi_prob=0.89)\n",
    "lines = plt.vlines(\n",
    "    range(b_values.shape[0]), \n",
    "    hdis[:,0], \n",
    "    hdis[:,1], \n",
    "    # color=colors[i], \n",
    "    lw=7, \n",
    "    alpha=0.6,\n",
    "    capstyle=\"round\"\n",
    ")\n",
    "plt.scatter(\n",
    "    range(b_values.shape[0]), \n",
    "    b_values.mean(axis=-1),  \n",
    "    facecolor=\"none\",\n",
    "    # color=colors[i],\n",
    "    lw=2,\n",
    "    s=50\n",
    ")\n",
    "plt.axhline(\n",
    "    y=0.5, \n",
    "    color='w', \n",
    "    linestyle='--',\n",
    "    lw=1,\n",
    "    alpha=0.4\n",
    ")\n",
    "\n",
    "plt.xlabel(\"subject\")\n",
    "plt.ylabel(\"slope\")\n",
    "sns.despine()\n",
    "plt.tight_layout();"
   ]
  },
  {
   "cell_type": "markdown",
   "metadata": {
    "deletable": false,
    "editable": false
   },
   "source": [
    "<!-- END QUESTION -->\n",
    "\n",
    "<!-- BEGIN QUESTION -->\n",
    "\n",
    "* For which parameters (the intercepts or the slopes) does the model have more certainty? **Base your response to this question on posterior estimates for the population intercept standard deviation and the population slope standard deviation.**"
   ]
  },
  {
   "cell_type": "markdown",
   "metadata": {},
   "source": [
    "__Answer:__\n",
    "\n",
    "We can see that intercepts have more certainty because the standard deviation of intercepts is smaller than that of slopes."
   ]
  },
  {
   "cell_type": "code",
   "execution_count": 14,
   "metadata": {
    "tags": []
   },
   "outputs": [
    {
     "name": "stdout",
     "output_type": "stream",
     "text": [
      "Mean of the standard deviation of 'a': 0.22161538461538463\n",
      "Mean of the standard deviation of 'b': 0.33503846153846156\n"
     ]
    }
   ],
   "source": [
    "# Write code here\n",
    "summary = az.summary(idata_SAHcov, var_names=[\"a\"])\n",
    "mean_sd_a = summary[\"sd\"].mean()\n",
    "print(f\"Mean of the standard deviation of 'a': {mean_sd_a}\")\n",
    "\n",
    "summary = az.summary(idata_SAHcov, var_names=[\"b\"])\n",
    "mean_sd_b = summary[\"sd\"].mean()\n",
    "print(f\"Mean of the standard deviation of 'b': {mean_sd_b}\")"
   ]
  },
  {
   "cell_type": "markdown",
   "metadata": {
    "deletable": false,
    "editable": false
   },
   "source": [
    "<!-- END QUESTION -->\n",
    "\n",
    "<!-- BEGIN QUESTION -->\n",
    "\n",
    "**Question 2 (10 points).** Now consider the estimated correlation between the varying intercepts and slopes.\n",
    "\n",
    "Can you explain its distribution?  "
   ]
  },
  {
   "cell_type": "markdown",
   "metadata": {},
   "source": [
    "__Answer:__\n",
    "\n",
    "We can find that the estimated correlation is positive, indicating that the slope and intercept are positively correlated."
   ]
  },
  {
   "cell_type": "code",
   "execution_count": 16,
   "metadata": {
    "tags": []
   },
   "outputs": [
    {
     "data": {
      "text/plain": [
       "0.8242519449045305"
      ]
     },
     "execution_count": 16,
     "metadata": {},
     "output_type": "execute_result"
    }
   ],
   "source": [
    "# Write code here\n",
    "corr_values = post_posterior.corr.values\n",
    "corr_values.mean()"
   ]
  },
  {
   "cell_type": "code",
   "execution_count": 17,
   "metadata": {},
   "outputs": [
    {
     "data": {
      "text/plain": [
       "<Axes: title={'center': 'corr\\n0'}>"
      ]
     },
     "execution_count": 17,
     "metadata": {},
     "output_type": "execute_result"
    },
    {
     "data": {
      "image/png": "[encoded data removed]",
      "text/plain": [
       "<Figure size 640x480 with 1 Axes>"
      ]
     },
     "metadata": {},
     "output_type": "display_data"
    }
   ],
   "source": [
    "az.plot_posterior(idata_SAHcov, var_names=['corr'])"
   ]
  },
  {
   "cell_type": "markdown",
   "metadata": {
    "deletable": false,
    "editable": false
   },
   "source": [
    "<!-- END QUESTION -->\n",
    "\n",
    "<!-- BEGIN QUESTION -->\n",
    "\n",
    "Given some observed heights for a new sample of boys, how would you expect this estimated correlation to influence your predictions for their heights at unobserved ages? Feel free to base your answer off of a visualization of the entire posterior estimate of the correlation or use the mean value from a summary table. However, clearly state what estimated value you are using."
   ]
  },
  {
   "cell_type": "markdown",
   "metadata": {},
   "source": [
    "__Answer:__\n",
    "\n",
    "Suppose we estimate the correlation to be 0.8, indicating a moderate positive relationship between the intercept and the slope. Based on this estimate, we would expect that, given a boy's height, taller boys would have faster growth rates, and therefore we would predict that they would be taller in future years."
   ]
  },
  {
   "cell_type": "markdown",
   "metadata": {
    "deletable": false,
    "editable": false
   },
   "source": [
    "<!-- END QUESTION -->\n",
    "\n",
    "<!-- BEGIN QUESTION -->\n",
    "\n",
    "**Question 3 (10 points).** Use `scipy.stats.multivariate_normal.rvs()` to simulate a new sample of boys (represented by their observed heights at each age), based upon the posterior mean values of the parameter estimates above. That is, try to simulate varying intercepts and slopes, using the relevant parameter estimates, and then **plot the predicted trends of observed height on age with one trend for each simulated boy you produce**.\n",
    "\n",
    "A sample of 10 simulated boys is plenty, to illustrate the lesson. You can ignore uncertainty in the posterior, just to make the problem a little easier. But if you want to include the uncertainty about the parameters, go for it! \n",
    "\n",
    "Note that you can construct a variance-covariance matrix to pass as the `cov` argument to `scipy.stats.multivariate_normal.rvs()` with with code similar to the following:\n",
    "\n",
    "`S = numpy.array( [[ sa**2 , sa*sb*rho] , [sa*sb*rho , sb**2] ])`\n",
    "\n",
    "where `sa` is the standard deviation of the first variable, `sb` is the standard deviation of the second variable, and `rho` is the correlation between them.\n",
    "\n",
    "This question does not require any discussion component."
   ]
  },
  {
   "cell_type": "markdown",
   "metadata": {},
   "source": [
    "_Type your answer here, replacing this text._"
   ]
  },
  {
   "cell_type": "code",
   "execution_count": 19,
   "metadata": {
    "tags": []
   },
   "outputs": [
    {
     "name": "stdout",
     "output_type": "stream",
     "text": [
      "Mean of intercept: 149.37207692307692\n",
      "Mean of slope: 6.521384615384615\n",
      "Std of intercept: 0.22161538461538463\n",
      "Std of slope: 0.33503846153846156\n",
      "corr: 0.8242519449045305\n"
     ]
    }
   ],
   "source": [
    "# Write code here\n",
    "from scipy.stats import multivariate_normal\n",
    "\n",
    "print(\"Mean of intercept:\", az.summary(idata_SAHcov, var_names=[\"a\"])[\"mean\"].mean())\n",
    "print(\"Mean of slope:\", az.summary(idata_SAHcov, var_names=[\"b\"])[\"mean\"].mean())\n",
    "\n",
    "print(\"Std of intercept:\", az.summary(idata_SAHcov, var_names=[\"a\"])[\"sd\"].mean())\n",
    "print(\"Std of slope:\", az.summary(idata_SAHcov, var_names=[\"b\"])[\"sd\"].mean())\n",
    "\n",
    "print(\"corr:\", corr_values.mean())"
   ]
  },
  {
   "cell_type": "code",
   "execution_count": 20,
   "metadata": {},
   "outputs": [
    {
     "data": {
      "image/png": "[encoded data removed]",
      "text/plain": [
       "<Figure size 640x480 with 1 Axes>"
      ]
     },
     "metadata": {},
     "output_type": "display_data"
    }
   ],
   "source": [
    "sa = 0.22\n",
    "sb = 0.33\n",
    "rho = 0.82\n",
    "\n",
    "S = np.array([[sa**2, sa*sb*rho], [sa*sb*rho, sb**2]])\n",
    "\n",
    "simulated_params = multivariate_normal.rvs(mean=[149.37, 6.52], cov=S, size=10)\n",
    "\n",
    "ages = np.arange(-1, 2)\n",
    "\n",
    "for params in simulated_params:\n",
    "    intercept, slope = params\n",
    "    heights = intercept + slope * ages\n",
    "    plt.plot(ages, heights, label=f\"Simulated boy\")\n",
    "\n",
    "plt.xlabel(\"Age (standardized)\")\n",
    "plt.ylabel(\"Height (cm)\")\n",
    "plt.title(\"Simulated Heights of 10 Boys Based on Posterior Parameter Estimates\")\n",
    "plt.show()"
   ]
  },
  {
   "cell_type": "code",
   "execution_count": 21,
   "metadata": {
    "deletable": false,
    "editable": false
   },
   "outputs": [
    {
     "data": {
      "text/html": [
       "<p><strong><pre style='display: inline;'>q3</pre></strong> passed! 🌈</p>"
      ],
      "text/plain": [
       "q3 results: All test cases passed!"
      ]
     },
     "execution_count": 21,
     "metadata": {},
     "output_type": "execute_result"
    }
   ],
   "source": [
    "grader.check(\"q3\")"
   ]
  },
  {
   "cell_type": "markdown",
   "metadata": {
    "deletable": false,
    "editable": false
   },
   "source": [
    "<!-- END QUESTION -->\n",
    "\n"
   ]
  },
  {
   "cell_type": "markdown",
   "metadata": {
    "deletable": false,
    "editable": false
   },
   "source": [
    "## Submission\n",
    "\n",
    "Make sure you have run all cells in your notebook in order before running the cell below, so that all images/graphs appear in the output. The cell below will generate a zip file for you to submit. **Please save before exporting!**"
   ]
  },
  {
   "cell_type": "code",
   "execution_count": null,
   "metadata": {
    "deletable": false,
    "editable": false
   },
   "outputs": [],
   "source": [
    "# Save your notebook first, then run this cell to export your submission.\n",
    "grader.export(run_tests=True)"
   ]
  },
  {
   "cell_type": "markdown",
   "metadata": {},
   "source": [
    " "
   ]
  }
 ],
 "metadata": {
  "kernelspec": {
   "display_name": "Python [conda env:fnds]",
   "language": "python",
   "name": "conda-env-fnds-py"
  },
  "language_info": {
   "codemirror_mode": {
    "name": "ipython",
    "version": 3
   },
   "file_extension": ".py",
   "mimetype": "text/x-python",
   "name": "python",
   "nbconvert_exporter": "python",
   "pygments_lexer": "ipython3",
   "version": "3.9.19"
  },
  "otter": {
   "OK_FORMAT": true,
   "assignment_name": "hw8",
   "tests": {
    "q3": {
     "name": "q3",
     "points": 10,
     "suites": [
      {
       "cases": [],
       "scored": true,
       "setup": "",
       "teardown": "",
       "type": "doctest"
      }
     ]
    }
   }
  }
 },
 "nbformat": 4,
 "nbformat_minor": 4
}
