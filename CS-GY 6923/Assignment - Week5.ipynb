{
 "cells": [
  {
   "cell_type": "markdown",
   "id": "b3372b3d",
   "metadata": {},
   "source": [
    "__Assignment - Week 5__\n",
    "\n",
    "__Name__: Runze Li\n",
    "\n",
    "__net id__: rl50xx"
   ]
  },
  {
   "cell_type": "markdown",
   "id": "76fd745b",
   "metadata": {},
   "source": [
    "We use Decision Tree Classifier to train PhishingVsBenignURL dataset using all of the features. Each time we use Gini Impurity or Entropy Impurity with the depth from 1 to 6. We can get the table which summarize the results:\n",
    "\n",
    "|Depth|Gini Impurity|Entropy Impurity|\n",
    "|:--:|:--:|:--:|\n",
    "|1|0.38820121148274955|0.404793257835133|\n",
    "|2|0.5146168027390045|0.5601790887542797|\n",
    "|3|0.6281274690545168|0.6707927311035028|\n",
    "|4|0.7005530682117461|0.7318936002106926|\n",
    "|5|0.7548064261258889|0.8074795891493284|\n",
    "|6|0.8161706610481959|0.8477745588622597|\n",
    "\n",
    "\n",
    "The results shows that as the depth increases, the decision tree becomes more complex and can better fit the training data, which will cause that the accuracy can increase.\n",
    "\n",
    "What's more, at the same depth, the accuracy of Entropy Impurity is generally higher than that of Gini Impurity.\n",
    "\n",
    "From the two figures visualized by the tree of depth 2, we can see that using Gini Impurity and Entropy Impurity will have an impact on the generated decision tree. At the same number of layers, they use different features for decision-making."
   ]
  },
  {
   "cell_type": "markdown",
   "id": "2410a543",
   "metadata": {},
   "source": [
    "### Using the Scikit-Learn Library train the Decision Tree Classifier to the attached PhishingVsBenignURL data set using all of the features at once. "
   ]
  },
  {
   "cell_type": "code",
   "execution_count": 5,
   "id": "f15ebf26",
   "metadata": {
    "ExecuteTime": {
     "end_time": "2024-02-29T23:22:03.215461Z",
     "start_time": "2024-02-29T23:22:03.142087Z"
    }
   },
   "outputs": [],
   "source": [
    "# Imports\n",
    "import numpy as np\n",
    "import pandas as pd\n",
    "from sklearn.tree import DecisionTreeClassifier\n",
    "from sklearn.metrics import accuracy_score\n",
    "from sklearn import tree\n",
    "from sklearn.model_selection import train_test_split\n",
    "import matplotlib.pyplot as plt\n",
    "import graphviz"
   ]
  },
  {
   "cell_type": "markdown",
   "id": "8d20cd33",
   "metadata": {},
   "source": [
    "#### Load data\n",
    "\n",
    "(Dataset is originally from here: https://www.unb.ca/cic/datasets/url-2016.html )"
   ]
  },
  {
   "cell_type": "code",
   "execution_count": 6,
   "id": "16b1c6a7",
   "metadata": {
    "ExecuteTime": {
     "end_time": "2024-02-29T23:22:08.397419Z",
     "start_time": "2024-02-29T23:22:08.153094Z"
    }
   },
   "outputs": [
    {
     "data": {
      "text/html": [
       "<div>\n",
       "<style scoped>\n",
       "    .dataframe tbody tr th:only-of-type {\n",
       "        vertical-align: middle;\n",
       "    }\n",
       "\n",
       "    .dataframe tbody tr th {\n",
       "        vertical-align: top;\n",
       "    }\n",
       "\n",
       "    .dataframe thead th {\n",
       "        text-align: right;\n",
       "    }\n",
       "</style>\n",
       "<table border=\"1\" class=\"dataframe\">\n",
       "  <thead>\n",
       "    <tr style=\"text-align: right;\">\n",
       "      <th></th>\n",
       "      <th>Querylength</th>\n",
       "      <th>domain_token_count</th>\n",
       "      <th>path_token_count</th>\n",
       "      <th>avgdomaintokenlen</th>\n",
       "      <th>longdomaintokenlen</th>\n",
       "      <th>avgpathtokenlen</th>\n",
       "      <th>tld</th>\n",
       "      <th>charcompvowels</th>\n",
       "      <th>charcompace</th>\n",
       "      <th>ldl_url</th>\n",
       "      <th>...</th>\n",
       "      <th>SymbolCount_FileName</th>\n",
       "      <th>SymbolCount_Extension</th>\n",
       "      <th>SymbolCount_Afterpath</th>\n",
       "      <th>Entropy_URL</th>\n",
       "      <th>Entropy_Domain</th>\n",
       "      <th>Entropy_DirectoryName</th>\n",
       "      <th>Entropy_Filename</th>\n",
       "      <th>Entropy_Extension</th>\n",
       "      <th>Entropy_Afterpath</th>\n",
       "      <th>URL_Type_obf_Type</th>\n",
       "    </tr>\n",
       "  </thead>\n",
       "  <tbody>\n",
       "    <tr>\n",
       "      <th>0</th>\n",
       "      <td>0</td>\n",
       "      <td>4</td>\n",
       "      <td>5</td>\n",
       "      <td>5.5</td>\n",
       "      <td>14</td>\n",
       "      <td>4.400000</td>\n",
       "      <td>4</td>\n",
       "      <td>8</td>\n",
       "      <td>3</td>\n",
       "      <td>0</td>\n",
       "      <td>...</td>\n",
       "      <td>1</td>\n",
       "      <td>0</td>\n",
       "      <td>-1</td>\n",
       "      <td>0.726298</td>\n",
       "      <td>0.784493</td>\n",
       "      <td>0.894886</td>\n",
       "      <td>0.850608</td>\n",
       "      <td>NaN</td>\n",
       "      <td>-1.0</td>\n",
       "      <td>Defacement</td>\n",
       "    </tr>\n",
       "    <tr>\n",
       "      <th>1</th>\n",
       "      <td>0</td>\n",
       "      <td>4</td>\n",
       "      <td>5</td>\n",
       "      <td>5.5</td>\n",
       "      <td>14</td>\n",
       "      <td>6.000000</td>\n",
       "      <td>4</td>\n",
       "      <td>12</td>\n",
       "      <td>4</td>\n",
       "      <td>0</td>\n",
       "      <td>...</td>\n",
       "      <td>0</td>\n",
       "      <td>0</td>\n",
       "      <td>-1</td>\n",
       "      <td>0.688635</td>\n",
       "      <td>0.784493</td>\n",
       "      <td>0.814725</td>\n",
       "      <td>0.859793</td>\n",
       "      <td>0.0</td>\n",
       "      <td>-1.0</td>\n",
       "      <td>Defacement</td>\n",
       "    </tr>\n",
       "    <tr>\n",
       "      <th>2</th>\n",
       "      <td>0</td>\n",
       "      <td>4</td>\n",
       "      <td>5</td>\n",
       "      <td>5.5</td>\n",
       "      <td>14</td>\n",
       "      <td>5.800000</td>\n",
       "      <td>4</td>\n",
       "      <td>12</td>\n",
       "      <td>5</td>\n",
       "      <td>0</td>\n",
       "      <td>...</td>\n",
       "      <td>0</td>\n",
       "      <td>0</td>\n",
       "      <td>-1</td>\n",
       "      <td>0.695049</td>\n",
       "      <td>0.784493</td>\n",
       "      <td>0.814725</td>\n",
       "      <td>0.801880</td>\n",
       "      <td>0.0</td>\n",
       "      <td>-1.0</td>\n",
       "      <td>Defacement</td>\n",
       "    </tr>\n",
       "    <tr>\n",
       "      <th>3</th>\n",
       "      <td>0</td>\n",
       "      <td>4</td>\n",
       "      <td>12</td>\n",
       "      <td>5.5</td>\n",
       "      <td>14</td>\n",
       "      <td>5.500000</td>\n",
       "      <td>4</td>\n",
       "      <td>32</td>\n",
       "      <td>16</td>\n",
       "      <td>0</td>\n",
       "      <td>...</td>\n",
       "      <td>0</td>\n",
       "      <td>0</td>\n",
       "      <td>-1</td>\n",
       "      <td>0.640130</td>\n",
       "      <td>0.784493</td>\n",
       "      <td>0.814725</td>\n",
       "      <td>0.663210</td>\n",
       "      <td>0.0</td>\n",
       "      <td>-1.0</td>\n",
       "      <td>Defacement</td>\n",
       "    </tr>\n",
       "    <tr>\n",
       "      <th>4</th>\n",
       "      <td>0</td>\n",
       "      <td>4</td>\n",
       "      <td>6</td>\n",
       "      <td>5.5</td>\n",
       "      <td>14</td>\n",
       "      <td>7.333334</td>\n",
       "      <td>4</td>\n",
       "      <td>18</td>\n",
       "      <td>11</td>\n",
       "      <td>0</td>\n",
       "      <td>...</td>\n",
       "      <td>0</td>\n",
       "      <td>0</td>\n",
       "      <td>-1</td>\n",
       "      <td>0.681307</td>\n",
       "      <td>0.784493</td>\n",
       "      <td>0.814725</td>\n",
       "      <td>0.804526</td>\n",
       "      <td>0.0</td>\n",
       "      <td>-1.0</td>\n",
       "      <td>Defacement</td>\n",
       "    </tr>\n",
       "  </tbody>\n",
       "</table>\n",
       "<p>5 rows × 80 columns</p>\n",
       "</div>"
      ],
      "text/plain": [
       "   Querylength  domain_token_count  path_token_count  avgdomaintokenlen  \\\n",
       "0            0                   4                 5                5.5   \n",
       "1            0                   4                 5                5.5   \n",
       "2            0                   4                 5                5.5   \n",
       "3            0                   4                12                5.5   \n",
       "4            0                   4                 6                5.5   \n",
       "\n",
       "   longdomaintokenlen  avgpathtokenlen  tld  charcompvowels  charcompace  \\\n",
       "0                  14         4.400000    4               8            3   \n",
       "1                  14         6.000000    4              12            4   \n",
       "2                  14         5.800000    4              12            5   \n",
       "3                  14         5.500000    4              32           16   \n",
       "4                  14         7.333334    4              18           11   \n",
       "\n",
       "   ldl_url  ...  SymbolCount_FileName  SymbolCount_Extension  \\\n",
       "0        0  ...                     1                      0   \n",
       "1        0  ...                     0                      0   \n",
       "2        0  ...                     0                      0   \n",
       "3        0  ...                     0                      0   \n",
       "4        0  ...                     0                      0   \n",
       "\n",
       "   SymbolCount_Afterpath  Entropy_URL  Entropy_Domain  Entropy_DirectoryName  \\\n",
       "0                     -1     0.726298        0.784493               0.894886   \n",
       "1                     -1     0.688635        0.784493               0.814725   \n",
       "2                     -1     0.695049        0.784493               0.814725   \n",
       "3                     -1     0.640130        0.784493               0.814725   \n",
       "4                     -1     0.681307        0.784493               0.814725   \n",
       "\n",
       "   Entropy_Filename  Entropy_Extension  Entropy_Afterpath  URL_Type_obf_Type  \n",
       "0          0.850608                NaN               -1.0         Defacement  \n",
       "1          0.859793                0.0               -1.0         Defacement  \n",
       "2          0.801880                0.0               -1.0         Defacement  \n",
       "3          0.663210                0.0               -1.0         Defacement  \n",
       "4          0.804526                0.0               -1.0         Defacement  \n",
       "\n",
       "[5 rows x 80 columns]"
      ]
     },
     "execution_count": 6,
     "metadata": {},
     "output_type": "execute_result"
    }
   ],
   "source": [
    "df = pd.read_csv('DataSetForPhishingVSBenignUrl.csv')\n",
    "df.head()"
   ]
  },
  {
   "cell_type": "markdown",
   "id": "e9fb8041",
   "metadata": {},
   "source": [
    "In fact, according to `df.head()`, we can find that some values in df are `NaN`. These values cannot be classified by decision trees, so we need to remove row data containing NaN values here."
   ]
  },
  {
   "cell_type": "code",
   "execution_count": 7,
   "id": "c5ea21ff",
   "metadata": {
    "ExecuteTime": {
     "end_time": "2024-02-29T23:22:58.689080Z",
     "start_time": "2024-02-29T23:22:58.673063Z"
    }
   },
   "outputs": [
    {
     "name": "stdout",
     "output_type": "stream",
     "text": [
      "Are there NaN values: True\n"
     ]
    }
   ],
   "source": [
    "# Check for NaN values in DataFrame\n",
    "nan_values = df.isna().any()\n",
    "print(\"Are there NaN values:\", nan_values.any())"
   ]
  },
  {
   "cell_type": "code",
   "execution_count": 8,
   "id": "15ba983b",
   "metadata": {
    "ExecuteTime": {
     "end_time": "2024-02-29T23:22:59.629013Z",
     "start_time": "2024-02-29T23:22:59.604650Z"
    }
   },
   "outputs": [],
   "source": [
    "df = df.dropna()"
   ]
  },
  {
   "cell_type": "code",
   "execution_count": 9,
   "id": "0a4fbdf8",
   "metadata": {
    "ExecuteTime": {
     "end_time": "2024-02-29T23:23:00.961840Z",
     "start_time": "2024-02-29T23:23:00.952768Z"
    }
   },
   "outputs": [
    {
     "name": "stdout",
     "output_type": "stream",
     "text": [
      "Number of Samples: 18982\n",
      "Number of features: 80\n"
     ]
    }
   ],
   "source": [
    "print(\"Number of Samples:\", df.shape[0])\n",
    "print(\"Number of features:\", df.shape[1])"
   ]
  },
  {
   "cell_type": "markdown",
   "id": "d1013bc1",
   "metadata": {},
   "source": [
    "#### Split  data into train(80%) and test(20%) sets."
   ]
  },
  {
   "cell_type": "code",
   "execution_count": 10,
   "id": "932fa085",
   "metadata": {
    "ExecuteTime": {
     "end_time": "2024-02-29T23:24:36.555971Z",
     "start_time": "2024-02-29T23:24:36.533909Z"
    }
   },
   "outputs": [
    {
     "name": "stdout",
     "output_type": "stream",
     "text": [
      "Counter({'spam': 5342, 'malware': 4440, 'phishing': 4014, 'benign': 2709, 'Defacement': 2477})\n"
     ]
    }
   ],
   "source": [
    "from collections import Counter\n",
    "X = df.drop('URL_Type_obf_Type', axis=1)\n",
    "y = df['URL_Type_obf_Type']\n",
    "# print(X)\n",
    "print(Counter(y))"
   ]
  },
  {
   "cell_type": "code",
   "execution_count": 11,
   "id": "f0a5966e",
   "metadata": {
    "ExecuteTime": {
     "end_time": "2024-02-29T23:24:39.190229Z",
     "start_time": "2024-02-29T23:24:39.154651Z"
    }
   },
   "outputs": [],
   "source": [
    "X_train, X_test, y_train, y_test = train_test_split(X, y, test_size=0.2, random_state=100)"
   ]
  },
  {
   "cell_type": "markdown",
   "id": "3947ac91",
   "metadata": {},
   "source": [
    "### Run the model for trees of depth 1, 2, 3, 4, 5, and 6 and for the Gini Impurity and Entropy impurity measures for each tree depth. \n",
    "\n",
    "Compare the results of these 12 cases and discuss your results.\n",
    "\n",
    "To compare decision trees with different depths and impurity measures (Gini Impurity and Entropy), we'll need to train __12 decision trees.__"
   ]
  },
  {
   "cell_type": "markdown",
   "id": "6e2ae6c8",
   "metadata": {},
   "source": [
    "#### Gini Impurity"
   ]
  },
  {
   "cell_type": "markdown",
   "id": "49561b77",
   "metadata": {},
   "source": [
    "##### Depth = 1"
   ]
  },
  {
   "cell_type": "code",
   "execution_count": 12,
   "id": "45313713",
   "metadata": {
    "ExecuteTime": {
     "end_time": "2024-02-29T23:25:52.086372Z",
     "start_time": "2024-02-29T23:25:52.004050Z"
    }
   },
   "outputs": [
    {
     "name": "stdout",
     "output_type": "stream",
     "text": [
      "Accuracy for Decision Tree with criteria as Gini Index and depth 1 is: 0.38820121148274955\n"
     ]
    }
   ],
   "source": [
    "tree_gini_1 = DecisionTreeClassifier(criterion=\"gini\", random_state=50, max_depth=1)\n",
    "tree_gini_1.fit(X_train, y_train)\n",
    "\n",
    "y_pred_1 = tree_gini_1.predict(X_test)\n",
    "print(\"Accuracy for Decision Tree with criteria as Gini Index and depth 1 is:\", accuracy_score(y_test,y_pred_1))"
   ]
  },
  {
   "cell_type": "markdown",
   "id": "ad577a56",
   "metadata": {},
   "source": [
    "##### Depth = 2"
   ]
  },
  {
   "cell_type": "code",
   "execution_count": 13,
   "id": "03f398f5",
   "metadata": {
    "ExecuteTime": {
     "end_time": "2024-02-29T23:25:53.870505Z",
     "start_time": "2024-02-29T23:25:53.755873Z"
    }
   },
   "outputs": [
    {
     "name": "stdout",
     "output_type": "stream",
     "text": [
      "Accuracy for Decision Tree with criteria as Gini Index and depth 2 is: 0.5146168027390045\n"
     ]
    }
   ],
   "source": [
    "tree_gini_2 = DecisionTreeClassifier(criterion=\"gini\", random_state=50, max_depth=2)\n",
    "tree_gini_2.fit(X_train, y_train)\n",
    "\n",
    "y_pred_2 = tree_gini_2.predict(X_test)\n",
    "print(\"Accuracy for Decision Tree with criteria as Gini Index and depth 2 is:\", accuracy_score(y_test,y_pred_2))"
   ]
  },
  {
   "cell_type": "markdown",
   "id": "c65dfae6",
   "metadata": {},
   "source": [
    "##### Depth = 3"
   ]
  },
  {
   "cell_type": "code",
   "execution_count": 14,
   "id": "1b68f0b6",
   "metadata": {
    "ExecuteTime": {
     "end_time": "2024-02-29T23:25:55.124844Z",
     "start_time": "2024-02-29T23:25:54.986168Z"
    }
   },
   "outputs": [
    {
     "name": "stdout",
     "output_type": "stream",
     "text": [
      "Accuracy for Decision Tree with criteria as Gini Index and depth 3 is: 0.6281274690545168\n"
     ]
    }
   ],
   "source": [
    "tree_gini_3 = DecisionTreeClassifier(criterion=\"gini\", random_state=50, max_depth=3)\n",
    "tree_gini_3.fit(X_train, y_train)\n",
    "\n",
    "y_pred_3 = tree_gini_3.predict(X_test)\n",
    "print(\"Accuracy for Decision Tree with criteria as Gini Index and depth 3 is:\", accuracy_score(y_test,y_pred_3))"
   ]
  },
  {
   "cell_type": "markdown",
   "id": "5df9e54e",
   "metadata": {},
   "source": [
    "##### Depth = 4"
   ]
  },
  {
   "cell_type": "code",
   "execution_count": 15,
   "id": "21203e06",
   "metadata": {
    "ExecuteTime": {
     "end_time": "2024-02-29T23:25:56.043309Z",
     "start_time": "2024-02-29T23:25:55.872005Z"
    }
   },
   "outputs": [
    {
     "name": "stdout",
     "output_type": "stream",
     "text": [
      "Accuracy for Decision Tree with criteria as Gini Index and depth 4 is: 0.7005530682117461\n"
     ]
    }
   ],
   "source": [
    "tree_gini_4 = DecisionTreeClassifier(criterion=\"gini\", random_state=50, max_depth=4)\n",
    "tree_gini_4.fit(X_train, y_train)\n",
    "\n",
    "y_pred_4 = tree_gini_4.predict(X_test)\n",
    "print(\"Accuracy for Decision Tree with criteria as Gini Index and depth 4 is:\", accuracy_score(y_test,y_pred_4))"
   ]
  },
  {
   "cell_type": "markdown",
   "id": "2f72bbb3",
   "metadata": {},
   "source": [
    "##### Depth = 5"
   ]
  },
  {
   "cell_type": "code",
   "execution_count": 16,
   "id": "1904637e",
   "metadata": {
    "ExecuteTime": {
     "end_time": "2024-02-29T23:25:56.889735Z",
     "start_time": "2024-02-29T23:25:56.687646Z"
    }
   },
   "outputs": [
    {
     "name": "stdout",
     "output_type": "stream",
     "text": [
      "Accuracy for Decision Tree with criteria as Gini Index and depth 5 is: 0.7548064261258889\n"
     ]
    }
   ],
   "source": [
    "tree_gini_5 = DecisionTreeClassifier(criterion=\"gini\", random_state=50, max_depth=5)\n",
    "tree_gini_5.fit(X_train, y_train)\n",
    "\n",
    "y_pred_5 = tree_gini_5.predict(X_test)\n",
    "print(\"Accuracy for Decision Tree with criteria as Gini Index and depth 5 is:\", accuracy_score(y_test,y_pred_5))"
   ]
  },
  {
   "cell_type": "markdown",
   "id": "2080eb8c",
   "metadata": {},
   "source": [
    "##### Depth = 6"
   ]
  },
  {
   "cell_type": "code",
   "execution_count": 17,
   "id": "e1ba7d78",
   "metadata": {
    "ExecuteTime": {
     "end_time": "2024-02-29T23:25:57.910913Z",
     "start_time": "2024-02-29T23:25:57.669813Z"
    }
   },
   "outputs": [
    {
     "name": "stdout",
     "output_type": "stream",
     "text": [
      "Accuracy for Decision Tree with criteria as Gini Index and depth 6 is: 0.8161706610481959\n"
     ]
    }
   ],
   "source": [
    "tree_gini_6 = DecisionTreeClassifier(criterion=\"gini\", random_state=50, max_depth=6)\n",
    "tree_gini_6.fit(X_train, y_train)\n",
    "\n",
    "y_pred_6 = tree_gini_6.predict(X_test)\n",
    "print(\"Accuracy for Decision Tree with criteria as Gini Index and depth 6 is:\", accuracy_score(y_test,y_pred_6))"
   ]
  },
  {
   "cell_type": "markdown",
   "id": "ab206e77",
   "metadata": {},
   "source": [
    "#### Entropy Impurity"
   ]
  },
  {
   "cell_type": "markdown",
   "id": "c994e0ae",
   "metadata": {},
   "source": [
    "##### Depth = 1"
   ]
  },
  {
   "cell_type": "code",
   "execution_count": 18,
   "id": "607e57ab",
   "metadata": {
    "ExecuteTime": {
     "end_time": "2024-02-29T23:26:00.744916Z",
     "start_time": "2024-02-29T23:26:00.643549Z"
    }
   },
   "outputs": [
    {
     "name": "stdout",
     "output_type": "stream",
     "text": [
      "Accuracy for Decision Tree with criteria as Entropy and depth 1 is: 0.404793257835133\n"
     ]
    }
   ],
   "source": [
    "tree_entropy_1 = DecisionTreeClassifier(criterion=\"entropy\", random_state=50, max_depth=1)\n",
    "tree_entropy_1.fit(X_train, y_train)\n",
    "\n",
    "y_pred_1 = tree_entropy_1.predict(X_test)\n",
    "print(\"Accuracy for Decision Tree with criteria as Entropy and depth 1 is:\", accuracy_score(y_test,y_pred_1))"
   ]
  },
  {
   "cell_type": "markdown",
   "id": "6455ecdf",
   "metadata": {},
   "source": [
    "##### Depth = 2"
   ]
  },
  {
   "cell_type": "code",
   "execution_count": 19,
   "id": "2aeb645c",
   "metadata": {
    "ExecuteTime": {
     "end_time": "2024-02-29T23:26:01.748708Z",
     "start_time": "2024-02-29T23:26:01.625169Z"
    }
   },
   "outputs": [
    {
     "name": "stdout",
     "output_type": "stream",
     "text": [
      "Accuracy for Decision Tree with criteria as Entropy and depth 2 is: 0.5601790887542797\n"
     ]
    }
   ],
   "source": [
    "tree_entropy_2 = DecisionTreeClassifier(criterion=\"entropy\", random_state=50, max_depth=2)\n",
    "tree_entropy_2.fit(X_train, y_train)\n",
    "\n",
    "y_pred_2 = tree_entropy_2.predict(X_test)\n",
    "print(\"Accuracy for Decision Tree with criteria as Entropy and depth 2 is:\", accuracy_score(y_test,y_pred_2))"
   ]
  },
  {
   "cell_type": "markdown",
   "id": "c28db618",
   "metadata": {},
   "source": [
    "##### Depth = 3"
   ]
  },
  {
   "cell_type": "code",
   "execution_count": 20,
   "id": "0ecb49e8",
   "metadata": {
    "ExecuteTime": {
     "end_time": "2024-02-29T23:26:02.820800Z",
     "start_time": "2024-02-29T23:26:02.656369Z"
    }
   },
   "outputs": [
    {
     "name": "stdout",
     "output_type": "stream",
     "text": [
      "Accuracy for Decision Tree with criteria as Entropy and depth 3 is: 0.6707927311035028\n"
     ]
    }
   ],
   "source": [
    "tree_entropy_3 = DecisionTreeClassifier(criterion=\"entropy\", random_state=50, max_depth=3)\n",
    "tree_entropy_3.fit(X_train, y_train)\n",
    "\n",
    "y_pred_3 = tree_entropy_3.predict(X_test)\n",
    "print(\"Accuracy for Decision Tree with criteria as Entropy and depth 3 is:\", accuracy_score(y_test,y_pred_3))"
   ]
  },
  {
   "cell_type": "markdown",
   "id": "8b7057ae",
   "metadata": {},
   "source": [
    "##### Depth = 4"
   ]
  },
  {
   "cell_type": "code",
   "execution_count": 21,
   "id": "d6f71c74",
   "metadata": {
    "ExecuteTime": {
     "end_time": "2024-02-29T23:26:04.086416Z",
     "start_time": "2024-02-29T23:26:03.876403Z"
    }
   },
   "outputs": [
    {
     "name": "stdout",
     "output_type": "stream",
     "text": [
      "Accuracy for Decision Tree with criteria as Entropy and depth 4 is: 0.7318936002106926\n"
     ]
    }
   ],
   "source": [
    "tree_entropy_4 = DecisionTreeClassifier(criterion=\"entropy\", random_state=50, max_depth=4)\n",
    "tree_entropy_4.fit(X_train, y_train)\n",
    "\n",
    "y_pred_4 = tree_entropy_4.predict(X_test)\n",
    "print(\"Accuracy for Decision Tree with criteria as Entropy and depth 4 is:\", accuracy_score(y_test,y_pred_4))"
   ]
  },
  {
   "cell_type": "markdown",
   "id": "76e9dd3e",
   "metadata": {},
   "source": [
    "##### Depth = 5"
   ]
  },
  {
   "cell_type": "code",
   "execution_count": 22,
   "id": "2ee5434f",
   "metadata": {
    "ExecuteTime": {
     "end_time": "2024-02-29T23:26:04.876791Z",
     "start_time": "2024-02-29T23:26:04.620082Z"
    }
   },
   "outputs": [
    {
     "name": "stdout",
     "output_type": "stream",
     "text": [
      "Accuracy for Decision Tree with criteria as Entropy and depth 5 is: 0.8074795891493284\n"
     ]
    }
   ],
   "source": [
    "tree_entropy_5 = DecisionTreeClassifier(criterion=\"entropy\", random_state=50, max_depth=5)\n",
    "tree_entropy_5.fit(X_train, y_train)\n",
    "\n",
    "y_pred_5 = tree_entropy_5.predict(X_test)\n",
    "print(\"Accuracy for Decision Tree with criteria as Entropy and depth 5 is:\", accuracy_score(y_test,y_pred_5))"
   ]
  },
  {
   "cell_type": "markdown",
   "id": "e9fa7b7e",
   "metadata": {},
   "source": [
    "##### Depth = 6"
   ]
  },
  {
   "cell_type": "code",
   "execution_count": 23,
   "id": "e1dd23c0",
   "metadata": {
    "ExecuteTime": {
     "end_time": "2024-02-29T23:26:05.782197Z",
     "start_time": "2024-02-29T23:26:05.498579Z"
    }
   },
   "outputs": [
    {
     "name": "stdout",
     "output_type": "stream",
     "text": [
      "Accuracy for Decision Tree with criteria as Entropy and depth 6 is: 0.8477745588622597\n"
     ]
    }
   ],
   "source": [
    "tree_entropy_6 = DecisionTreeClassifier(criterion=\"entropy\", random_state=50, max_depth=6)\n",
    "tree_entropy_6.fit(X_train, y_train)\n",
    "\n",
    "y_pred_6 = tree_entropy_6.predict(X_test)\n",
    "print(\"Accuracy for Decision Tree with criteria as Entropy and depth 6 is:\", accuracy_score(y_test,y_pred_6))"
   ]
  },
  {
   "cell_type": "markdown",
   "id": "b94e42f0",
   "metadata": {},
   "source": [
    "#### Draw the results"
   ]
  },
  {
   "cell_type": "code",
   "execution_count": 24,
   "id": "48c50b74",
   "metadata": {
    "ExecuteTime": {
     "end_time": "2024-02-29T23:26:29.424367Z",
     "start_time": "2024-02-29T23:26:26.971569Z"
    }
   },
   "outputs": [
    {
     "data": {
      "image/png": "[encoded data removed]",
      "text/plain": [
       "<Figure size 640x480 with 1 Axes>"
      ]
     },
     "metadata": {},
     "output_type": "display_data"
    }
   ],
   "source": [
    "gini_accuracies = []\n",
    "entropy_accuracies = []\n",
    "depth = [1, 2, 3, 4, 5, 6]\n",
    "\n",
    "for d in depth:\n",
    "    tree_gini = DecisionTreeClassifier(criterion=\"gini\", random_state=50, max_depth=d)\n",
    "    tree_gini.fit(X_train, y_train)\n",
    "    y_pred = tree_gini.predict(X_test)\n",
    "    gini_accuracies.append(accuracy_score(y_test, y_pred))\n",
    "    tree_entropy = DecisionTreeClassifier(criterion=\"entropy\", random_state=50, max_depth=d)\n",
    "    tree_entropy.fit(X_train, y_train)\n",
    "    y_pred = tree_entropy.predict(X_test)\n",
    "    entropy_accuracies.append(accuracy_score(y_test, y_pred))\n",
    "    \n",
    "plt.plot(depth, gini_accuracies, label='Gini Impurity', color='r')\n",
    "plt.plot(depth, entropy_accuracies, label='Entropy Impurity', color='b')\n",
    "plt.xlabel('Depth')\n",
    "plt.ylabel('Accuracy')\n",
    "plt.legend()\n",
    "plt.show()"
   ]
  },
  {
   "cell_type": "markdown",
   "id": "8d35cd2e",
   "metadata": {},
   "source": [
    "The results shows that as the depth increases, the decision tree becomes more complex and can better fit the training data. The choices can affect the splits made during training, which in turn can influence the tree's performance.\n",
    "\n",
    "In addition, from the figure drawn above, we can see that at the same depth, the accuracy of Entropy Impurity is generally higher than that of Gini Impurity due to the fact that Entropy does log calculations and is a more expensive computation."
   ]
  },
  {
   "cell_type": "markdown",
   "id": "c4be940c",
   "metadata": {},
   "source": [
    "### Take the best performing tree of depth 2 from above. Visualize the tree and discuss your observations. \n",
    "\n",
    "(For visualizing decision trees see: https://www.kaggle.com/willkoehrsen/visualize-a-decision-tree-w-python-scikit-learn)"
   ]
  },
  {
   "cell_type": "code",
   "execution_count": 25,
   "id": "0e95fe36",
   "metadata": {
    "ExecuteTime": {
     "end_time": "2024-02-29T23:31:55.800000Z",
     "start_time": "2024-02-29T23:31:55.778790Z"
    }
   },
   "outputs": [
    {
     "name": "stdout",
     "output_type": "stream",
     "text": [
      "Index(['Querylength', 'domain_token_count', 'path_token_count',\n",
      "       'avgdomaintokenlen', 'longdomaintokenlen', 'avgpathtokenlen', 'tld',\n",
      "       'charcompvowels', 'charcompace', 'ldl_url', 'ldl_domain', 'ldl_path',\n",
      "       'ldl_filename', 'ldl_getArg', 'dld_url', 'dld_domain', 'dld_path',\n",
      "       'dld_filename', 'dld_getArg', 'urlLen', 'domainlength', 'pathLength',\n",
      "       'subDirLen', 'fileNameLen', 'this.fileExtLen', 'ArgLen', 'pathurlRatio',\n",
      "       'ArgUrlRatio', 'argDomanRatio', 'domainUrlRatio', 'pathDomainRatio',\n",
      "       'argPathRatio', 'executable', 'isPortEighty', 'NumberofDotsinURL',\n",
      "       'ISIpAddressInDomainName', 'CharacterContinuityRate',\n",
      "       'LongestVariableValue', 'URL_DigitCount', 'host_DigitCount',\n",
      "       'Directory_DigitCount', 'File_name_DigitCount', 'Extension_DigitCount',\n",
      "       'Query_DigitCount', 'URL_Letter_Count', 'host_letter_count',\n",
      "       'Directory_LetterCount', 'Filename_LetterCount',\n",
      "       'Extension_LetterCount', 'Query_LetterCount', 'LongestPathTokenLength',\n",
      "       'Domain_LongestWordLength', 'Path_LongestWordLength',\n",
      "       'sub-Directory_LongestWordLength', 'Arguments_LongestWordLength',\n",
      "       'URL_sensitiveWord', 'URLQueries_variable', 'spcharUrl',\n",
      "       'delimeter_Domain', 'delimeter_path', 'delimeter_Count',\n",
      "       'NumberRate_URL', 'NumberRate_Domain', 'NumberRate_DirectoryName',\n",
      "       'NumberRate_FileName', 'NumberRate_Extension', 'NumberRate_AfterPath',\n",
      "       'SymbolCount_URL', 'SymbolCount_Domain', 'SymbolCount_Directoryname',\n",
      "       'SymbolCount_FileName', 'SymbolCount_Extension',\n",
      "       'SymbolCount_Afterpath', 'Entropy_URL', 'Entropy_Domain',\n",
      "       'Entropy_DirectoryName', 'Entropy_Filename', 'Entropy_Extension',\n",
      "       'Entropy_Afterpath'],\n",
      "      dtype='object')\n",
      "['Defacement' 'benign' 'malware' 'phishing' 'spam']\n"
     ]
    }
   ],
   "source": [
    "feature_names = df.columns[:79]\n",
    "# _, class_names = pd.factorize(df.iloc[:, 79])\n",
    "class_names = y.unique()\n",
    "print(feature_names)\n",
    "print(class_names)"
   ]
  },
  {
   "cell_type": "code",
   "execution_count": 26,
   "id": "38366dac",
   "metadata": {
    "ExecuteTime": {
     "end_time": "2024-02-29T23:33:26.670553Z",
     "start_time": "2024-02-29T23:33:26.144947Z"
    },
    "scrolled": true
   },
   "outputs": [
    {
     "data": {
      "image/svg+xml": [
       "<?xml version=\"1.0\" encoding=\"UTF-8\" standalone=\"no\"?>\n",
       "<!DOCTYPE svg PUBLIC \"-//W3C//DTD SVG 1.1//EN\"\n",
       " \"http://www.w3.org/Graphics/SVG/1.1/DTD/svg11.dtd\">\n",
       "<!-- Generated by graphviz version 2.50.0 (0)\n",
       " -->\n",
       "<!-- Title: Tree Pages: 1 -->\n",
       "<svg width=\"912pt\" height=\"314pt\"\n",
       " viewBox=\"0.00 0.00 912.00 314.00\" xmlns=\"http://www.w3.org/2000/svg\" xmlns:xlink=\"http://www.w3.org/1999/xlink\">\n",
       "<g id=\"graph0\" class=\"graph\" transform=\"scale(1 1) rotate(0) translate(4 310)\">\n",
       "<title>Tree</title>\n",
       "<polygon fill=\"white\" stroke=\"transparent\" points=\"-4,4 -4,-310 908,-310 908,4 -4,4\"/>\n",
       "<!-- 0 -->\n",
       "<g id=\"node1\" class=\"node\">\n",
       "<title>0</title>\n",
       "<path fill=\"#fdf2fb\" stroke=\"black\" d=\"M588.5,-306C588.5,-306 360.5,-306 360.5,-306 354.5,-306 348.5,-300 348.5,-294 348.5,-294 348.5,-235 348.5,-235 348.5,-229 354.5,-223 360.5,-223 360.5,-223 588.5,-223 588.5,-223 594.5,-223 600.5,-229 600.5,-235 600.5,-235 600.5,-294 600.5,-294 600.5,-300 594.5,-306 588.5,-306\"/>\n",
       "<text text-anchor=\"middle\" x=\"474.5\" y=\"-290.8\" font-family=\"Helvetica,sans-Serif\" font-size=\"14.00\">Extension_DigitCount &lt;= 12.5</text>\n",
       "<text text-anchor=\"middle\" x=\"474.5\" y=\"-275.8\" font-family=\"Helvetica,sans-Serif\" font-size=\"14.00\">gini = 0.783</text>\n",
       "<text text-anchor=\"middle\" x=\"474.5\" y=\"-260.8\" font-family=\"Helvetica,sans-Serif\" font-size=\"14.00\">samples = 15185</text>\n",
       "<text text-anchor=\"middle\" x=\"474.5\" y=\"-245.8\" font-family=\"Helvetica,sans-Serif\" font-size=\"14.00\">value = [1951, 2163, 3527, 3250, 4294]</text>\n",
       "<text text-anchor=\"middle\" x=\"474.5\" y=\"-230.8\" font-family=\"Helvetica,sans-Serif\" font-size=\"14.00\">class = spam</text>\n",
       "</g>\n",
       "<!-- 1 -->\n",
       "<g id=\"node2\" class=\"node\">\n",
       "<title>1</title>\n",
       "<path fill=\"#fdfffe\" stroke=\"black\" d=\"M462.5,-187C462.5,-187 234.5,-187 234.5,-187 228.5,-187 222.5,-181 222.5,-175 222.5,-175 222.5,-116 222.5,-116 222.5,-110 228.5,-104 234.5,-104 234.5,-104 462.5,-104 462.5,-104 468.5,-104 474.5,-110 474.5,-116 474.5,-116 474.5,-175 474.5,-175 474.5,-181 468.5,-187 462.5,-187\"/>\n",
       "<text text-anchor=\"middle\" x=\"348.5\" y=\"-171.8\" font-family=\"Helvetica,sans-Serif\" font-size=\"14.00\">pathurlRatio &lt;= 0.607</text>\n",
       "<text text-anchor=\"middle\" x=\"348.5\" y=\"-156.8\" font-family=\"Helvetica,sans-Serif\" font-size=\"14.00\">gini = 0.785</text>\n",
       "<text text-anchor=\"middle\" x=\"348.5\" y=\"-141.8\" font-family=\"Helvetica,sans-Serif\" font-size=\"14.00\">samples = 11800</text>\n",
       "<text text-anchor=\"middle\" x=\"348.5\" y=\"-126.8\" font-family=\"Helvetica,sans-Serif\" font-size=\"14.00\">value = [1769, 2079, 3192, 3089, 1671]</text>\n",
       "<text text-anchor=\"middle\" x=\"348.5\" y=\"-111.8\" font-family=\"Helvetica,sans-Serif\" font-size=\"14.00\">class = malware</text>\n",
       "</g>\n",
       "<!-- 0&#45;&gt;1 -->\n",
       "<g id=\"edge1\" class=\"edge\">\n",
       "<title>0&#45;&gt;1</title>\n",
       "<path fill=\"none\" stroke=\"black\" d=\"M430.78,-222.91C420.72,-213.56 409.93,-203.54 399.58,-193.93\"/>\n",
       "<polygon fill=\"black\" stroke=\"black\" points=\"401.85,-191.26 392.14,-187.02 397.08,-196.39 401.85,-191.26\"/>\n",
       "<text text-anchor=\"middle\" x=\"393.06\" y=\"-208.3\" font-family=\"Helvetica,sans-Serif\" font-size=\"14.00\">True</text>\n",
       "</g>\n",
       "<!-- 4 -->\n",
       "<g id=\"node5\" class=\"node\">\n",
       "<title>4</title>\n",
       "<path fill=\"#eb6ad0\" stroke=\"black\" d=\"M696,-187C696,-187 505,-187 505,-187 499,-187 493,-181 493,-175 493,-175 493,-116 493,-116 493,-110 499,-104 505,-104 505,-104 696,-104 696,-104 702,-104 708,-110 708,-116 708,-116 708,-175 708,-175 708,-181 702,-187 696,-187\"/>\n",
       "<text text-anchor=\"middle\" x=\"600.5\" y=\"-171.8\" font-family=\"Helvetica,sans-Serif\" font-size=\"14.00\">URL_Letter_Count &lt;= 58.5</text>\n",
       "<text text-anchor=\"middle\" x=\"600.5\" y=\"-156.8\" font-family=\"Helvetica,sans-Serif\" font-size=\"14.00\">gini = 0.384</text>\n",
       "<text text-anchor=\"middle\" x=\"600.5\" y=\"-141.8\" font-family=\"Helvetica,sans-Serif\" font-size=\"14.00\">samples = 3385</text>\n",
       "<text text-anchor=\"middle\" x=\"600.5\" y=\"-126.8\" font-family=\"Helvetica,sans-Serif\" font-size=\"14.00\">value = [182, 84, 335, 161, 2623]</text>\n",
       "<text text-anchor=\"middle\" x=\"600.5\" y=\"-111.8\" font-family=\"Helvetica,sans-Serif\" font-size=\"14.00\">class = spam</text>\n",
       "</g>\n",
       "<!-- 0&#45;&gt;4 -->\n",
       "<g id=\"edge4\" class=\"edge\">\n",
       "<title>0&#45;&gt;4</title>\n",
       "<path fill=\"none\" stroke=\"black\" d=\"M518.22,-222.91C528.28,-213.56 539.07,-203.54 549.42,-193.93\"/>\n",
       "<polygon fill=\"black\" stroke=\"black\" points=\"551.92,-196.39 556.86,-187.02 547.15,-191.26 551.92,-196.39\"/>\n",
       "<text text-anchor=\"middle\" x=\"555.94\" y=\"-208.3\" font-family=\"Helvetica,sans-Serif\" font-size=\"14.00\">False</text>\n",
       "</g>\n",
       "<!-- 2 -->\n",
       "<g id=\"node3\" class=\"node\">\n",
       "<title>2</title>\n",
       "<path fill=\"#b2b1f5\" stroke=\"black\" d=\"M203,-68C203,-68 12,-68 12,-68 6,-68 0,-62 0,-56 0,-56 0,-12 0,-12 0,-6 6,0 12,0 12,0 203,0 203,0 209,0 215,-6 215,-12 215,-12 215,-56 215,-56 215,-62 209,-68 203,-68\"/>\n",
       "<text text-anchor=\"middle\" x=\"107.5\" y=\"-52.8\" font-family=\"Helvetica,sans-Serif\" font-size=\"14.00\">gini = 0.639</text>\n",
       "<text text-anchor=\"middle\" x=\"107.5\" y=\"-37.8\" font-family=\"Helvetica,sans-Serif\" font-size=\"14.00\">samples = 3866</text>\n",
       "<text text-anchor=\"middle\" x=\"107.5\" y=\"-22.8\" font-family=\"Helvetica,sans-Serif\" font-size=\"14.00\">value = [570, 88, 276, 2053, 879]</text>\n",
       "<text text-anchor=\"middle\" x=\"107.5\" y=\"-7.8\" font-family=\"Helvetica,sans-Serif\" font-size=\"14.00\">class = phishing</text>\n",
       "</g>\n",
       "<!-- 1&#45;&gt;2 -->\n",
       "<g id=\"edge2\" class=\"edge\">\n",
       "<title>1&#45;&gt;2</title>\n",
       "<path fill=\"none\" stroke=\"black\" d=\"M259.1,-103.88C236.26,-93.5 211.82,-82.4 189.38,-72.2\"/>\n",
       "<polygon fill=\"black\" stroke=\"black\" points=\"190.78,-68.99 180.23,-68.04 187.88,-75.37 190.78,-68.99\"/>\n",
       "</g>\n",
       "<!-- 3 -->\n",
       "<g id=\"node4\" class=\"node\">\n",
       "<title>3</title>\n",
       "<path fill=\"#e0fbf6\" stroke=\"black\" d=\"M465.5,-68C465.5,-68 245.5,-68 245.5,-68 239.5,-68 233.5,-62 233.5,-56 233.5,-56 233.5,-12 233.5,-12 233.5,-6 239.5,0 245.5,0 245.5,0 465.5,0 465.5,0 471.5,0 477.5,-6 477.5,-12 477.5,-12 477.5,-56 477.5,-56 477.5,-62 471.5,-68 465.5,-68\"/>\n",
       "<text text-anchor=\"middle\" x=\"355.5\" y=\"-52.8\" font-family=\"Helvetica,sans-Serif\" font-size=\"14.00\">gini = 0.752</text>\n",
       "<text text-anchor=\"middle\" x=\"355.5\" y=\"-37.8\" font-family=\"Helvetica,sans-Serif\" font-size=\"14.00\">samples = 7934</text>\n",
       "<text text-anchor=\"middle\" x=\"355.5\" y=\"-22.8\" font-family=\"Helvetica,sans-Serif\" font-size=\"14.00\">value = [1199, 1991, 2916, 1036, 792]</text>\n",
       "<text text-anchor=\"middle\" x=\"355.5\" y=\"-7.8\" font-family=\"Helvetica,sans-Serif\" font-size=\"14.00\">class = malware</text>\n",
       "</g>\n",
       "<!-- 1&#45;&gt;3 -->\n",
       "<g id=\"edge3\" class=\"edge\">\n",
       "<title>1&#45;&gt;3</title>\n",
       "<path fill=\"none\" stroke=\"black\" d=\"M351.11,-103.73C351.64,-95.43 352.2,-86.67 352.73,-78.28\"/>\n",
       "<polygon fill=\"black\" stroke=\"black\" points=\"356.23,-78.5 353.37,-68.3 349.24,-78.06 356.23,-78.5\"/>\n",
       "</g>\n",
       "<!-- 5 -->\n",
       "<g id=\"node6\" class=\"node\">\n",
       "<title>5</title>\n",
       "<path fill=\"#65ebd2\" stroke=\"black\" d=\"M666.5,-68C666.5,-68 520.5,-68 520.5,-68 514.5,-68 508.5,-62 508.5,-56 508.5,-56 508.5,-12 508.5,-12 508.5,-6 514.5,0 520.5,0 520.5,0 666.5,0 666.5,0 672.5,0 678.5,-6 678.5,-12 678.5,-12 678.5,-56 678.5,-56 678.5,-62 672.5,-68 666.5,-68\"/>\n",
       "<text text-anchor=\"middle\" x=\"593.5\" y=\"-52.8\" font-family=\"Helvetica,sans-Serif\" font-size=\"14.00\">gini = 0.344</text>\n",
       "<text text-anchor=\"middle\" x=\"593.5\" y=\"-37.8\" font-family=\"Helvetica,sans-Serif\" font-size=\"14.00\">samples = 399</text>\n",
       "<text text-anchor=\"middle\" x=\"593.5\" y=\"-22.8\" font-family=\"Helvetica,sans-Serif\" font-size=\"14.00\">value = [1, 29, 319, 8, 42]</text>\n",
       "<text text-anchor=\"middle\" x=\"593.5\" y=\"-7.8\" font-family=\"Helvetica,sans-Serif\" font-size=\"14.00\">class = malware</text>\n",
       "</g>\n",
       "<!-- 4&#45;&gt;5 -->\n",
       "<g id=\"edge5\" class=\"edge\">\n",
       "<title>4&#45;&gt;5</title>\n",
       "<path fill=\"none\" stroke=\"black\" d=\"M597.89,-103.73C597.36,-95.43 596.8,-86.67 596.27,-78.28\"/>\n",
       "<polygon fill=\"black\" stroke=\"black\" points=\"599.76,-78.06 595.63,-68.3 592.77,-78.5 599.76,-78.06\"/>\n",
       "</g>\n",
       "<!-- 6 -->\n",
       "<g id=\"node7\" class=\"node\">\n",
       "<title>6</title>\n",
       "<path fill=\"#e956c9\" stroke=\"black\" d=\"M892,-68C892,-68 709,-68 709,-68 703,-68 697,-62 697,-56 697,-56 697,-12 697,-12 697,-6 703,0 709,0 709,0 892,0 892,0 898,0 904,-6 904,-12 904,-12 904,-56 904,-56 904,-62 898,-68 892,-68\"/>\n",
       "<text text-anchor=\"middle\" x=\"800.5\" y=\"-52.8\" font-family=\"Helvetica,sans-Serif\" font-size=\"14.00\">gini = 0.246</text>\n",
       "<text text-anchor=\"middle\" x=\"800.5\" y=\"-37.8\" font-family=\"Helvetica,sans-Serif\" font-size=\"14.00\">samples = 2986</text>\n",
       "<text text-anchor=\"middle\" x=\"800.5\" y=\"-22.8\" font-family=\"Helvetica,sans-Serif\" font-size=\"14.00\">value = [181, 55, 16, 153, 2581]</text>\n",
       "<text text-anchor=\"middle\" x=\"800.5\" y=\"-7.8\" font-family=\"Helvetica,sans-Serif\" font-size=\"14.00\">class = spam</text>\n",
       "</g>\n",
       "<!-- 4&#45;&gt;6 -->\n",
       "<g id=\"edge6\" class=\"edge\">\n",
       "<title>4&#45;&gt;6</title>\n",
       "<path fill=\"none\" stroke=\"black\" d=\"M674.69,-103.88C693.22,-93.73 713.03,-82.89 731.31,-72.88\"/>\n",
       "<polygon fill=\"black\" stroke=\"black\" points=\"733.06,-75.92 740.15,-68.04 729.69,-69.78 733.06,-75.92\"/>\n",
       "</g>\n",
       "</g>\n",
       "</svg>\n"
      ],
      "text/plain": [
       "<graphviz.sources.Source at 0x1dc2fe01f10>"
      ]
     },
     "execution_count": 26,
     "metadata": {},
     "output_type": "execute_result"
    }
   ],
   "source": [
    "# Visualizing the Gini Index based Decision Tree\n",
    "tree_gini_2 = DecisionTreeClassifier(criterion=\"gini\", random_state=50, max_depth=2)\n",
    "tree_gini_2.fit(X_train, y_train)\n",
    "graph_data = tree.export_graphviz(tree_gini_2, out_file=None, filled=True, rounded=True,\n",
    "                                feature_names=feature_names,  \n",
    "                                class_names=class_names)\n",
    "graph = graphviz.Source(graph_data)  \n",
    "graph"
   ]
  },
  {
   "cell_type": "code",
   "execution_count": 27,
   "id": "05756482",
   "metadata": {
    "ExecuteTime": {
     "end_time": "2024-02-29T23:35:35.152112Z",
     "start_time": "2024-02-29T23:35:34.933835Z"
    }
   },
   "outputs": [
    {
     "data": {
      "image/svg+xml": [
       "<?xml version=\"1.0\" encoding=\"UTF-8\" standalone=\"no\"?>\n",
       "<!DOCTYPE svg PUBLIC \"-//W3C//DTD SVG 1.1//EN\"\n",
       " \"http://www.w3.org/Graphics/SVG/1.1/DTD/svg11.dtd\">\n",
       "<!-- Generated by graphviz version 2.50.0 (0)\n",
       " -->\n",
       "<!-- Title: Tree Pages: 1 -->\n",
       "<svg width=\"900pt\" height=\"314pt\"\n",
       " viewBox=\"0.00 0.00 899.50 314.00\" xmlns=\"http://www.w3.org/2000/svg\" xmlns:xlink=\"http://www.w3.org/1999/xlink\">\n",
       "<g id=\"graph0\" class=\"graph\" transform=\"scale(1 1) rotate(0) translate(4 310)\">\n",
       "<title>Tree</title>\n",
       "<polygon fill=\"white\" stroke=\"transparent\" points=\"-4,4 -4,-310 895.5,-310 895.5,4 -4,4\"/>\n",
       "<!-- 0 -->\n",
       "<g id=\"node1\" class=\"node\">\n",
       "<title>0</title>\n",
       "<path fill=\"#fdf2fb\" stroke=\"black\" d=\"M531.5,-306C531.5,-306 303.5,-306 303.5,-306 297.5,-306 291.5,-300 291.5,-294 291.5,-294 291.5,-235 291.5,-235 291.5,-229 297.5,-223 303.5,-223 303.5,-223 531.5,-223 531.5,-223 537.5,-223 543.5,-229 543.5,-235 543.5,-235 543.5,-294 543.5,-294 543.5,-300 537.5,-306 531.5,-306\"/>\n",
       "<text text-anchor=\"middle\" x=\"417.5\" y=\"-290.8\" font-family=\"Helvetica,sans-Serif\" font-size=\"14.00\">domain_token_count &lt;= 2.5</text>\n",
       "<text text-anchor=\"middle\" x=\"417.5\" y=\"-275.8\" font-family=\"Helvetica,sans-Serif\" font-size=\"14.00\">entropy = 2.261</text>\n",
       "<text text-anchor=\"middle\" x=\"417.5\" y=\"-260.8\" font-family=\"Helvetica,sans-Serif\" font-size=\"14.00\">samples = 15185</text>\n",
       "<text text-anchor=\"middle\" x=\"417.5\" y=\"-245.8\" font-family=\"Helvetica,sans-Serif\" font-size=\"14.00\">value = [1951, 2163, 3527, 3250, 4294]</text>\n",
       "<text text-anchor=\"middle\" x=\"417.5\" y=\"-230.8\" font-family=\"Helvetica,sans-Serif\" font-size=\"14.00\">class = spam</text>\n",
       "</g>\n",
       "<!-- 1 -->\n",
       "<g id=\"node2\" class=\"node\">\n",
       "<title>1</title>\n",
       "<path fill=\"#ecfbe2\" stroke=\"black\" d=\"M389,-187C389,-187 198,-187 198,-187 192,-187 186,-181 186,-175 186,-175 186,-116 186,-116 186,-110 192,-104 198,-104 198,-104 389,-104 389,-104 395,-104 401,-110 401,-116 401,-116 401,-175 401,-175 401,-181 395,-187 389,-187\"/>\n",
       "<text text-anchor=\"middle\" x=\"293.5\" y=\"-171.8\" font-family=\"Helvetica,sans-Serif\" font-size=\"14.00\">urlLen &lt;= 50.5</text>\n",
       "<text text-anchor=\"middle\" x=\"293.5\" y=\"-156.8\" font-family=\"Helvetica,sans-Serif\" font-size=\"14.00\">entropy = 1.885</text>\n",
       "<text text-anchor=\"middle\" x=\"293.5\" y=\"-141.8\" font-family=\"Helvetica,sans-Serif\" font-size=\"14.00\">samples = 5010</text>\n",
       "<text text-anchor=\"middle\" x=\"293.5\" y=\"-126.8\" font-family=\"Helvetica,sans-Serif\" font-size=\"14.00\">value = [700, 1975, 882, 1453, 0]</text>\n",
       "<text text-anchor=\"middle\" x=\"293.5\" y=\"-111.8\" font-family=\"Helvetica,sans-Serif\" font-size=\"14.00\">class = benign</text>\n",
       "</g>\n",
       "<!-- 0&#45;&gt;1 -->\n",
       "<g id=\"edge1\" class=\"edge\">\n",
       "<title>0&#45;&gt;1</title>\n",
       "<path fill=\"none\" stroke=\"black\" d=\"M374.48,-222.91C364.57,-213.56 353.95,-203.54 343.77,-193.93\"/>\n",
       "<polygon fill=\"black\" stroke=\"black\" points=\"346.12,-191.34 336.45,-187.02 341.32,-196.43 346.12,-191.34\"/>\n",
       "<text text-anchor=\"middle\" x=\"337.17\" y=\"-208.31\" font-family=\"Helvetica,sans-Serif\" font-size=\"14.00\">True</text>\n",
       "</g>\n",
       "<!-- 4 -->\n",
       "<g id=\"node5\" class=\"node\">\n",
       "<title>4</title>\n",
       "<path fill=\"#f9d4f1\" stroke=\"black\" d=\"M652,-187C652,-187 431,-187 431,-187 425,-187 419,-181 419,-175 419,-175 419,-116 419,-116 419,-110 425,-104 431,-104 431,-104 652,-104 652,-104 658,-104 664,-110 664,-116 664,-116 664,-175 664,-175 664,-181 658,-187 652,-187\"/>\n",
       "<text text-anchor=\"middle\" x=\"541.5\" y=\"-171.8\" font-family=\"Helvetica,sans-Serif\" font-size=\"14.00\">Extension_LetterCount &lt;= 3.5</text>\n",
       "<text text-anchor=\"middle\" x=\"541.5\" y=\"-156.8\" font-family=\"Helvetica,sans-Serif\" font-size=\"14.00\">entropy = 1.95</text>\n",
       "<text text-anchor=\"middle\" x=\"541.5\" y=\"-141.8\" font-family=\"Helvetica,sans-Serif\" font-size=\"14.00\">samples = 10175</text>\n",
       "<text text-anchor=\"middle\" x=\"541.5\" y=\"-126.8\" font-family=\"Helvetica,sans-Serif\" font-size=\"14.00\">value = [1251, 188, 2645, 1797, 4294]</text>\n",
       "<text text-anchor=\"middle\" x=\"541.5\" y=\"-111.8\" font-family=\"Helvetica,sans-Serif\" font-size=\"14.00\">class = spam</text>\n",
       "</g>\n",
       "<!-- 0&#45;&gt;4 -->\n",
       "<g id=\"edge4\" class=\"edge\">\n",
       "<title>0&#45;&gt;4</title>\n",
       "<path fill=\"none\" stroke=\"black\" d=\"M460.52,-222.91C470.43,-213.56 481.05,-203.54 491.23,-193.93\"/>\n",
       "<polygon fill=\"black\" stroke=\"black\" points=\"493.68,-196.43 498.55,-187.02 488.88,-191.34 493.68,-196.43\"/>\n",
       "<text text-anchor=\"middle\" x=\"497.83\" y=\"-208.31\" font-family=\"Helvetica,sans-Serif\" font-size=\"14.00\">False</text>\n",
       "</g>\n",
       "<!-- 2 -->\n",
       "<g id=\"node3\" class=\"node\">\n",
       "<title>2</title>\n",
       "<path fill=\"#9b99f2\" stroke=\"black\" d=\"M165,-68C165,-68 12,-68 12,-68 6,-68 0,-62 0,-56 0,-56 0,-12 0,-12 0,-6 6,0 12,0 12,0 165,0 165,0 171,0 177,-6 177,-12 177,-12 177,-56 177,-56 177,-62 171,-68 165,-68\"/>\n",
       "<text text-anchor=\"middle\" x=\"88.5\" y=\"-52.8\" font-family=\"Helvetica,sans-Serif\" font-size=\"14.00\">entropy = 1.115</text>\n",
       "<text text-anchor=\"middle\" x=\"88.5\" y=\"-37.8\" font-family=\"Helvetica,sans-Serif\" font-size=\"14.00\">samples = 1444</text>\n",
       "<text text-anchor=\"middle\" x=\"88.5\" y=\"-22.8\" font-family=\"Helvetica,sans-Serif\" font-size=\"14.00\">value = [431, 1, 60, 952, 0]</text>\n",
       "<text text-anchor=\"middle\" x=\"88.5\" y=\"-7.8\" font-family=\"Helvetica,sans-Serif\" font-size=\"14.00\">class = phishing</text>\n",
       "</g>\n",
       "<!-- 1&#45;&gt;2 -->\n",
       "<g id=\"edge2\" class=\"edge\">\n",
       "<title>1&#45;&gt;2</title>\n",
       "<path fill=\"none\" stroke=\"black\" d=\"M217.46,-103.88C198.46,-93.73 178.16,-82.89 159.42,-72.88\"/>\n",
       "<polygon fill=\"black\" stroke=\"black\" points=\"160.83,-69.67 150.36,-68.04 157.53,-75.84 160.83,-69.67\"/>\n",
       "</g>\n",
       "<!-- 3 -->\n",
       "<g id=\"node4\" class=\"node\">\n",
       "<title>3</title>\n",
       "<path fill=\"#c8f4ac\" stroke=\"black\" d=\"M390,-68C390,-68 207,-68 207,-68 201,-68 195,-62 195,-56 195,-56 195,-12 195,-12 195,-6 201,0 207,0 207,0 390,0 390,0 396,0 402,-6 402,-12 402,-12 402,-56 402,-56 402,-62 396,-68 390,-68\"/>\n",
       "<text text-anchor=\"middle\" x=\"298.5\" y=\"-52.8\" font-family=\"Helvetica,sans-Serif\" font-size=\"14.00\">entropy = 1.639</text>\n",
       "<text text-anchor=\"middle\" x=\"298.5\" y=\"-37.8\" font-family=\"Helvetica,sans-Serif\" font-size=\"14.00\">samples = 3566</text>\n",
       "<text text-anchor=\"middle\" x=\"298.5\" y=\"-22.8\" font-family=\"Helvetica,sans-Serif\" font-size=\"14.00\">value = [269, 1974, 822, 501, 0]</text>\n",
       "<text text-anchor=\"middle\" x=\"298.5\" y=\"-7.8\" font-family=\"Helvetica,sans-Serif\" font-size=\"14.00\">class = benign</text>\n",
       "</g>\n",
       "<!-- 1&#45;&gt;3 -->\n",
       "<g id=\"edge3\" class=\"edge\">\n",
       "<title>1&#45;&gt;3</title>\n",
       "<path fill=\"none\" stroke=\"black\" d=\"M295.36,-103.73C295.74,-95.52 296.13,-86.86 296.51,-78.56\"/>\n",
       "<polygon fill=\"black\" stroke=\"black\" points=\"300.02,-78.45 296.98,-68.3 293.03,-78.13 300.02,-78.45\"/>\n",
       "</g>\n",
       "<!-- 5 -->\n",
       "<g id=\"node6\" class=\"node\">\n",
       "<title>5</title>\n",
       "<path fill=\"#cbf8f0\" stroke=\"black\" d=\"M631.5,-68C631.5,-68 441.5,-68 441.5,-68 435.5,-68 429.5,-62 429.5,-56 429.5,-56 429.5,-12 429.5,-12 429.5,-6 435.5,0 441.5,0 441.5,0 631.5,0 631.5,0 637.5,0 643.5,-6 643.5,-12 643.5,-12 643.5,-56 643.5,-56 643.5,-62 637.5,-68 631.5,-68\"/>\n",
       "<text text-anchor=\"middle\" x=\"536.5\" y=\"-52.8\" font-family=\"Helvetica,sans-Serif\" font-size=\"14.00\">entropy = 1.469</text>\n",
       "<text text-anchor=\"middle\" x=\"536.5\" y=\"-37.8\" font-family=\"Helvetica,sans-Serif\" font-size=\"14.00\">samples = 3264</text>\n",
       "<text text-anchor=\"middle\" x=\"536.5\" y=\"-22.8\" font-family=\"Helvetica,sans-Serif\" font-size=\"14.00\">value = [30, 31, 1720, 1168, 315]</text>\n",
       "<text text-anchor=\"middle\" x=\"536.5\" y=\"-7.8\" font-family=\"Helvetica,sans-Serif\" font-size=\"14.00\">class = malware</text>\n",
       "</g>\n",
       "<!-- 4&#45;&gt;5 -->\n",
       "<g id=\"edge5\" class=\"edge\">\n",
       "<title>4&#45;&gt;5</title>\n",
       "<path fill=\"none\" stroke=\"black\" d=\"M539.64,-103.73C539.26,-95.52 538.87,-86.86 538.49,-78.56\"/>\n",
       "<polygon fill=\"black\" stroke=\"black\" points=\"541.97,-78.13 538.02,-68.3 534.98,-78.45 541.97,-78.13\"/>\n",
       "</g>\n",
       "<!-- 6 -->\n",
       "<g id=\"node7\" class=\"node\">\n",
       "<title>6</title>\n",
       "<path fill=\"#f29fe0\" stroke=\"black\" d=\"M879.5,-68C879.5,-68 673.5,-68 673.5,-68 667.5,-68 661.5,-62 661.5,-56 661.5,-56 661.5,-12 661.5,-12 661.5,-6 667.5,0 673.5,0 673.5,0 879.5,0 879.5,0 885.5,0 891.5,-6 891.5,-12 891.5,-12 891.5,-56 891.5,-56 891.5,-62 885.5,-68 879.5,-68\"/>\n",
       "<text text-anchor=\"middle\" x=\"776.5\" y=\"-52.8\" font-family=\"Helvetica,sans-Serif\" font-size=\"14.00\">entropy = 1.727</text>\n",
       "<text text-anchor=\"middle\" x=\"776.5\" y=\"-37.8\" font-family=\"Helvetica,sans-Serif\" font-size=\"14.00\">samples = 6911</text>\n",
       "<text text-anchor=\"middle\" x=\"776.5\" y=\"-22.8\" font-family=\"Helvetica,sans-Serif\" font-size=\"14.00\">value = [1221, 157, 925, 629, 3979]</text>\n",
       "<text text-anchor=\"middle\" x=\"776.5\" y=\"-7.8\" font-family=\"Helvetica,sans-Serif\" font-size=\"14.00\">class = spam</text>\n",
       "</g>\n",
       "<!-- 4&#45;&gt;6 -->\n",
       "<g id=\"edge6\" class=\"edge\">\n",
       "<title>4&#45;&gt;6</title>\n",
       "<path fill=\"none\" stroke=\"black\" d=\"M628.67,-103.88C650.84,-93.55 674.56,-82.5 696.37,-72.34\"/>\n",
       "<polygon fill=\"black\" stroke=\"black\" points=\"698,-75.44 705.59,-68.04 695.04,-69.09 698,-75.44\"/>\n",
       "</g>\n",
       "</g>\n",
       "</svg>\n"
      ],
      "text/plain": [
       "<graphviz.sources.Source at 0x1dc32b82af0>"
      ]
     },
     "execution_count": 27,
     "metadata": {},
     "output_type": "execute_result"
    }
   ],
   "source": [
    "# Visualizing the Entropy based Decision Tree\n",
    "tree_entropy_2 = DecisionTreeClassifier(criterion=\"entropy\", random_state=50, max_depth=2)\n",
    "tree_entropy_2.fit(X_train, y_train)\n",
    "graph_data = tree.export_graphviz(tree_entropy_2, out_file=None, filled=True, rounded=True,\n",
    "                                feature_names=feature_names,  \n",
    "                                class_names=class_names)\n",
    "graph = graphviz.Source(graph_data)  \n",
    "graph"
   ]
  },
  {
   "cell_type": "markdown",
   "id": "2758e9ed",
   "metadata": {},
   "source": [
    "From the two figures, we can see that features closer to the root node are typically more important in making classification decisions. \n",
    "\n",
    "What's more, using Gini Impurity and Entropy Impurity will have an impact on the generated decision tree. At the same number of layers, they use different features for decision-making."
   ]
  }
 ],
 "metadata": {
  "kernelspec": {
   "display_name": "Python 3 (ipykernel)",
   "language": "python",
   "name": "python3"
  },
  "language_info": {
   "codemirror_mode": {
    "name": "ipython",
    "version": 3
   },
   "file_extension": ".py",
   "mimetype": "text/x-python",
   "name": "python",
   "nbconvert_exporter": "python",
   "pygments_lexer": "ipython3",
   "version": "3.9.18"
  },
  "toc": {
   "base_numbering": 1,
   "nav_menu": {},
   "number_sections": true,
   "sideBar": true,
   "skip_h1_title": false,
   "title_cell": "Table of Contents",
   "title_sidebar": "Contents",
   "toc_cell": false,
   "toc_position": {},
   "toc_section_display": true,
   "toc_window_display": false
  }
 },
 "nbformat": 4,
 "nbformat_minor": 5
}
