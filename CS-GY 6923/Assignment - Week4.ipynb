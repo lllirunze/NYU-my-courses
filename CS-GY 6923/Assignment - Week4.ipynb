{
 "cells": [
  {
   "cell_type": "markdown",
   "id": "c9642eb7",
   "metadata": {},
   "source": [
    "__Assignment - Week 4__\n",
    "\n",
    "__Name__: Runze Li\n",
    "\n",
    "__net id__: rl50xx"
   ]
  },
  {
   "cell_type": "markdown",
   "id": "4b0dd739",
   "metadata": {},
   "source": [
    "We use the SVM model to classify Dos vs. Non Dos classes with all features. We can summarize the following table using different kernels:\n",
    "\n",
    "|Kernel (for all features)|Training Accuracy|Testing Accuracy|\n",
    "|:--:|:--:|:--:|\n",
    "|Linear|99.96%|99.92%|\n",
    "|RBF|99.62%|99.70%|\n",
    "|Polynomial|99.30%|99.48%|\n",
    "|Sigmoid|99.57%|99.68%|\n",
    "\n",
    "What's more, we summarize the pros and cons of each of the kernels:\n",
    "\n",
    "- Linear Kernel:\n",
    "    - __Pros:__ Linear kernel is computationally efficient, and it works well when the data is linearly separable.\n",
    "    - __Cons:__ Linear kernel may be limited in handling non-linear data.\n",
    "\n",
    "- RBF Kernel:\n",
    "    - __Pros:__ RBF kernel is highly flexible and capable of capturing complex non-linear relationships in the data.\n",
    "    - __Cons:__ RBF kernel is difficult to find a suitable gamma value which will lead to overfitting.\n",
    "    \n",
    "- Polynomial Kernel:\n",
    "    - __Pros:__ Polynomial Kernel can capture non-linear and complex relationships in the data and it provides a flexible decision boundary by introducing higher-dimensional feature space through polynomial mappings.\n",
    "    - __Cons:__ Polynomial kernel is sensitive to the choice of hyperparameters, such as the degree of the polynomial.\n",
    "\n",
    "- Sigmoid Kernel:\n",
    "    - __Pros:__ Sigmoid kernel can capture non-linear relationships and is suitable for data that is not linearly separable.\n",
    "    - __Cons:__ Sigmoid kernel is less commonly used compared to other kernels like RBF and polynomial.\n",
    "\n",
    "By selecting different features and conducting tests and drawings respectively, we select `service` and `count` as features for training in order to draw a clearer image. The result is as follows:\n",
    "\n",
    "|Kernel (only for 2 features)|Training Accuracy|Testing Accuracy|\n",
    "|:--:|:--:|:--:|\n",
    "|Linear|98.17%|98.05%|\n",
    "|RBF|98.18%|98.07%|\n",
    "\n",
    "We can find that RBF kernel gets the better accuracy than linear kernel because the data isn't linearly seperable. The decision boundary is much more complex and captured more intricate relationship between the 2 features."
   ]
  },
  {
   "cell_type": "markdown",
   "id": "c432445f",
   "metadata": {},
   "source": [
    "### Step1. Using the Scikit-Learn Library train the SVM model on the KDD99 data set to classify Dos vs Non Dos using all of the features at once."
   ]
  },
  {
   "cell_type": "code",
   "execution_count": 1,
   "id": "d44267a0",
   "metadata": {
    "ExecuteTime": {
     "end_time": "2024-02-22T23:26:06.351903Z",
     "start_time": "2024-02-22T23:25:59.759012Z"
    }
   },
   "outputs": [],
   "source": [
    "# Import\n",
    "\n",
    "import numpy as np\n",
    "import pandas as pd\n",
    "import matplotlib.pyplot as plt\n",
    "from sklearn import svm"
   ]
  },
  {
   "cell_type": "markdown",
   "id": "d13b4c27",
   "metadata": {},
   "source": [
    "#### Load data\n",
    "\n",
    "The Website of Kddcup99: [https://datahub.io/machine-learning/kddcup99](https://datahub.io/machine-learning/kddcup99)"
   ]
  },
  {
   "cell_type": "code",
   "execution_count": 2,
   "id": "e55faf9e",
   "metadata": {
    "ExecuteTime": {
     "end_time": "2024-02-22T23:26:08.089624Z",
     "start_time": "2024-02-22T23:26:06.354008Z"
    }
   },
   "outputs": [
    {
     "data": {
      "text/html": [
       "<div>\n",
       "<style scoped>\n",
       "    .dataframe tbody tr th:only-of-type {\n",
       "        vertical-align: middle;\n",
       "    }\n",
       "\n",
       "    .dataframe tbody tr th {\n",
       "        vertical-align: top;\n",
       "    }\n",
       "\n",
       "    .dataframe thead th {\n",
       "        text-align: right;\n",
       "    }\n",
       "</style>\n",
       "<table border=\"1\" class=\"dataframe\">\n",
       "  <thead>\n",
       "    <tr style=\"text-align: right;\">\n",
       "      <th></th>\n",
       "      <th>duration</th>\n",
       "      <th>protocol_type</th>\n",
       "      <th>service</th>\n",
       "      <th>flag</th>\n",
       "      <th>src_bytes</th>\n",
       "      <th>dst_bytes</th>\n",
       "      <th>land</th>\n",
       "      <th>wrong_fragment</th>\n",
       "      <th>urgent</th>\n",
       "      <th>hot</th>\n",
       "      <th>...</th>\n",
       "      <th>dst_host_srv_count</th>\n",
       "      <th>dst_host_same_srv_rate</th>\n",
       "      <th>dst_host_diff_srv_rate</th>\n",
       "      <th>dst_host_same_src_port_rate</th>\n",
       "      <th>dst_host_srv_diff_host_rate</th>\n",
       "      <th>dst_host_serror_rate</th>\n",
       "      <th>dst_host_srv_serror_rate</th>\n",
       "      <th>dst_host_rerror_rate</th>\n",
       "      <th>dst_host_srv_rerror_rate</th>\n",
       "      <th>label</th>\n",
       "    </tr>\n",
       "  </thead>\n",
       "  <tbody>\n",
       "    <tr>\n",
       "      <th>0</th>\n",
       "      <td>0</td>\n",
       "      <td>tcp</td>\n",
       "      <td>http</td>\n",
       "      <td>SF</td>\n",
       "      <td>181</td>\n",
       "      <td>5450</td>\n",
       "      <td>0</td>\n",
       "      <td>0</td>\n",
       "      <td>0</td>\n",
       "      <td>0</td>\n",
       "      <td>...</td>\n",
       "      <td>9</td>\n",
       "      <td>1.0</td>\n",
       "      <td>0.0</td>\n",
       "      <td>0.11</td>\n",
       "      <td>0.0</td>\n",
       "      <td>0.0</td>\n",
       "      <td>0.0</td>\n",
       "      <td>0.0</td>\n",
       "      <td>0.0</td>\n",
       "      <td>normal</td>\n",
       "    </tr>\n",
       "    <tr>\n",
       "      <th>1</th>\n",
       "      <td>0</td>\n",
       "      <td>tcp</td>\n",
       "      <td>http</td>\n",
       "      <td>SF</td>\n",
       "      <td>239</td>\n",
       "      <td>486</td>\n",
       "      <td>0</td>\n",
       "      <td>0</td>\n",
       "      <td>0</td>\n",
       "      <td>0</td>\n",
       "      <td>...</td>\n",
       "      <td>19</td>\n",
       "      <td>1.0</td>\n",
       "      <td>0.0</td>\n",
       "      <td>0.05</td>\n",
       "      <td>0.0</td>\n",
       "      <td>0.0</td>\n",
       "      <td>0.0</td>\n",
       "      <td>0.0</td>\n",
       "      <td>0.0</td>\n",
       "      <td>normal</td>\n",
       "    </tr>\n",
       "    <tr>\n",
       "      <th>2</th>\n",
       "      <td>0</td>\n",
       "      <td>tcp</td>\n",
       "      <td>http</td>\n",
       "      <td>SF</td>\n",
       "      <td>235</td>\n",
       "      <td>1337</td>\n",
       "      <td>0</td>\n",
       "      <td>0</td>\n",
       "      <td>0</td>\n",
       "      <td>0</td>\n",
       "      <td>...</td>\n",
       "      <td>29</td>\n",
       "      <td>1.0</td>\n",
       "      <td>0.0</td>\n",
       "      <td>0.03</td>\n",
       "      <td>0.0</td>\n",
       "      <td>0.0</td>\n",
       "      <td>0.0</td>\n",
       "      <td>0.0</td>\n",
       "      <td>0.0</td>\n",
       "      <td>normal</td>\n",
       "    </tr>\n",
       "    <tr>\n",
       "      <th>3</th>\n",
       "      <td>0</td>\n",
       "      <td>tcp</td>\n",
       "      <td>http</td>\n",
       "      <td>SF</td>\n",
       "      <td>219</td>\n",
       "      <td>1337</td>\n",
       "      <td>0</td>\n",
       "      <td>0</td>\n",
       "      <td>0</td>\n",
       "      <td>0</td>\n",
       "      <td>...</td>\n",
       "      <td>39</td>\n",
       "      <td>1.0</td>\n",
       "      <td>0.0</td>\n",
       "      <td>0.03</td>\n",
       "      <td>0.0</td>\n",
       "      <td>0.0</td>\n",
       "      <td>0.0</td>\n",
       "      <td>0.0</td>\n",
       "      <td>0.0</td>\n",
       "      <td>normal</td>\n",
       "    </tr>\n",
       "    <tr>\n",
       "      <th>4</th>\n",
       "      <td>0</td>\n",
       "      <td>tcp</td>\n",
       "      <td>http</td>\n",
       "      <td>SF</td>\n",
       "      <td>217</td>\n",
       "      <td>2032</td>\n",
       "      <td>0</td>\n",
       "      <td>0</td>\n",
       "      <td>0</td>\n",
       "      <td>0</td>\n",
       "      <td>...</td>\n",
       "      <td>49</td>\n",
       "      <td>1.0</td>\n",
       "      <td>0.0</td>\n",
       "      <td>0.02</td>\n",
       "      <td>0.0</td>\n",
       "      <td>0.0</td>\n",
       "      <td>0.0</td>\n",
       "      <td>0.0</td>\n",
       "      <td>0.0</td>\n",
       "      <td>normal</td>\n",
       "    </tr>\n",
       "  </tbody>\n",
       "</table>\n",
       "<p>5 rows × 42 columns</p>\n",
       "</div>"
      ],
      "text/plain": [
       "   duration protocol_type service flag  src_bytes  dst_bytes  land  \\\n",
       "0         0           tcp    http   SF        181       5450     0   \n",
       "1         0           tcp    http   SF        239        486     0   \n",
       "2         0           tcp    http   SF        235       1337     0   \n",
       "3         0           tcp    http   SF        219       1337     0   \n",
       "4         0           tcp    http   SF        217       2032     0   \n",
       "\n",
       "   wrong_fragment  urgent  hot  ...  dst_host_srv_count  \\\n",
       "0               0       0    0  ...                   9   \n",
       "1               0       0    0  ...                  19   \n",
       "2               0       0    0  ...                  29   \n",
       "3               0       0    0  ...                  39   \n",
       "4               0       0    0  ...                  49   \n",
       "\n",
       "   dst_host_same_srv_rate  dst_host_diff_srv_rate  \\\n",
       "0                     1.0                     0.0   \n",
       "1                     1.0                     0.0   \n",
       "2                     1.0                     0.0   \n",
       "3                     1.0                     0.0   \n",
       "4                     1.0                     0.0   \n",
       "\n",
       "   dst_host_same_src_port_rate  dst_host_srv_diff_host_rate  \\\n",
       "0                         0.11                          0.0   \n",
       "1                         0.05                          0.0   \n",
       "2                         0.03                          0.0   \n",
       "3                         0.03                          0.0   \n",
       "4                         0.02                          0.0   \n",
       "\n",
       "   dst_host_serror_rate  dst_host_srv_serror_rate  dst_host_rerror_rate  \\\n",
       "0                   0.0                       0.0                   0.0   \n",
       "1                   0.0                       0.0                   0.0   \n",
       "2                   0.0                       0.0                   0.0   \n",
       "3                   0.0                       0.0                   0.0   \n",
       "4                   0.0                       0.0                   0.0   \n",
       "\n",
       "   dst_host_srv_rerror_rate   label  \n",
       "0                       0.0  normal  \n",
       "1                       0.0  normal  \n",
       "2                       0.0  normal  \n",
       "3                       0.0  normal  \n",
       "4                       0.0  normal  \n",
       "\n",
       "[5 rows x 42 columns]"
      ]
     },
     "execution_count": 2,
     "metadata": {},
     "output_type": "execute_result"
    }
   ],
   "source": [
    "# Load data\n",
    "df = pd.read_csv('kddcup99_csv.csv')\n",
    "\n",
    "# Display original data\n",
    "df.head()"
   ]
  },
  {
   "cell_type": "markdown",
   "id": "81c04b1f",
   "metadata": {},
   "source": [
    "#### Preprocessing\n",
    "\n",
    "In the data, we found that some data are __object-type features__. For these features, we need to identify and use __LabelEncoder__ to encode, convert the type value to an integer value and return the corresponding column.\n",
    "\n",
    "Note: You can use label encoder or one hot encoding for encoding categorical variables."
   ]
  },
  {
   "cell_type": "code",
   "execution_count": 3,
   "id": "e3d2f0bf",
   "metadata": {
    "ExecuteTime": {
     "end_time": "2024-02-22T23:26:09.789826Z",
     "start_time": "2024-02-22T23:26:09.769532Z"
    }
   },
   "outputs": [
    {
     "name": "stdout",
     "output_type": "stream",
     "text": [
      "Feature data types:\n",
      "duration                         int64\n",
      "protocol_type                   object\n",
      "service                         object\n",
      "flag                            object\n",
      "src_bytes                        int64\n",
      "dst_bytes                        int64\n",
      "land                             int64\n",
      "wrong_fragment                   int64\n",
      "urgent                           int64\n",
      "hot                              int64\n",
      "num_failed_logins                int64\n",
      "logged_in                        int64\n",
      "lnum_compromised                 int64\n",
      "lroot_shell                      int64\n",
      "lsu_attempted                    int64\n",
      "lnum_root                        int64\n",
      "lnum_file_creations              int64\n",
      "lnum_shells                      int64\n",
      "lnum_access_files                int64\n",
      "lnum_outbound_cmds               int64\n",
      "is_host_login                    int64\n",
      "is_guest_login                   int64\n",
      "count                            int64\n",
      "srv_count                        int64\n",
      "serror_rate                    float64\n",
      "srv_serror_rate                float64\n",
      "rerror_rate                    float64\n",
      "srv_rerror_rate                float64\n",
      "same_srv_rate                  float64\n",
      "diff_srv_rate                  float64\n",
      "srv_diff_host_rate             float64\n",
      "dst_host_count                   int64\n",
      "dst_host_srv_count               int64\n",
      "dst_host_same_srv_rate         float64\n",
      "dst_host_diff_srv_rate         float64\n",
      "dst_host_same_src_port_rate    float64\n",
      "dst_host_srv_diff_host_rate    float64\n",
      "dst_host_serror_rate           float64\n",
      "dst_host_srv_serror_rate       float64\n",
      "dst_host_rerror_rate           float64\n",
      "dst_host_srv_rerror_rate       float64\n",
      "label                           object\n",
      "dtype: object\n"
     ]
    }
   ],
   "source": [
    "print(\"Feature data types:\")\n",
    "print(df.dtypes)"
   ]
  },
  {
   "cell_type": "markdown",
   "id": "e901e06c",
   "metadata": {},
   "source": [
    "In the data, we found that __protocol_type, service and flag__ are object-type features. For these features, we convert these values to integer values."
   ]
  },
  {
   "cell_type": "code",
   "execution_count": 4,
   "id": "210a8935",
   "metadata": {
    "ExecuteTime": {
     "end_time": "2024-02-22T23:26:11.929014Z",
     "start_time": "2024-02-22T23:26:11.624111Z"
    }
   },
   "outputs": [
    {
     "data": {
      "text/html": [
       "<div>\n",
       "<style scoped>\n",
       "    .dataframe tbody tr th:only-of-type {\n",
       "        vertical-align: middle;\n",
       "    }\n",
       "\n",
       "    .dataframe tbody tr th {\n",
       "        vertical-align: top;\n",
       "    }\n",
       "\n",
       "    .dataframe thead th {\n",
       "        text-align: right;\n",
       "    }\n",
       "</style>\n",
       "<table border=\"1\" class=\"dataframe\">\n",
       "  <thead>\n",
       "    <tr style=\"text-align: right;\">\n",
       "      <th></th>\n",
       "      <th>duration</th>\n",
       "      <th>protocol_type</th>\n",
       "      <th>service</th>\n",
       "      <th>flag</th>\n",
       "      <th>src_bytes</th>\n",
       "      <th>dst_bytes</th>\n",
       "      <th>land</th>\n",
       "      <th>wrong_fragment</th>\n",
       "      <th>urgent</th>\n",
       "      <th>hot</th>\n",
       "      <th>...</th>\n",
       "      <th>dst_host_srv_count</th>\n",
       "      <th>dst_host_same_srv_rate</th>\n",
       "      <th>dst_host_diff_srv_rate</th>\n",
       "      <th>dst_host_same_src_port_rate</th>\n",
       "      <th>dst_host_srv_diff_host_rate</th>\n",
       "      <th>dst_host_serror_rate</th>\n",
       "      <th>dst_host_srv_serror_rate</th>\n",
       "      <th>dst_host_rerror_rate</th>\n",
       "      <th>dst_host_srv_rerror_rate</th>\n",
       "      <th>label</th>\n",
       "    </tr>\n",
       "  </thead>\n",
       "  <tbody>\n",
       "    <tr>\n",
       "      <th>0</th>\n",
       "      <td>0</td>\n",
       "      <td>1</td>\n",
       "      <td>22</td>\n",
       "      <td>9</td>\n",
       "      <td>181</td>\n",
       "      <td>5450</td>\n",
       "      <td>0</td>\n",
       "      <td>0</td>\n",
       "      <td>0</td>\n",
       "      <td>0</td>\n",
       "      <td>...</td>\n",
       "      <td>9</td>\n",
       "      <td>1.0</td>\n",
       "      <td>0.0</td>\n",
       "      <td>0.11</td>\n",
       "      <td>0.0</td>\n",
       "      <td>0.0</td>\n",
       "      <td>0.0</td>\n",
       "      <td>0.0</td>\n",
       "      <td>0.0</td>\n",
       "      <td>normal</td>\n",
       "    </tr>\n",
       "    <tr>\n",
       "      <th>1</th>\n",
       "      <td>0</td>\n",
       "      <td>1</td>\n",
       "      <td>22</td>\n",
       "      <td>9</td>\n",
       "      <td>239</td>\n",
       "      <td>486</td>\n",
       "      <td>0</td>\n",
       "      <td>0</td>\n",
       "      <td>0</td>\n",
       "      <td>0</td>\n",
       "      <td>...</td>\n",
       "      <td>19</td>\n",
       "      <td>1.0</td>\n",
       "      <td>0.0</td>\n",
       "      <td>0.05</td>\n",
       "      <td>0.0</td>\n",
       "      <td>0.0</td>\n",
       "      <td>0.0</td>\n",
       "      <td>0.0</td>\n",
       "      <td>0.0</td>\n",
       "      <td>normal</td>\n",
       "    </tr>\n",
       "    <tr>\n",
       "      <th>2</th>\n",
       "      <td>0</td>\n",
       "      <td>1</td>\n",
       "      <td>22</td>\n",
       "      <td>9</td>\n",
       "      <td>235</td>\n",
       "      <td>1337</td>\n",
       "      <td>0</td>\n",
       "      <td>0</td>\n",
       "      <td>0</td>\n",
       "      <td>0</td>\n",
       "      <td>...</td>\n",
       "      <td>29</td>\n",
       "      <td>1.0</td>\n",
       "      <td>0.0</td>\n",
       "      <td>0.03</td>\n",
       "      <td>0.0</td>\n",
       "      <td>0.0</td>\n",
       "      <td>0.0</td>\n",
       "      <td>0.0</td>\n",
       "      <td>0.0</td>\n",
       "      <td>normal</td>\n",
       "    </tr>\n",
       "    <tr>\n",
       "      <th>3</th>\n",
       "      <td>0</td>\n",
       "      <td>1</td>\n",
       "      <td>22</td>\n",
       "      <td>9</td>\n",
       "      <td>219</td>\n",
       "      <td>1337</td>\n",
       "      <td>0</td>\n",
       "      <td>0</td>\n",
       "      <td>0</td>\n",
       "      <td>0</td>\n",
       "      <td>...</td>\n",
       "      <td>39</td>\n",
       "      <td>1.0</td>\n",
       "      <td>0.0</td>\n",
       "      <td>0.03</td>\n",
       "      <td>0.0</td>\n",
       "      <td>0.0</td>\n",
       "      <td>0.0</td>\n",
       "      <td>0.0</td>\n",
       "      <td>0.0</td>\n",
       "      <td>normal</td>\n",
       "    </tr>\n",
       "    <tr>\n",
       "      <th>4</th>\n",
       "      <td>0</td>\n",
       "      <td>1</td>\n",
       "      <td>22</td>\n",
       "      <td>9</td>\n",
       "      <td>217</td>\n",
       "      <td>2032</td>\n",
       "      <td>0</td>\n",
       "      <td>0</td>\n",
       "      <td>0</td>\n",
       "      <td>0</td>\n",
       "      <td>...</td>\n",
       "      <td>49</td>\n",
       "      <td>1.0</td>\n",
       "      <td>0.0</td>\n",
       "      <td>0.02</td>\n",
       "      <td>0.0</td>\n",
       "      <td>0.0</td>\n",
       "      <td>0.0</td>\n",
       "      <td>0.0</td>\n",
       "      <td>0.0</td>\n",
       "      <td>normal</td>\n",
       "    </tr>\n",
       "  </tbody>\n",
       "</table>\n",
       "<p>5 rows × 42 columns</p>\n",
       "</div>"
      ],
      "text/plain": [
       "   duration  protocol_type  service  flag  src_bytes  dst_bytes  land  \\\n",
       "0         0              1       22     9        181       5450     0   \n",
       "1         0              1       22     9        239        486     0   \n",
       "2         0              1       22     9        235       1337     0   \n",
       "3         0              1       22     9        219       1337     0   \n",
       "4         0              1       22     9        217       2032     0   \n",
       "\n",
       "   wrong_fragment  urgent  hot  ...  dst_host_srv_count  \\\n",
       "0               0       0    0  ...                   9   \n",
       "1               0       0    0  ...                  19   \n",
       "2               0       0    0  ...                  29   \n",
       "3               0       0    0  ...                  39   \n",
       "4               0       0    0  ...                  49   \n",
       "\n",
       "   dst_host_same_srv_rate  dst_host_diff_srv_rate  \\\n",
       "0                     1.0                     0.0   \n",
       "1                     1.0                     0.0   \n",
       "2                     1.0                     0.0   \n",
       "3                     1.0                     0.0   \n",
       "4                     1.0                     0.0   \n",
       "\n",
       "   dst_host_same_src_port_rate  dst_host_srv_diff_host_rate  \\\n",
       "0                         0.11                          0.0   \n",
       "1                         0.05                          0.0   \n",
       "2                         0.03                          0.0   \n",
       "3                         0.03                          0.0   \n",
       "4                         0.02                          0.0   \n",
       "\n",
       "   dst_host_serror_rate  dst_host_srv_serror_rate  dst_host_rerror_rate  \\\n",
       "0                   0.0                       0.0                   0.0   \n",
       "1                   0.0                       0.0                   0.0   \n",
       "2                   0.0                       0.0                   0.0   \n",
       "3                   0.0                       0.0                   0.0   \n",
       "4                   0.0                       0.0                   0.0   \n",
       "\n",
       "   dst_host_srv_rerror_rate   label  \n",
       "0                       0.0  normal  \n",
       "1                       0.0  normal  \n",
       "2                       0.0  normal  \n",
       "3                       0.0  normal  \n",
       "4                       0.0  normal  \n",
       "\n",
       "[5 rows x 42 columns]"
      ]
     },
     "execution_count": 4,
     "metadata": {},
     "output_type": "execute_result"
    }
   ],
   "source": [
    "from sklearn.preprocessing import LabelEncoder\n",
    "\n",
    "objectFeatures = ['protocol_type', 'service', 'flag']\n",
    "for feature in objectFeatures:\n",
    "    labelEncoder = LabelEncoder()\n",
    "    df[feature] = labelEncoder.fit_transform(df[feature])\n",
    "\n",
    "df.head()"
   ]
  },
  {
   "cell_type": "markdown",
   "id": "f4bc2286",
   "metadata": {},
   "source": [
    "Dos class consists of __back dos, land dos, neptune dos, pod dos, smurf dos and teardrop dos__. Non Dos class consists of every other attack. We need to specify the probe class as 1 and others as 0."
   ]
  },
  {
   "cell_type": "code",
   "execution_count": 5,
   "id": "f0e483e6",
   "metadata": {
    "ExecuteTime": {
     "end_time": "2024-02-22T23:26:13.275034Z",
     "start_time": "2024-02-22T23:26:13.258996Z"
    }
   },
   "outputs": [],
   "source": [
    "# Dos class consists of back dos, land dos, neptune dos, pod dos, smurf dos and teardrop dos.\n",
    "dos = ['back', 'land', 'neptune', 'pod', 'smurf', 'teardrop']\n",
    "\n",
    "def find_dos(x):\n",
    "    if x in dos:\n",
    "        return 1\n",
    "    else:\n",
    "        return 0"
   ]
  },
  {
   "cell_type": "code",
   "execution_count": 6,
   "id": "9de893d1",
   "metadata": {
    "ExecuteTime": {
     "end_time": "2024-02-22T23:26:14.280224Z",
     "start_time": "2024-02-22T23:26:14.083519Z"
    }
   },
   "outputs": [
    {
     "data": {
      "text/html": [
       "<div>\n",
       "<style scoped>\n",
       "    .dataframe tbody tr th:only-of-type {\n",
       "        vertical-align: middle;\n",
       "    }\n",
       "\n",
       "    .dataframe tbody tr th {\n",
       "        vertical-align: top;\n",
       "    }\n",
       "\n",
       "    .dataframe thead th {\n",
       "        text-align: right;\n",
       "    }\n",
       "</style>\n",
       "<table border=\"1\" class=\"dataframe\">\n",
       "  <thead>\n",
       "    <tr style=\"text-align: right;\">\n",
       "      <th></th>\n",
       "      <th>duration</th>\n",
       "      <th>protocol_type</th>\n",
       "      <th>service</th>\n",
       "      <th>flag</th>\n",
       "      <th>src_bytes</th>\n",
       "      <th>dst_bytes</th>\n",
       "      <th>land</th>\n",
       "      <th>wrong_fragment</th>\n",
       "      <th>urgent</th>\n",
       "      <th>hot</th>\n",
       "      <th>...</th>\n",
       "      <th>dst_host_srv_count</th>\n",
       "      <th>dst_host_same_srv_rate</th>\n",
       "      <th>dst_host_diff_srv_rate</th>\n",
       "      <th>dst_host_same_src_port_rate</th>\n",
       "      <th>dst_host_srv_diff_host_rate</th>\n",
       "      <th>dst_host_serror_rate</th>\n",
       "      <th>dst_host_srv_serror_rate</th>\n",
       "      <th>dst_host_rerror_rate</th>\n",
       "      <th>dst_host_srv_rerror_rate</th>\n",
       "      <th>label</th>\n",
       "    </tr>\n",
       "  </thead>\n",
       "  <tbody>\n",
       "    <tr>\n",
       "      <th>0</th>\n",
       "      <td>0</td>\n",
       "      <td>1</td>\n",
       "      <td>22</td>\n",
       "      <td>9</td>\n",
       "      <td>181</td>\n",
       "      <td>5450</td>\n",
       "      <td>0</td>\n",
       "      <td>0</td>\n",
       "      <td>0</td>\n",
       "      <td>0</td>\n",
       "      <td>...</td>\n",
       "      <td>9</td>\n",
       "      <td>1.0</td>\n",
       "      <td>0.0</td>\n",
       "      <td>0.11</td>\n",
       "      <td>0.0</td>\n",
       "      <td>0.0</td>\n",
       "      <td>0.0</td>\n",
       "      <td>0.0</td>\n",
       "      <td>0.0</td>\n",
       "      <td>0</td>\n",
       "    </tr>\n",
       "    <tr>\n",
       "      <th>1</th>\n",
       "      <td>0</td>\n",
       "      <td>1</td>\n",
       "      <td>22</td>\n",
       "      <td>9</td>\n",
       "      <td>239</td>\n",
       "      <td>486</td>\n",
       "      <td>0</td>\n",
       "      <td>0</td>\n",
       "      <td>0</td>\n",
       "      <td>0</td>\n",
       "      <td>...</td>\n",
       "      <td>19</td>\n",
       "      <td>1.0</td>\n",
       "      <td>0.0</td>\n",
       "      <td>0.05</td>\n",
       "      <td>0.0</td>\n",
       "      <td>0.0</td>\n",
       "      <td>0.0</td>\n",
       "      <td>0.0</td>\n",
       "      <td>0.0</td>\n",
       "      <td>0</td>\n",
       "    </tr>\n",
       "    <tr>\n",
       "      <th>2</th>\n",
       "      <td>0</td>\n",
       "      <td>1</td>\n",
       "      <td>22</td>\n",
       "      <td>9</td>\n",
       "      <td>235</td>\n",
       "      <td>1337</td>\n",
       "      <td>0</td>\n",
       "      <td>0</td>\n",
       "      <td>0</td>\n",
       "      <td>0</td>\n",
       "      <td>...</td>\n",
       "      <td>29</td>\n",
       "      <td>1.0</td>\n",
       "      <td>0.0</td>\n",
       "      <td>0.03</td>\n",
       "      <td>0.0</td>\n",
       "      <td>0.0</td>\n",
       "      <td>0.0</td>\n",
       "      <td>0.0</td>\n",
       "      <td>0.0</td>\n",
       "      <td>0</td>\n",
       "    </tr>\n",
       "    <tr>\n",
       "      <th>3</th>\n",
       "      <td>0</td>\n",
       "      <td>1</td>\n",
       "      <td>22</td>\n",
       "      <td>9</td>\n",
       "      <td>219</td>\n",
       "      <td>1337</td>\n",
       "      <td>0</td>\n",
       "      <td>0</td>\n",
       "      <td>0</td>\n",
       "      <td>0</td>\n",
       "      <td>...</td>\n",
       "      <td>39</td>\n",
       "      <td>1.0</td>\n",
       "      <td>0.0</td>\n",
       "      <td>0.03</td>\n",
       "      <td>0.0</td>\n",
       "      <td>0.0</td>\n",
       "      <td>0.0</td>\n",
       "      <td>0.0</td>\n",
       "      <td>0.0</td>\n",
       "      <td>0</td>\n",
       "    </tr>\n",
       "    <tr>\n",
       "      <th>4</th>\n",
       "      <td>0</td>\n",
       "      <td>1</td>\n",
       "      <td>22</td>\n",
       "      <td>9</td>\n",
       "      <td>217</td>\n",
       "      <td>2032</td>\n",
       "      <td>0</td>\n",
       "      <td>0</td>\n",
       "      <td>0</td>\n",
       "      <td>0</td>\n",
       "      <td>...</td>\n",
       "      <td>49</td>\n",
       "      <td>1.0</td>\n",
       "      <td>0.0</td>\n",
       "      <td>0.02</td>\n",
       "      <td>0.0</td>\n",
       "      <td>0.0</td>\n",
       "      <td>0.0</td>\n",
       "      <td>0.0</td>\n",
       "      <td>0.0</td>\n",
       "      <td>0</td>\n",
       "    </tr>\n",
       "  </tbody>\n",
       "</table>\n",
       "<p>5 rows × 42 columns</p>\n",
       "</div>"
      ],
      "text/plain": [
       "   duration  protocol_type  service  flag  src_bytes  dst_bytes  land  \\\n",
       "0         0              1       22     9        181       5450     0   \n",
       "1         0              1       22     9        239        486     0   \n",
       "2         0              1       22     9        235       1337     0   \n",
       "3         0              1       22     9        219       1337     0   \n",
       "4         0              1       22     9        217       2032     0   \n",
       "\n",
       "   wrong_fragment  urgent  hot  ...  dst_host_srv_count  \\\n",
       "0               0       0    0  ...                   9   \n",
       "1               0       0    0  ...                  19   \n",
       "2               0       0    0  ...                  29   \n",
       "3               0       0    0  ...                  39   \n",
       "4               0       0    0  ...                  49   \n",
       "\n",
       "   dst_host_same_srv_rate  dst_host_diff_srv_rate  \\\n",
       "0                     1.0                     0.0   \n",
       "1                     1.0                     0.0   \n",
       "2                     1.0                     0.0   \n",
       "3                     1.0                     0.0   \n",
       "4                     1.0                     0.0   \n",
       "\n",
       "   dst_host_same_src_port_rate  dst_host_srv_diff_host_rate  \\\n",
       "0                         0.11                          0.0   \n",
       "1                         0.05                          0.0   \n",
       "2                         0.03                          0.0   \n",
       "3                         0.03                          0.0   \n",
       "4                         0.02                          0.0   \n",
       "\n",
       "   dst_host_serror_rate  dst_host_srv_serror_rate  dst_host_rerror_rate  \\\n",
       "0                   0.0                       0.0                   0.0   \n",
       "1                   0.0                       0.0                   0.0   \n",
       "2                   0.0                       0.0                   0.0   \n",
       "3                   0.0                       0.0                   0.0   \n",
       "4                   0.0                       0.0                   0.0   \n",
       "\n",
       "   dst_host_srv_rerror_rate  label  \n",
       "0                       0.0      0  \n",
       "1                       0.0      0  \n",
       "2                       0.0      0  \n",
       "3                       0.0      0  \n",
       "4                       0.0      0  \n",
       "\n",
       "[5 rows x 42 columns]"
      ]
     },
     "execution_count": 6,
     "metadata": {},
     "output_type": "execute_result"
    }
   ],
   "source": [
    "df['label'] = df['label'].apply(find_dos)\n",
    "\n",
    "df.head()"
   ]
  },
  {
   "cell_type": "markdown",
   "id": "5e95bf54",
   "metadata": {},
   "source": [
    "#### Balance data\n",
    "\n",
    "The dataset given is highly imbalanced and we will need to under sample the majority class to make the dataset balanced.\n",
    "\n",
    "Note: The dataset given is highly imbalanced, you are required to under sample the majority class to make the dataset balanced( Refer: imblearn.under_sampling.RandomUnderSampler)."
   ]
  },
  {
   "cell_type": "code",
   "execution_count": 7,
   "id": "f787b5ef",
   "metadata": {
    "ExecuteTime": {
     "end_time": "2024-02-22T23:26:17.324352Z",
     "start_time": "2024-02-22T23:26:16.536781Z"
    }
   },
   "outputs": [],
   "source": [
    "from imblearn.under_sampling import RandomUnderSampler\n",
    "# randomUnderSampler = RandomUnderSampler(random_state=42, replacement=True)\n",
    "randomUnderSampler = RandomUnderSampler(random_state=42, replacement=False)"
   ]
  },
  {
   "cell_type": "code",
   "execution_count": 8,
   "id": "6462561e",
   "metadata": {
    "ExecuteTime": {
     "end_time": "2024-02-22T23:26:21.251474Z",
     "start_time": "2024-02-22T23:26:21.132569Z"
    }
   },
   "outputs": [
    {
     "name": "stdout",
     "output_type": "stream",
     "text": [
      "Counter({1: 391458, 0: 102562})\n"
     ]
    }
   ],
   "source": [
    "from collections import Counter\n",
    "y = df['label']\n",
    "X = df.drop(columns=['label'])\n",
    "print(Counter(y))"
   ]
  },
  {
   "cell_type": "code",
   "execution_count": 9,
   "id": "21a93fe0",
   "metadata": {
    "ExecuteTime": {
     "end_time": "2024-02-22T23:26:23.113936Z",
     "start_time": "2024-02-22T23:26:22.870547Z"
    }
   },
   "outputs": [
    {
     "name": "stdout",
     "output_type": "stream",
     "text": [
      "Counter({0: 102562, 1: 102562})\n",
      "205124\n"
     ]
    }
   ],
   "source": [
    "X, y = randomUnderSampler.fit_resample(X, y)\n",
    "# print(X)\n",
    "# print(y)\n",
    "print(Counter(y))\n",
    "\n",
    "print(X.shape[0])"
   ]
  },
  {
   "cell_type": "markdown",
   "id": "7a6bab7b",
   "metadata": {},
   "source": [
    "#### Split  data into train(80%) and test(20%) sets.\n",
    "\n",
    "Note: It is recommended to take a smaller fraction of dataset as SVM is slower compared to other models. Scaling of the dataset could also help (Refer: sklearn.preprocessing.MinMaxScaler)."
   ]
  },
  {
   "cell_type": "code",
   "execution_count": 10,
   "id": "1a0e97a7",
   "metadata": {
    "ExecuteTime": {
     "end_time": "2024-02-22T23:26:26.256882Z",
     "start_time": "2024-02-22T23:26:26.137734Z"
    }
   },
   "outputs": [
    {
     "name": "stdout",
     "output_type": "stream",
     "text": [
      "20513\n",
      "16410\n"
     ]
    }
   ],
   "source": [
    "from sklearn.model_selection import train_test_split\n",
    "\n",
    "# Scale down the data set ten times\n",
    "_, X, _, y = train_test_split(X, y, test_size=0.1)\n",
    "print(X.shape[0])\n",
    "\n",
    "X_train, X_test, y_train, y_test = train_test_split(X, y, test_size=0.2, random_state=42)\n",
    "\n",
    "print(X_train.shape[0])"
   ]
  },
  {
   "cell_type": "code",
   "execution_count": 11,
   "id": "fbde5ba1",
   "metadata": {
    "ExecuteTime": {
     "end_time": "2024-02-22T23:26:26.826324Z",
     "start_time": "2024-02-22T23:26:26.787225Z"
    }
   },
   "outputs": [],
   "source": [
    "from sklearn.preprocessing import MinMaxScaler\n",
    "minMaxScaler = MinMaxScaler()\n",
    "X_train = minMaxScaler.fit_transform(X_train)\n",
    "X_test = minMaxScaler.fit_transform(X_test)"
   ]
  },
  {
   "cell_type": "markdown",
   "id": "8fc81b19",
   "metadata": {},
   "source": [
    "### Step2. Run the SVM model (at least) four times using a different kernel each time using all the features.\n",
    "\n",
    "- Compare the results for each of the kernels.\n",
    "- Discuss the pros and cons of using each of the kernels that you've chosen."
   ]
  },
  {
   "cell_type": "markdown",
   "id": "a5ac44f2",
   "metadata": {},
   "source": [
    "In SVM, C is a regularization parameter. Its role is to balance the model's fit to the training data and the penalty for model complexity to prevent overfitting. Therefore, selecting an appropriate value for C is crucial, and it can be tuned through techniques.\n",
    "\n",
    "We need to find out the training results obtained by using different C in different kernels. Set `C = [0.01, 0.1, 1, 10, 100, 1000]`. The resulting image is as follows:"
   ]
  },
  {
   "cell_type": "code",
   "execution_count": 12,
   "id": "1a7400b3",
   "metadata": {
    "ExecuteTime": {
     "end_time": "2024-02-22T23:33:58.151655Z",
     "start_time": "2024-02-22T23:30:50.510272Z"
    }
   },
   "outputs": [
    {
     "data": {
      "image/png": "[encoded data removed]",
      "text/plain": [
       "<Figure size 1000x600 with 1 Axes>"
      ]
     },
     "metadata": {},
     "output_type": "display_data"
    }
   ],
   "source": [
    "C = [0.01, 0.1, 1, 10, 100, 1000]\n",
    "# C = [10, 100, 1000]\n",
    "linear_train_accuracies = []\n",
    "rbf_train_accuracies = []\n",
    "poly_train_accuracies = []\n",
    "sigmoid_train_accuracies = []\n",
    "\n",
    "for c in C:\n",
    "    svc_linear = svm.SVC(kernel=\"linear\", C=c, gamma=.0073)\n",
    "    svc_linear.fit(X_train, y_train)\n",
    "    y_train_pred = svc_linear.predict(X_train)\n",
    "    train_accuracy = np.mean(y_train_pred == y_train)\n",
    "    linear_train_accuracies.append(train_accuracy)\n",
    "#     print('Training accuracy:', train_accuracy)\n",
    "\n",
    "    svc_rbf = svm.SVC(kernel=\"rbf\", C=c, gamma=.0073)\n",
    "    svc_rbf.fit(X_train, y_train)\n",
    "    y_train_pred = svc_rbf.predict(X_train)\n",
    "    train_accuracy = np.mean(y_train_pred == y_train)\n",
    "    rbf_train_accuracies.append(train_accuracy)\n",
    "    \n",
    "    svc_poly = svm.SVC(kernel=\"poly\", C=c, gamma=.0073)\n",
    "    svc_poly.fit(X_train, y_train)\n",
    "    y_train_pred = svc_poly.predict(X_train)\n",
    "    train_accuracy = np.mean(y_train_pred == y_train)\n",
    "    poly_train_accuracies.append(train_accuracy)\n",
    "    \n",
    "    svc_sigmoid = svm.SVC(kernel=\"sigmoid\", C=c, gamma=.0073)\n",
    "    svc_sigmoid.fit(X_train, y_train)\n",
    "    y_train_pred = svc_sigmoid.predict(X_train)\n",
    "    train_accuracy = np.mean(y_train_pred == y_train)\n",
    "    sigmoid_train_accuracies.append(train_accuracy)\n",
    "\n",
    "# Plot the train and test accuracies vs regularization strengths\n",
    "plt.figure(figsize=(10, 6))\n",
    "plt.plot(C, linear_train_accuracies, color='red', marker='o', label='linear')\n",
    "plt.plot(C, rbf_train_accuracies, color='blue', marker='x', label='rbf')\n",
    "plt.plot(C, poly_train_accuracies, color='grey', marker='.', label='poly')\n",
    "plt.plot(C, sigmoid_train_accuracies, color='green', marker='+', label='sigmoid')\n",
    "plt.xscale('log')\n",
    "plt.xlabel('C')\n",
    "plt.ylabel('Training Accuracy')\n",
    "plt.legend()\n",
    "plt.grid(True)"
   ]
  },
  {
   "cell_type": "markdown",
   "id": "a1267092",
   "metadata": {},
   "source": [
    "We can see from the image that when `C = 100`, the training accuracy in the four kernels is basically at a relatively high level. Taking into account the potential problem of model overfitting if the C value is too high, we all use `C = 100` in subsequent training models and tests."
   ]
  },
  {
   "cell_type": "markdown",
   "id": "699c80e8",
   "metadata": {},
   "source": [
    "#### linear kernel"
   ]
  },
  {
   "cell_type": "code",
   "execution_count": 16,
   "id": "a56afd62",
   "metadata": {
    "ExecuteTime": {
     "end_time": "2024-02-22T23:37:05.409794Z",
     "start_time": "2024-02-22T23:37:05.056778Z"
    }
   },
   "outputs": [
    {
     "name": "stdout",
     "output_type": "stream",
     "text": [
      "linear kernal:\n",
      "Training accuracy: 0.9996343692870201\n",
      "Testing accuracy: 0.9992688276870583\n"
     ]
    }
   ],
   "source": [
    "from sklearn import svm\n",
    "svc_linear = svm.SVC(kernel=\"linear\", C=100, gamma=.0073)\n",
    "svc_linear.fit(X_train, y_train)\n",
    "\n",
    "print(\"linear kernal:\")\n",
    "y_train_pred = svc_linear.predict(X_train)\n",
    "train_accuracy = np.mean(y_train_pred == y_train)\n",
    "print(\"Training accuracy:\", train_accuracy)\n",
    "\n",
    "y_test_pred = svc_linear.predict(X_test)\n",
    "test_accuracy = np.mean(y_test_pred == y_test)\n",
    "print(\"Testing accuracy:\", test_accuracy)"
   ]
  },
  {
   "cell_type": "markdown",
   "id": "4ae0263e",
   "metadata": {},
   "source": [
    "#### rbf kernel"
   ]
  },
  {
   "cell_type": "code",
   "execution_count": 17,
   "id": "5cfc09b0",
   "metadata": {
    "ExecuteTime": {
     "end_time": "2024-02-22T23:37:11.919889Z",
     "start_time": "2024-02-22T23:37:11.116601Z"
    }
   },
   "outputs": [
    {
     "name": "stdout",
     "output_type": "stream",
     "text": [
      "rbf kernal:\n",
      "Training accuracy: 0.9962827544180378\n",
      "Testing accuracy: 0.997075310748233\n"
     ]
    }
   ],
   "source": [
    "svc_rbf = svm.SVC(kernel=\"rbf\", C=100, gamma=.0073)\n",
    "svc_rbf.fit(X_train, y_train)\n",
    "\n",
    "print(\"rbf kernal:\")\n",
    "y_train_pred = svc_rbf.predict(X_train)\n",
    "train_accuracy = np.mean(y_train_pred == y_train)\n",
    "print(\"Training accuracy:\", train_accuracy)\n",
    "\n",
    "y_test_pred = svc_rbf.predict(X_test)\n",
    "test_accuracy = np.mean(y_test_pred == y_test)\n",
    "print(\"Testing accuracy:\", test_accuracy)"
   ]
  },
  {
   "cell_type": "markdown",
   "id": "f94edc37",
   "metadata": {},
   "source": [
    "#### poly kernel"
   ]
  },
  {
   "cell_type": "code",
   "execution_count": 18,
   "id": "55214ba0",
   "metadata": {
    "ExecuteTime": {
     "end_time": "2024-02-22T23:37:22.233718Z",
     "start_time": "2024-02-22T23:37:19.445412Z"
    }
   },
   "outputs": [
    {
     "name": "stdout",
     "output_type": "stream",
     "text": [
      "poly kernal:\n",
      "Training accuracy: 0.9930530164533821\n",
      "Testing accuracy: 0.9948817938094078\n"
     ]
    }
   ],
   "source": [
    "svc_poly = svm.SVC(kernel=\"poly\", C=100, gamma=.0073)\n",
    "svc_poly.fit(X_train, y_train)\n",
    "\n",
    "print(\"poly kernal:\")\n",
    "y_train_pred = svc_poly.predict(X_train)\n",
    "train_accuracy = np.mean(y_train_pred == y_train)\n",
    "print(\"Training accuracy:\", train_accuracy)\n",
    "\n",
    "y_test_pred = svc_poly.predict(X_test)\n",
    "test_accuracy = np.mean(y_test_pred == y_test)\n",
    "print(\"Testing accuracy:\", test_accuracy)"
   ]
  },
  {
   "cell_type": "markdown",
   "id": "f28ab4e7",
   "metadata": {},
   "source": [
    "#### sigmoid kernel"
   ]
  },
  {
   "cell_type": "code",
   "execution_count": 19,
   "id": "d0da23a5",
   "metadata": {
    "ExecuteTime": {
     "end_time": "2024-02-22T23:37:27.260226Z",
     "start_time": "2024-02-22T23:37:26.701444Z"
    }
   },
   "outputs": [
    {
     "name": "stdout",
     "output_type": "stream",
     "text": [
      "sigmoid kernal:\n",
      "Training accuracy: 0.9957343083485679\n",
      "Testing accuracy: 0.9968315866439191\n"
     ]
    }
   ],
   "source": [
    "svc_sigmoid = svm.SVC(kernel=\"sigmoid\", C=100, gamma=.0073)\n",
    "svc_sigmoid.fit(X_train, y_train)\n",
    "\n",
    "print(\"sigmoid kernal:\")\n",
    "y_train_pred = svc_sigmoid.predict(X_train)\n",
    "train_accuracy = np.mean(y_train_pred == y_train)\n",
    "print(\"Training accuracy:\", train_accuracy)\n",
    "\n",
    "y_test_pred = svc_sigmoid.predict(X_test)\n",
    "test_accuracy = np.mean(y_test_pred == y_test)\n",
    "print(\"Testing accuracy:\", test_accuracy)"
   ]
  },
  {
   "cell_type": "markdown",
   "id": "65a8eed7",
   "metadata": {},
   "source": [
    "#### Discuss the pros and cons of using each of the kernels that you've chosen.\n",
    "\n",
    "##### Linear Kernel:\n",
    "\n",
    "- __Pros:__ Linear kernel is computationally efficient, and it works well when the data is linearly separable.\n",
    "- __Cons:__ Linear kernel may be limited in handling non-linear data.\n",
    "\n",
    "##### RBF Kernel:\n",
    "\n",
    "- __Pros:__ RBF kernel is highly flexible and capable of capturing complex non-linear relationships in the data.\n",
    "- __Cons:__ RBF kernel is difficult to find a suitable gamma value which will lead to overfitting.\n",
    "    \n",
    "##### Polynomial Kernel:\n",
    "\n",
    "- __Pros:__ Polynomial Kernel can capture non-linear and complex relationships in the data and it provides a flexible decision boundary by introducing higher-dimensional feature space through polynomial mappings.\n",
    "- __Cons:__ Polynomial kernel is sensitive to the choice of hyperparameters, such as the degree of the polynomial.\n",
    "\n",
    "##### Sigmoid Kernel:\n",
    "\n",
    "- __Pros:__ Sigmoid kernel can capture non-linear relationships and is suitable for data that is not linearly separable.\n",
    "- __Cons:__ Sigmoid kernel is less commonly used compared to other kernels like RBF and polynomial."
   ]
  },
  {
   "cell_type": "markdown",
   "id": "e582ed46",
   "metadata": {},
   "source": [
    "### Step3. Pick two features which you think are important for this problem. \n",
    "\n",
    "Train SVM model using only those two features and visualize the decision boundary. Do this for linear kernel and RBF kernel only. \n",
    "\n",
    "You may want to subsample the training data substantially in order to get a good visualization within a reasonable time. \n",
    "\n",
    "Discuss your observations."
   ]
  },
  {
   "cell_type": "markdown",
   "id": "77603344",
   "metadata": {},
   "source": [
    "We use the `RandomForestClassifier` for feature selection. Through the feature importance score calculated by the model, we can get the top-10 features we think are the most important and return the name of the feature."
   ]
  },
  {
   "cell_type": "code",
   "execution_count": 20,
   "id": "8fe1192a",
   "metadata": {
    "ExecuteTime": {
     "end_time": "2024-02-22T23:53:49.688547Z",
     "start_time": "2024-02-22T23:53:48.773316Z"
    }
   },
   "outputs": [
    {
     "name": "stdout",
     "output_type": "stream",
     "text": [
      "Selected Features: ['protocol_type', 'service', 'src_bytes', 'dst_bytes', 'logged_in', 'count', 'srv_count', 'same_srv_rate', 'dst_host_count', 'dst_host_srv_diff_host_rate']\n"
     ]
    },
    {
     "name": "stderr",
     "output_type": "stream",
     "text": [
      "D:\\Lirz3\\anaconda3\\envs\\csgy6923\\lib\\site-packages\\sklearn\\base.py:457: UserWarning: X has feature names, but SelectFromModel was fitted without feature names\n",
      "  warnings.warn(\n"
     ]
    }
   ],
   "source": [
    "from sklearn.ensemble import RandomForestClassifier\n",
    "from sklearn.feature_selection import SelectFromModel\n",
    "\n",
    "clf = RandomForestClassifier()\n",
    "clf = clf.fit(X, y)\n",
    "\n",
    "feature_importances = clf.feature_importances_\n",
    "# print(\"Feature Importances:\", feature_importances)\n",
    "\n",
    "model = SelectFromModel(clf, max_features=10, prefit=True)\n",
    "X_new = model.transform(X)\n",
    "\n",
    "selected_features_index = model.get_support()\n",
    "selected_features_names = [feature for idx, feature in enumerate(X.columns) if selected_features_index[idx]]\n",
    "print(\"Selected Features:\", selected_features_names)"
   ]
  },
  {
   "cell_type": "markdown",
   "id": "1cbc21e8",
   "metadata": {},
   "source": [
    "By selecting 10 features and conducting tests and drawings respectively, we can see that when `service` and `count` are selected as features for training, the distribution of model data is more even than when selecting other features. In this case, we can draw a clearer image."
   ]
  },
  {
   "cell_type": "code",
   "execution_count": 21,
   "id": "8ce23b53",
   "metadata": {
    "ExecuteTime": {
     "end_time": "2024-02-23T00:01:39.498339Z",
     "start_time": "2024-02-23T00:01:39.479672Z"
    }
   },
   "outputs": [
    {
     "name": "stdout",
     "output_type": "stream",
     "text": [
      "        service  count\n",
      "256159       14    511\n",
      "32342        22      2\n",
      "449857       45      1\n",
      "2587         22      9\n",
      "454355       40      1\n",
      "...         ...    ...\n",
      "269526       14    511\n",
      "244184       14    511\n",
      "434889       14    511\n",
      "451108       40      3\n",
      "104201       22      9\n",
      "\n",
      "[20513 rows x 2 columns]\n"
     ]
    }
   ],
   "source": [
    "# selected_features = ['protocol_type', 'count']\n",
    "selected_features = ['service', 'count']\n",
    "# selected_features = ['dst_bytes', 'count']\n",
    "# selected_features = ['src_bytes', 'count']\n",
    "# selected_features = ['logged_in', 'count']\n",
    "# selected_features = ['srv_count', 'count']\n",
    "# selected_features = ['diff_srv_rate', 'count']\n",
    "# selected_features = ['dst_host_count', 'count']\n",
    "# selected_features = ['dst_host_same_src_port_rate', 'count']\n",
    "X_2features = X[selected_features]\n",
    "print(X_2features)\n",
    "# print(y)"
   ]
  },
  {
   "cell_type": "code",
   "execution_count": 22,
   "id": "fb5dbbc6",
   "metadata": {
    "ExecuteTime": {
     "end_time": "2024-02-23T00:01:42.374269Z",
     "start_time": "2024-02-23T00:01:42.358489Z"
    }
   },
   "outputs": [],
   "source": [
    "X_train, X_test, y_train, y_test = train_test_split(X_2features, y, test_size=0.2, random_state=42)\n",
    "X_train = minMaxScaler.fit_transform(X_train)\n",
    "X_test = minMaxScaler.fit_transform(X_test)"
   ]
  },
  {
   "cell_type": "markdown",
   "id": "125e5ed9",
   "metadata": {},
   "source": [
    "#### linear kernel"
   ]
  },
  {
   "cell_type": "code",
   "execution_count": 23,
   "id": "d3c02c84",
   "metadata": {
    "ExecuteTime": {
     "end_time": "2024-02-23T00:02:48.987588Z",
     "start_time": "2024-02-23T00:02:46.385780Z"
    }
   },
   "outputs": [
    {
     "name": "stdout",
     "output_type": "stream",
     "text": [
      "linear kernal:\n",
      "Training accuracy: 0.9817184643510055\n",
      "Testing accuracy: 0.9805020716548867\n"
     ]
    }
   ],
   "source": [
    "svc_linear = svm.SVC(kernel=\"linear\", C=100, gamma=.0073)\n",
    "svc_linear.fit(X_train, y_train)\n",
    "\n",
    "print(\"linear kernal:\")\n",
    "y_train_pred = svc_linear.predict(X_train)\n",
    "train_accuracy = np.mean(y_train_pred == y_train)\n",
    "print(\"Training accuracy:\", train_accuracy)\n",
    "\n",
    "y_test_pred = svc_linear.predict(X_test)\n",
    "test_accuracy = np.mean(y_test_pred == y_test)\n",
    "print(\"Testing accuracy:\", test_accuracy)"
   ]
  },
  {
   "cell_type": "code",
   "execution_count": 24,
   "id": "dcdfc586",
   "metadata": {
    "ExecuteTime": {
     "end_time": "2024-02-23T00:02:52.588165Z",
     "start_time": "2024-02-23T00:02:51.431130Z"
    }
   },
   "outputs": [
    {
     "name": "stderr",
     "output_type": "stream",
     "text": [
      "C:\\Users\\Lirz3\\AppData\\Local\\Temp\\ipykernel_10684\\3416214299.py:9: UserWarning: No data for colormapping provided via 'c'. Parameters 'cmap' will be ignored\n",
      "  scatter1 = plt.scatter([], [], c='red', label='Dos', cmap=plt.cm.RdBu)\n",
      "C:\\Users\\Lirz3\\AppData\\Local\\Temp\\ipykernel_10684\\3416214299.py:10: UserWarning: No data for colormapping provided via 'c'. Parameters 'cmap' will be ignored\n",
      "  scatter2 = plt.scatter([], [], c='blue', label='Non Dos', cmap=plt.cm.RdBu)\n"
     ]
    },
    {
     "data": {
      "image/png": "[encoded data removed]",
      "text/plain": [
       "<Figure size 640x480 with 1 Axes>"
      ]
     },
     "metadata": {},
     "output_type": "display_data"
    }
   ],
   "source": [
    "x_min, x_max = X_train[:, 0].min() - 0.1, X_train[:, 0].max() + 0.1\n",
    "y_min, y_max = X_train[:, 1].min() - 0.1, X_train[:, 1].max() + 0.1\n",
    "xx, yy = np.meshgrid(np.arange(x_min, x_max, 0.01), np.arange(y_min, y_max, 0.01))\n",
    "\n",
    "Z = svc_linear.predict(np.c_[xx.ravel(), yy.ravel()])\n",
    "Z = Z.reshape(xx.shape)\n",
    "\n",
    "# Plot the decision boundary\n",
    "scatter1 = plt.scatter([], [], c='red', label='Dos', cmap=plt.cm.RdBu)\n",
    "scatter2 = plt.scatter([], [], c='blue', label='Non Dos', cmap=plt.cm.RdBu)\n",
    "plt.legend(handles=[scatter1, scatter2], loc='upper right')\n",
    "\n",
    "plt.contourf(xx, yy, Z, cmap=plt.cm.RdBu, alpha=0.8)\n",
    "\n",
    "# Plot the data points\n",
    "plt.scatter(X_train[:, 0], X_train[:, 1], c=y_train, cmap=plt.cm.RdBu, edgecolors='k')\n",
    "\n",
    "plt.xlabel('protocol_type')\n",
    "plt.ylabel('count')\n",
    "plt.title('SVM Decision Boundary')\n",
    "plt.legend()\n",
    "plt.show()"
   ]
  },
  {
   "cell_type": "markdown",
   "id": "dd7d5ca3",
   "metadata": {},
   "source": [
    "#### rbf kernel"
   ]
  },
  {
   "cell_type": "code",
   "execution_count": 25,
   "id": "00dcc3d2",
   "metadata": {
    "ExecuteTime": {
     "end_time": "2024-02-23T00:03:12.654127Z",
     "start_time": "2024-02-23T00:03:07.282896Z"
    }
   },
   "outputs": [
    {
     "name": "stdout",
     "output_type": "stream",
     "text": [
      "rbf kernal:\n",
      "Training accuracy: 0.9818403412553321\n",
      "Testing accuracy: 0.9807457957592006\n"
     ]
    }
   ],
   "source": [
    "svc_rbf = svm.SVC(kernel=\"rbf\", C=100, gamma=.0073)\n",
    "svc_rbf.fit(X_train, y_train)\n",
    "\n",
    "print(\"rbf kernal:\")\n",
    "y_train_pred = svc_rbf.predict(X_train)\n",
    "train_accuracy = np.mean(y_train_pred == y_train)\n",
    "print(\"Training accuracy:\", train_accuracy)\n",
    "\n",
    "y_test_pred = svc_rbf.predict(X_test)\n",
    "test_accuracy = np.mean(y_test_pred == y_test)\n",
    "print(\"Testing accuracy:\", test_accuracy)"
   ]
  },
  {
   "cell_type": "code",
   "execution_count": 28,
   "id": "44d4bb83",
   "metadata": {
    "ExecuteTime": {
     "end_time": "2024-02-23T00:03:57.964024Z",
     "start_time": "2024-02-23T00:03:54.983914Z"
    }
   },
   "outputs": [
    {
     "name": "stderr",
     "output_type": "stream",
     "text": [
      "C:\\Users\\Lirz3\\AppData\\Local\\Temp\\ipykernel_10684\\2018232709.py:9: UserWarning: No data for colormapping provided via 'c'. Parameters 'cmap' will be ignored\n",
      "  scatter1 = plt.scatter([], [], c='red', label='Dos', cmap=plt.cm.RdBu)\n",
      "C:\\Users\\Lirz3\\AppData\\Local\\Temp\\ipykernel_10684\\2018232709.py:10: UserWarning: No data for colormapping provided via 'c'. Parameters 'cmap' will be ignored\n",
      "  scatter2 = plt.scatter([], [], c='blue', label='Non Dos', cmap=plt.cm.RdBu)\n"
     ]
    },
    {
     "data": {
      "image/png": "[encoded data removed]",
      "text/plain": [
       "<Figure size 640x480 with 1 Axes>"
      ]
     },
     "metadata": {},
     "output_type": "display_data"
    }
   ],
   "source": [
    "x_min, x_max = X_train[:, 0].min() - 0.1, X_train[:, 0].max() + 0.1\n",
    "y_min, y_max = X_train[:, 1].min() - 0.1, X_train[:, 1].max() + 0.1\n",
    "xx, yy = np.meshgrid(np.arange(x_min, x_max, 0.01), np.arange(y_min, y_max, 0.01))\n",
    "\n",
    "Z = svc_rbf.predict(np.c_[xx.ravel(), yy.ravel()])\n",
    "Z = Z.reshape(xx.shape)\n",
    "\n",
    "# Plot the decision boundary\n",
    "scatter1 = plt.scatter([], [], c='red', label='Dos', cmap=plt.cm.RdBu)\n",
    "scatter2 = plt.scatter([], [], c='blue', label='Non Dos', cmap=plt.cm.RdBu)\n",
    "plt.legend(handles=[scatter1, scatter2], loc='upper right')\n",
    "\n",
    "plt.contourf(xx, yy, Z, cmap=plt.cm.RdBu, alpha=0.8)\n",
    "\n",
    "# Plot the data points\n",
    "plt.scatter(X_train[:, 0], X_train[:, 1], c=y_train, cmap=plt.cm.RdBu, edgecolors='k')\n",
    "\n",
    "plt.xlabel('service')\n",
    "plt.ylabel('count')\n",
    "plt.title('SVM Decision Boundary')\n",
    "plt.legend()\n",
    "plt.show()"
   ]
  },
  {
   "cell_type": "markdown",
   "id": "a4a95b4f",
   "metadata": {},
   "source": [
    "From the two pictures and the results obtained, we can see that both kernels have obtained considerable results, and the data of Dos and Non Dos are basically separated.\n",
    "\n",
    "RBF kernel gets the better accuracy than linear kernel because the data isn't linearly seperable. In RBF kernel, we can find that the decision boundary is much more complex and captured more intricate relationship between the 2 features."
   ]
  }
 ],
 "metadata": {
  "kernelspec": {
   "display_name": "Python 3 (ipykernel)",
   "language": "python",
   "name": "python3"
  },
  "language_info": {
   "codemirror_mode": {
    "name": "ipython",
    "version": 3
   },
   "file_extension": ".py",
   "mimetype": "text/x-python",
   "name": "python",
   "nbconvert_exporter": "python",
   "pygments_lexer": "ipython3",
   "version": "3.9.18"
  },
  "toc": {
   "base_numbering": 1,
   "nav_menu": {},
   "number_sections": true,
   "sideBar": true,
   "skip_h1_title": false,
   "title_cell": "Table of Contents",
   "title_sidebar": "Contents",
   "toc_cell": false,
   "toc_position": {},
   "toc_section_display": true,
   "toc_window_display": false
  }
 },
 "nbformat": 4,
 "nbformat_minor": 5
}
