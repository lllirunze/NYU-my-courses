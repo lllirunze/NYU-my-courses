{
 "cells": [
  {
   "cell_type": "markdown",
   "id": "20c0ffba",
   "metadata": {},
   "source": [
    "__Assignment - Week 7__\n",
    "\n",
    "__Name__: Runze Li\n",
    "\n",
    "__net id__: rl50xx"
   ]
  },
  {
   "cell_type": "markdown",
   "id": "7621e400",
   "metadata": {},
   "source": [
    "We apply the Scikit Learn AdaBoost Classifier code to the dataset for classifying phishing vs benign using and all feature at once.\n",
    "\n",
    "First, we use a Decision Tree Classifier at your base classifier and we apply the decision trees of varying depths(1,3,6,9,12,15,18 for both gini and entropy criterion) for the base classifier. \n",
    "\n",
    "Second, we compare the results with those we obtained last week (Week 5 assignment). Here is the table which summarizes the results:\n",
    "\n",
    "|Depth|Gini (with ABC*)|Entropy (with ABC)|Gini (without ABC)|Entropy (without ABC)|\n",
    "|:--:|:--:|:--:|:--:|:--:|\n",
    "|1|0.6054|0.6389|0.3882|0.4047|\n",
    "|3|0.7774|0.6860|0.6281|0.6707|\n",
    "|6|0.9452|0.9491|0.8166|0.8475|\n",
    "|9|0.9715|0.9720|0.8904|0.9120|\n",
    "|12|0.9752|0.9752|0.9315|0.9383|\n",
    "|15|0.9791|0.9770|0.9352|0.9465|\n",
    "|18|0.9760|0.9612|0.9420|0.9465|\n",
    "\n",
    "According to the comparison of the four curves, we can find that as the depth increases, the accuracy of the classification task continues to increase. When the depth increases to 12, the accuracy improvement is very small or even decreases.\n",
    "\n",
    "In addition, we found that at the same depth, the accuracy of the model using AdaBoostClassifier is much higher than that of the model without AdaBoostClassifier.\n",
    "\n",
    "\\* ABC represents AdaBoostClassifier"
   ]
  },
  {
   "cell_type": "code",
   "execution_count": 1,
   "id": "a576c86a",
   "metadata": {
    "ExecuteTime": {
     "end_time": "2024-03-11T22:20:30.612567Z",
     "start_time": "2024-03-11T22:20:26.749020Z"
    }
   },
   "outputs": [],
   "source": [
    "# Imports\n",
    "import numpy as np\n",
    "import pandas as pd"
   ]
  },
  {
   "cell_type": "code",
   "execution_count": 2,
   "id": "b9a8f77f",
   "metadata": {
    "ExecuteTime": {
     "end_time": "2024-03-11T22:21:49.952128Z",
     "start_time": "2024-03-11T22:21:49.557118Z"
    }
   },
   "outputs": [
    {
     "data": {
      "text/html": [
       "<div>\n",
       "<style scoped>\n",
       "    .dataframe tbody tr th:only-of-type {\n",
       "        vertical-align: middle;\n",
       "    }\n",
       "\n",
       "    .dataframe tbody tr th {\n",
       "        vertical-align: top;\n",
       "    }\n",
       "\n",
       "    .dataframe thead th {\n",
       "        text-align: right;\n",
       "    }\n",
       "</style>\n",
       "<table border=\"1\" class=\"dataframe\">\n",
       "  <thead>\n",
       "    <tr style=\"text-align: right;\">\n",
       "      <th></th>\n",
       "      <th>Querylength</th>\n",
       "      <th>domain_token_count</th>\n",
       "      <th>path_token_count</th>\n",
       "      <th>avgdomaintokenlen</th>\n",
       "      <th>longdomaintokenlen</th>\n",
       "      <th>avgpathtokenlen</th>\n",
       "      <th>tld</th>\n",
       "      <th>charcompvowels</th>\n",
       "      <th>charcompace</th>\n",
       "      <th>ldl_url</th>\n",
       "      <th>...</th>\n",
       "      <th>SymbolCount_FileName</th>\n",
       "      <th>SymbolCount_Extension</th>\n",
       "      <th>SymbolCount_Afterpath</th>\n",
       "      <th>Entropy_URL</th>\n",
       "      <th>Entropy_Domain</th>\n",
       "      <th>Entropy_DirectoryName</th>\n",
       "      <th>Entropy_Filename</th>\n",
       "      <th>Entropy_Extension</th>\n",
       "      <th>Entropy_Afterpath</th>\n",
       "      <th>URL_Type_obf_Type</th>\n",
       "    </tr>\n",
       "  </thead>\n",
       "  <tbody>\n",
       "    <tr>\n",
       "      <th>0</th>\n",
       "      <td>0</td>\n",
       "      <td>4</td>\n",
       "      <td>5</td>\n",
       "      <td>5.5</td>\n",
       "      <td>14</td>\n",
       "      <td>4.400000</td>\n",
       "      <td>4</td>\n",
       "      <td>8</td>\n",
       "      <td>3</td>\n",
       "      <td>0</td>\n",
       "      <td>...</td>\n",
       "      <td>1</td>\n",
       "      <td>0</td>\n",
       "      <td>-1</td>\n",
       "      <td>0.726298</td>\n",
       "      <td>0.784493</td>\n",
       "      <td>0.894886</td>\n",
       "      <td>0.850608</td>\n",
       "      <td>NaN</td>\n",
       "      <td>-1.0</td>\n",
       "      <td>Defacement</td>\n",
       "    </tr>\n",
       "    <tr>\n",
       "      <th>1</th>\n",
       "      <td>0</td>\n",
       "      <td>4</td>\n",
       "      <td>5</td>\n",
       "      <td>5.5</td>\n",
       "      <td>14</td>\n",
       "      <td>6.000000</td>\n",
       "      <td>4</td>\n",
       "      <td>12</td>\n",
       "      <td>4</td>\n",
       "      <td>0</td>\n",
       "      <td>...</td>\n",
       "      <td>0</td>\n",
       "      <td>0</td>\n",
       "      <td>-1</td>\n",
       "      <td>0.688635</td>\n",
       "      <td>0.784493</td>\n",
       "      <td>0.814725</td>\n",
       "      <td>0.859793</td>\n",
       "      <td>0.0</td>\n",
       "      <td>-1.0</td>\n",
       "      <td>Defacement</td>\n",
       "    </tr>\n",
       "    <tr>\n",
       "      <th>2</th>\n",
       "      <td>0</td>\n",
       "      <td>4</td>\n",
       "      <td>5</td>\n",
       "      <td>5.5</td>\n",
       "      <td>14</td>\n",
       "      <td>5.800000</td>\n",
       "      <td>4</td>\n",
       "      <td>12</td>\n",
       "      <td>5</td>\n",
       "      <td>0</td>\n",
       "      <td>...</td>\n",
       "      <td>0</td>\n",
       "      <td>0</td>\n",
       "      <td>-1</td>\n",
       "      <td>0.695049</td>\n",
       "      <td>0.784493</td>\n",
       "      <td>0.814725</td>\n",
       "      <td>0.801880</td>\n",
       "      <td>0.0</td>\n",
       "      <td>-1.0</td>\n",
       "      <td>Defacement</td>\n",
       "    </tr>\n",
       "    <tr>\n",
       "      <th>3</th>\n",
       "      <td>0</td>\n",
       "      <td>4</td>\n",
       "      <td>12</td>\n",
       "      <td>5.5</td>\n",
       "      <td>14</td>\n",
       "      <td>5.500000</td>\n",
       "      <td>4</td>\n",
       "      <td>32</td>\n",
       "      <td>16</td>\n",
       "      <td>0</td>\n",
       "      <td>...</td>\n",
       "      <td>0</td>\n",
       "      <td>0</td>\n",
       "      <td>-1</td>\n",
       "      <td>0.640130</td>\n",
       "      <td>0.784493</td>\n",
       "      <td>0.814725</td>\n",
       "      <td>0.663210</td>\n",
       "      <td>0.0</td>\n",
       "      <td>-1.0</td>\n",
       "      <td>Defacement</td>\n",
       "    </tr>\n",
       "    <tr>\n",
       "      <th>4</th>\n",
       "      <td>0</td>\n",
       "      <td>4</td>\n",
       "      <td>6</td>\n",
       "      <td>5.5</td>\n",
       "      <td>14</td>\n",
       "      <td>7.333334</td>\n",
       "      <td>4</td>\n",
       "      <td>18</td>\n",
       "      <td>11</td>\n",
       "      <td>0</td>\n",
       "      <td>...</td>\n",
       "      <td>0</td>\n",
       "      <td>0</td>\n",
       "      <td>-1</td>\n",
       "      <td>0.681307</td>\n",
       "      <td>0.784493</td>\n",
       "      <td>0.814725</td>\n",
       "      <td>0.804526</td>\n",
       "      <td>0.0</td>\n",
       "      <td>-1.0</td>\n",
       "      <td>Defacement</td>\n",
       "    </tr>\n",
       "  </tbody>\n",
       "</table>\n",
       "<p>5 rows × 80 columns</p>\n",
       "</div>"
      ],
      "text/plain": [
       "   Querylength  domain_token_count  path_token_count  avgdomaintokenlen  \\\n",
       "0            0                   4                 5                5.5   \n",
       "1            0                   4                 5                5.5   \n",
       "2            0                   4                 5                5.5   \n",
       "3            0                   4                12                5.5   \n",
       "4            0                   4                 6                5.5   \n",
       "\n",
       "   longdomaintokenlen  avgpathtokenlen  tld  charcompvowels  charcompace  \\\n",
       "0                  14         4.400000    4               8            3   \n",
       "1                  14         6.000000    4              12            4   \n",
       "2                  14         5.800000    4              12            5   \n",
       "3                  14         5.500000    4              32           16   \n",
       "4                  14         7.333334    4              18           11   \n",
       "\n",
       "   ldl_url  ...  SymbolCount_FileName  SymbolCount_Extension  \\\n",
       "0        0  ...                     1                      0   \n",
       "1        0  ...                     0                      0   \n",
       "2        0  ...                     0                      0   \n",
       "3        0  ...                     0                      0   \n",
       "4        0  ...                     0                      0   \n",
       "\n",
       "   SymbolCount_Afterpath  Entropy_URL  Entropy_Domain  Entropy_DirectoryName  \\\n",
       "0                     -1     0.726298        0.784493               0.894886   \n",
       "1                     -1     0.688635        0.784493               0.814725   \n",
       "2                     -1     0.695049        0.784493               0.814725   \n",
       "3                     -1     0.640130        0.784493               0.814725   \n",
       "4                     -1     0.681307        0.784493               0.814725   \n",
       "\n",
       "   Entropy_Filename  Entropy_Extension  Entropy_Afterpath  URL_Type_obf_Type  \n",
       "0          0.850608                NaN               -1.0         Defacement  \n",
       "1          0.859793                0.0               -1.0         Defacement  \n",
       "2          0.801880                0.0               -1.0         Defacement  \n",
       "3          0.663210                0.0               -1.0         Defacement  \n",
       "4          0.804526                0.0               -1.0         Defacement  \n",
       "\n",
       "[5 rows x 80 columns]"
      ]
     },
     "execution_count": 2,
     "metadata": {},
     "output_type": "execute_result"
    }
   ],
   "source": [
    "df = pd.read_csv('DataSetForPhishingVSBenignUrl.csv')\n",
    "df.head()"
   ]
  },
  {
   "cell_type": "code",
   "execution_count": 3,
   "id": "12f0c7bc",
   "metadata": {
    "ExecuteTime": {
     "end_time": "2024-03-11T22:21:59.382185Z",
     "start_time": "2024-03-11T22:21:59.363143Z"
    }
   },
   "outputs": [
    {
     "name": "stdout",
     "output_type": "stream",
     "text": [
      "Are there NaN values: True\n"
     ]
    }
   ],
   "source": [
    "# Check for NaN values in DataFrame\n",
    "nan_values = df.isna().any()\n",
    "print(\"Are there NaN values:\", nan_values.any())"
   ]
  },
  {
   "cell_type": "code",
   "execution_count": 4,
   "id": "b2d2ec41",
   "metadata": {
    "ExecuteTime": {
     "end_time": "2024-03-11T22:22:04.878931Z",
     "start_time": "2024-03-11T22:22:04.859792Z"
    }
   },
   "outputs": [],
   "source": [
    "df = df.dropna()"
   ]
  },
  {
   "cell_type": "code",
   "execution_count": 5,
   "id": "565d00ba",
   "metadata": {
    "ExecuteTime": {
     "end_time": "2024-03-11T22:22:10.688327Z",
     "start_time": "2024-03-11T22:22:10.678233Z"
    }
   },
   "outputs": [
    {
     "name": "stdout",
     "output_type": "stream",
     "text": [
      "Number of Samples: 18982\n",
      "Number of features: 80\n"
     ]
    }
   ],
   "source": [
    "print(\"Number of Samples:\", df.shape[0])\n",
    "print(\"Number of features:\", df.shape[1])"
   ]
  },
  {
   "cell_type": "code",
   "execution_count": 6,
   "id": "fde864c6",
   "metadata": {
    "ExecuteTime": {
     "end_time": "2024-03-11T22:22:59.935336Z",
     "start_time": "2024-03-11T22:22:59.916858Z"
    }
   },
   "outputs": [
    {
     "name": "stdout",
     "output_type": "stream",
     "text": [
      "Counter({'spam': 5342, 'malware': 4440, 'phishing': 4014, 'benign': 2709, 'Defacement': 2477})\n"
     ]
    }
   ],
   "source": [
    "from collections import Counter\n",
    "X = df.drop('URL_Type_obf_Type', axis=1)\n",
    "y = df['URL_Type_obf_Type']\n",
    "# print(X)\n",
    "print(Counter(y))"
   ]
  },
  {
   "cell_type": "code",
   "execution_count": 8,
   "id": "de90c6e9",
   "metadata": {
    "ExecuteTime": {
     "end_time": "2024-03-11T22:23:31.193832Z",
     "start_time": "2024-03-11T22:23:31.161796Z"
    }
   },
   "outputs": [],
   "source": [
    "from sklearn.model_selection import train_test_split\n",
    "X_train, X_test, y_train, y_test = train_test_split(X, y, test_size=0.2, random_state=100)"
   ]
  },
  {
   "cell_type": "code",
   "execution_count": 9,
   "id": "aa2213fe",
   "metadata": {
    "ExecuteTime": {
     "end_time": "2024-03-11T22:33:27.348199Z",
     "start_time": "2024-03-11T22:32:58.913706Z"
    }
   },
   "outputs": [
    {
     "data": {
      "text/html": [
       "<style>#sk-container-id-1 {color: black;}#sk-container-id-1 pre{padding: 0;}#sk-container-id-1 div.sk-toggleable {background-color: white;}#sk-container-id-1 label.sk-toggleable__label {cursor: pointer;display: block;width: 100%;margin-bottom: 0;padding: 0.3em;box-sizing: border-box;text-align: center;}#sk-container-id-1 label.sk-toggleable__label-arrow:before {content: \"▸\";float: left;margin-right: 0.25em;color: #696969;}#sk-container-id-1 label.sk-toggleable__label-arrow:hover:before {color: black;}#sk-container-id-1 div.sk-estimator:hover label.sk-toggleable__label-arrow:before {color: black;}#sk-container-id-1 div.sk-toggleable__content {max-height: 0;max-width: 0;overflow: hidden;text-align: left;background-color: #f0f8ff;}#sk-container-id-1 div.sk-toggleable__content pre {margin: 0.2em;color: black;border-radius: 0.25em;background-color: #f0f8ff;}#sk-container-id-1 input.sk-toggleable__control:checked~div.sk-toggleable__content {max-height: 200px;max-width: 100%;overflow: auto;}#sk-container-id-1 input.sk-toggleable__control:checked~label.sk-toggleable__label-arrow:before {content: \"▾\";}#sk-container-id-1 div.sk-estimator input.sk-toggleable__control:checked~label.sk-toggleable__label {background-color: #d4ebff;}#sk-container-id-1 div.sk-label input.sk-toggleable__control:checked~label.sk-toggleable__label {background-color: #d4ebff;}#sk-container-id-1 input.sk-hidden--visually {border: 0;clip: rect(1px 1px 1px 1px);clip: rect(1px, 1px, 1px, 1px);height: 1px;margin: -1px;overflow: hidden;padding: 0;position: absolute;width: 1px;}#sk-container-id-1 div.sk-estimator {font-family: monospace;background-color: #f0f8ff;border: 1px dotted black;border-radius: 0.25em;box-sizing: border-box;margin-bottom: 0.5em;}#sk-container-id-1 div.sk-estimator:hover {background-color: #d4ebff;}#sk-container-id-1 div.sk-parallel-item::after {content: \"\";width: 100%;border-bottom: 1px solid gray;flex-grow: 1;}#sk-container-id-1 div.sk-label:hover label.sk-toggleable__label {background-color: #d4ebff;}#sk-container-id-1 div.sk-serial::before {content: \"\";position: absolute;border-left: 1px solid gray;box-sizing: border-box;top: 0;bottom: 0;left: 50%;z-index: 0;}#sk-container-id-1 div.sk-serial {display: flex;flex-direction: column;align-items: center;background-color: white;padding-right: 0.2em;padding-left: 0.2em;position: relative;}#sk-container-id-1 div.sk-item {position: relative;z-index: 1;}#sk-container-id-1 div.sk-parallel {display: flex;align-items: stretch;justify-content: center;background-color: white;position: relative;}#sk-container-id-1 div.sk-item::before, #sk-container-id-1 div.sk-parallel-item::before {content: \"\";position: absolute;border-left: 1px solid gray;box-sizing: border-box;top: 0;bottom: 0;left: 50%;z-index: -1;}#sk-container-id-1 div.sk-parallel-item {display: flex;flex-direction: column;z-index: 1;position: relative;background-color: white;}#sk-container-id-1 div.sk-parallel-item:first-child::after {align-self: flex-end;width: 50%;}#sk-container-id-1 div.sk-parallel-item:last-child::after {align-self: flex-start;width: 50%;}#sk-container-id-1 div.sk-parallel-item:only-child::after {width: 0;}#sk-container-id-1 div.sk-dashed-wrapped {border: 1px dashed gray;margin: 0 0.4em 0.5em 0.4em;box-sizing: border-box;padding-bottom: 0.4em;background-color: white;}#sk-container-id-1 div.sk-label label {font-family: monospace;font-weight: bold;display: inline-block;line-height: 1.2em;}#sk-container-id-1 div.sk-label-container {text-align: center;}#sk-container-id-1 div.sk-container {/* jupyter's `normalize.less` sets `[hidden] { display: none; }` but bootstrap.min.css set `[hidden] { display: none !important; }` so we also need the `!important` here to be able to override the default hidden behavior on the sphinx rendered scikit-learn.org. See: https://github.com/scikit-learn/scikit-learn/issues/21755 */display: inline-block !important;position: relative;}#sk-container-id-1 div.sk-text-repr-fallback {display: none;}</style><div id=\"sk-container-id-1\" class=\"sk-top-container\"><div class=\"sk-text-repr-fallback\"><pre>GridSearchCV(cv=5, estimator=DecisionTreeClassifier(),\n",
       "             param_grid={&#x27;criterion&#x27;: [&#x27;gini&#x27;, &#x27;entropy&#x27;],\n",
       "                         &#x27;max_depth&#x27;: [1, 3, 6, 9, 12, 15, 18]})</pre><b>In a Jupyter environment, please rerun this cell to show the HTML representation or trust the notebook. <br />On GitHub, the HTML representation is unable to render, please try loading this page with nbviewer.org.</b></div><div class=\"sk-container\" hidden><div class=\"sk-item sk-dashed-wrapped\"><div class=\"sk-label-container\"><div class=\"sk-label sk-toggleable\"><input class=\"sk-toggleable__control sk-hidden--visually\" id=\"sk-estimator-id-1\" type=\"checkbox\" ><label for=\"sk-estimator-id-1\" class=\"sk-toggleable__label sk-toggleable__label-arrow\">GridSearchCV</label><div class=\"sk-toggleable__content\"><pre>GridSearchCV(cv=5, estimator=DecisionTreeClassifier(),\n",
       "             param_grid={&#x27;criterion&#x27;: [&#x27;gini&#x27;, &#x27;entropy&#x27;],\n",
       "                         &#x27;max_depth&#x27;: [1, 3, 6, 9, 12, 15, 18]})</pre></div></div></div><div class=\"sk-parallel\"><div class=\"sk-parallel-item\"><div class=\"sk-item\"><div class=\"sk-label-container\"><div class=\"sk-label sk-toggleable\"><input class=\"sk-toggleable__control sk-hidden--visually\" id=\"sk-estimator-id-2\" type=\"checkbox\" ><label for=\"sk-estimator-id-2\" class=\"sk-toggleable__label sk-toggleable__label-arrow\">estimator: DecisionTreeClassifier</label><div class=\"sk-toggleable__content\"><pre>DecisionTreeClassifier()</pre></div></div></div><div class=\"sk-serial\"><div class=\"sk-item\"><div class=\"sk-estimator sk-toggleable\"><input class=\"sk-toggleable__control sk-hidden--visually\" id=\"sk-estimator-id-3\" type=\"checkbox\" ><label for=\"sk-estimator-id-3\" class=\"sk-toggleable__label sk-toggleable__label-arrow\">DecisionTreeClassifier</label><div class=\"sk-toggleable__content\"><pre>DecisionTreeClassifier()</pre></div></div></div></div></div></div></div></div></div></div>"
      ],
      "text/plain": [
       "GridSearchCV(cv=5, estimator=DecisionTreeClassifier(),\n",
       "             param_grid={'criterion': ['gini', 'entropy'],\n",
       "                         'max_depth': [1, 3, 6, 9, 12, 15, 18]})"
      ]
     },
     "execution_count": 9,
     "metadata": {},
     "output_type": "execute_result"
    }
   ],
   "source": [
    "from sklearn.tree import DecisionTreeClassifier\n",
    "from sklearn.model_selection import GridSearchCV\n",
    "\n",
    "tree_param = {\n",
    "    'criterion':['gini','entropy'],\n",
    "    'max_depth':[1,3,6,9,12,15,18],\n",
    "}\n",
    "grid = GridSearchCV(DecisionTreeClassifier(), tree_param, cv=5)\n",
    "grid.fit(X_train, y_train)"
   ]
  },
  {
   "cell_type": "code",
   "execution_count": 10,
   "id": "235db97d",
   "metadata": {
    "ExecuteTime": {
     "end_time": "2024-03-11T22:33:33.509274Z",
     "start_time": "2024-03-11T22:33:33.499883Z"
    }
   },
   "outputs": [
    {
     "name": "stdout",
     "output_type": "stream",
     "text": [
      "0.9415870925255186\n",
      "{'criterion': 'entropy', 'max_depth': 18}\n",
      "DecisionTreeClassifier(criterion='entropy', max_depth=18)\n"
     ]
    }
   ],
   "source": [
    "print(grid.best_score_)\n",
    "print(grid.best_params_)\n",
    "print(grid.best_estimator_)"
   ]
  },
  {
   "cell_type": "code",
   "execution_count": 11,
   "id": "1e2ca22b",
   "metadata": {
    "ExecuteTime": {
     "end_time": "2024-03-11T22:34:31.222711Z",
     "start_time": "2024-03-11T22:34:31.208683Z"
    }
   },
   "outputs": [],
   "source": [
    "depths = [1, 3, 6, 9, 12, 15, 18]\n",
    "# criterions = ['gini', 'entropy']"
   ]
  },
  {
   "cell_type": "code",
   "execution_count": 13,
   "id": "093afbd4",
   "metadata": {
    "ExecuteTime": {
     "end_time": "2024-03-11T22:47:45.948435Z",
     "start_time": "2024-03-11T22:44:51.922931Z"
    }
   },
   "outputs": [],
   "source": [
    "from sklearn.ensemble import AdaBoostClassifier\n",
    "from sklearn.metrics import accuracy_score\n",
    "\n",
    "gini_accuracy = []\n",
    "\n",
    "for depth in depths:\n",
    "    tree = DecisionTreeClassifier(max_depth=depth, criterion='gini')\n",
    "#     clf = AdaBoostClassifier(base_estimator=tree, n_estimators=50, random_state=8)\n",
    "    clf = AdaBoostClassifier(estimator=tree, n_estimators=50, random_state=8)\n",
    "    clf.fit(X_train, y_train)\n",
    "    y_pred = clf.predict(X_test)\n",
    "    gini_accuracy.append(accuracy_score(y_test, y_pred))"
   ]
  },
  {
   "cell_type": "code",
   "execution_count": 17,
   "id": "155db9c4",
   "metadata": {
    "ExecuteTime": {
     "end_time": "2024-03-11T22:48:29.301947Z",
     "start_time": "2024-03-11T22:48:29.294246Z"
    }
   },
   "outputs": [
    {
     "name": "stdout",
     "output_type": "stream",
     "text": [
      "Gini:\n",
      "Depth 1 : 0.6054780089544377\n",
      "Depth 3 : 0.7774558862259678\n",
      "Depth 6 : 0.9452199104556228\n",
      "Depth 9 : 0.9715564919673426\n",
      "Depth 12 : 0.9752436133789834\n",
      "Depth 15 : 0.9791941006057414\n",
      "Depth 18 : 0.976033710824335\n"
     ]
    }
   ],
   "source": [
    "print('Gini:')\n",
    "for i in range(len(depths)):\n",
    "    print(\"Depth\", depths[i], \":\", gini_accuracy[i])"
   ]
  },
  {
   "cell_type": "code",
   "execution_count": 18,
   "id": "9d13ba6f",
   "metadata": {
    "ExecuteTime": {
     "end_time": "2024-03-11T22:51:30.430011Z",
     "start_time": "2024-03-11T22:48:39.193400Z"
    }
   },
   "outputs": [],
   "source": [
    "entropy_accuracy = []\n",
    "\n",
    "for depth in depths:\n",
    "    tree = DecisionTreeClassifier(max_depth=depth, criterion='entropy')\n",
    "    clf = AdaBoostClassifier(estimator=tree, n_estimators=50, random_state=8)\n",
    "    clf.fit(X_train, y_train)\n",
    "    y_pred = clf.predict(X_test)\n",
    "    entropy_accuracy.append(accuracy_score(y_test, y_pred))"
   ]
  },
  {
   "cell_type": "code",
   "execution_count": 19,
   "id": "02a0f309",
   "metadata": {
    "ExecuteTime": {
     "end_time": "2024-03-11T22:52:06.942823Z",
     "start_time": "2024-03-11T22:52:06.922107Z"
    }
   },
   "outputs": [
    {
     "name": "stdout",
     "output_type": "stream",
     "text": [
      "Entropy:\n",
      "Depth 1 : 0.6389254674743219\n",
      "Depth 3 : 0.6860679483803003\n",
      "Depth 6 : 0.9491703976823809\n",
      "Depth 9 : 0.972083223597577\n",
      "Depth 12 : 0.9752436133789834\n",
      "Depth 15 : 0.9770871740848038\n",
      "Depth 18 : 0.9612852251777719\n"
     ]
    }
   ],
   "source": [
    "print('Entropy:')\n",
    "for i in range(len(depths)):\n",
    "    print(\"Depth\", depths[i], \":\", entropy_accuracy[i])"
   ]
  },
  {
   "cell_type": "code",
   "execution_count": 23,
   "id": "05a7503c",
   "metadata": {
    "ExecuteTime": {
     "end_time": "2024-03-11T22:53:31.126074Z",
     "start_time": "2024-03-11T22:53:30.938068Z"
    }
   },
   "outputs": [
    {
     "data": {
      "image/png": "[encoded data removed]",
      "text/plain": [
       "<Figure size 640x480 with 1 Axes>"
      ]
     },
     "metadata": {},
     "output_type": "display_data"
    }
   ],
   "source": [
    "import matplotlib.pyplot as plt\n",
    "\n",
    "plt.plot(depths, gini_accuracy, label='Gini', color='r')\n",
    "plt.plot(depths, entropy_accuracy, label='Entropy', color='b')\n",
    "plt.xlabel('Depth')\n",
    "plt.ylabel('Accuracy')\n",
    "plt.legend()\n",
    "plt.show()"
   ]
  },
  {
   "cell_type": "code",
   "execution_count": 25,
   "id": "136b1489",
   "metadata": {
    "ExecuteTime": {
     "end_time": "2024-03-11T22:54:34.429091Z",
     "start_time": "2024-03-11T22:54:31.176542Z"
    }
   },
   "outputs": [
    {
     "name": "stdout",
     "output_type": "stream",
     "text": [
      "Gini without AdaBoostClassifier:\n",
      "Depth 1 : 0.38820121148274955\n",
      "Depth 3 : 0.6281274690545168\n",
      "Depth 6 : 0.8166973926784303\n",
      "Depth 9 : 0.8904398209112457\n",
      "Depth 12 : 0.9315248880695286\n",
      "Depth 15 : 0.9352120094811693\n",
      "Depth 18 : 0.9420595206742165\n"
     ]
    }
   ],
   "source": [
    "gini_accuracy_without_ada = []\n",
    "\n",
    "for depth in depths:\n",
    "    tree = DecisionTreeClassifier(max_depth=depth, criterion='gini')\n",
    "#     clf = AdaBoostClassifier(base_estimator=tree, n_estimators=50, random_state=8)\n",
    "#     clf = AdaBoostClassifier(estimator=tree, n_estimators=50, random_state=8)\n",
    "#     clf.fit(X_train, y_train)\n",
    "    tree.fit(X_train, y_train)\n",
    "    y_pred = tree.predict(X_test)\n",
    "    gini_accuracy_without_ada.append(accuracy_score(y_test, y_pred))\n",
    "    \n",
    "print('Gini without AdaBoostClassifier:')\n",
    "for i in range(len(depths)):\n",
    "    print(\"Depth\", depths[i], \":\", gini_accuracy_without_ada[i])"
   ]
  },
  {
   "cell_type": "code",
   "execution_count": 27,
   "id": "77898f0b",
   "metadata": {
    "ExecuteTime": {
     "end_time": "2024-03-11T22:56:12.511851Z",
     "start_time": "2024-03-11T22:56:09.203135Z"
    }
   },
   "outputs": [
    {
     "name": "stdout",
     "output_type": "stream",
     "text": [
      "Entropy without AdaBoostClassifier:\n",
      "Depth 1 : 0.404793257835133\n",
      "Depth 3 : 0.6707927311035028\n",
      "Depth 6 : 0.8475111930471425\n",
      "Depth 9 : 0.912035817750856\n",
      "Depth 12 : 0.9383723992625758\n",
      "Depth 15 : 0.9465367395312089\n",
      "Depth 18 : 0.9465367395312089\n"
     ]
    }
   ],
   "source": [
    "entropy_accuracy_without_ada = []\n",
    "\n",
    "for depth in depths:\n",
    "    tree = DecisionTreeClassifier(max_depth=depth, criterion='entropy')\n",
    "#     clf = AdaBoostClassifier(base_estimator=tree, n_estimators=50, random_state=8)\n",
    "#     clf = AdaBoostClassifier(estimator=tree, n_estimators=50, random_state=8)\n",
    "#     clf.fit(X_train, y_train)\n",
    "    tree.fit(X_train, y_train)\n",
    "    y_pred = tree.predict(X_test)\n",
    "    entropy_accuracy_without_ada.append(accuracy_score(y_test, y_pred))\n",
    "    \n",
    "print('Entropy without AdaBoostClassifier:')\n",
    "for i in range(len(depths)):\n",
    "    print(\"Depth\", depths[i], \":\", entropy_accuracy_without_ada[i])"
   ]
  },
  {
   "cell_type": "code",
   "execution_count": 28,
   "id": "4c0f1dc0",
   "metadata": {
    "ExecuteTime": {
     "end_time": "2024-03-11T22:57:14.119373Z",
     "start_time": "2024-03-11T22:57:13.919492Z"
    }
   },
   "outputs": [
    {
     "data": {
      "image/png": "[encoded data removed]",
      "text/plain": [
       "<Figure size 640x480 with 1 Axes>"
      ]
     },
     "metadata": {},
     "output_type": "display_data"
    }
   ],
   "source": [
    "import matplotlib.pyplot as plt\n",
    "\n",
    "plt.plot(depths, gini_accuracy, label='Gini with AdaBoostClassifier', color='r')\n",
    "plt.plot(depths, entropy_accuracy, label='Entropy with AdaBoostClassifier', color='b')\n",
    "plt.plot(depths, gini_accuracy_without_ada, label='Gini without AdaBoostClassifier', color='green')\n",
    "plt.plot(depths, entropy_accuracy_without_ada, label='Entropy without AdaBoostClassifier', color='black')\n",
    "plt.xlabel('Depth')\n",
    "plt.ylabel('Accuracy')\n",
    "plt.legend()\n",
    "plt.show()"
   ]
  },
  {
   "cell_type": "markdown",
   "id": "3b0a86cb",
   "metadata": {},
   "source": [
    "According to the comparison of the four curves, we can find that as the depth increases, the accuracy of the classification task continues to increase. When the depth increases to 12, the accuracy improvement is very small or even decreases.\n",
    "\n",
    "In addition, we found that at the same depth, the accuracy of the model using AdaBoostClassifier is much higher than that of the model without AdaBoostClassifier."
   ]
  }
 ],
 "metadata": {
  "kernelspec": {
   "display_name": "Python 3 (ipykernel)",
   "language": "python",
   "name": "python3"
  },
  "language_info": {
   "codemirror_mode": {
    "name": "ipython",
    "version": 3
   },
   "file_extension": ".py",
   "mimetype": "text/x-python",
   "name": "python",
   "nbconvert_exporter": "python",
   "pygments_lexer": "ipython3",
   "version": "3.9.18"
  },
  "toc": {
   "base_numbering": 1,
   "nav_menu": {},
   "number_sections": true,
   "sideBar": true,
   "skip_h1_title": false,
   "title_cell": "Table of Contents",
   "title_sidebar": "Contents",
   "toc_cell": false,
   "toc_position": {},
   "toc_section_display": true,
   "toc_window_display": false
  }
 },
 "nbformat": 4,
 "nbformat_minor": 5
}
